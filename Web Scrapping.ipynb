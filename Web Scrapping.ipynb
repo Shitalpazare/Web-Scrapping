{
 "cells": [
  {
   "cell_type": "markdown",
   "id": "c0d66713",
   "metadata": {},
   "source": [
    "# Web Scrapping using BeautifulSoup"
   ]
  },
  {
   "cell_type": "code",
   "execution_count": 1,
   "id": "9205f1da",
   "metadata": {},
   "outputs": [],
   "source": [
    "import requests\n",
    "from bs4 import BeautifulSoup"
   ]
  },
  {
   "cell_type": "code",
   "execution_count": 2,
   "id": "d96d079d",
   "metadata": {},
   "outputs": [],
   "source": [
    "url = \"https://www.ratemyprofessors.com/ShowRatings.jsp?tid=941931\""
   ]
  },
  {
   "cell_type": "code",
   "execution_count": 3,
   "id": "d856b473",
   "metadata": {},
   "outputs": [],
   "source": [
    "page = requests.get(url)"
   ]
  },
  {
   "cell_type": "code",
   "execution_count": 4,
   "id": "0f821e6c",
   "metadata": {},
   "outputs": [
    {
     "data": {
      "text/plain": [
       "<Response [200]>"
      ]
     },
     "execution_count": 4,
     "metadata": {},
     "output_type": "execute_result"
    }
   ],
   "source": [
    "page"
   ]
  },
  {
   "cell_type": "code",
   "execution_count": 5,
   "id": "b88ec225",
   "metadata": {},
   "outputs": [],
   "source": [
    "soup = BeautifulSoup(page.text, \"html.parser\")"
   ]
  },
  {
   "cell_type": "code",
   "execution_count": 6,
   "id": "0ccd9a3e",
   "metadata": {},
   "outputs": [
    {
     "data": {
      "text/plain": [
       "'\\n    <!DOCTYPE html>\\n    <html >\\n      <head>\\n        <meta name=\"viewport\" content=\"width=device-width, initial-scale=1\" />\\n        <meta name=\"theme-color\" content=\"#000000\" />\\n        \\n\\n        <link rel=\"manifest\" href=\"/build/manifest.json\">\\n        <link rel=\"stylesheet\" type=\"text/css\" href=\"/static/css/main.1773c5b7.css\">\\n        <script src=\"https://cdn.browsiprod.com/bootstrap/bootstrap.js\" id=\"browsi-tag\" data-pubKey=\"alticermp\" data-siteKey=\"rmp1\" async></script>\\n        <script src=\"//ads.ratemyprofessors.com/adBundle.js?v=5\"></script>\\n        \\n        <link data-react-helmet=\"true\" rel=\"icon\" href=\"/favicons/favicon-16.png\" sizes/><link data-react-helmet=\"true\" rel=\"icon\" href=\"/favicons/favicon-32.png\" sizes=\"32×32\"/><link data-react-helmet=\"true\" rel=\"apple-touch-icon\" href=\"/favicons/favicon-57.png\" sizes/><link data-react-helmet=\"true\" rel=\"apple-touch-icon\" href=\"/favicons/favicon-48.png\" sizes=\"48×48\"/><link data-react-helmet=\"true\" rel=\"apple-touch-icon\" href=\"/favicons/favicon-72.png\" sizes=\"72×72\"/><link data-react-helmet=\"true\" rel=\"apple-touch-icon\" href=\"/favicons/favicon-114.png\" sizes=\"114×114\"/><link data-react-helmet=\"true\" rel=\"apple-touch-icon\" href=\"/favicons/favicon-152.png\" sizes=\"152×152\"/><link data-react-helmet=\"true\" rel=\"apple-touch-icon-precomposed\" href=\"/favicons/favicon-196.png\" sizes/><link data-react-helmet=\"true\" rel=\"canonical\" href=\"https://www.ratemyprofessors.com/ShowRatings.jsp?tid=941931\"/>\\n<title data-react-helmet=\"true\">Kia Bazargan at University of Minnesota - Twin Cities - RateMyProfessors.com</title>\\n<meta data-react-helmet=\"true\" property=\"og:image\" content=\"https://www.ratemyprofessors.com/static/media/meta.9c8a7c2b.png\"/><meta data-react-helmet=\"true\" property=\"og:type\" content=\"website\"/><meta data-react-helmet=\"true\" name=\"twitter:card\" content=\"summary_large_image\"/><meta data-react-helmet=\"true\" name=\"description\" content=\"Kia Bazargan is a professor in the Engineering department at University of Minnesota - Twin Cities - see what their students are saying about them or leave a rating yourself.\"/><meta data-react-helmet=\"true\" property=\"og:url\" content=\"https://www.ratemyprofessors.com/ShowRatings.jsp?tid=941931\"/><meta data-react-helmet=\"true\" property=\"og:title\" content=\"Kia Bazargan at University of Minnesota - Twin Cities - RateMyProfessors.com\"/><meta data-react-helmet=\"true\" property=\"og:description\" content=\"Check out the ratings and reviews for Kia Bazargan from University of Minnesota - Twin Cities in Minneapolis, MN\"/>\\n\\n        <style data-styled=\"kaBGnN  dWJigl ducGvC enzK hNQJBj hsMvnW eLUjyu kjTgMJ vWase ecMUyP cdrVhb bFAPID bFqXne fiaAxo jBOPiI gmfVsA kljOpt itGGhm bLpdSv gMZkZH eNOUuy eJRnwy irUZwm fJcEeW koGnqT fwqnjW bIxMQe hYCCSW fnJGVv dZykPc eydgty gMXENl fHlqte fsOMKN ftqFWl khahiz bLuxdV bKRBLv jmWmUs mVwZS ftqzfB fJTAhq kSkwHC gtQBUD jMpSNb kFNvIp gIgExh bIUJtl liyUjw UqFtE eTpHeJ jMkisx cfjPUG glXOHH hVjzhH iLYGwn cxVUGc dTFbKx kkESWs hddnCs fNonZd hiHJpP eKbjUH hjXElA djeIgv dbxJaW hHOVKF deeRJW blKsvI CyFXR bYRcpU byOnik jSKXed eLbzKR gMAFfH kgpjyX kUIybH btrqJr lloXQq iSLkvi bOzrdx SjINA iOszTt jtpiDd cbdtns jcIQzP dGrvXb uBHCj fUEMJm jxOApy gxDIt gzdNFd bfMums bAJBJw BlaCV bXQmMr gFOUvY DObVa eWZmyX fVETNc bUneqk cDKJcc gcFhmN icXUyq kEVEoU fPJDHT LXClX hNEpQo gRjWel eLpnFv dbULCX cwcCIQ kAVFzA jCbELu hjlYuE kVglhF fuqfRC gjQZal fkoCRH hLyFCe cdQllN lbcxyT jGMSsa cxMWcu dzQHgc bxfSRZ bBRjeX kACzTK drLSaz eiPJLZ cAWnKB mvKHB dxsWZe iUNNGZ\" data-styled-version=\"4.4.1\">\\n/* sc-component-id: PageWrapper__StyledPageWrapper-sc-3p8f0h-0 */\\n.gtQBUD{margin-bottom:58px;min-height:calc( 100vh - 266px );} @media screen and (min-width:1225px){.gtQBUD{margin:0 auto;max-width:1280px;width:100%;}}\\n/* sc-component-id: PaginationButton__StyledPaginationButton-txi1dr-1 */\\n.gjQZal{background:black;border:0;border-radius:100px;color:white;display:-webkit-box;display:-webkit-flex;display:-ms-flexbox;display:flex;font-stretch:normal;font-weight:700;-webkit-box-pack:center;-webkit-justify-content:center;-ms-flex-pack:center;justify-content:center;-webkit-letter-spacing:normal;-moz-letter-spacing:normal;-ms-letter-spacing:normal;letter-spacing:normal;line-height:1.54;outline:none;padding:11px 46px;-webkit-transition:-webkit-transform 0.2s;-webkit-transition:transform 0.2s;transition:transform 0.2s;margin:40px auto 0 auto;text-align:center;} .gjQZal:not(:disabled):hover{-webkit-transform:scale(1.05);-ms-transform:scale(1.05);transform:scale(1.05);} .gjQZal:hover{cursor:pointer;} .gjQZal:disabled{background:#989898;cursor:not-allowed;} .gjQZal::after{-webkit-align-self:center;-ms-flex-item-align:center;align-self:center;background-image:url(/static/media/right-arrow-white.3698faf1.svg);content:\\'\\';display:none;height:15px;margin-left:10px;width:15px;} .gjQZal .LoadingIcon-sc-1naxssl-0{color:white;}\\n/* sc-component-id: BrowsiAd__AdWrapper-sc-1es20uu-0 */\\n.fuqfRC{min-height:50px;padding:7px 0 24px;} @media screen and (min-width:985px){.fuqfRC{min-height:90px;}}\\n/* sc-component-id: Comments__StyledComments-dzzyvm-0 */\\n.gRjWel{-webkit-flex:1;-ms-flex:1;flex:1;font-size:16px;line-height:1.5;margin-bottom:30px;}\\n/* sc-component-id: ReportFlag__StyledReportFlag-sc-1c42epr-0 */\\n.hjlYuE{cursor:pointer;-webkit-text-decoration:none;text-decoration:none;}\\n/* sc-component-id: ReportFlag__FlagWrapper-sc-1c42epr-1 */\\n.kVglhF{-webkit-align-items:center;-webkit-box-align:center;-ms-flex-align:center;align-items:center;display:-webkit-box;display:-webkit-flex;display:-ms-flexbox;display:flex;} .kVglhF span{color:#4e4e4e;font-style:italic;padding-right:12px;}\\n/* sc-component-id: EmotionLabel__StyledEmotionLabel-sc-1u525uj-0 */\\n.gzdNFd{-webkit-align-items:center;-webkit-box-align:center;-ms-flex-align:center;align-items:center;background:#ff9c9c;display:-webkit-inline-box;display:-webkit-inline-flex;display:-ms-inline-flexbox;display:inline-flex;line-height:1.54;padding:5px 20px;text-align:left;text-transform:uppercase;font-family:Poppins,sans-serif;font-weight:700;} .gzdNFd span{padding-right:5px;}.bfMums{-webkit-align-items:center;-webkit-box-align:center;-ms-flex-align:center;align-items:center;background:#7ff6c3;display:-webkit-inline-box;display:-webkit-inline-flex;display:-ms-inline-flexbox;display:inline-flex;line-height:1.54;padding:5px 20px;text-align:left;text-transform:uppercase;font-family:Poppins,sans-serif;font-weight:700;} .bfMums span{padding-right:5px;}.bAJBJw{-webkit-align-items:center;-webkit-box-align:center;-ms-flex-align:center;align-items:center;background:#fff170;display:-webkit-inline-box;display:-webkit-inline-flex;display:-ms-inline-flexbox;display:inline-flex;line-height:1.54;padding:5px 20px;text-align:left;text-transform:uppercase;font-family:Poppins,sans-serif;font-weight:700;} .bAJBJw span{padding-right:5px;}\\n/* sc-component-id: TimeStamp__StyledTimeStamp-sc-9q2r30-0 */\\n.bXQmMr{font-weight:700;padding-bottom:15px;}\\n/* sc-component-id: RatingHeader__StyledHeader-sc-1dlkqw1-0 */\\n.uBHCj{-webkit-align-items:center;-webkit-box-align:center;-ms-flex-align:center;align-items:center;display:none;-webkit-box-pack:justify;-webkit-justify-content:space-between;-ms-flex-pack:justify;justify-content:space-between;margin:5px 0 10px;min-height:31px;} @media screen and (max-width:680px){.uBHCj{-webkit-align-items:flex-start;-webkit-box-align:flex-start;-ms-flex-align:flex-start;align-items:flex-start;margin-bottom:15px;display:-webkit-box;display:-webkit-flex;display:-ms-flexbox;display:flex;}} .uBHCj .OnlineCourseLogo__StyledLogo-qyf3kt-0{margin-right:14px;}.fUEMJm{-webkit-align-items:center;-webkit-box-align:center;-ms-flex-align:center;align-items:center;display:-webkit-box;display:-webkit-flex;display:-ms-flexbox;display:flex;-webkit-box-pack:justify;-webkit-justify-content:space-between;-ms-flex-pack:justify;justify-content:space-between;margin:5px 0 10px;min-height:31px;} @media screen and (max-width:680px){.fUEMJm{-webkit-align-items:flex-start;-webkit-box-align:flex-start;-ms-flex-align:flex-start;align-items:flex-start;margin-bottom:15px;display:none;}} .fUEMJm .OnlineCourseLogo__StyledLogo-qyf3kt-0{margin-right:14px;}\\n/* sc-component-id: RatingHeader__ClassInfoWrapper-sc-1dlkqw1-1 */\\n.jxOApy{display:-webkit-box;display:-webkit-flex;display:-ms-flexbox;display:flex;} @media screen and (max-width:680px){.jxOApy{-webkit-flex-direction:column;-ms-flex-direction:column;flex-direction:column;}.jxOApy .EmotionLabel__StyledEmotionLabel-sc-1u525uj-0{text-align:center;}}\\n/* sc-component-id: RatingHeader__StyledClass-sc-1dlkqw1-2 */\\n.gxDIt{-webkit-align-items:center;-webkit-box-align:center;-ms-flex-align:center;align-items:center;-webkit-align-self:center;-ms-flex-item-align:center;align-self:center;display:-webkit-box;display:-webkit-flex;display:-ms-flexbox;display:flex;font-size:16px;padding-right:22px;text-transform:uppercase;font-family:Poppins,sans-serif;font-weight:900;} @media screen and (max-width:680px){.gxDIt{margin-bottom:8px;}}\\n/* sc-component-id: RatingHeader__RatingTimeStamp-sc-1dlkqw1-3 */\\n.BlaCV{font-size:14px;padding-bottom:0;}\\n/* sc-component-id: CardNumRating__StyledCardNumRating-sc-17t4b9u-0 */\\n.eWZmyX{display:-webkit-box;display:-webkit-flex;display:-ms-flexbox;display:flex;-webkit-flex-direction:column;-ms-flex-direction:column;flex-direction:column;}\\n/* sc-component-id: CardNumRating__CardNumRatingHeader-sc-17t4b9u-1 */\\n.fVETNc{font-size:12px;font-weight:600;line-height:14px;margin-bottom:4px;text-transform:uppercase;}\\n/* sc-component-id: CardNumRating__CardNumRatingNumber-sc-17t4b9u-2 */\\n.bUneqk{-webkit-align-self:center;-ms-flex-item-align:center;align-self:center;background:#ff9c9c;height:64px;line-height:36px;margin-bottom:8px;padding:14px 10px;width:72px;font-size:32px;font-family:Poppins,sans-serif;font-weight:900;}.cDKJcc{-webkit-align-self:center;-ms-flex-item-align:center;align-self:center;background:#e4e4e4;height:64px;line-height:36px;margin-bottom:8px;padding:14px 10px;width:72px;font-size:32px;font-family:Poppins,sans-serif;font-weight:900;}.gcFhmN{-webkit-align-self:center;-ms-flex-item-align:center;align-self:center;background:#7ff6c3;height:64px;line-height:36px;margin-bottom:8px;padding:14px 10px;width:72px;font-size:32px;font-family:Poppins,sans-serif;font-weight:900;}.icXUyq{-webkit-align-self:center;-ms-flex-item-align:center;align-self:center;background:#fff170;height:64px;line-height:36px;margin-bottom:8px;padding:14px 10px;width:72px;font-size:32px;font-family:Poppins,sans-serif;font-weight:900;}\\n/* sc-component-id: RatingValues__StyledRatingValues-sc-6dc747-0 */\\n.gFOUvY{display:-webkit-box;display:-webkit-flex;display:-ms-flexbox;display:flex;-webkit-flex-direction:column;-ms-flex-direction:column;flex-direction:column;} @media screen and (max-width:680px){.gFOUvY{-webkit-flex-direction:row;-ms-flex-direction:row;flex-direction:row;}} .gFOUvY .CardNumRating__CardNumRatingHeader-sc-17t4b9u-1{font-size:14px;}\\n/* sc-component-id: RatingValues__RatingContainer-sc-6dc747-1 */\\n.DObVa{margin-bottom:24px;} @media screen and (max-width:680px){.DObVa{margin:0 29px 23px 0;}}\\n/* sc-component-id: MetaItem__StyledMetaItem-y0ixml-0 */\\n.LXClX{font-size:16px;line-height:1.54;margin-right:16px;padding:4px 0;white-space:nowrap;} @media screen and (max-width:680px){.LXClX{font-size:14px;}} .LXClX span{font-weight:700;}\\n/* sc-component-id: CourseMeta__StyledCourseMeta-x344ms-0 */\\n.fPJDHT{display:-webkit-box;display:-webkit-flex;display:-ms-flexbox;display:flex;-webkit-flex-flow:wrap;-ms-flex-flow:wrap;flex-flow:wrap;margin-bottom:14px;} @media screen and (max-width:680px){.fPJDHT{-webkit-flex-flow:column;-ms-flex-flow:column;flex-flow:column;}} .fPJDHT .MetaItem__StyledMetaItem-y0ixml-0{margin-bottom:8px;}\\n/* sc-component-id: Tag-bs9vf4-0 */\\n.hHOVKF{background-color:#f1f1f1;border-radius:14.5px;font-stretch:condensed;margin:0 16px 8px 0;padding:8px 16px;text-align:center;text-transform:uppercase;font-family:HelveticaNeue,arial;font-weight:700;}\\n/* sc-component-id: RatingTags__StyledTags-sc-1boeqx2-0 */\\n.eLpnFv{display:-webkit-box;display:-webkit-flex;display:-ms-flexbox;display:flex;-webkit-flex-wrap:wrap;-ms-flex-wrap:wrap;flex-wrap:wrap;margin-bottom:12px;}\\n/* sc-component-id: Tooltip__StyledTooltip-znwb87-0 */\\n.kSkwHC{background:#151515;border-radius:6px;box-shadow:0px 4px 4px rgba(126,126,126,0.25);color:white;display:block;font-family:HelveticaNeue,arial;font-size:13px;-webkit-letter-spacing:0.5px;-moz-letter-spacing:0.5px;-ms-letter-spacing:0.5px;letter-spacing:0.5px;line-height:15px;margin-top:15px;opacity:0.9;padding:12px 16px;}\\n/* sc-component-id: VoteThumb__StyledVoteThumb-p2gtch-0 */\\n.jCbELu{cursor:default;}\\n/* sc-component-id: RatingFooter__StyledRatingFooter-ciwspm-0 */\\n.dbULCX{display:-webkit-box;display:-webkit-flex;display:-ms-flexbox;display:flex;-webkit-box-pack:justify;-webkit-justify-content:space-between;-ms-flex-pack:justify;justify-content:space-between;margin:24px 0 32px;}\\n/* sc-component-id: RatingFooter__ButtonWrapper-ciwspm-1 */\\n.cwcCIQ{-webkit-align-items:center;-webkit-box-align:center;-ms-flex-align:center;align-items:center;display:-webkit-box;display:-webkit-flex;display:-ms-flexbox;display:flex;}\\n/* sc-component-id: RatingFooter__HelpTotal-ciwspm-2 */\\n.kAVFzA{font-weight:700;margin-right:16px;} .kAVFzA img{height:22px;}\\n/* sc-component-id: Rating__RatingBody-sc-1rhvpxz-0 */\\n.dGrvXb{display:-webkit-box;display:-webkit-flex;display:-ms-flexbox;display:flex;padding:21px 24px 0;} @media screen and (max-width:680px){.dGrvXb{-webkit-flex-direction:column;-ms-flex-direction:column;flex-direction:column;}}\\n/* sc-component-id: Rating__StyledRating-sc-1rhvpxz-1 */\\n.jcIQzP{background-color:rgba(241,241,241,0.4);margin:16px 0;}\\n/* sc-component-id: Rating__RatingComments-sc-1rhvpxz-2 */\\n.hNEpQo{font-size:16px;line-height:1.5;margin-bottom:30px;}\\n/* sc-component-id: Rating__RatingInfo-sc-1rhvpxz-3 */\\n.kEVEoU{display:-webkit-box;display:-webkit-flex;display:-ms-flexbox;display:flex;-webkit-flex-direction:column;-ms-flex-direction:column;flex-direction:column;margin-left:48px;text-align:left;width:100%;} @media screen and (max-width:680px){.kEVEoU{margin:0;}}\\n/* sc-component-id: RatingsList__RatingsUL-hn9one-0 */\\n.cbdtns{list-style:none;}\\n/* sc-component-id: JumpToRatings__StyledJumpToRatings-sc-1v42jg0-0 */\\n.eTpHeJ{display:none;font-size:12px;font-weight:700;height:100%;-webkit-text-decoration:none;text-decoration:none;} @media screen and (max-width:984px){.eTpHeJ{display:block;}}\\n/* sc-component-id: RatingValue__NumRatings-qw8sqy-0 */\\n.jMkisx{margin-bottom:25px;padding-top:10px;font-family:Poppins,sans-serif;font-weight:700;} .jMkisx a{color:#151515;}\\n/* sc-component-id: RatingValue__AvgRating-qw8sqy-1 */\\n.gIgExh{display:-webkit-box;display:-webkit-flex;display:-ms-flexbox;display:flex;-webkit-box-pack:justify;-webkit-justify-content:space-between;-ms-flex-pack:justify;justify-content:space-between;}\\n/* sc-component-id: RatingValue__Numerator-qw8sqy-2 */\\n.liyUjw{font-size:80px;margin-right:11px;font-family:Poppins,sans-serif;font-weight:900;} @media screen and (max-width:1224px){.liyUjw{font-size:60px;}}\\n/* sc-component-id: RatingValue__AvgRatingWrapper-qw8sqy-3 */\\n.bIUJtl{display:-webkit-box;display:-webkit-flex;display:-ms-flexbox;display:flex;}\\n/* sc-component-id: RatingValue__Denominator-qw8sqy-4 */\\n.UqFtE{color:#989898;font-size:18px;font-weight:700;position:relative;top:15px;} @media screen and (max-width:1224px){.UqFtE{top:7px;}}\\n/* sc-component-id: TeacherBookmark__StyledTeacherBookmark-sc-17dr6wh-0 */\\n.hVjzhH{background:none;border:0;cursor:default;height:-webkit-fit-content;height:-moz-fit-content;height:fit-content;outline:none;padding:0;width:-webkit-fit-content;width:-moz-fit-content;width:fit-content;}\\n/* sc-component-id: NameTitle__Name-dowf0z-0 */\\n.cfjPUG{font-size:40px;-webkit-hyphens:auto;-moz-hyphens:auto;-ms-hyphens:auto;hyphens:auto;overflow-wrap:break-word;padding-bottom:10px;word-break:break-word;font-family:Poppins,sans-serif;font-weight:900;} .cfjPUG .TeacherBookmark__StyledTeacherBookmark-sc-17dr6wh-0{margin-left:8px;} .cfjPUG .TeacherBookmark__StyledTeacherBookmark-sc-17dr6wh-0 img{height:32px;width:32px;}\\n/* sc-component-id: NameTitle__Title-dowf0z-1 */\\n.iLYGwn{max-width:100%;padding-bottom:40px;width:330px;} @media screen and (max-width:1224px){.iLYGwn{padding-bottom:24px;}} .iLYGwn .span,.iLYGwn a{font-weight:700;}\\n/* sc-component-id: NameTitle__LastNameWrapper-dowf0z-2 */\\n.glXOHH{white-space:nowrap;}\\n/* sc-component-id: TeacherTags__TagsContainer-sc-16vmh1y-0 */\\n.dbxJaW{display:-webkit-box;display:-webkit-flex;display:-ms-flexbox;display:flex;-webkit-flex-wrap:wrap;-ms-flex-wrap:wrap;flex-wrap:wrap;}\\n/* sc-component-id: TeacherTags__TagsHeader-sc-16vmh1y-1 */\\n.djeIgv{font-size:16px;padding-bottom:16px;font-size:16px;font-family:Poppins,sans-serif;font-weight:700;}\\n/* sc-component-id: TeacherTags__TagsWrapper-sc-16vmh1y-2 */\\n@media screen and (max-width:984px){.hjXElA{display:none;}}\\n/* sc-component-id: NameLink__StyledNameLink-sc-4u2ek-0 */\\n.hiHJpP{display:-webkit-box;display:-webkit-flex;display:-ms-flexbox;display:flex;} .hiHJpP >:nth-child(1){padding-right:12px;} .hiHJpP >:nth-child(2){border-left:1px solid #151515;padding-left:12px;}\\n/* sc-component-id: NameLink__StyledLink-sc-4u2ek-1 */\\n.eKbjUH{display:inline-block;font-weight:700;margin-bottom:24px;} @media screen and (max-width:984px){.eKbjUH{margin-bottom:0;}}\\n/* sc-component-id: FeedbackItem__StyledFeedbackItem-uof32n-0 */\\n.dTFbKx{display:-webkit-box;display:-webkit-flex;display:-ms-flexbox;display:flex;-webkit-flex-direction:column;-ms-flex-direction:column;flex-direction:column;text-align:center;}\\n/* sc-component-id: FeedbackItem__FeedbackNumber-uof32n-1 */\\n.kkESWs{color:#000000;margin-bottom:4px;font-size:32px;font-family:Poppins,sans-serif;font-weight:900;}\\n/* sc-component-id: FeedbackItem__FeedbackDescription-uof32n-2 */\\n.hddnCs{font-weight:500;}\\n/* sc-component-id: TeacherFeedback__StyledTeacherFeedback-gzhlj7-0 */\\n.cxVUGc{display:-webkit-box;display:-webkit-flex;display:-ms-flexbox;display:flex;margin-bottom:25px;} .cxVUGc >:nth-child(1){padding:0 12px 16px 0;} .cxVUGc >:nth-child(2){border-left:1px solid #151515;padding:0 0 16px 12px;}\\n/* sc-component-id: TeacherInfo__RateButton-ti1fio-0 */\\n.fNonZd{min-width:220px;-webkit-text-decoration:none;text-decoration:none;width:-webkit-fit-content;width:-moz-fit-content;width:fit-content;background:#0055fd;border:0;border-radius:100px;color:white;display:-webkit-box;display:-webkit-flex;display:-ms-flexbox;display:flex;font-stretch:normal;font-weight:700;-webkit-box-pack:center;-webkit-justify-content:center;-ms-flex-pack:center;justify-content:center;-webkit-letter-spacing:normal;-moz-letter-spacing:normal;-ms-letter-spacing:normal;letter-spacing:normal;line-height:1.54;outline:none;padding:11px 46px;-webkit-transition:-webkit-transform 0.2s;-webkit-transition:transform 0.2s;transition:transform 0.2s;} .fNonZd:not(:disabled):hover{-webkit-transform:scale(1.05);-ms-transform:scale(1.05);transform:scale(1.05);} .fNonZd:hover{cursor:pointer;} .fNonZd:disabled{background:#989898;cursor:not-allowed;} .fNonZd::after{-webkit-align-self:center;-ms-flex-item-align:center;align-self:center;background-image:url(/static/media/right-arrow-white.3698faf1.svg);content:\\'\\';display:none;height:15px;margin-left:10px;width:15px;} .fNonZd .LoadingIcon-sc-1naxssl-0{color:white;} .fNonZd:not(:disabled).TeacherInfo__RateButton-ti1fio-0:hover{background:#0021ff;-webkit-transform:none;-ms-transform:none;transform:none;}\\n/* sc-component-id: TeacherInfo__StyledTeacher-ti1fio-1 */\\n.kFNvIp{-webkit-flex:1 0 40%;-ms-flex:1 0 40%;flex:1 0 40%;padding:22px 0;text-align:left;} @media screen and (max-width:984px){.kFNvIp{padding-right:22px;padding-bottom:25px;}} .kFNvIp .TeacherInfo__RateButton-ti1fio-0{margin-bottom:24px;}\\n/* sc-component-id: RatingsFilterList__StyledRatingsFilterList-sc-84a4cc-0 */\\n.iOszTt{display:-webkit-box;display:-webkit-flex;display:-ms-flexbox;display:flex;margin-top:16px;width:100%;}\\n/* sc-component-id: TeacherRatingTabs__StyledTabs-pnmswv-0 */\\n@media screen and (min-width:1225px){.lloXQq{max-width:calc(1280px - 354px);}}\\n/* sc-component-id: TeacherRatingTabs__StyledTabList-pnmswv-1 */\\n.iSLkvi{border-bottom:2px solid #f1f1f1;display:-webkit-box;display:-webkit-flex;display:-ms-flexbox;display:flex;margin:28px 22px 0 22px;} @media screen and (max-width:1224px){.iSLkvi{margin:0;}}\\n/* sc-component-id: TeacherRatingTabs__StyledTab-pnmswv-2 */\\n.bOzrdx{border-bottom:2px solid #151515;color:#151515;cursor:pointer;font-weight:700;line-height:1.8;min-width:150px;padding-bottom:8px;} @media screen and (max-width:1224px){.bOzrdx{font-size:14px;width:100%;}} .bOzrdx:hover{border-bottom:2px solid #989898;color:#989898;}\\n/* sc-component-id: TeacherRatingTabs__StyledTabPage-pnmswv-3 */\\n.SjINA{padding:0 22px;}\\n/* sc-component-id: TaboolaAd__StyledTaboolaAd-sc-16lajh5-0 */\\n@media screen and (min-width:1225px){.fkoCRH{max-width:calc( 1280px - 354px );}}\\n/* sc-component-id: SimilarProfessorListItem__TeacherScoreSpan-x7cr0c-0 */\\n.eLbzKR{-webkit-align-items:center;-webkit-box-align:center;-ms-flex-align:center;align-items:center;background:#0055fd;color:#f1f1f1;display:-webkit-box;display:-webkit-flex;display:-ms-flexbox;display:flex;font-size:16px;-webkit-box-pack:center;-webkit-justify-content:center;-ms-flex-pack:center;justify-content:center;margin-right:8px;padding:10px 7px;font-family:Poppins,sans-serif;font-weight:900;}\\n/* sc-component-id: SimilarProfessorListItem__TeacherNameSpan-x7cr0c-1 */\\n.gMAFfH{text-align:left;}\\n/* sc-component-id: SimilarProfessorListItem__StyledSimilarProfessorLink-x7cr0c-2 */\\n.jSKXed{-webkit-align-items:center;-webkit-box-align:center;-ms-flex-align:center;align-items:center;display:-webkit-box;display:-webkit-flex;display:-ms-flexbox;display:flex;padding-right:5px;-webkit-text-decoration:none;text-decoration:none;} .jSKXed:hover .SimilarProfessorListItem__TeacherNameSpan-x7cr0c-1{color:#0021ff;} .jSKXed:hover .SimilarProfessorListItem__TeacherScoreSpan-x7cr0c-0{background:#0021ff;}\\n/* sc-component-id: SimilarProfessors__SimilarProfessorsTitle-zg1hrt-0 */\\n.bYRcpU{font-family:Poppins,sans-serif;font-size:16px;font-weight:600;padding-bottom:10px;text-align:left;}\\n/* sc-component-id: SimilarProfessors__StyledSimilarProfessorsList-zg1hrt-1 */\\n.byOnik{-webkit-align-items:center;-webkit-box-align:center;-ms-flex-align:center;align-items:center;background-color:rgba(217,232,255,0.61);display:-webkit-box;display:-webkit-flex;display:-ms-flexbox;display:flex;-webkit-box-pack:space-evenly;-webkit-justify-content:space-evenly;-ms-flex-pack:space-evenly;justify-content:space-evenly;padding:35px;width:100%;} @media screen and (max-width:984px){.byOnik li:nth-child(3){display:none;}}\\n/* sc-component-id: SimilarProfessors__SimilarProfessorsContainer-zg1hrt-2 */\\n.CyFXR{margin-top:17px;}\\n/* sc-component-id: RenderForBreakpoints__StyledRenderForBreakPoints-sc-1vjlbtd-0 */\\n.btrqJr{display:block;position:relative;}\\n/* sc-component-id: AdRail__StyledAdRail-sc-1kamohe-0 */\\n.kgpjyX{display:block;-webkit-box-flex:0;-webkit-flex-grow:0;-ms-flex-positive:0;flex-grow:0;margin:0 37px 0 17px;max-height:500px;position:fixed;top:230px;width:300px;z-index:100000;} @media screen and (min-width:1225px){.kgpjyX{margin-left:calc( 1280px - 354px + 17px );}} @media screen and (max-width:1224px){.kgpjyX{width:100%;display:-webkit-box;display:-webkit-flex;display:-ms-flexbox;display:flex;-webkit-box-pack:center;-webkit-justify-content:center;-ms-flex-pack:center;justify-content:center;position:static;margin:10px 0;}} .kgpjyX > *{margin-bottom:5px;}\\n/* sc-component-id: RatingDistributionWrapper__StyledRatingDistributionWrapper-ku50n8-0 */\\n.blKsvI{background-color:#f7f7f7;height:325px;margin-bottom:24px;padding-right:10px;width:512px;} @media screen and (max-width:680px){.blKsvI{width:324px;padding-right:0px;}}\\n/* sc-component-id: TeacherRatingsPage__RatingColumn-sc-1gyr13u-0 */\\n.deeRJW{display:-webkit-box;display:-webkit-flex;display:-ms-flexbox;display:flex;-webkit-flex:1 0 60%;-ms-flex:1 0 60%;flex:1 0 60%;-webkit-flex-flow:column nowrap;-ms-flex-flow:column nowrap;flex-flow:column nowrap;padding-right:22px;}\\n/* sc-component-id: TeacherRatingsPage__TeacherBlock-sc-1gyr13u-1 */\\n.jMpSNb{display:-webkit-box;display:-webkit-flex;display:-ms-flexbox;display:flex;-webkit-flex-flow:row;-ms-flex-flow:row;flex-flow:row;-webkit-box-pack:justify;-webkit-justify-content:space-between;-ms-flex-pack:justify;justify-content:space-between;margin-bottom:6px;padding-left:22px;} @media screen and (max-width:1224px){.jMpSNb{-webkit-flex-flow:column;-ms-flex-flow:column;flex-flow:column;margin-bottom:16px;}} @media screen and (max-width:984px){.jMpSNb{margin-bottom:24px;}} @media screen and (min-width:1225px){.jMpSNb{max-width:calc(1280px - 354px);}}\\n/* sc-component-id: HeaderLeaderboard__StyledHeaderLeaderboard-nduhbl-0 */\\n.ftqzfB{display:block;margin:27px auto;max-width:1280px;text-align:left;width:100%;z-index:210000;} @media screen and (max-width:1280px){.ftqzfB{margin:27px 24px;}} @media screen and (max-width:1224px){.ftqzfB{text-align:center;}}\\n/* sc-component-id: HeaderLeaderboard__AdWrapper-nduhbl-1 */\\n.fJTAhq{display:inline-block;position:relative;}\\n/* sc-component-id: Search__SearchInputContainer-sc-10lefvq-0 */\\n.koGnqT{position:relative;}\\n/* sc-component-id: NewSearch__StyledSearchWrapper-pkxwmu-0 */\\n.eJRnwy{position:relative;width:100%;} .eJRnwy .SearchTypeahead__StyledSearchTypeaheadDropdown-sc-1i57108-0{box-shadow:0px 4px 4px rgba(151,151,151,0.3);top:50px;} .eJRnwy .Search__SearchInputContainer-sc-10lefvq-0{max-width:545px;width:100%;}\\n/* sc-component-id: NewSearch__StyledSearch-pkxwmu-1 */\\n.fJcEeW .Search__DebouncedSearchInput-sc-10lefvq-1{border:0;border-radius:43px;font-size:20px;max-width:545px;outline:none;padding:16px 54px 16px 60px;width:100%;} .fJcEeW .Search__DebouncedSearchInput-sc-10lefvq-1::-webkit-input-placeholder{color:#9e9e9e;} .fJcEeW .Search__DebouncedSearchInput-sc-10lefvq-1::-moz-placeholder{color:#9e9e9e;} .fJcEeW .Search__DebouncedSearchInput-sc-10lefvq-1:-ms-input-placeholder{color:#9e9e9e;} .fJcEeW .Search__DebouncedSearchInput-sc-10lefvq-1::placeholder{color:#9e9e9e;} .fJcEeW .Search__DebouncedSearchInput-sc-10lefvq-1 .SearchTypeahead__StyledSearchTypeaheadDropdown-sc-1i57108-0{max-width:545px;width:100%;}\\n/* sc-component-id: NewSearch__SearchIconWrapper-pkxwmu-2 */\\n.irUZwm{left:27px;position:absolute;top:17px;width:-webkit-fit-content;width:-moz-fit-content;width:fit-content;z-index:2;}\\n/* sc-component-id: ModalButtonLink__StyledButton-sc-1soj3zs-0 */\\n.khahiz{background:none;border:0;font-size:inherit;margin:0;outline:none;padding:0;} .khahiz:hover{cursor:pointer;}\\n/* sc-component-id: sc-global-4155672083 */\\n@font-face{font-family:\\'Poppins\\';font-style:normal;font-weight:400;src:url(\\'../fonts/poppins-v8-latin-regular.eot\\');src:local(\\'Poppins Regular\\'),local(\\'Poppins-Regular\\'),url(\\'../fonts/poppins-v8-latin-regular.eot?#iefix\\') format(\\'embedded-opentype\\'),url(\\'../fonts/poppins-v8-latin-regular.woff2\\') format(\\'woff2\\'),url(\\'../fonts/poppins-v8-latin-regular.woff\\') format(\\'woff\\'),url(\\'../fonts/poppins-v8-latin-regular.ttf\\') format(\\'truetype\\'),url(\\'../fonts/poppins-v8-latin-regular.svg#Poppins\\') format(\\'svg\\');} @font-face{font-family:\\'Poppins\\';font-style:italic;font-weight:400;src:url(\\'../fonts/poppins-v8-latin-italic.eot\\');src:local(\\'Poppins Italic\\'),local(\\'Poppins-Italic\\'),url(\\'../fonts/poppins-v8-latin-italic.eot?#iefix\\') format(\\'embedded-opentype\\'),url(\\'../fonts/poppins-v8-latin-italic.woff2\\') format(\\'woff2\\'),url(\\'../fonts/poppins-v8-latin-italic.woff\\') format(\\'woff\\'),url(\\'../fonts/poppins-v8-latin-italic.ttf\\') format(\\'truetype\\'),url(\\'../fonts/poppins-v8-latin-italic.svg#Poppins\\') format(\\'svg\\');} @font-face{font-family:\\'Poppins\\';font-style:normal;font-weight:700;src:url(\\'../fonts/poppins-v8-latin-700.eot\\');src:local(\\'Poppins Bold\\'),local(\\'Poppins-Bold\\'),url(\\'../fonts/poppins-v8-latin-700.eot?#iefix\\') format(\\'embedded-opentype\\'),url(\\'../fonts/poppins-v8-latin-700.woff2\\') format(\\'woff2\\'),url(\\'../fonts/poppins-v8-latin-700.woff\\') format(\\'woff\\'),url(\\'../fonts/poppins-v8-latin-700.ttf\\') format(\\'truetype\\'),url(\\'../fonts/poppins-v8-latin-700.svg#Poppins\\') format(\\'svg\\');} @font-face{font-family:\\'Poppins\\';font-style:italic;font-weight:700;src:url(\\'../fonts/poppins-v8-latin-700italic.eot\\');src:local(\\'Poppins Bold Italic\\'),local(\\'Poppins-BoldItalic\\'),url(\\'../fonts/poppins-v8-latin-700italic.eot?#iefix\\') format(\\'embedded-opentype\\'),url(\\'../fonts/poppins-v8-latin-700italic.woff2\\') format(\\'woff2\\'),url(\\'../fonts/poppins-v8-latin-700italic.woff\\') format(\\'woff\\'),url(\\'../fonts/poppins-v8-latin-700italic.ttf\\') format(\\'truetype\\'),url(\\'../fonts/poppins-v8-latin-700italic.svg#Poppins\\') format(\\'svg\\');} @font-face{font-family:\\'Poppins\\';font-style:normal;font-weight:900;src:url(\\'../fonts/poppins-v8-latin-900.eot\\');src:local(\\'Poppins Black\\'),local(\\'Poppins-Black\\'),url(\\'../fonts/poppins-v8-latin-900.eot?#iefix\\') format(\\'embedded-opentype\\'),url(\\'../fonts/poppins-v8-latin-900.woff2\\') format(\\'woff2\\'),url(\\'../fonts/poppins-v8-latin-900.woff\\') format(\\'woff\\'),url(\\'../fonts/poppins-v8-latin-900.ttf\\') format(\\'truetype\\'),url(\\'../fonts/poppins-v8-latin-900.svg#Poppins\\') format(\\'svg\\');} @font-face{font-family:\\'Poppins\\';font-style:italic;font-weight:900;src:url(\\'../fonts/poppins-v8-latin-900italic.eot\\');src:local(\\'Poppins Black Italic\\'),local(\\'Poppins-BlackItalic\\'),url(\\'../fonts/poppins-v8-latin-900italic.eot?#iefix\\') format(\\'embedded-opentype\\'),url(\\'../fonts/poppins-v8-latin-900italic.woff2\\') format(\\'woff2\\'),url(\\'../fonts/poppins-v8-latin-900italic.woff\\') format(\\'woff\\'),url(\\'../fonts/poppins-v8-latin-900italic.ttf\\') format(\\'truetype\\'),url(\\'../fonts/poppins-v8-latin-900italic.svg#Poppins\\') format(\\'svg\\');} html,body,div,span,applet,object,iframe,h1,h2,h3,h4,h5,h6,p,blockquote,pre,a,abbr,acronym,address,big,cite,code,del,dfn,em,img,ins,kbd,q,s,samp,small,strike,strong,sub,sup,tt,var,b,u,i,center,dl,dt,dd,ol,ul,li,fieldset,form,label,legend,table,caption,tbody,tfoot,thead,tr,th,td,article,aside,canvas,details,embed,figure,figcaption,footer,header,hgroup,main,menu,nav,output,ruby,section,summary,time,mark,audio,video{margin:0;padding:0;border:0;font-size:100%;font:inherit;vertical-align:baseline;} article,aside,details,figcaption,figure,footer,header,hgroup,main,menu,nav,section{display:block;} *[hidden]{display:none;} body{line-height:1;} ol,ul{list-style:none;} blockquote,q{quotes:none;} blockquote:before,blockquote:after,q:before,q:after{content:\\'\\';content:none;} table{border-collapse:collapse;border-spacing:0;} @media screen and (max-width:984px){#beacon-container .BeaconFabButtonFrame{display:none;}} #beacon-container .BeaconFabButtonFrame{bottom:105px;left:15px;} #beacon-container .BeaconFabButtonFrame,#beacon-container .BeaconContainer{z-index:2147483637 !important;} #beacon-container .BeaconContainer.BeaconContainer.is-configDisplayLeft{bottom:105px;left:90px;} body,div,a,button{color:#151515;font-family:HelveticaNeue,arial;font-size:14px;} b{font-weight:700;} *{box-sizing:border-box;} body{background:black;} .__react_component_tooltip{display:none;}\\n/* sc-component-id: SocialIconLink__SocialIcon-sc-1iq78in-0 */\\n.dxsWZe{box-sizing:content-box;height:18px;padding-left:20px;width:18px;} @media screen and (max-width:768px){.dxsWZe{padding:0 10px !important;}}\\n/* sc-component-id: SocialIconLink__StyledSocialIconLink-sc-1iq78in-1 */\\n.mvKHB:first-child .SocialIconLink__SocialIcon-sc-1iq78in-0{padding-left:0;}\\n/* sc-component-id: ToastContainer__StyledToastContainer-sc-1csk9fr-0 */\\n.hsMvnW .toast{margin-bottom:0.25rem;}\\n/* sc-component-id: UserMenu__LoginLink-sc-1rv45rg-0 */\\n.ftqFWl{background:transparent;color:white;display:block;font-weight:700;height:100%;-webkit-text-decoration:none;text-decoration:none;border-radius:20px;cursor:pointer;margin-left:16px;padding:8px 16px;white-space:nowrap;} .ftqFWl:hover{background:#313131;} .ftqFWl:last-of-type{border:1px solid white;margin:0;} .ftqFWl:last-of-type:hover{border:1px solid transparent;} .ftqFWl:last-of-type{margin-left:16px;}\\n/* sc-component-id: UserMenu__SignUpLink-sc-1rv45rg-1 */\\n.bLuxdV{color:white;display:block;font-weight:700;height:100%;-webkit-text-decoration:none;text-decoration:none;border-radius:20px;cursor:pointer;margin-left:16px;padding:8px 16px;white-space:nowrap;} .bLuxdV:hover{background:#313131;} .bLuxdV:last-of-type{border:1px solid white;margin:0;} .bLuxdV:last-of-type:hover{border:1px solid transparent;}\\n/* sc-component-id: UserMenu__UserMenuWrapper-sc-1rv45rg-2 */\\n.fsOMKN{display:-webkit-box;display:-webkit-flex;display:-ms-flexbox;display:flex;}\\n/* sc-component-id: MobileMenu__MobileMenuWrapper-mf2apz-0 */\\n.ecMUyP{display:none;}\\n/* sc-component-id: MobileMenu__MenuButton-mf2apz-2 */\\n.cdrVhb{background:none;background-image:url(/static/media/hamburger-icon-light.e395d28a.svg);background-repeat:no-repeat;background-size:contain;border:0;-webkit-flex:0 0 auto;-ms-flex:0 0 auto;flex:0 0 auto;height:14px;margin:8px;outline:none;width:19px;}\\n/* sc-component-id: TeacherSchoolSelectorInput__StyledSchoolSelectorInput-npx66c-0 */\\n.fnJGVv .Search__DebouncedSearchInput-sc-10lefvq-1{font-size:16px;line-height:24px;margin-left:0;max-width:350px;padding:8px 20px;width:100%;} .fnJGVv .SearchTypeahead__StyledSearchTypeaheadDropdown-sc-1i57108-0{margin:0 auto;max-width:738px;position:absolute;top:34px;width:100%;} @media screen and (max-width:1224px){.fnJGVv .SearchTypeahead__StyledSearchTypeaheadDropdown-sc-1i57108-0 .MenuItem__StyledLink-h6a87s-7{padding:13px 16px;}} @media screen and (max-width:1024px){.fnJGVv .SearchTypeahead__StyledSearchTypeaheadDropdown-sc-1i57108-0{max-width:262px;}} @media screen and (max-width:768px){.fnJGVv .SearchTypeahead__StyledSearchTypeaheadDropdown-sc-1i57108-0{max-width:738px;}} .fnJGVv .SearchTypeahead__StyledSearchTypeaheadDropdown-sc-1i57108-0 .MenuItem__NewSearchSchoolName-h6a87s-5{display:none;} .fnJGVv .SearchTypeahead__StyledSearchTypeaheadDropdown-sc-1i57108-0 .SearchTypeahead__StyledScrollContainer-sc-1i57108-1{max-width:738px;width:100%;} .fnJGVv .SearchTypeahead__StyledSearchTypeaheadDropdown-sc-1i57108-0 svg{display:none;}\\n/* sc-component-id: HeaderSearchInput__TeacherInput-j8q5if-1 */\\n.eNOUuy .SearchTypeahead__StyledSearchTypeaheadDropdown-sc-1i57108-0{margin:0 auto;max-width:738px;position:absolute;top:34px;width:100%;} .eNOUuy .SearchTypeahead__StyledSearchTypeaheadDropdown-sc-1i57108-0 .MenuItem__NewSearchSchoolName-h6a87s-5{max-width:unset;} .eNOUuy .SearchTypeahead__StyledSearchTypeaheadDropdown-sc-1i57108-0 svg{display:none;} .eNOUuy .Search__DebouncedSearchInput-sc-10lefvq-1{font-size:16px;line-height:24px;padding:8px 20px;max-width:350px;width:100%;} @media screen and (max-width:768px){.eNOUuy .Search__DebouncedSearchInput-sc-10lefvq-1{margin:0 15px;max-width:unset;}} .eNOUuy .SearchTypeahead__StyledSearchTypeaheadDropdown-sc-1i57108-0{max-width:350px;} @media screen and (max-width:1224px){.eNOUuy .SearchTypeahead__StyledSearchTypeaheadDropdown-sc-1i57108-0 .MenuItem__NewSearchSchoolName-h6a87s-5{max-width:200px;}.eNOUuy .SearchTypeahead__StyledSearchTypeaheadDropdown-sc-1i57108-0 .MenuItem__StyledLink-h6a87s-7{padding:13px 16px;}} @media screen and (max-width:768px){.eNOUuy .SearchTypeahead__StyledSearchTypeaheadDropdown-sc-1i57108-0{max-width:738px;}} .eNOUuy .SearchTypeahead__StyledSearchTypeaheadDropdown-sc-1i57108-0 .SearchTypeahead__StyledScrollContainer-sc-1i57108-1{max-width:738px;width:100%;}\\n/* sc-component-id: HeaderSearchInput__TeacherInputWrapper-j8q5if-3 */\\n.gMZkZH{-webkit-align-items:center;-webkit-box-align:center;-ms-flex-align:center;align-items:center;display:-webkit-box;display:-webkit-flex;display:-ms-flexbox;display:flex;margin:0 auto;max-width:746px;} @media screen and (max-width:768px){.gMZkZH{-webkit-flex-flow:column;-ms-flex-flow:column;flex-flow:column;max-width:unset;}.gMZkZH .TeacherSchoolSelectorInput__StyledSchoolSelectorInput-npx66c-0{display:none;}}\\n/* sc-component-id: HeaderSearchInput__SelectorInputContainer-j8q5if-5 */\\n.bIxMQe{display:-webkit-box;display:-webkit-flex;display:-ms-flexbox;display:flex;width:100%;} @media screen and (max-width:768px){.bIxMQe{display:none;}@media screen and (max-width:768px){.bIxMQe .HeaderSearchInput__TeacherWrapperAt-j8q5if-2{display:block;left:21px;padding:0;position:absolute;top:75px;}}}\\n/* sc-component-id: HeaderSearchInput__SelectorInputWrapper-j8q5if-6 */\\n.hYCCSW{text-align:left;width:100%;} @media screen and (max-width:768px){.hYCCSW{display:none;}} .hYCCSW .NewSearch__CloseIconWrapper-pkxwmu-3{right:14px;} .hYCCSW .Search__SearchInputContainer-sc-10lefvq-0{max-width:unset;}\\n/* sc-component-id: TeacherSchoolToggleButton__StyledToggleButton-sc-15dbb0q-0 */\\n.gmfVsA{-webkit-align-items:center;-webkit-box-align:center;-ms-flex-align:center;align-items:center;background:none;border:0;color:white;cursor:pointer;display:-webkit-box;display:-webkit-flex;display:-ms-flexbox;display:flex;margin-right:14px;outline:none;position:relative;} @media screen and (max-width:768px){.gmfVsA{display:-webkit-box;display:-webkit-flex;display:-ms-flexbox;display:flex;margin-right:0;}} .gmfVsA svg{margin-right:5px;} @media screen and (max-width:768px){.gmfVsA svg{margin-right:11px;}}\\n/* sc-component-id: TeacherSchoolToggleButton__ToggleButtonText-sc-15dbb0q-2 */\\n.itGGhm{color:white;font-size:18px;line-height:21px;padding-right:10px;} @media screen and (max-width:768px){.itGGhm{display:none;}}\\n/* sc-component-id: TeacherSchoolToggleButton__IconWrapper-sc-15dbb0q-4 */\\n@media screen and (max-width:1024px){.kljOpt{display:none;}} @media screen and (max-width:768px){.kljOpt{display:block;}}\\n/* sc-component-id: HeaderSearchMainInput__MainInputWrapper-nft009-0 */\\n.jBOPiI{-webkit-align-items:center;-webkit-box-align:center;-ms-flex-align:center;align-items:center;display:-webkit-box;display:-webkit-flex;display:-ms-flexbox;display:flex;margin:0 auto;width:100%;} @media screen and (max-width:768px){.jBOPiI{-webkit-box-pack:justify;-webkit-justify-content:space-between;-ms-flex-pack:justify;justify-content:space-between;}}\\n/* sc-component-id: HeaderSearchMainInput__NewSearchWrapper-nft009-1 */\\n.bLpdSv{max-width:795px;width:100%;} .bLpdSv .Search__SearchInputContainer-sc-10lefvq-0{display:-webkit-box;display:-webkit-flex;display:-ms-flexbox;display:flex;-webkit-box-pack:center;-webkit-justify-content:center;-ms-flex-pack:center;justify-content:center;position:relative;width:100%;} @media screen and (max-width:768px){.bLpdSv .Search__SearchInputContainer-sc-10lefvq-0{max-width:unset;}}\\n/* sc-component-id: HeaderSearchMainInput__InputCancelButton-nft009-2 */\\n.dZykPc{background:none;border:0;cursor:pointer;display:inline-block;font-weight:700;outline:none;padding:none;color:#ffffff;display:none;font-size:16px;font-weight:500;} @media screen and (max-width:768px){.dZykPc{display:block;}}\\n/* sc-component-id: HeaderSearch__StyledNewSearch-zmx6ds-0 */\\n.fiaAxo{width:100%;} @media screen and (max-width:768px){.fiaAxo{display:none;}} .fiaAxo .Search__SearchInputContainer-sc-10lefvq-0{max-width:350px;} @media screen and (max-width:768px){.fiaAxo .Search__SearchInputContainer-sc-10lefvq-0{max-width:unset;}} .fiaAxo .NewSearch__SearchIconWrapper-pkxwmu-2{left:22px;top:9px;}\\n/* sc-component-id: HeaderSearch__SchoolSelectorWrapper-zmx6ds-1 */\\n.eydgty{-webkit-align-items:center;-webkit-box-align:center;-ms-flex-align:center;align-items:center;display:none;-webkit-box-pack:center;-webkit-justify-content:center;-ms-flex-pack:center;justify-content:center;margin-top:12px;} @media screen and (max-width:768px){.eydgty{display:-webkit-box;display:-webkit-flex;display:-ms-flexbox;display:flex;}.eydgty .Search__DebouncedSearchInput-sc-10lefvq-1{max-width:unset;}}\\n/* sc-component-id: HeaderSearch__SchoolSelectorWrapperAt-zmx6ds-2 */\\n.gMXENl{color:#ffffff;font-size:16px;margin-right:8px;}\\n/* sc-component-id: HeaderLogo__RMPLogo-sc-1ehuz2f-1 */\\n.bFAPID{padding-right:41px;} @media screen and (max-width:1024px){.bFAPID{padding-right:17px;}} @media screen and (max-width:768px){.bFAPID{padding-right:0;}}\\n/* sc-component-id: HeaderLogo__StyledHeaderLogo-sc-1ehuz2f-2 */\\n.vWase{-webkit-align-items:center;-webkit-box-align:center;-ms-flex-align:center;align-items:center;display:-webkit-box;display:-webkit-flex;display:-ms-flexbox;display:flex;-webkit-box-pack:justify;-webkit-justify-content:space-between;-ms-flex-pack:justify;justify-content:space-between;width:-webkit-fit-content;width:-moz-fit-content;width:fit-content;} @media screen and (max-width:768px){.vWase{width:100%;}} .vWase .MobileMenu__MobileMenuWrapper-mf2apz-0,.vWase .HeaderLogo__SearchIcon-sc-1ehuz2f-0{border:0;display:none;outline:none;} @media screen and (max-width:768px){.vWase .MobileMenu__MobileMenuWrapper-mf2apz-0,.vWase .HeaderLogo__SearchIcon-sc-1ehuz2f-0{display:block;}} .vWase .HeaderLogo__SearchIcon-sc-1ehuz2f-0{background:none;}\\n/* sc-component-id: HeaderCengageBanner__StyledHeaderCengageBanner-sc-1o79h94-0 */\\n.jmWmUs{background:#7E7E7E;padding:6px 12px;width:100%;}\\n/* sc-component-id: HeaderCengageBanner__BannerLogo-sc-1o79h94-1 */\\n.mVwZS{background-image:url(/static/media/banner_cengage_logo_summer22.34a688d2.svg);background-repeat:no-repeat;height:26px;margin-left:128px;} @media screen and (max-width:768px){.mVwZS{background-image:url(/static/media/banner_cengage_logo_summer22.34a688d2.svg);height:28px;margin-top:6px;margin-left:0px;}}\\n/* sc-component-id: Header__HeaderMobileMenuWrapper-sc-1oduwjk-0 */\\n.bKRBLv{margin-left:10px;-webkit-order:1;-ms-flex-order:1;order:1;} .bKRBLv .MobileMenu__MobileMenuWrapper-mf2apz-0{display:none;} @media screen and (max-width:1024px){.bKRBLv .MobileMenu__MobileMenuWrapper-mf2apz-0{display:block;}} @media screen and (max-width:768px){.bKRBLv .MobileMenu__MobileMenuWrapper-mf2apz-0{display:none;-webkit-order:3;-ms-flex-order:3;order:3;}}\\n/* sc-component-id: Header__StyledHeader-sc-1oduwjk-1 */\\n.hNQJBj{-webkit-align-items:center;-webkit-box-align:center;-ms-flex-align:center;align-items:center;background:black;color:white;display:-webkit-box;display:-webkit-flex;display:-ms-flexbox;display:flex;margin:0 auto;padding:12px 24px;width:100%;} @media screen and (max-width:768px){.hNQJBj{padding:12px 16px;}}\\n/* sc-component-id: Header__UserMenuWrapper-sc-1oduwjk-2 */\\n.fHlqte{position:relative;} @media screen and (max-width:1024px){.fHlqte{display:none;}}\\n/* sc-component-id: Header__StyledDummyElement-sc-1oduwjk-3 */\\n.kjTgMJ{-webkit-order:3;-ms-flex-order:3;order:3;} @media screen and (max-width:768px){.kjTgMJ{-webkit-order:1;-ms-flex-order:1;order:1;}}\\n/* sc-component-id: Header__HeaderWrapper-sc-1oduwjk-4 */\\n.eLUjyu{-webkit-align-items:center;-webkit-box-align:center;-ms-flex-align:center;align-items:center;box-sizing:border-box;display:-webkit-box;display:-webkit-flex;display:-ms-flexbox;display:flex;-webkit-flex-direction:row;-ms-flex-direction:row;flex-direction:row;-webkit-box-pack:justify;-webkit-justify-content:space-between;-ms-flex-pack:justify;justify-content:space-between;width:100%;} @media screen and (min-width:1225px){.eLUjyu{margin:0 auto;max-width:1280px;width:100%;}}\\n/* sc-component-id: Header__HeaderBannerWrapper-sc-1oduwjk-5 */\\n.enzK{display:-webkit-box;display:-webkit-flex;display:-ms-flexbox;display:flex;-webkit-flex-direction:column;-ms-flex-direction:column;flex-direction:column;}\\n/* sc-component-id: HeaderContainer__StyledHeaderContainer-sc-1eya4wu-0 */\\n.ducGvC{background-color:#ffffff;position:-webkit-sticky;position:sticky;top:0;width:100%;z-index:250000;}\\n/* sc-component-id: FooterLinkList__StyledFooterLinkList-sc-1ti814v-0 */\\n.bBRjeX{font-family:Poppins,sans-serif;margin-right:80px;overflow:hidden;text-align:left;} @media screen and (max-width:984px){.bBRjeX{margin-right:48px;}} .bBRjeX a{color:white;font-family:Poppins,sans-serif;font-weight:500;line-height:2;overflow:hidden;-webkit-text-decoration:none;text-decoration:none;white-space:nowrap;}\\n/* sc-component-id: FooterLinkList__FooterLinkListHeader-sc-1ti814v-1 */\\n.kACzTK{color:white;font-size:16px;font-weight:900;line-height:2.25;text-transform:uppercase;}\\n/* sc-component-id: FooterLinksWrapper__StyledFooterLinksWrapper-pnn6ig-0 */\\n.bxfSRZ{display:-webkit-box;display:-webkit-flex;display:-ms-flexbox;display:flex;max-height:0;max-width:0;overflow:hidden;-webkit-transition:all 0.25s ease-in-out;transition:all 0.25s ease-in-out;} @media screen and (max-width:768px){.bxfSRZ{-webkit-flex-direction:column;-ms-flex-direction:column;flex-direction:column;padding-left:0;}} @media screen and (max-width:768px){.bxfSRZ .FooterLinkList__StyledFooterLinkList-sc-1ti814v-0{margin-bottom:33px;}} .bxfSRZ .FooterLinkList__StyledFooterLinkList-sc-1ti814v-0:last-of-type{margin-bottom:0;}\\n/* sc-component-id: FooterLogo__StyledLogo-sc-162o9sw-0 */\\n.cxMWcu{background-repeat:no-repeat;background-size:contain;display:none;-webkit-flex-direction:row-reverse;-ms-flex-direction:row-reverse;flex-direction:row-reverse;z-index:300001;} @media screen and (max-width:768px){.cxMWcu{display:-webkit-box;display:-webkit-flex;display:-ms-flexbox;display:flex;margin-top:21px;-webkit-box-pack:center;-webkit-justify-content:center;-ms-flex-pack:center;justify-content:center;}} .cxMWcu img{height:45.6px;width:80px;}.dzQHgc{background-repeat:no-repeat;background-size:contain;display:-webkit-box;display:-webkit-flex;display:-ms-flexbox;display:flex;-webkit-flex-direction:row-reverse;-ms-flex-direction:row-reverse;flex-direction:row-reverse;z-index:300001;} @media screen and (max-width:768px){.dzQHgc{display:none;margin-top:0;-webkit-box-pack:center;-webkit-justify-content:center;-ms-flex-pack:center;justify-content:center;}} .dzQHgc img{height:45.6px;width:80px;}\\n/* sc-component-id: AnimatedFlexContainer__StyledAnimatedFlexContainer-sc-1uw0dlp-0 */\\n.eiPJLZ{display:-webkit-box;display:-webkit-flex;display:-ms-flexbox;display:flex;-webkit-transition:all;transition:all;}\\n/* sc-component-id: FooterCopyright__StyledCopyright-sc-1g3eanm-0 */\\n.drLSaz{-webkit-align-items:center;-webkit-box-align:center;-ms-flex-align:center;align-items:center;-webkit-flex-direction:row-reverse;-ms-flex-direction:row-reverse;flex-direction:row-reverse;min-width:100%;} @media screen and (max-width:768px){.drLSaz{display:-webkit-box;display:-webkit-flex;display:-ms-flexbox;display:flex;-webkit-flex-direction:column;-ms-flex-direction:column;flex-direction:column;-webkit-align-items:center;-webkit-box-align:center;-ms-flex-align:center;align-items:center;}} .drLSaz .SocialLinks__StyledSocialLinks-bn65ay-0{-webkit-align-items:center;-webkit-box-align:center;-ms-flex-align:center;align-items:center;display:-webkit-box;display:-webkit-flex;display:-ms-flexbox;display:flex;-webkit-flex-direction:row;-ms-flex-direction:row;flex-direction:row;-webkit-box-pack:end;-webkit-justify-content:flex-end;-ms-flex-pack:end;justify-content:flex-end;} @media screen and (max-width:768px){.drLSaz .SocialLinks__StyledSocialLinks-bn65ay-0{-webkit-box-pack:center;-webkit-justify-content:center;-ms-flex-pack:center;justify-content:center;}} .drLSaz .SocialLinks__StyledSocialLinks-bn65ay-0 .SocialIconLink__SocialIcon-sc-1iq78in-0{height:20px;padding:22px 18px 22px 0;-webkit-transition:all 0.25s ease-in-out;transition:all 0.25s ease-in-out;} @media screen and (max-width:768px){.drLSaz .SocialLinks__StyledSocialLinks-bn65ay-0 .SocialIconLink__SocialIcon-sc-1iq78in-0{-webkit-box-pack:center;-webkit-justify-content:center;-ms-flex-pack:center;justify-content:center;padding:22px 9px;}}\\n/* sc-component-id: FooterCopyright__CopyrightText-sc-1g3eanm-1 */\\n.iUNNGZ{color:white;-webkit-box-flex:1;-webkit-flex-grow:1;-ms-flex-positive:1;flex-grow:1;text-align:left;} @media screen and (max-width:768px){.iUNNGZ{text-align:center;}}\\n/* sc-component-id: FooterToggle__StyledFooterToggle-sc-1eaqcx0-0 */\\n.lbcxyT{background:none;border:0;display:block;left:calc(50% - 24px / 2);outline:none;padding:0;position:absolute;top:10px;} .lbcxyT img{height:7px;-webkit-transform:scale(1,1);-ms-transform:scale(1,1);transform:scale(1,1);-webkit-transition:all 0.25s ease-in-out;transition:all 0.25s ease-in-out;width:24px;}\\n/* sc-component-id: Footer__StyledFooter-ftcicx-0 */\\n.hLyFCe{background:black;bottom:0;color:white;display:block;margin-top:15px;padding:6px 64px 6px 64px;position:relative;-webkit-transition:all 0.25s ease-in-out;transition:all 0.25s ease-in-out;width:100%;z-index:200000;} @media screen and (max-width:768px){.hLyFCe{max-height:100vh;height:unset;padding:0;overflow-y:scroll;}} @media screen and (max-width:768px){.hLyFCe .FooterToggle__StyledFooterToggle-sc-1eaqcx0-0{display:block;}}\\n/* sc-component-id: Footer__FooterContainer-ftcicx-1 */\\n@media screen and (min-width:1225px){.cdQllN{margin:0 auto;max-width:1280px;width:100%;}}\\n/* sc-component-id: Footer__StyledFooterWrapper-ftcicx-2 */\\n.jGMSsa{display:-webkit-box;display:-webkit-flex;display:-ms-flexbox;display:flex;-webkit-box-pack:justify;-webkit-justify-content:space-between;-ms-flex-pack:justify;justify-content:space-between;} @media screen and (max-width:768px){.jGMSsa{-webkit-flex-direction:column;-ms-flex-direction:column;flex-direction:column;padding:20px;}}\\n/* sc-component-id: App__StyledApp-aq7j9t-0 */\\n.kaBGnN{background-color:white;position:relative;text-align:center;}\\n/* sc-component-id: App__Body-aq7j9t-1 */\\n.dWJigl{background:white;color:black;display:-webkit-box;display:-webkit-flex;display:-ms-flexbox;display:flex;-webkit-flex-direction:column;-ms-flex-direction:column;flex-direction:column;min-height:100vh;} .dWJigl h1{margin-bottom:2rem;} .dWJigl .Toastify__toast{background:transparent;box-shadow:none;} .dWJigl .Toastify__toast-container{top:62px;width:-webkit-fit-content;width:-moz-fit-content;width:fit-content;} .dWJigl .Toastify__toast-container--top-right{right:70px;} .dWJigl .Toastify__toast-container--top-center{left:50%;-webkit-transform:translateX(-50%);-ms-transform:translateX(-50%);transform:translateX(-50%);}\\n/* sc-component-id: Select-sc-9f4k3m-0 */\\n.jtpiDd{color:black !important;}</style>\\n        <script src=\"//cheddar-com.videoplayerhub.com/galleryloader.js\" async></script>\\n        <script>(function(w,d,s,l,i){w[l]=w[l]||[];w[l].push({\\'gtm.start\\':\\n          new Date().getTime(),event:\\'gtm.js\\'});var f=d.getElementsByTagName(s)[0],\\n          j=d.createElement(s),dl=l!=\\'dataLayer\\'?\\'&l=\\'+l:\\'\\';j.async=true;j.src=\\n          \\'https://www.googletagmanager.com/gtm.js?id=\\'+i+dl;f.parentNode.insertBefore(j,f);\\n          })(window,document,\\'script\\',\\'dataLayer\\',\\'GTM-5HVQ56V\\');\\n        </script>\\n\\n        <!-- BounceX -->\\n        <script>\\n          window.googletag = window.googletag || { cmd: [] }\\n          googletag.cmd.push(function() {\\n            googletag\\n              .defineSlot(\\'/21667365449/bounce_x\\', [1, 1], \\'div-gpt-ad-1579103811294-0\\')\\n              .addService(googletag.pubads())\\n            googletag.pubads().enableSingleRequest()\\n            googletag.enableServices()\\n          })\\n        </script>\\n        <!-- /21667365449/bounce_x -->\\n        <div id=\"div-gpt-ad-1579103811294-0\" style=\"width: 1px; height: 1px;\">\\n          <script>\\n            googletag.cmd.push(function() {\\n              googletag.display(\\'div-gpt-ad-1579103811294-0\\')\\n            })\\n          </script>\\n        </div>\\n        <script id=\"bx-tag\" src=\"//assets.bounceexchange.com/assets/bounce/iframebuster.js\" data-website-id=\"3905\" charset=\"utf-8\"></script>\\n      </head>\\n      <body >\\n        <!-- Google Tag Manager (noscript) -->\\n        <noscript><iframe src=\"https://www.googletagmanager.com/ns.html?id=GTM-5HVQ56V\" height=\"0\" width=\"0\" style=\"display:none;visibility:hidden\"></iframe></noscript>\\n        <!-- End Google Tag Manager (noscript) -->\\n\\n        <div id=\"root\"><div class=\"App__StyledApp-aq7j9t-0 kaBGnN\"><div class=\"App__Body-aq7j9t-1 dWJigl\"><div data-testid=\"StyledHeaderContainer\" class=\"HeaderContainer__StyledHeaderContainer-sc-1eya4wu-0 ducGvC\"><div class=\"Header__HeaderBannerWrapper-sc-1oduwjk-5 enzK\"><header role=\"banner\" class=\"Header__StyledHeader-sc-1oduwjk-1 hNQJBj\"><div class=\"Toastify\"></div><div class=\"Header__HeaderWrapper-sc-1oduwjk-4 eLUjyu\"><div class=\"Header__StyledDummyElement-sc-1oduwjk-3 kjTgMJ\"></div><div class=\"HeaderLogo__StyledHeaderLogo-sc-1ehuz2f-2 vWase\"><div class=\"MobileMenu__MobileMenuWrapper-mf2apz-0 ecMUyP\"><button title=\"Mobile Menu Button\" class=\"MobileMenu__MenuButton-mf2apz-2 cdrVhb\"></button></div><a href=\"/\"><img src=\"/static/media/small_rmp_logo_white.4d5ff7fa.svg\" alt=\"Logo\" class=\"HeaderLogo__RMPLogo-sc-1ehuz2f-1 bFAPID\"/></a><button type=\"button\" title=\"Open search menu\" class=\"HeaderLogo__SearchIcon-sc-1ehuz2f-0 bFqXne\"><img src=\"/static/media/search-white.7b02d8be.svg\" alt=\"Search Icon\"/></button></div><div class=\"HeaderSearch__StyledNewSearch-zmx6ds-0 fiaAxo\"><div class=\"HeaderSearchMainInput__MainInputWrapper-nft009-0 jBOPiI\"><div><button type=\"button\" role=\"button\" title=\"Header Type Toggle Button\" class=\"TeacherSchoolToggleButton__StyledToggleButton-sc-15dbb0q-0 gmfVsA\"><span class=\"TeacherSchoolToggleButton__IconWrapper-sc-15dbb0q-4 kljOpt\"> <svg width=\"18\" height=\"21\" viewBox=\"0 0 18 21\" fill=\"none\" xmlns=\"http://www.w3.org/2000/svg\"><path fill-rule=\"evenodd\" clip-rule=\"evenodd\" d=\"M9.67889 4.14964C10.078 2.0159 11.9509 0.400024 14.2004 0.400024C14.7527 0.400024 15.2004 0.84774 15.2004 1.40002C15.2004 3.03165 14.3507 4.46501 13.0696 5.28168C15.6839 5.77973 17.6004 8.4971 17.6004 11.8C17.6004 15.7456 14.7573 20.8 11.8004 20.8C10.5678 20.8 9.8655 20.6127 9.3257 20.1809C9.2611 20.1292 9.20071 20.076 9.13303 20.0151C9.12474 20.0078 9.12021 20.0028 9.11718 19.9994L9.11717 19.9994C9.11505 19.9971 9.11367 19.9955 9.11225 19.9946L9.00039 20C8.94042 20 8.91449 19.9963 8.90181 19.9944C8.89392 19.9933 8.89116 19.9929 8.88853 19.9946L8.86775 20.0151C8.80008 20.076 8.73968 20.1292 8.67509 20.1809C8.13528 20.6127 7.43296 20.8 6.20039 20.8C3.24351 20.8 0.400391 15.7456 0.400391 11.8C0.400391 8.14065 2.75289 5.20002 5.80039 5.20002C6.73116 5.20002 7.4215 5.30554 8.00039 5.5141V5.40002C8.00039 5.10508 7.77984 4.85504 7.49683 4.80798L7.40039 4.80002H5.80039C5.24811 4.80002 4.80039 4.35231 4.80039 3.80002C4.80039 3.28719 5.18643 2.86452 5.68377 2.80675L5.80039 2.80002H7.40039C8.37994 2.80002 9.23574 3.3462 9.67889 4.14964ZM8.05318 7.76945C8.35477 7.92025 8.65108 8.00002 9.00039 8.00002C9.3497 8.00002 9.64601 7.92025 9.9476 7.76945L10.4476 7.49445C10.8269 7.30481 11.3159 7.20002 12.2004 7.20002C14.0329 7.20002 15.6004 9.1594 15.6004 11.8C15.6004 14.7878 13.3435 18.8 11.8004 18.8L11.4603 18.795C10.953 18.7785 10.731 18.7223 10.6089 18.6435L10.5253 18.5768L10.4535 18.513C10.0557 18.1632 9.6465 18 9.00039 18C8.35428 18 7.94506 18.1632 7.54724 18.513L7.4257 18.6192C7.2905 18.7273 7.01782 18.8 6.20039 18.8C4.65727 18.8 2.40039 14.7878 2.40039 11.8C2.40039 9.1594 3.96789 7.20002 5.80039 7.20002C6.68489 7.20002 7.17389 7.30481 7.55318 7.49445L8.05318 7.76945Z\" fill=\"#ffffff\" data-testid=\"APPLE_PATH_TESTID\"></path></svg></span><div class=\"TeacherSchoolToggleButton__ToggleButtonText-sc-15dbb0q-2 itGGhm\">Professors</div><img src=\"/static/media/caret-down.a8eae91f.svg\" alt=\"Caret Down\"/></button></div><div class=\"HeaderSearchMainInput__NewSearchWrapper-nft009-1 bLpdSv\"><div class=\"HeaderSearchInput__TeacherInputWrapper-j8q5if-3 gMZkZH\"><div class=\"NewSearch__StyledSearchWrapper-pkxwmu-0 eJRnwy\"><div class=\"NewSearch__SearchIconWrapper-pkxwmu-2 irUZwm\"></div><div class=\"Search__SearchInputContainer-sc-10lefvq-0 koGnqT NewSearch__StyledSearch-pkxwmu-1 fJcEeW HeaderSearchInput__TeacherInput-j8q5if-1 eNOUuy\"><input type=\"text\" value=\"\" aria-label=\"search\" placeholder=\"Professor name\" class=\"Search__DebouncedSearchInput-sc-10lefvq-1 fwqnjW\"/></div></div><div class=\"HeaderSearchInput__SelectorInputContainer-j8q5if-5 bIxMQe\"><div class=\"HeaderSearchInput__SelectorInputWrapper-j8q5if-6 hYCCSW\"><div class=\"NewSearch__StyledSearchWrapper-pkxwmu-0 eJRnwy\"><div class=\"NewSearch__SearchIconWrapper-pkxwmu-2 irUZwm\"></div><div class=\"Search__SearchInputContainer-sc-10lefvq-0 koGnqT NewSearch__StyledSearch-pkxwmu-1 fJcEeW TeacherSchoolSelectorInput__StyledSchoolSelectorInput-npx66c-0 fnJGVv\"><input type=\"text\" value=\"\" aria-label=\"search\" placeholder=\"Your school\" class=\"Search__DebouncedSearchInput-sc-10lefvq-1 fwqnjW\"/></div></div></div></div></div></div><button class=\"Buttons__TextButton-sc-19xdot-0 HeaderSearchMainInput__InputCancelButton-nft009-2 dZykPc\" type=\"button\">cancel</button></div><div class=\"HeaderSearch__SchoolSelectorWrapper-zmx6ds-1 eydgty\"><div class=\"HeaderSearch__SchoolSelectorWrapperAt-zmx6ds-2 gMXENl\">at</div><div class=\"NewSearch__StyledSearchWrapper-pkxwmu-0 eJRnwy\"><div class=\"NewSearch__SearchIconWrapper-pkxwmu-2 irUZwm\"></div><div class=\"Search__SearchInputContainer-sc-10lefvq-0 koGnqT NewSearch__StyledSearch-pkxwmu-1 fJcEeW TeacherSchoolSelectorInput__StyledSchoolSelectorInput-npx66c-0 fnJGVv\"><input type=\"text\" value=\"\" aria-label=\"search\" placeholder=\"Your school\" class=\"Search__DebouncedSearchInput-sc-10lefvq-1 fwqnjW\"/></div></div></div></div><div class=\"Header__UserMenuWrapper-sc-1oduwjk-2 fHlqte\"><div data-testid=\"LoginSignupButtons\" class=\"UserMenu__UserMenuWrapper-sc-1rv45rg-2 fsOMKN\"><button role=\"button\" data-testid=\"modal-button-link\" class=\"ModalButtonLink__StyledButton-sc-1soj3zs-0 khahiz UserMenu__LoginLink-sc-1rv45rg-0 ftqFWl\" type=\"button\">Log In</button><button role=\"button\" data-testid=\"modal-button-link\" class=\"ModalButtonLink__StyledButton-sc-1soj3zs-0 khahiz UserMenu__SignUpLink-sc-1rv45rg-1 bLuxdV\" type=\"button\">Sign Up</button></div></div><div class=\"Header__HeaderMobileMenuWrapper-sc-1oduwjk-0 bKRBLv\"><div class=\"MobileMenu__MobileMenuWrapper-mf2apz-0 ecMUyP\"><button title=\"Mobile Menu Button\" class=\"MobileMenu__MenuButton-mf2apz-2 cdrVhb\"></button></div></div></div></header><a href=\"https://ad.doubleclick.net/ddm/clk/534777849;342811334;s\" target=\"_blank\" class=\"HeaderCengageBanner__StyledHeaderCengageBanner-sc-1o79h94-0 jmWmUs\"><div id=\"cengage-promo-banner\"><div role=\"img\" class=\"HeaderCengageBanner__BannerLogo-sc-1o79h94-1 mVwZS\"></div></div></a><img src=\"https://ad.doubleclick.net/ddm/ad/N1212560.4619979RMP/B28334019.342811334;sz=1x1;ord=1662921985577;dc_lat=;dc_rdid=;tag_for_child_directed_treatment=;tfua=;gdpr=${GDPR};gdpr_consent=${GDPR_CONSENT_755}\" border=\"0\" height=\"1\" width=\"1\" aria-hidden=\"true\" style=\"visibility:hidden\" alt=\"\" title=\"Cengage Advertisement\"/></div></div><div role=\"complementary\" alt=\"advertisement leaderboard\" aria-label=\"advertisement leaderboard\" class=\"HeaderLeaderboard__StyledHeaderLeaderboard-nduhbl-0 ftqzfB\"><div class=\"HeaderLeaderboard__AdWrapper-nduhbl-1 fJTAhq\"><div id=\"ad_lb_top\"></div></div></div><div class=\"__react_component_tooltip tc3d03662-319d-42fc-a0ed-3829e7928337 place-bottom type-dark\" id=\"GLOBAL_TOOLTIP\" data-id=\"tooltip\"><style>\\n  \\t.tc3d03662-319d-42fc-a0ed-3829e7928337 {\\n\\t    color: #fff;\\n\\t    background: #222;\\n\\t    border: 1px solid transparent;\\n  \\t}\\n\\n  \\t.tc3d03662-319d-42fc-a0ed-3829e7928337.place-top {\\n        margin-top: -10px;\\n    }\\n    .tc3d03662-319d-42fc-a0ed-3829e7928337.place-top::before {\\n        border-top: 8px solid transparent;\\n    }\\n    .tc3d03662-319d-42fc-a0ed-3829e7928337.place-top::after {\\n        border-left: 8px solid transparent;\\n        border-right: 8px solid transparent;\\n        bottom: -6px;\\n        left: 50%;\\n        margin-left: -8px;\\n        border-top-color: #222;\\n        border-top-style: solid;\\n        border-top-width: 6px;\\n    }\\n\\n    .tc3d03662-319d-42fc-a0ed-3829e7928337.place-bottom {\\n        margin-top: 10px;\\n    }\\n    .tc3d03662-319d-42fc-a0ed-3829e7928337.place-bottom::before {\\n        border-bottom: 8px solid transparent;\\n    }\\n    .tc3d03662-319d-42fc-a0ed-3829e7928337.place-bottom::after {\\n        border-left: 8px solid transparent;\\n        border-right: 8px solid transparent;\\n        top: -6px;\\n        left: 50%;\\n        margin-left: -8px;\\n        border-bottom-color: #222;\\n        border-bottom-style: solid;\\n        border-bottom-width: 6px;\\n    }\\n\\n    .tc3d03662-319d-42fc-a0ed-3829e7928337.place-left {\\n        margin-left: -10px;\\n    }\\n    .tc3d03662-319d-42fc-a0ed-3829e7928337.place-left::before {\\n        border-left: 8px solid transparent;\\n    }\\n    .tc3d03662-319d-42fc-a0ed-3829e7928337.place-left::after {\\n        border-top: 5px solid transparent;\\n        border-bottom: 5px solid transparent;\\n        right: -6px;\\n        top: 50%;\\n        margin-top: -4px;\\n        border-left-color: #222;\\n        border-left-style: solid;\\n        border-left-width: 6px;\\n    }\\n\\n    .tc3d03662-319d-42fc-a0ed-3829e7928337.place-right {\\n        margin-left: 10px;\\n    }\\n    .tc3d03662-319d-42fc-a0ed-3829e7928337.place-right::before {\\n        border-right: 8px solid transparent;\\n    }\\n    .tc3d03662-319d-42fc-a0ed-3829e7928337.place-right::after {\\n        border-top: 5px solid transparent;\\n        border-bottom: 5px solid transparent;\\n        left: -6px;\\n        top: 50%;\\n        margin-top: -4px;\\n        border-right-color: #222;\\n        border-right-style: solid;\\n        border-right-width: 6px;\\n    }\\n  </style></div><div class=\"PageWrapper__StyledPageWrapper-sc-3p8f0h-0 gtQBUD\"><div class=\"TeacherRatingsPage__TeacherBlock-sc-1gyr13u-1 jMpSNb\"><div class=\"TeacherInfo__StyledTeacher-ti1fio-1 kFNvIp\"><div><div class=\"RatingValue__AvgRating-qw8sqy-1 gIgExh\"><div class=\"RatingValue__AvgRatingWrapper-qw8sqy-3 bIUJtl\"><div class=\"RatingValue__Numerator-qw8sqy-2 liyUjw\">3.3</div><div class=\"RatingValue__Denominator-qw8sqy-4 UqFtE\">/ 5</div></div><a class=\"JumpToRatings__StyledJumpToRatings-sc-1v42jg0-0 eTpHeJ\" href=\"/ShowRatings.jsp#ratingsList\"><span>Jump To Ratings</span> <img src=\"/static/media/down-arrow-black.531d82ab.svg\" alt=\"Down Arrow\"/></a></div><div class=\"RatingValue__NumRatings-qw8sqy-0 jMkisx\"><div>Overall Quality Based on\\xa0<a href=\"#ratingsList\">34<!-- -->\\xa0ratings</a></div></div></div><div><div class=\"NameTitle__Name-dowf0z-0 cfjPUG\"><span>Kia</span> <span class=\"NameTitle__LastNameWrapper-dowf0z-2 glXOHH\">Bazargan<!-- --> <button class=\"TeacherBookmark__StyledTeacherBookmark-sc-17dr6wh-0 hVjzhH\" type=\"button\"><img src=\"/static/media/bookmark-default.b056b070.svg\" alt=\"Bookmark\" data-tooltip=\"true\" data-tip=\"Save Professor\" data-for=\"GLOBAL_TOOLTIP\"/></button></span></div><div class=\"NameTitle__Title-dowf0z-1 iLYGwn\"><span>Professor in the <b>Engineering<!-- --> department</b> at<!-- --> </span><a href=\"https://www.ratemyprofessors.com/campusRatings.jsp?sid=1257\">University of Minnesota - Twin Cities</a></div></div><div class=\"TeacherFeedback__StyledTeacherFeedback-gzhlj7-0 cxVUGc\"><div class=\"FeedbackItem__StyledFeedbackItem-uof32n-0 dTFbKx\"><div class=\"FeedbackItem__FeedbackNumber-uof32n-1 kkESWs\">77%</div><div class=\"FeedbackItem__FeedbackDescription-uof32n-2 hddnCs\">Would take again</div></div><div class=\"FeedbackItem__StyledFeedbackItem-uof32n-0 dTFbKx\"><div class=\"FeedbackItem__FeedbackNumber-uof32n-1 kkESWs\">3.8</div><div class=\"FeedbackItem__FeedbackDescription-uof32n-2 hddnCs\">Level of Difficulty</div></div></div><a class=\"TeacherInfo__RateButton-ti1fio-0 fNonZd\" id=\"rate-professor-btn\" href=\"/RateTeacher?tid=941931\">Rate Professor <!-- -->Bazargan</a><div class=\"NameLink__StyledNameLink-sc-4u2ek-0 hiHJpP\"><a href=\"https://www.ratemyprofessors.com/joinprof.jsp?id=941931\" class=\"NameLink__StyledLink-sc-4u2ek-1 eKbjUH\">I&#x27;m Professor <!-- -->Bazargan</a><a href=\"https://www.ratemyprofessors.com/submitCorrection.jsp?tid=941931\" class=\"NameLink__StyledLink-sc-4u2ek-1 eKbjUH\">Submit a Correction</a></div><div class=\"TeacherTags__TagsWrapper-sc-16vmh1y-2 hjXElA\"><div class=\"TeacherTags__TagsHeader-sc-16vmh1y-1 djeIgv\">Professor <!-- -->Bazargan<!-- -->&#x27;s Top Tags</div><div class=\"TeacherTags__TagsContainer-sc-16vmh1y-0 dbxJaW\"><span class=\"Tag-bs9vf4-0 hHOVKF\">Tough grader</span><span class=\"Tag-bs9vf4-0 hHOVKF\">Lots of homework</span><span class=\"Tag-bs9vf4-0 hHOVKF\">Skip class? You won&#x27;t pass.</span><span class=\"Tag-bs9vf4-0 hHOVKF\">Beware of pop quizzes</span><span class=\"Tag-bs9vf4-0 hHOVKF\">Caring</span></div></div></div><div class=\"TeacherRatingsPage__RatingColumn-sc-1gyr13u-0 deeRJW\"><div class=\"RatingDistributionWrapper__StyledRatingDistributionWrapper-ku50n8-0 blKsvI\"></div><div class=\"SimilarProfessors__SimilarProfessorsContainer-zg1hrt-2 CyFXR\"><h3 class=\"SimilarProfessors__SimilarProfessorsTitle-zg1hrt-0 bYRcpU\">Check out Similar Professors in the <!-- -->Engineering<!-- --> Department</h3><ul class=\"SimilarProfessors__StyledSimilarProfessorsList-zg1hrt-1 byOnik\"><li><a class=\"SimilarProfessorListItem__StyledSimilarProfessorLink-x7cr0c-2 jSKXed\" href=\"/ShowRatings.jsp?tid=969846\"><span class=\"SimilarProfessorListItem__TeacherScoreSpan-x7cr0c-0 eLbzKR\">5.00</span><span class=\"SimilarProfessorListItem__TeacherNameSpan-x7cr0c-1 gMAFfH\">Bruce Wilson</span></a></li><li><a class=\"SimilarProfessorListItem__StyledSimilarProfessorLink-x7cr0c-2 jSKXed\" href=\"/ShowRatings.jsp?tid=1122325\"><span class=\"SimilarProfessorListItem__TeacherScoreSpan-x7cr0c-0 eLbzKR\">4.80</span><span class=\"SimilarProfessorListItem__TeacherNameSpan-x7cr0c-1 gMAFfH\">Zongxuan Sun</span></a></li><li><a class=\"SimilarProfessorListItem__StyledSimilarProfessorLink-x7cr0c-2 jSKXed\" href=\"/ShowRatings.jsp?tid=764387\"><span class=\"SimilarProfessorListItem__TeacherScoreSpan-x7cr0c-0 eLbzKR\">4.70</span><span class=\"SimilarProfessorListItem__TeacherNameSpan-x7cr0c-1 gMAFfH\">Yohannes Ketema</span></a></li></ul></div></div></div><div class=\"AdRail__StyledAdRail-sc-1kamohe-0 kgpjyX\"><div class=\"GAMAdRec__StyledGAMAdRec-sc-1itck6u-0 kUIybH\"><div id=\"ad_rec_01\"></div></div><div class=\"RenderForBreakpoints__StyledRenderForBreakPoints-sc-1vjlbtd-0 btrqJr\"><div class=\"GAMAdRec__StyledGAMAdRec-sc-1itck6u-0 kUIybH\"><div id=\"div-gpt-ad-1588602817492-0\"></div></div></div></div><div class=\"TeacherRatingTabs__StyledTabs-pnmswv-0 lloXQq\" data-tabs=\"true\"><ul class=\"TeacherRatingTabs__StyledTabList-pnmswv-1 iSLkvi\" role=\"tablist\"><li class=\"TeacherRatingTabs__StyledTab-pnmswv-2 bOzrdx react-tabs__tab--selected\" role=\"tab\" id=\"react-tabs-257952\" aria-selected=\"true\" aria-disabled=\"false\" aria-controls=\"react-tabs-257953\" tabindex=\"0\">34<!-- --> Student Ratings</li></ul><div class=\"TeacherRatingTabs__StyledTabPage-pnmswv-3 SjINA\"><div class=\"react-tabs__tab-panel react-tabs__tab-panel--selected\" role=\"tabpanel\" id=\"react-tabs-257953\" aria-labelledby=\"react-tabs-257952\"><div class=\"RatingsFilterList__StyledRatingsFilterList-sc-84a4cc-0 iOszTt\"><style data-emotion-css=\"2b097c-container\">.css-2b097c-container{position:relative;box-sizing:border-box;}</style><div class=\" css-2b097c-container\"><style data-emotion-css=\"15snuh2-control\">.css-15snuh2-control{-webkit-align-items:center;-webkit-box-align:center;-ms-flex-align:center;align-items:center;background-color:hsl(0,0%,100%);border-color:#dddddd;border-radius:6px;border-style:solid;border-width:1px;box-shadow:0;cursor:default;display:-webkit-box;display:-webkit-flex;display:-ms-flexbox;display:flex;-webkit-flex-wrap:wrap;-ms-flex-wrap:wrap;flex-wrap:wrap;-webkit-box-pack:justify;-webkit-justify-content:space-between;-ms-flex-pack:justify;justify-content:space-between;min-height:32px;outline:0 !important;position:relative;-webkit-transition:all 100ms;transition:all 100ms;box-sizing:border-box;width:130px;font-weight:700;}.css-15snuh2-control:hover{border-color:#e4e4e4;}</style><div class=\" css-15snuh2-control\"><style data-emotion-css=\"g1d714-ValueContainer\">.css-g1d714-ValueContainer{-webkit-align-items:center;-webkit-box-align:center;-ms-flex-align:center;align-items:center;display:-webkit-box;display:-webkit-flex;display:-ms-flexbox;display:flex;-webkit-flex:1;-ms-flex:1;flex:1;-webkit-flex-wrap:wrap;-ms-flex-wrap:wrap;flex-wrap:wrap;padding:2px 8px;-webkit-overflow-scrolling:touch;position:relative;overflow:hidden;box-sizing:border-box;}</style><div class=\" css-g1d714-ValueContainer\"><style data-emotion-css=\"n2irg-placeholder\">.css-n2irg-placeholder{color:#000000;margin-left:2px;margin-right:2px;position:absolute;top:50%;-webkit-transform:translateY(-50%);-ms-transform:translateY(-50%);transform:translateY(-50%);box-sizing:border-box;}</style><div class=\" css-n2irg-placeholder\">All courses</div><style data-emotion-css=\"62g3xt-dummyInput\">.css-62g3xt-dummyInput{background:0;border:0;font-size:inherit;outline:0;padding:0;width:1px;color:transparent;left:-100px;opacity:0;position:relative;-webkit-transform:scale(0);-ms-transform:scale(0);transform:scale(0);}</style><input id=\"react-select-126379-input\" readonly=\"\" tabindex=\"0\" value=\"\" aria-autocomplete=\"list\" class=\"css-62g3xt-dummyInput\"/></div><style data-emotion-css=\"1hb7zxy-IndicatorsContainer\">.css-1hb7zxy-IndicatorsContainer{-webkit-align-items:center;-webkit-box-align:center;-ms-flex-align:center;align-items:center;-webkit-align-self:stretch;-ms-flex-item-align:stretch;align-self:stretch;display:-webkit-box;display:-webkit-flex;display:-ms-flexbox;display:flex;-webkit-flex-shrink:0;-ms-flex-negative:0;flex-shrink:0;box-sizing:border-box;}</style><div class=\" css-1hb7zxy-IndicatorsContainer\"><style data-emotion-css=\"tlfecz-indicatorContainer\">.css-tlfecz-indicatorContainer{color:hsl(0,0%,80%);display:-webkit-box;display:-webkit-flex;display:-ms-flexbox;display:flex;padding:8px;-webkit-transition:color 150ms;transition:color 150ms;box-sizing:border-box;}.css-tlfecz-indicatorContainer:hover{color:hsl(0,0%,60%);}</style><div aria-hidden=\"true\" class=\"Select-sc-9f4k3m-0 jtpiDd css-tlfecz-indicatorContainer\"><style data-emotion-css=\"6q0nyr-Svg\">.css-6q0nyr-Svg{display:inline-block;fill:currentColor;line-height:1;stroke:currentColor;stroke-width:0;}</style><svg height=\"20\" width=\"20\" viewBox=\"0 0 20 20\" aria-hidden=\"true\" focusable=\"false\" class=\"css-6q0nyr-Svg\"><path d=\"M4.516 7.548c0.436-0.446 1.043-0.481 1.576 0l3.908 3.747 3.908-3.747c0.533-0.481 1.141-0.446 1.574 0 0.436 0.445 0.408 1.197 0 1.615-0.406 0.418-4.695 4.502-4.695 4.502-0.217 0.223-0.502 0.335-0.787 0.335s-0.57-0.112-0.789-0.335c0 0-4.287-4.084-4.695-4.502s-0.436-1.17 0-1.615z\"></path></svg></div></div></div></div></div><ul id=\"ratingsList\" class=\"RatingsList__RatingsUL-hn9one-0 cbdtns\"><li><div class=\"Rating__StyledRating-sc-1rhvpxz-1 jcIQzP\"><div class=\"Rating__RatingBody-sc-1rhvpxz-0 dGrvXb\"><div class=\"RatingHeader__StyledHeader-sc-1dlkqw1-0 uBHCj\"><div class=\"RatingHeader__ClassInfoWrapper-sc-1dlkqw1-1 jxOApy\"><div class=\"RatingHeader__StyledClass-sc-1dlkqw1-2 gxDIt\"> <!-- -->EE5301</div><div class=\"EmotionLabel__StyledEmotionLabel-sc-1u525uj-0 gzdNFd\"><span role=\"img\" aria-label=\"Confounded\">😖</span>awful</div></div><div class=\"TimeStamp__StyledTimeStamp-sc-9q2r30-0 bXQmMr RatingHeader__RatingTimeStamp-sc-1dlkqw1-3 BlaCV\">Dec 26th, 2021</div></div><div class=\"RatingValues__StyledRatingValues-sc-6dc747-0 gFOUvY\"><div class=\"RatingValues__RatingContainer-sc-6dc747-1 DObVa\"><div class=\"CardNumRating__StyledCardNumRating-sc-17t4b9u-0 eWZmyX\"><div class=\"CardNumRating__CardNumRatingHeader-sc-17t4b9u-1 fVETNc\">Quality</div><div class=\"CardNumRating__CardNumRatingNumber-sc-17t4b9u-2 bUneqk\">1.0</div></div></div><div class=\"RatingValues__RatingContainer-sc-6dc747-1 DObVa\"><div class=\"CardNumRating__StyledCardNumRating-sc-17t4b9u-0 eWZmyX\"><div class=\"CardNumRating__CardNumRatingHeader-sc-17t4b9u-1 fVETNc\">Difficulty</div><div class=\"CardNumRating__CardNumRatingNumber-sc-17t4b9u-2 cDKJcc\">3.0</div></div></div></div><div class=\"Rating__RatingInfo-sc-1rhvpxz-3 kEVEoU\"><div class=\"RatingHeader__StyledHeader-sc-1dlkqw1-0 fUEMJm\"><div class=\"RatingHeader__ClassInfoWrapper-sc-1dlkqw1-1 jxOApy\"><div class=\"RatingHeader__StyledClass-sc-1dlkqw1-2 gxDIt\"> <!-- -->EE5301</div><div class=\"EmotionLabel__StyledEmotionLabel-sc-1u525uj-0 gzdNFd\"><span role=\"img\" aria-label=\"Confounded\">😖</span>awful</div></div><div class=\"TimeStamp__StyledTimeStamp-sc-9q2r30-0 bXQmMr RatingHeader__RatingTimeStamp-sc-1dlkqw1-3 BlaCV\">Dec 26th, 2021</div></div><div class=\"CourseMeta__StyledCourseMeta-x344ms-0 fPJDHT\"><div class=\"MetaItem__StyledMetaItem-y0ixml-0 LXClX\">For Credit<!-- -->: <span>Yes</span></div><div class=\"MetaItem__StyledMetaItem-y0ixml-0 LXClX\">Attendance<!-- -->: <span>Not Mandatory</span></div><div class=\"MetaItem__StyledMetaItem-y0ixml-0 LXClX\">Would Take Again<!-- -->: <span>No</span></div><div class=\"MetaItem__StyledMetaItem-y0ixml-0 LXClX\">Grade<!-- -->: <span>A</span></div><div class=\"MetaItem__StyledMetaItem-y0ixml-0 LXClX\">Textbook<!-- -->: <span>No</span></div></div><div class=\"Comments__StyledComments-dzzyvm-0 gRjWel\">Kia is a great guy, but he cannot explain concepts even if his life depended on it. I ended up having to watch videos online to be able to do well in his tests. And his grading is very weird with people not getting any B+ or A- and jumping straight into B. If you want to learn stuff, you&#x27;re better off not taking any class he teaches.</div><div class=\"RatingTags__StyledTags-sc-1boeqx2-0 eLpnFv\"><span class=\"Tag-bs9vf4-0 hHOVKF\">Graded by few things</span><span class=\"Tag-bs9vf4-0 hHOVKF\">Tough grader</span></div><div class=\"RatingFooter__StyledRatingFooter-ciwspm-0 dbULCX\"><div class=\"RatingFooter__ButtonWrapper-ciwspm-1 cwcCIQ\"><div class=\"RatingFooter__HelpTotal-ciwspm-2 kAVFzA\"><img src=\"/static/media/thumbs-up-black.eddae738.svg\" class=\"VoteThumb__StyledVoteThumb-p2gtch-0 jCbELu\" data-tooltip=\"true\" data-tip=\"Helpful\" data-for=\"GLOBAL_TOOLTIP\" alt=\"Thumbs up\"/> <!-- -->0</div><div class=\"RatingFooter__HelpTotal-ciwspm-2 kAVFzA\"><img src=\"/static/media/thumbs-down-black.bd601b36.svg\" class=\"VoteThumb__StyledVoteThumb-p2gtch-0 jCbELu\" data-tooltip=\"true\" data-tip=\"Not helpful\" data-for=\"GLOBAL_TOOLTIP\" alt=\"Thumbs down\"/> <!-- -->0</div></div><div class=\"RatingFooter__ButtonWrapper-ciwspm-1 cwcCIQ\"><a class=\"ReportFlag__StyledReportFlag-sc-1c42epr-0 hjlYuE\" data-tooltip=\"true\" data-tip=\"Report this rating\" data-for=\"GLOBAL_TOOLTIP\" data-testid=\"reportflag_test_id\" aria-disabled=\"false\" href=\"/flagProfRating?tid=941931&amp;rid=35657295\"><div class=\"ReportFlag__FlagWrapper-sc-1c42epr-1 kVglhF\"><svg xmlns=\"http://www.w3.org/2000/svg\" width=\"24\" height=\"24\" viewBox=\"0 0 24 24\"><defs><path id=\"prefix__a\" d=\"M3.93 10c1.417 0 2.383.276 4.371 1.072 1.762.704 2.546.928 3.629.928 1.189 0 2.094-.165 2.754-.428.095-.039.177-.075.246-.108v-9.86c-.82.253-1.814.396-3 .396-1.417 0-2.383-.276-4.371-1.072C5.797.224 5.013 0 3.93 0 2.741 0 1.836.165 1.176.428A4.094 4.094 0 00.93.536v9.86c.82-.253 1.814-.396 3-.396z\"></path></defs><g fill=\"none\" fill-rule=\"evenodd\"><path fill=\"#151515\" fill-rule=\"nonzero\" d=\"M3 3a1 1 0 01.293-.707c.22-.22.614-.483 1.21-.721C5.407 1.21 6.564 1 8 1c1.417 0 2.383.276 4.371 1.072C14.133 2.776 14.917 3 16 3c1.189 0 2.094-.165 2.754-.428.341-.137.508-.249.539-.28C19.923 1.663 21 2.11 21 3v12a1 1 0 01-.293.707c-.22.22-.614.483-1.21.721-.903.362-2.06.572-3.497.572-1.417 0-2.383-.276-4.371-1.072C9.867 15.224 9.083 15 8 15c-1.189 0-2.094.165-2.754.428a4.09 4.09 0 00-.247.108L5 22a1 1 0 01-2 0V3zm5 0c-1.189 0-2.094.165-2.754.428A4.094 4.094 0 005 3.536v9.86C5.82 13.143 6.814 13 8 13c1.417 0 2.383.276 4.371 1.072 1.762.704 2.546.928 3.629.928 1.189 0 2.094-.165 2.754-.428.095-.039.177-.075.246-.108v-9.86c-.82.253-1.814.396-3 .396-1.417 0-2.383-.276-4.371-1.072C9.867 3.224 9.083 3 8 3z\"></path><g transform=\"translate(4.07 3)\"><mask id=\"prefix__b\" fill=\"#fff\"><use xlink:href=\"#prefix__a\"></use></mask><use fill=\"none\" fill-rule=\"nonzero\" xlink:href=\"#prefix__a\"></use><g fill=\"none\" mask=\"url(#prefix__b)\"><path d=\"M0 0H64V64H0z\" transform=\"translate(-25 -27)\"></path></g></g></g></svg></div></a></div></div></div></div></div></li><li><div class=\"Rating__StyledRating-sc-1rhvpxz-1 jcIQzP\"><div class=\"Rating__RatingBody-sc-1rhvpxz-0 dGrvXb\"><div class=\"RatingHeader__StyledHeader-sc-1dlkqw1-0 uBHCj\"><div class=\"RatingHeader__ClassInfoWrapper-sc-1dlkqw1-1 jxOApy\"><div class=\"RatingHeader__StyledClass-sc-1dlkqw1-2 gxDIt\"> <!-- -->EE1301</div><div class=\"EmotionLabel__StyledEmotionLabel-sc-1u525uj-0 gzdNFd\"><span role=\"img\" aria-label=\"Confounded\">😖</span>awful</div></div><div class=\"TimeStamp__StyledTimeStamp-sc-9q2r30-0 bXQmMr RatingHeader__RatingTimeStamp-sc-1dlkqw1-3 BlaCV\">May 25th, 2020</div></div><div class=\"RatingValues__StyledRatingValues-sc-6dc747-0 gFOUvY\"><div class=\"RatingValues__RatingContainer-sc-6dc747-1 DObVa\"><div class=\"CardNumRating__StyledCardNumRating-sc-17t4b9u-0 eWZmyX\"><div class=\"CardNumRating__CardNumRatingHeader-sc-17t4b9u-1 fVETNc\">Quality</div><div class=\"CardNumRating__CardNumRatingNumber-sc-17t4b9u-2 bUneqk\">1.0</div></div></div><div class=\"RatingValues__RatingContainer-sc-6dc747-1 DObVa\"><div class=\"CardNumRating__StyledCardNumRating-sc-17t4b9u-0 eWZmyX\"><div class=\"CardNumRating__CardNumRatingHeader-sc-17t4b9u-1 fVETNc\">Difficulty</div><div class=\"CardNumRating__CardNumRatingNumber-sc-17t4b9u-2 cDKJcc\">5.0</div></div></div></div><div class=\"Rating__RatingInfo-sc-1rhvpxz-3 kEVEoU\"><div class=\"RatingHeader__StyledHeader-sc-1dlkqw1-0 fUEMJm\"><div class=\"RatingHeader__ClassInfoWrapper-sc-1dlkqw1-1 jxOApy\"><div class=\"RatingHeader__StyledClass-sc-1dlkqw1-2 gxDIt\"> <!-- -->EE1301</div><div class=\"EmotionLabel__StyledEmotionLabel-sc-1u525uj-0 gzdNFd\"><span role=\"img\" aria-label=\"Confounded\">😖</span>awful</div></div><div class=\"TimeStamp__StyledTimeStamp-sc-9q2r30-0 bXQmMr RatingHeader__RatingTimeStamp-sc-1dlkqw1-3 BlaCV\">May 25th, 2020</div></div><div class=\"CourseMeta__StyledCourseMeta-x344ms-0 fPJDHT\"><div class=\"MetaItem__StyledMetaItem-y0ixml-0 LXClX\">For Credit<!-- -->: <span>Yes</span></div><div class=\"MetaItem__StyledMetaItem-y0ixml-0 LXClX\">Attendance<!-- -->: <span>Not Mandatory</span></div><div class=\"MetaItem__StyledMetaItem-y0ixml-0 LXClX\">Would Take Again<!-- -->: <span>No</span></div><div class=\"MetaItem__StyledMetaItem-y0ixml-0 LXClX\">Grade<!-- -->: <span>Rather not say</span></div><div class=\"MetaItem__StyledMetaItem-y0ixml-0 LXClX\">Textbook<!-- -->: <span>No</span></div></div><div class=\"Comments__StyledComments-dzzyvm-0 gRjWel\">This professor is trying to fail students. Do not take class with him if you dont want to change your major/career</div><div class=\"RatingFooter__StyledRatingFooter-ciwspm-0 dbULCX\"><div class=\"RatingFooter__ButtonWrapper-ciwspm-1 cwcCIQ\"><div class=\"RatingFooter__HelpTotal-ciwspm-2 kAVFzA\"><img src=\"/static/media/thumbs-up-black.eddae738.svg\" class=\"VoteThumb__StyledVoteThumb-p2gtch-0 jCbELu\" data-tooltip=\"true\" data-tip=\"Helpful\" data-for=\"GLOBAL_TOOLTIP\" alt=\"Thumbs up\"/> <!-- -->0</div><div class=\"RatingFooter__HelpTotal-ciwspm-2 kAVFzA\"><img src=\"/static/media/thumbs-down-black.bd601b36.svg\" class=\"VoteThumb__StyledVoteThumb-p2gtch-0 jCbELu\" data-tooltip=\"true\" data-tip=\"Not helpful\" data-for=\"GLOBAL_TOOLTIP\" alt=\"Thumbs down\"/> <!-- -->0</div></div><div class=\"RatingFooter__ButtonWrapper-ciwspm-1 cwcCIQ\"><a class=\"ReportFlag__StyledReportFlag-sc-1c42epr-0 hjlYuE\" data-tooltip=\"true\" data-tip=\"Report this rating\" data-for=\"GLOBAL_TOOLTIP\" data-testid=\"reportflag_test_id\" aria-disabled=\"false\" href=\"/flagProfRating?tid=941931&amp;rid=33367163\"><div class=\"ReportFlag__FlagWrapper-sc-1c42epr-1 kVglhF\"><svg xmlns=\"http://www.w3.org/2000/svg\" width=\"24\" height=\"24\" viewBox=\"0 0 24 24\"><defs><path id=\"prefix__a\" d=\"M3.93 10c1.417 0 2.383.276 4.371 1.072 1.762.704 2.546.928 3.629.928 1.189 0 2.094-.165 2.754-.428.095-.039.177-.075.246-.108v-9.86c-.82.253-1.814.396-3 .396-1.417 0-2.383-.276-4.371-1.072C5.797.224 5.013 0 3.93 0 2.741 0 1.836.165 1.176.428A4.094 4.094 0 00.93.536v9.86c.82-.253 1.814-.396 3-.396z\"></path></defs><g fill=\"none\" fill-rule=\"evenodd\"><path fill=\"#151515\" fill-rule=\"nonzero\" d=\"M3 3a1 1 0 01.293-.707c.22-.22.614-.483 1.21-.721C5.407 1.21 6.564 1 8 1c1.417 0 2.383.276 4.371 1.072C14.133 2.776 14.917 3 16 3c1.189 0 2.094-.165 2.754-.428.341-.137.508-.249.539-.28C19.923 1.663 21 2.11 21 3v12a1 1 0 01-.293.707c-.22.22-.614.483-1.21.721-.903.362-2.06.572-3.497.572-1.417 0-2.383-.276-4.371-1.072C9.867 15.224 9.083 15 8 15c-1.189 0-2.094.165-2.754.428a4.09 4.09 0 00-.247.108L5 22a1 1 0 01-2 0V3zm5 0c-1.189 0-2.094.165-2.754.428A4.094 4.094 0 005 3.536v9.86C5.82 13.143 6.814 13 8 13c1.417 0 2.383.276 4.371 1.072 1.762.704 2.546.928 3.629.928 1.189 0 2.094-.165 2.754-.428.095-.039.177-.075.246-.108v-9.86c-.82.253-1.814.396-3 .396-1.417 0-2.383-.276-4.371-1.072C9.867 3.224 9.083 3 8 3z\"></path><g transform=\"translate(4.07 3)\"><mask id=\"prefix__b\" fill=\"#fff\"><use xlink:href=\"#prefix__a\"></use></mask><use fill=\"none\" fill-rule=\"nonzero\" xlink:href=\"#prefix__a\"></use><g fill=\"none\" mask=\"url(#prefix__b)\"><path d=\"M0 0H64V64H0z\" transform=\"translate(-25 -27)\"></path></g></g></g></svg></div></a></div></div></div></div></div></li><li><div class=\"Rating__StyledRating-sc-1rhvpxz-1 jcIQzP\"><div class=\"Rating__RatingBody-sc-1rhvpxz-0 dGrvXb\"><div class=\"RatingHeader__StyledHeader-sc-1dlkqw1-0 uBHCj\"><div class=\"RatingHeader__ClassInfoWrapper-sc-1dlkqw1-1 jxOApy\"><div class=\"RatingHeader__StyledClass-sc-1dlkqw1-2 gxDIt\"> <!-- -->CSE1012</div><div class=\"EmotionLabel__StyledEmotionLabel-sc-1u525uj-0 bfMums\"><span role=\"img\" aria-label=\"Sunglasses\">😎</span>awesome</div></div><div class=\"TimeStamp__StyledTimeStamp-sc-9q2r30-0 bXQmMr RatingHeader__RatingTimeStamp-sc-1dlkqw1-3 BlaCV\">May 20th, 2020</div></div><div class=\"RatingValues__StyledRatingValues-sc-6dc747-0 gFOUvY\"><div class=\"RatingValues__RatingContainer-sc-6dc747-1 DObVa\"><div class=\"CardNumRating__StyledCardNumRating-sc-17t4b9u-0 eWZmyX\"><div class=\"CardNumRating__CardNumRatingHeader-sc-17t4b9u-1 fVETNc\">Quality</div><div class=\"CardNumRating__CardNumRatingNumber-sc-17t4b9u-2 gcFhmN\">5.0</div></div></div><div class=\"RatingValues__RatingContainer-sc-6dc747-1 DObVa\"><div class=\"CardNumRating__StyledCardNumRating-sc-17t4b9u-0 eWZmyX\"><div class=\"CardNumRating__CardNumRatingHeader-sc-17t4b9u-1 fVETNc\">Difficulty</div><div class=\"CardNumRating__CardNumRatingNumber-sc-17t4b9u-2 cDKJcc\">2.0</div></div></div></div><div class=\"Rating__RatingInfo-sc-1rhvpxz-3 kEVEoU\"><div class=\"RatingHeader__StyledHeader-sc-1dlkqw1-0 fUEMJm\"><div class=\"RatingHeader__ClassInfoWrapper-sc-1dlkqw1-1 jxOApy\"><div class=\"RatingHeader__StyledClass-sc-1dlkqw1-2 gxDIt\"> <!-- -->CSE1012</div><div class=\"EmotionLabel__StyledEmotionLabel-sc-1u525uj-0 bfMums\"><span role=\"img\" aria-label=\"Sunglasses\">😎</span>awesome</div></div><div class=\"TimeStamp__StyledTimeStamp-sc-9q2r30-0 bXQmMr RatingHeader__RatingTimeStamp-sc-1dlkqw1-3 BlaCV\">May 20th, 2020</div></div><div class=\"CourseMeta__StyledCourseMeta-x344ms-0 fPJDHT\"><div class=\"MetaItem__StyledMetaItem-y0ixml-0 LXClX\">For Credit<!-- -->: <span>Yes</span></div><div class=\"MetaItem__StyledMetaItem-y0ixml-0 LXClX\">Attendance<!-- -->: <span>Mandatory</span></div><div class=\"MetaItem__StyledMetaItem-y0ixml-0 LXClX\">Would Take Again<!-- -->: <span>Yes</span></div><div class=\"MetaItem__StyledMetaItem-y0ixml-0 LXClX\">Grade<!-- -->: <span>A</span></div><div class=\"MetaItem__StyledMetaItem-y0ixml-0 LXClX\">Textbook<!-- -->: <span>No</span></div></div><div class=\"Comments__StyledComments-dzzyvm-0 gRjWel\">I took Kia&#x27;s CSE1012 class that was 3D printing with microcontrollers. He was always so positive and was a fantastic professor. He was very patient when answering questions about coding and SolidWorks. Super passionate and seemed genuinely excited to teach us. Group project got axed because of covid.</div><div class=\"RatingFooter__StyledRatingFooter-ciwspm-0 dbULCX\"><div class=\"RatingFooter__ButtonWrapper-ciwspm-1 cwcCIQ\"><div class=\"RatingFooter__HelpTotal-ciwspm-2 kAVFzA\"><img src=\"/static/media/thumbs-up-black.eddae738.svg\" class=\"VoteThumb__StyledVoteThumb-p2gtch-0 jCbELu\" data-tooltip=\"true\" data-tip=\"Helpful\" data-for=\"GLOBAL_TOOLTIP\" alt=\"Thumbs up\"/> <!-- -->0</div><div class=\"RatingFooter__HelpTotal-ciwspm-2 kAVFzA\"><img src=\"/static/media/thumbs-down-black.bd601b36.svg\" class=\"VoteThumb__StyledVoteThumb-p2gtch-0 jCbELu\" data-tooltip=\"true\" data-tip=\"Not helpful\" data-for=\"GLOBAL_TOOLTIP\" alt=\"Thumbs down\"/> <!-- -->0</div></div><div class=\"RatingFooter__ButtonWrapper-ciwspm-1 cwcCIQ\"><a class=\"ReportFlag__StyledReportFlag-sc-1c42epr-0 hjlYuE\" data-tooltip=\"true\" data-tip=\"Report this rating\" data-for=\"GLOBAL_TOOLTIP\" data-testid=\"reportflag_test_id\" aria-disabled=\"false\" href=\"/flagProfRating?tid=941931&amp;rid=33342589\"><div class=\"ReportFlag__FlagWrapper-sc-1c42epr-1 kVglhF\"><svg xmlns=\"http://www.w3.org/2000/svg\" width=\"24\" height=\"24\" viewBox=\"0 0 24 24\"><defs><path id=\"prefix__a\" d=\"M3.93 10c1.417 0 2.383.276 4.371 1.072 1.762.704 2.546.928 3.629.928 1.189 0 2.094-.165 2.754-.428.095-.039.177-.075.246-.108v-9.86c-.82.253-1.814.396-3 .396-1.417 0-2.383-.276-4.371-1.072C5.797.224 5.013 0 3.93 0 2.741 0 1.836.165 1.176.428A4.094 4.094 0 00.93.536v9.86c.82-.253 1.814-.396 3-.396z\"></path></defs><g fill=\"none\" fill-rule=\"evenodd\"><path fill=\"#151515\" fill-rule=\"nonzero\" d=\"M3 3a1 1 0 01.293-.707c.22-.22.614-.483 1.21-.721C5.407 1.21 6.564 1 8 1c1.417 0 2.383.276 4.371 1.072C14.133 2.776 14.917 3 16 3c1.189 0 2.094-.165 2.754-.428.341-.137.508-.249.539-.28C19.923 1.663 21 2.11 21 3v12a1 1 0 01-.293.707c-.22.22-.614.483-1.21.721-.903.362-2.06.572-3.497.572-1.417 0-2.383-.276-4.371-1.072C9.867 15.224 9.083 15 8 15c-1.189 0-2.094.165-2.754.428a4.09 4.09 0 00-.247.108L5 22a1 1 0 01-2 0V3zm5 0c-1.189 0-2.094.165-2.754.428A4.094 4.094 0 005 3.536v9.86C5.82 13.143 6.814 13 8 13c1.417 0 2.383.276 4.371 1.072 1.762.704 2.546.928 3.629.928 1.189 0 2.094-.165 2.754-.428.095-.039.177-.075.246-.108v-9.86c-.82.253-1.814.396-3 .396-1.417 0-2.383-.276-4.371-1.072C9.867 3.224 9.083 3 8 3z\"></path><g transform=\"translate(4.07 3)\"><mask id=\"prefix__b\" fill=\"#fff\"><use xlink:href=\"#prefix__a\"></use></mask><use fill=\"none\" fill-rule=\"nonzero\" xlink:href=\"#prefix__a\"></use><g fill=\"none\" mask=\"url(#prefix__b)\"><path d=\"M0 0H64V64H0z\" transform=\"translate(-25 -27)\"></path></g></g></g></svg></div></a></div></div></div></div></div></li><li><div class=\"Rating__StyledRating-sc-1rhvpxz-1 jcIQzP\"><div class=\"Rating__RatingBody-sc-1rhvpxz-0 dGrvXb\"><div class=\"RatingHeader__StyledHeader-sc-1dlkqw1-0 uBHCj\"><div class=\"RatingHeader__ClassInfoWrapper-sc-1dlkqw1-1 jxOApy\"><div class=\"RatingHeader__StyledClass-sc-1dlkqw1-2 gxDIt\"> <!-- -->EE2361</div><div class=\"EmotionLabel__StyledEmotionLabel-sc-1u525uj-0 bAJBJw\"><span role=\"img\" aria-label=\"Neutral Face\">😐</span>average</div></div><div class=\"TimeStamp__StyledTimeStamp-sc-9q2r30-0 bXQmMr RatingHeader__RatingTimeStamp-sc-1dlkqw1-3 BlaCV\">Mar 21st, 2019</div></div><div class=\"RatingValues__StyledRatingValues-sc-6dc747-0 gFOUvY\"><div class=\"RatingValues__RatingContainer-sc-6dc747-1 DObVa\"><div class=\"CardNumRating__StyledCardNumRating-sc-17t4b9u-0 eWZmyX\"><div class=\"CardNumRating__CardNumRatingHeader-sc-17t4b9u-1 fVETNc\">Quality</div><div class=\"CardNumRating__CardNumRatingNumber-sc-17t4b9u-2 icXUyq\">3.0</div></div></div><div class=\"RatingValues__RatingContainer-sc-6dc747-1 DObVa\"><div class=\"CardNumRating__StyledCardNumRating-sc-17t4b9u-0 eWZmyX\"><div class=\"CardNumRating__CardNumRatingHeader-sc-17t4b9u-1 fVETNc\">Difficulty</div><div class=\"CardNumRating__CardNumRatingNumber-sc-17t4b9u-2 cDKJcc\">4.0</div></div></div></div><div class=\"Rating__RatingInfo-sc-1rhvpxz-3 kEVEoU\"><div class=\"RatingHeader__StyledHeader-sc-1dlkqw1-0 fUEMJm\"><div class=\"RatingHeader__ClassInfoWrapper-sc-1dlkqw1-1 jxOApy\"><div class=\"RatingHeader__StyledClass-sc-1dlkqw1-2 gxDIt\"> <!-- -->EE2361</div><div class=\"EmotionLabel__StyledEmotionLabel-sc-1u525uj-0 bAJBJw\"><span role=\"img\" aria-label=\"Neutral Face\">😐</span>average</div></div><div class=\"TimeStamp__StyledTimeStamp-sc-9q2r30-0 bXQmMr RatingHeader__RatingTimeStamp-sc-1dlkqw1-3 BlaCV\">Mar 21st, 2019</div></div><div class=\"CourseMeta__StyledCourseMeta-x344ms-0 fPJDHT\"><div class=\"MetaItem__StyledMetaItem-y0ixml-0 LXClX\">For Credit<!-- -->: <span>Yes</span></div><div class=\"MetaItem__StyledMetaItem-y0ixml-0 LXClX\">Attendance<!-- -->: <span>Mandatory</span></div><div class=\"MetaItem__StyledMetaItem-y0ixml-0 LXClX\">Would Take Again<!-- -->: <span>Yes</span></div><div class=\"MetaItem__StyledMetaItem-y0ixml-0 LXClX\">Grade<!-- -->: <span>B+</span></div><div class=\"MetaItem__StyledMetaItem-y0ixml-0 LXClX\">Textbook<!-- -->: <span>No</span></div></div><div class=\"Comments__StyledComments-dzzyvm-0 gRjWel\">BIG WORKLOAD</div><div class=\"RatingTags__StyledTags-sc-1boeqx2-0 eLpnFv\"><span class=\"Tag-bs9vf4-0 hHOVKF\">Skip class? You won&#x27;t pass.</span><span class=\"Tag-bs9vf4-0 hHOVKF\">Test heavy</span><span class=\"Tag-bs9vf4-0 hHOVKF\">Tough grader</span></div><div class=\"RatingFooter__StyledRatingFooter-ciwspm-0 dbULCX\"><div class=\"RatingFooter__ButtonWrapper-ciwspm-1 cwcCIQ\"><div class=\"RatingFooter__HelpTotal-ciwspm-2 kAVFzA\"><img src=\"/static/media/thumbs-up-black.eddae738.svg\" class=\"VoteThumb__StyledVoteThumb-p2gtch-0 jCbELu\" data-tooltip=\"true\" data-tip=\"Helpful\" data-for=\"GLOBAL_TOOLTIP\" alt=\"Thumbs up\"/> <!-- -->0</div><div class=\"RatingFooter__HelpTotal-ciwspm-2 kAVFzA\"><img src=\"/static/media/thumbs-down-black.bd601b36.svg\" class=\"VoteThumb__StyledVoteThumb-p2gtch-0 jCbELu\" data-tooltip=\"true\" data-tip=\"Not helpful\" data-for=\"GLOBAL_TOOLTIP\" alt=\"Thumbs down\"/> <!-- -->0</div></div><div class=\"RatingFooter__ButtonWrapper-ciwspm-1 cwcCIQ\"><a class=\"ReportFlag__StyledReportFlag-sc-1c42epr-0 hjlYuE\" data-tooltip=\"true\" data-tip=\"Report this rating\" data-for=\"GLOBAL_TOOLTIP\" data-testid=\"reportflag_test_id\" aria-disabled=\"false\" href=\"/flagProfRating?tid=941931&amp;rid=31463720\"><div class=\"ReportFlag__FlagWrapper-sc-1c42epr-1 kVglhF\"><svg xmlns=\"http://www.w3.org/2000/svg\" width=\"24\" height=\"24\" viewBox=\"0 0 24 24\"><defs><path id=\"prefix__a\" d=\"M3.93 10c1.417 0 2.383.276 4.371 1.072 1.762.704 2.546.928 3.629.928 1.189 0 2.094-.165 2.754-.428.095-.039.177-.075.246-.108v-9.86c-.82.253-1.814.396-3 .396-1.417 0-2.383-.276-4.371-1.072C5.797.224 5.013 0 3.93 0 2.741 0 1.836.165 1.176.428A4.094 4.094 0 00.93.536v9.86c.82-.253 1.814-.396 3-.396z\"></path></defs><g fill=\"none\" fill-rule=\"evenodd\"><path fill=\"#151515\" fill-rule=\"nonzero\" d=\"M3 3a1 1 0 01.293-.707c.22-.22.614-.483 1.21-.721C5.407 1.21 6.564 1 8 1c1.417 0 2.383.276 4.371 1.072C14.133 2.776 14.917 3 16 3c1.189 0 2.094-.165 2.754-.428.341-.137.508-.249.539-.28C19.923 1.663 21 2.11 21 3v12a1 1 0 01-.293.707c-.22.22-.614.483-1.21.721-.903.362-2.06.572-3.497.572-1.417 0-2.383-.276-4.371-1.072C9.867 15.224 9.083 15 8 15c-1.189 0-2.094.165-2.754.428a4.09 4.09 0 00-.247.108L5 22a1 1 0 01-2 0V3zm5 0c-1.189 0-2.094.165-2.754.428A4.094 4.094 0 005 3.536v9.86C5.82 13.143 6.814 13 8 13c1.417 0 2.383.276 4.371 1.072 1.762.704 2.546.928 3.629.928 1.189 0 2.094-.165 2.754-.428.095-.039.177-.075.246-.108v-9.86c-.82.253-1.814.396-3 .396-1.417 0-2.383-.276-4.371-1.072C9.867 3.224 9.083 3 8 3z\"></path><g transform=\"translate(4.07 3)\"><mask id=\"prefix__b\" fill=\"#fff\"><use xlink:href=\"#prefix__a\"></use></mask><use fill=\"none\" fill-rule=\"nonzero\" xlink:href=\"#prefix__a\"></use><g fill=\"none\" mask=\"url(#prefix__b)\"><path d=\"M0 0H64V64H0z\" transform=\"translate(-25 -27)\"></path></g></g></g></svg></div></a></div></div></div></div></div></li><li><div id=\"teads-inread\" class=\"teads-inread\"></div></li><li><div class=\"Rating__StyledRating-sc-1rhvpxz-1 jcIQzP\"><div class=\"Rating__RatingBody-sc-1rhvpxz-0 dGrvXb\"><div class=\"RatingHeader__StyledHeader-sc-1dlkqw1-0 uBHCj\"><div class=\"RatingHeader__ClassInfoWrapper-sc-1dlkqw1-1 jxOApy\"><div class=\"RatingHeader__StyledClass-sc-1dlkqw1-2 gxDIt\"> <!-- -->EE2361</div><div class=\"EmotionLabel__StyledEmotionLabel-sc-1u525uj-0 bfMums\"><span role=\"img\" aria-label=\"Sunglasses\">😎</span>awesome</div></div><div class=\"TimeStamp__StyledTimeStamp-sc-9q2r30-0 bXQmMr RatingHeader__RatingTimeStamp-sc-1dlkqw1-3 BlaCV\">May 24th, 2018</div></div><div class=\"RatingValues__StyledRatingValues-sc-6dc747-0 gFOUvY\"><div class=\"RatingValues__RatingContainer-sc-6dc747-1 DObVa\"><div class=\"CardNumRating__StyledCardNumRating-sc-17t4b9u-0 eWZmyX\"><div class=\"CardNumRating__CardNumRatingHeader-sc-17t4b9u-1 fVETNc\">Quality</div><div class=\"CardNumRating__CardNumRatingNumber-sc-17t4b9u-2 gcFhmN\">4.0</div></div></div><div class=\"RatingValues__RatingContainer-sc-6dc747-1 DObVa\"><div class=\"CardNumRating__StyledCardNumRating-sc-17t4b9u-0 eWZmyX\"><div class=\"CardNumRating__CardNumRatingHeader-sc-17t4b9u-1 fVETNc\">Difficulty</div><div class=\"CardNumRating__CardNumRatingNumber-sc-17t4b9u-2 cDKJcc\">3.0</div></div></div></div><div class=\"Rating__RatingInfo-sc-1rhvpxz-3 kEVEoU\"><div class=\"RatingHeader__StyledHeader-sc-1dlkqw1-0 fUEMJm\"><div class=\"RatingHeader__ClassInfoWrapper-sc-1dlkqw1-1 jxOApy\"><div class=\"RatingHeader__StyledClass-sc-1dlkqw1-2 gxDIt\"> <!-- -->EE2361</div><div class=\"EmotionLabel__StyledEmotionLabel-sc-1u525uj-0 bfMums\"><span role=\"img\" aria-label=\"Sunglasses\">😎</span>awesome</div></div><div class=\"TimeStamp__StyledTimeStamp-sc-9q2r30-0 bXQmMr RatingHeader__RatingTimeStamp-sc-1dlkqw1-3 BlaCV\">May 24th, 2018</div></div><div class=\"CourseMeta__StyledCourseMeta-x344ms-0 fPJDHT\"><div class=\"MetaItem__StyledMetaItem-y0ixml-0 LXClX\">For Credit<!-- -->: <span>Yes</span></div><div class=\"MetaItem__StyledMetaItem-y0ixml-0 LXClX\">Would Take Again<!-- -->: <span>Yes</span></div><div class=\"MetaItem__StyledMetaItem-y0ixml-0 LXClX\">Grade<!-- -->: <span>A</span></div><div class=\"MetaItem__StyledMetaItem-y0ixml-0 LXClX\">Textbook<!-- -->: <span>No</span></div></div><div class=\"Comments__StyledComments-dzzyvm-0 gRjWel\">EE 2361 has somewhat unusual content, but you will learn a lot of practical/useful things. The lab can be a pain as so many small details can mess up everything. But the lab also gives you good hands on engineering experiences. Definitely look at past tests and their answer keys before exams so you know what to expect.</div><div class=\"RatingTags__StyledTags-sc-1boeqx2-0 eLpnFv\"><span class=\"Tag-bs9vf4-0 hHOVKF\">Respected</span><span class=\"Tag-bs9vf4-0 hHOVKF\">Skip class? You won&#x27;t pass.</span><span class=\"Tag-bs9vf4-0 hHOVKF\">Caring</span></div><div class=\"RatingFooter__StyledRatingFooter-ciwspm-0 dbULCX\"><div class=\"RatingFooter__ButtonWrapper-ciwspm-1 cwcCIQ\"><div class=\"RatingFooter__HelpTotal-ciwspm-2 kAVFzA\"><img src=\"/static/media/thumbs-up-black.eddae738.svg\" class=\"VoteThumb__StyledVoteThumb-p2gtch-0 jCbELu\" data-tooltip=\"true\" data-tip=\"Helpful\" data-for=\"GLOBAL_TOOLTIP\" alt=\"Thumbs up\"/> <!-- -->0</div><div class=\"RatingFooter__HelpTotal-ciwspm-2 kAVFzA\"><img src=\"/static/media/thumbs-down-black.bd601b36.svg\" class=\"VoteThumb__StyledVoteThumb-p2gtch-0 jCbELu\" data-tooltip=\"true\" data-tip=\"Not helpful\" data-for=\"GLOBAL_TOOLTIP\" alt=\"Thumbs down\"/> <!-- -->5</div></div><div class=\"RatingFooter__ButtonWrapper-ciwspm-1 cwcCIQ\"><a class=\"ReportFlag__StyledReportFlag-sc-1c42epr-0 hjlYuE\" data-tooltip=\"true\" data-tip=\"Report this rating\" data-for=\"GLOBAL_TOOLTIP\" data-testid=\"reportflag_test_id\" aria-disabled=\"false\" href=\"/flagProfRating?tid=941931&amp;rid=30182900\"><div class=\"ReportFlag__FlagWrapper-sc-1c42epr-1 kVglhF\"><svg xmlns=\"http://www.w3.org/2000/svg\" width=\"24\" height=\"24\" viewBox=\"0 0 24 24\"><defs><path id=\"prefix__a\" d=\"M3.93 10c1.417 0 2.383.276 4.371 1.072 1.762.704 2.546.928 3.629.928 1.189 0 2.094-.165 2.754-.428.095-.039.177-.075.246-.108v-9.86c-.82.253-1.814.396-3 .396-1.417 0-2.383-.276-4.371-1.072C5.797.224 5.013 0 3.93 0 2.741 0 1.836.165 1.176.428A4.094 4.094 0 00.93.536v9.86c.82-.253 1.814-.396 3-.396z\"></path></defs><g fill=\"none\" fill-rule=\"evenodd\"><path fill=\"#151515\" fill-rule=\"nonzero\" d=\"M3 3a1 1 0 01.293-.707c.22-.22.614-.483 1.21-.721C5.407 1.21 6.564 1 8 1c1.417 0 2.383.276 4.371 1.072C14.133 2.776 14.917 3 16 3c1.189 0 2.094-.165 2.754-.428.341-.137.508-.249.539-.28C19.923 1.663 21 2.11 21 3v12a1 1 0 01-.293.707c-.22.22-.614.483-1.21.721-.903.362-2.06.572-3.497.572-1.417 0-2.383-.276-4.371-1.072C9.867 15.224 9.083 15 8 15c-1.189 0-2.094.165-2.754.428a4.09 4.09 0 00-.247.108L5 22a1 1 0 01-2 0V3zm5 0c-1.189 0-2.094.165-2.754.428A4.094 4.094 0 005 3.536v9.86C5.82 13.143 6.814 13 8 13c1.417 0 2.383.276 4.371 1.072 1.762.704 2.546.928 3.629.928 1.189 0 2.094-.165 2.754-.428.095-.039.177-.075.246-.108v-9.86c-.82.253-1.814.396-3 .396-1.417 0-2.383-.276-4.371-1.072C9.867 3.224 9.083 3 8 3z\"></path><g transform=\"translate(4.07 3)\"><mask id=\"prefix__b\" fill=\"#fff\"><use xlink:href=\"#prefix__a\"></use></mask><use fill=\"none\" fill-rule=\"nonzero\" xlink:href=\"#prefix__a\"></use><g fill=\"none\" mask=\"url(#prefix__b)\"><path d=\"M0 0H64V64H0z\" transform=\"translate(-25 -27)\"></path></g></g></g></svg></div></a></div></div></div></div></div></li><li><div class=\"Rating__StyledRating-sc-1rhvpxz-1 jcIQzP\"><div class=\"Rating__RatingBody-sc-1rhvpxz-0 dGrvXb\"><div class=\"RatingHeader__StyledHeader-sc-1dlkqw1-0 uBHCj\"><div class=\"RatingHeader__ClassInfoWrapper-sc-1dlkqw1-1 jxOApy\"><div class=\"RatingHeader__StyledClass-sc-1dlkqw1-2 gxDIt\"> <!-- -->EE2361</div><div class=\"EmotionLabel__StyledEmotionLabel-sc-1u525uj-0 bfMums\"><span role=\"img\" aria-label=\"Sunglasses\">😎</span>awesome</div></div><div class=\"TimeStamp__StyledTimeStamp-sc-9q2r30-0 bXQmMr RatingHeader__RatingTimeStamp-sc-1dlkqw1-3 BlaCV\">May 18th, 2018</div></div><div class=\"RatingValues__StyledRatingValues-sc-6dc747-0 gFOUvY\"><div class=\"RatingValues__RatingContainer-sc-6dc747-1 DObVa\"><div class=\"CardNumRating__StyledCardNumRating-sc-17t4b9u-0 eWZmyX\"><div class=\"CardNumRating__CardNumRatingHeader-sc-17t4b9u-1 fVETNc\">Quality</div><div class=\"CardNumRating__CardNumRatingNumber-sc-17t4b9u-2 gcFhmN\">5.0</div></div></div><div class=\"RatingValues__RatingContainer-sc-6dc747-1 DObVa\"><div class=\"CardNumRating__StyledCardNumRating-sc-17t4b9u-0 eWZmyX\"><div class=\"CardNumRating__CardNumRatingHeader-sc-17t4b9u-1 fVETNc\">Difficulty</div><div class=\"CardNumRating__CardNumRatingNumber-sc-17t4b9u-2 cDKJcc\">4.0</div></div></div></div><div class=\"Rating__RatingInfo-sc-1rhvpxz-3 kEVEoU\"><div class=\"RatingHeader__StyledHeader-sc-1dlkqw1-0 fUEMJm\"><div class=\"RatingHeader__ClassInfoWrapper-sc-1dlkqw1-1 jxOApy\"><div class=\"RatingHeader__StyledClass-sc-1dlkqw1-2 gxDIt\"> <!-- -->EE2361</div><div class=\"EmotionLabel__StyledEmotionLabel-sc-1u525uj-0 bfMums\"><span role=\"img\" aria-label=\"Sunglasses\">😎</span>awesome</div></div><div class=\"TimeStamp__StyledTimeStamp-sc-9q2r30-0 bXQmMr RatingHeader__RatingTimeStamp-sc-1dlkqw1-3 BlaCV\">May 18th, 2018</div></div><div class=\"CourseMeta__StyledCourseMeta-x344ms-0 fPJDHT\"><div class=\"MetaItem__StyledMetaItem-y0ixml-0 LXClX\">For Credit<!-- -->: <span>Yes</span></div><div class=\"MetaItem__StyledMetaItem-y0ixml-0 LXClX\">Would Take Again<!-- -->: <span>Yes</span></div><div class=\"MetaItem__StyledMetaItem-y0ixml-0 LXClX\">Grade<!-- -->: <span>A</span></div><div class=\"MetaItem__StyledMetaItem-y0ixml-0 LXClX\">Textbook<!-- -->: <span>No</span></div></div><div class=\"Comments__StyledComments-dzzyvm-0 gRjWel\">I think he&#x27;s an amazing professor. make sure you pay attention in every single lecture because there&#x27;re no textbooks. HW, Labs, Exams could be challenging. He is willing to explain if you&#x27;re confused. But this is EE2361, if you expect the prof to hold your hands and walk you through it then maybe don&#x27;t even consider being an engineer</div><div class=\"RatingTags__StyledTags-sc-1boeqx2-0 eLpnFv\"><span class=\"Tag-bs9vf4-0 hHOVKF\">Respected</span><span class=\"Tag-bs9vf4-0 hHOVKF\">Hilarious</span><span class=\"Tag-bs9vf4-0 hHOVKF\">Amazing lectures</span></div><div class=\"RatingFooter__StyledRatingFooter-ciwspm-0 dbULCX\"><div class=\"RatingFooter__ButtonWrapper-ciwspm-1 cwcCIQ\"><div class=\"RatingFooter__HelpTotal-ciwspm-2 kAVFzA\"><img src=\"/static/media/thumbs-up-black.eddae738.svg\" class=\"VoteThumb__StyledVoteThumb-p2gtch-0 jCbELu\" data-tooltip=\"true\" data-tip=\"Helpful\" data-for=\"GLOBAL_TOOLTIP\" alt=\"Thumbs up\"/> <!-- -->5</div><div class=\"RatingFooter__HelpTotal-ciwspm-2 kAVFzA\"><img src=\"/static/media/thumbs-down-black.bd601b36.svg\" class=\"VoteThumb__StyledVoteThumb-p2gtch-0 jCbELu\" data-tooltip=\"true\" data-tip=\"Not helpful\" data-for=\"GLOBAL_TOOLTIP\" alt=\"Thumbs down\"/> <!-- -->3</div></div><div class=\"RatingFooter__ButtonWrapper-ciwspm-1 cwcCIQ\"><a class=\"ReportFlag__StyledReportFlag-sc-1c42epr-0 hjlYuE\" data-tooltip=\"true\" data-tip=\"Report this rating\" data-for=\"GLOBAL_TOOLTIP\" data-testid=\"reportflag_test_id\" aria-disabled=\"false\" href=\"/flagProfRating?tid=941931&amp;rid=30145507\"><div class=\"ReportFlag__FlagWrapper-sc-1c42epr-1 kVglhF\"><svg xmlns=\"http://www.w3.org/2000/svg\" width=\"24\" height=\"24\" viewBox=\"0 0 24 24\"><defs><path id=\"prefix__a\" d=\"M3.93 10c1.417 0 2.383.276 4.371 1.072 1.762.704 2.546.928 3.629.928 1.189 0 2.094-.165 2.754-.428.095-.039.177-.075.246-.108v-9.86c-.82.253-1.814.396-3 .396-1.417 0-2.383-.276-4.371-1.072C5.797.224 5.013 0 3.93 0 2.741 0 1.836.165 1.176.428A4.094 4.094 0 00.93.536v9.86c.82-.253 1.814-.396 3-.396z\"></path></defs><g fill=\"none\" fill-rule=\"evenodd\"><path fill=\"#151515\" fill-rule=\"nonzero\" d=\"M3 3a1 1 0 01.293-.707c.22-.22.614-.483 1.21-.721C5.407 1.21 6.564 1 8 1c1.417 0 2.383.276 4.371 1.072C14.133 2.776 14.917 3 16 3c1.189 0 2.094-.165 2.754-.428.341-.137.508-.249.539-.28C19.923 1.663 21 2.11 21 3v12a1 1 0 01-.293.707c-.22.22-.614.483-1.21.721-.903.362-2.06.572-3.497.572-1.417 0-2.383-.276-4.371-1.072C9.867 15.224 9.083 15 8 15c-1.189 0-2.094.165-2.754.428a4.09 4.09 0 00-.247.108L5 22a1 1 0 01-2 0V3zm5 0c-1.189 0-2.094.165-2.754.428A4.094 4.094 0 005 3.536v9.86C5.82 13.143 6.814 13 8 13c1.417 0 2.383.276 4.371 1.072 1.762.704 2.546.928 3.629.928 1.189 0 2.094-.165 2.754-.428.095-.039.177-.075.246-.108v-9.86c-.82.253-1.814.396-3 .396-1.417 0-2.383-.276-4.371-1.072C9.867 3.224 9.083 3 8 3z\"></path><g transform=\"translate(4.07 3)\"><mask id=\"prefix__b\" fill=\"#fff\"><use xlink:href=\"#prefix__a\"></use></mask><use fill=\"none\" fill-rule=\"nonzero\" xlink:href=\"#prefix__a\"></use><g fill=\"none\" mask=\"url(#prefix__b)\"><path d=\"M0 0H64V64H0z\" transform=\"translate(-25 -27)\"></path></g></g></g></svg></div></a></div></div></div></div></div></li><li><div id=\"browsi-ratings-page-0\" class=\"BrowsiAd__AdWrapper-sc-1es20uu-0 fuqfRC browsi_rmp_web\"></div></li><li><div class=\"Rating__StyledRating-sc-1rhvpxz-1 jcIQzP\"><div class=\"Rating__RatingBody-sc-1rhvpxz-0 dGrvXb\"><div class=\"RatingHeader__StyledHeader-sc-1dlkqw1-0 uBHCj\"><div class=\"RatingHeader__ClassInfoWrapper-sc-1dlkqw1-1 jxOApy\"><div class=\"RatingHeader__StyledClass-sc-1dlkqw1-2 gxDIt\"> <!-- -->EE2361</div><div class=\"EmotionLabel__StyledEmotionLabel-sc-1u525uj-0 bfMums\"><span role=\"img\" aria-label=\"Sunglasses\">😎</span>awesome</div></div><div class=\"TimeStamp__StyledTimeStamp-sc-9q2r30-0 bXQmMr RatingHeader__RatingTimeStamp-sc-1dlkqw1-3 BlaCV\">May 9th, 2018</div></div><div class=\"RatingValues__StyledRatingValues-sc-6dc747-0 gFOUvY\"><div class=\"RatingValues__RatingContainer-sc-6dc747-1 DObVa\"><div class=\"CardNumRating__StyledCardNumRating-sc-17t4b9u-0 eWZmyX\"><div class=\"CardNumRating__CardNumRatingHeader-sc-17t4b9u-1 fVETNc\">Quality</div><div class=\"CardNumRating__CardNumRatingNumber-sc-17t4b9u-2 gcFhmN\">5.0</div></div></div><div class=\"RatingValues__RatingContainer-sc-6dc747-1 DObVa\"><div class=\"CardNumRating__StyledCardNumRating-sc-17t4b9u-0 eWZmyX\"><div class=\"CardNumRating__CardNumRatingHeader-sc-17t4b9u-1 fVETNc\">Difficulty</div><div class=\"CardNumRating__CardNumRatingNumber-sc-17t4b9u-2 cDKJcc\">4.0</div></div></div></div><div class=\"Rating__RatingInfo-sc-1rhvpxz-3 kEVEoU\"><div class=\"RatingHeader__StyledHeader-sc-1dlkqw1-0 fUEMJm\"><div class=\"RatingHeader__ClassInfoWrapper-sc-1dlkqw1-1 jxOApy\"><div class=\"RatingHeader__StyledClass-sc-1dlkqw1-2 gxDIt\"> <!-- -->EE2361</div><div class=\"EmotionLabel__StyledEmotionLabel-sc-1u525uj-0 bfMums\"><span role=\"img\" aria-label=\"Sunglasses\">😎</span>awesome</div></div><div class=\"TimeStamp__StyledTimeStamp-sc-9q2r30-0 bXQmMr RatingHeader__RatingTimeStamp-sc-1dlkqw1-3 BlaCV\">May 9th, 2018</div></div><div class=\"CourseMeta__StyledCourseMeta-x344ms-0 fPJDHT\"><div class=\"MetaItem__StyledMetaItem-y0ixml-0 LXClX\">For Credit<!-- -->: <span>Yes</span></div><div class=\"MetaItem__StyledMetaItem-y0ixml-0 LXClX\">Attendance<!-- -->: <span>Mandatory</span></div><div class=\"MetaItem__StyledMetaItem-y0ixml-0 LXClX\">Would Take Again<!-- -->: <span>Yes</span></div><div class=\"MetaItem__StyledMetaItem-y0ixml-0 LXClX\">Grade<!-- -->: <span>B</span></div><div class=\"MetaItem__StyledMetaItem-y0ixml-0 LXClX\">Textbook<!-- -->: <span>No</span></div></div><div class=\"Comments__StyledComments-dzzyvm-0 gRjWel\">The lectures are the best way to learn stuff in this class. He will make you work hard on homework, labs, and tests, but he has a ton of Youtube videos to help you along while you&#x27;re in the class along with a ton of great resources for you to use outside of class.</div><div class=\"RatingTags__StyledTags-sc-1boeqx2-0 eLpnFv\"><span class=\"Tag-bs9vf4-0 hHOVKF\">Respected</span><span class=\"Tag-bs9vf4-0 hHOVKF\">TEST HEAVY</span><span class=\"Tag-bs9vf4-0 hHOVKF\">Amazing lectures</span></div><div class=\"RatingFooter__StyledRatingFooter-ciwspm-0 dbULCX\"><div class=\"RatingFooter__ButtonWrapper-ciwspm-1 cwcCIQ\"><div class=\"RatingFooter__HelpTotal-ciwspm-2 kAVFzA\"><img src=\"/static/media/thumbs-up-black.eddae738.svg\" class=\"VoteThumb__StyledVoteThumb-p2gtch-0 jCbELu\" data-tooltip=\"true\" data-tip=\"Helpful\" data-for=\"GLOBAL_TOOLTIP\" alt=\"Thumbs up\"/> <!-- -->0</div><div class=\"RatingFooter__HelpTotal-ciwspm-2 kAVFzA\"><img src=\"/static/media/thumbs-down-black.bd601b36.svg\" class=\"VoteThumb__StyledVoteThumb-p2gtch-0 jCbELu\" data-tooltip=\"true\" data-tip=\"Not helpful\" data-for=\"GLOBAL_TOOLTIP\" alt=\"Thumbs down\"/> <!-- -->3</div></div><div class=\"RatingFooter__ButtonWrapper-ciwspm-1 cwcCIQ\"><a class=\"ReportFlag__StyledReportFlag-sc-1c42epr-0 hjlYuE\" data-tooltip=\"true\" data-tip=\"Report this rating\" data-for=\"GLOBAL_TOOLTIP\" data-testid=\"reportflag_test_id\" aria-disabled=\"false\" href=\"/flagProfRating?tid=941931&amp;rid=30041120\"><div class=\"ReportFlag__FlagWrapper-sc-1c42epr-1 kVglhF\"><svg xmlns=\"http://www.w3.org/2000/svg\" width=\"24\" height=\"24\" viewBox=\"0 0 24 24\"><defs><path id=\"prefix__a\" d=\"M3.93 10c1.417 0 2.383.276 4.371 1.072 1.762.704 2.546.928 3.629.928 1.189 0 2.094-.165 2.754-.428.095-.039.177-.075.246-.108v-9.86c-.82.253-1.814.396-3 .396-1.417 0-2.383-.276-4.371-1.072C5.797.224 5.013 0 3.93 0 2.741 0 1.836.165 1.176.428A4.094 4.094 0 00.93.536v9.86c.82-.253 1.814-.396 3-.396z\"></path></defs><g fill=\"none\" fill-rule=\"evenodd\"><path fill=\"#151515\" fill-rule=\"nonzero\" d=\"M3 3a1 1 0 01.293-.707c.22-.22.614-.483 1.21-.721C5.407 1.21 6.564 1 8 1c1.417 0 2.383.276 4.371 1.072C14.133 2.776 14.917 3 16 3c1.189 0 2.094-.165 2.754-.428.341-.137.508-.249.539-.28C19.923 1.663 21 2.11 21 3v12a1 1 0 01-.293.707c-.22.22-.614.483-1.21.721-.903.362-2.06.572-3.497.572-1.417 0-2.383-.276-4.371-1.072C9.867 15.224 9.083 15 8 15c-1.189 0-2.094.165-2.754.428a4.09 4.09 0 00-.247.108L5 22a1 1 0 01-2 0V3zm5 0c-1.189 0-2.094.165-2.754.428A4.094 4.094 0 005 3.536v9.86C5.82 13.143 6.814 13 8 13c1.417 0 2.383.276 4.371 1.072 1.762.704 2.546.928 3.629.928 1.189 0 2.094-.165 2.754-.428.095-.039.177-.075.246-.108v-9.86c-.82.253-1.814.396-3 .396-1.417 0-2.383-.276-4.371-1.072C9.867 3.224 9.083 3 8 3z\"></path><g transform=\"translate(4.07 3)\"><mask id=\"prefix__b\" fill=\"#fff\"><use xlink:href=\"#prefix__a\"></use></mask><use fill=\"none\" fill-rule=\"nonzero\" xlink:href=\"#prefix__a\"></use><g fill=\"none\" mask=\"url(#prefix__b)\"><path d=\"M0 0H64V64H0z\" transform=\"translate(-25 -27)\"></path></g></g></g></svg></div></a></div></div></div></div></div></li><li><div class=\"Rating__StyledRating-sc-1rhvpxz-1 jcIQzP\"><div class=\"Rating__RatingBody-sc-1rhvpxz-0 dGrvXb\"><div class=\"RatingHeader__StyledHeader-sc-1dlkqw1-0 uBHCj\"><div class=\"RatingHeader__ClassInfoWrapper-sc-1dlkqw1-1 jxOApy\"><div class=\"RatingHeader__StyledClass-sc-1dlkqw1-2 gxDIt\"> <!-- -->EE2361</div><div class=\"EmotionLabel__StyledEmotionLabel-sc-1u525uj-0 bfMums\"><span role=\"img\" aria-label=\"Sunglasses\">😎</span>awesome</div></div><div class=\"TimeStamp__StyledTimeStamp-sc-9q2r30-0 bXQmMr RatingHeader__RatingTimeStamp-sc-1dlkqw1-3 BlaCV\">Apr 2nd, 2018</div></div><div class=\"RatingValues__StyledRatingValues-sc-6dc747-0 gFOUvY\"><div class=\"RatingValues__RatingContainer-sc-6dc747-1 DObVa\"><div class=\"CardNumRating__StyledCardNumRating-sc-17t4b9u-0 eWZmyX\"><div class=\"CardNumRating__CardNumRatingHeader-sc-17t4b9u-1 fVETNc\">Quality</div><div class=\"CardNumRating__CardNumRatingNumber-sc-17t4b9u-2 gcFhmN\">4.0</div></div></div><div class=\"RatingValues__RatingContainer-sc-6dc747-1 DObVa\"><div class=\"CardNumRating__StyledCardNumRating-sc-17t4b9u-0 eWZmyX\"><div class=\"CardNumRating__CardNumRatingHeader-sc-17t4b9u-1 fVETNc\">Difficulty</div><div class=\"CardNumRating__CardNumRatingNumber-sc-17t4b9u-2 cDKJcc\">3.0</div></div></div></div><div class=\"Rating__RatingInfo-sc-1rhvpxz-3 kEVEoU\"><div class=\"RatingHeader__StyledHeader-sc-1dlkqw1-0 fUEMJm\"><div class=\"RatingHeader__ClassInfoWrapper-sc-1dlkqw1-1 jxOApy\"><div class=\"RatingHeader__StyledClass-sc-1dlkqw1-2 gxDIt\"> <!-- -->EE2361</div><div class=\"EmotionLabel__StyledEmotionLabel-sc-1u525uj-0 bfMums\"><span role=\"img\" aria-label=\"Sunglasses\">😎</span>awesome</div></div><div class=\"TimeStamp__StyledTimeStamp-sc-9q2r30-0 bXQmMr RatingHeader__RatingTimeStamp-sc-1dlkqw1-3 BlaCV\">Apr 2nd, 2018</div></div><div class=\"CourseMeta__StyledCourseMeta-x344ms-0 fPJDHT\"><div class=\"MetaItem__StyledMetaItem-y0ixml-0 LXClX\">For Credit<!-- -->: <span>Yes</span></div><div class=\"MetaItem__StyledMetaItem-y0ixml-0 LXClX\">Would Take Again<!-- -->: <span>Yes</span></div><div class=\"MetaItem__StyledMetaItem-y0ixml-0 LXClX\">Textbook<!-- -->: <span>No</span></div></div><div class=\"Comments__StyledComments-dzzyvm-0 gRjWel\">Awesome course and Awesome TA Santoshi. She has been very helpful through out the course. I would recommend this course as long as the TA doesnt change.</div><div class=\"RatingTags__StyledTags-sc-1boeqx2-0 eLpnFv\"><span class=\"Tag-bs9vf4-0 hHOVKF\">Inspirational</span><span class=\"Tag-bs9vf4-0 hHOVKF\">Hilarious</span><span class=\"Tag-bs9vf4-0 hHOVKF\">Caring</span></div><div class=\"RatingFooter__StyledRatingFooter-ciwspm-0 dbULCX\"><div class=\"RatingFooter__ButtonWrapper-ciwspm-1 cwcCIQ\"><div class=\"RatingFooter__HelpTotal-ciwspm-2 kAVFzA\"><img src=\"/static/media/thumbs-up-black.eddae738.svg\" class=\"VoteThumb__StyledVoteThumb-p2gtch-0 jCbELu\" data-tooltip=\"true\" data-tip=\"Helpful\" data-for=\"GLOBAL_TOOLTIP\" alt=\"Thumbs up\"/> <!-- -->8</div><div class=\"RatingFooter__HelpTotal-ciwspm-2 kAVFzA\"><img src=\"/static/media/thumbs-down-black.bd601b36.svg\" class=\"VoteThumb__StyledVoteThumb-p2gtch-0 jCbELu\" data-tooltip=\"true\" data-tip=\"Not helpful\" data-for=\"GLOBAL_TOOLTIP\" alt=\"Thumbs down\"/> <!-- -->8</div></div><div class=\"RatingFooter__ButtonWrapper-ciwspm-1 cwcCIQ\"><a class=\"ReportFlag__StyledReportFlag-sc-1c42epr-0 hjlYuE\" data-tooltip=\"true\" data-tip=\"Report this rating\" data-for=\"GLOBAL_TOOLTIP\" data-testid=\"reportflag_test_id\" aria-disabled=\"false\" href=\"/flagProfRating?tid=941931&amp;rid=29730249\"><div class=\"ReportFlag__FlagWrapper-sc-1c42epr-1 kVglhF\"><svg xmlns=\"http://www.w3.org/2000/svg\" width=\"24\" height=\"24\" viewBox=\"0 0 24 24\"><defs><path id=\"prefix__a\" d=\"M3.93 10c1.417 0 2.383.276 4.371 1.072 1.762.704 2.546.928 3.629.928 1.189 0 2.094-.165 2.754-.428.095-.039.177-.075.246-.108v-9.86c-.82.253-1.814.396-3 .396-1.417 0-2.383-.276-4.371-1.072C5.797.224 5.013 0 3.93 0 2.741 0 1.836.165 1.176.428A4.094 4.094 0 00.93.536v9.86c.82-.253 1.814-.396 3-.396z\"></path></defs><g fill=\"none\" fill-rule=\"evenodd\"><path fill=\"#151515\" fill-rule=\"nonzero\" d=\"M3 3a1 1 0 01.293-.707c.22-.22.614-.483 1.21-.721C5.407 1.21 6.564 1 8 1c1.417 0 2.383.276 4.371 1.072C14.133 2.776 14.917 3 16 3c1.189 0 2.094-.165 2.754-.428.341-.137.508-.249.539-.28C19.923 1.663 21 2.11 21 3v12a1 1 0 01-.293.707c-.22.22-.614.483-1.21.721-.903.362-2.06.572-3.497.572-1.417 0-2.383-.276-4.371-1.072C9.867 15.224 9.083 15 8 15c-1.189 0-2.094.165-2.754.428a4.09 4.09 0 00-.247.108L5 22a1 1 0 01-2 0V3zm5 0c-1.189 0-2.094.165-2.754.428A4.094 4.094 0 005 3.536v9.86C5.82 13.143 6.814 13 8 13c1.417 0 2.383.276 4.371 1.072 1.762.704 2.546.928 3.629.928 1.189 0 2.094-.165 2.754-.428.095-.039.177-.075.246-.108v-9.86c-.82.253-1.814.396-3 .396-1.417 0-2.383-.276-4.371-1.072C9.867 3.224 9.083 3 8 3z\"></path><g transform=\"translate(4.07 3)\"><mask id=\"prefix__b\" fill=\"#fff\"><use xlink:href=\"#prefix__a\"></use></mask><use fill=\"none\" fill-rule=\"nonzero\" xlink:href=\"#prefix__a\"></use><g fill=\"none\" mask=\"url(#prefix__b)\"><path d=\"M0 0H64V64H0z\" transform=\"translate(-25 -27)\"></path></g></g></g></svg></div></a></div></div></div></div></div></li><li><div class=\"Rating__StyledRating-sc-1rhvpxz-1 jcIQzP\"><div class=\"Rating__RatingBody-sc-1rhvpxz-0 dGrvXb\"><div class=\"RatingHeader__StyledHeader-sc-1dlkqw1-0 uBHCj\"><div class=\"RatingHeader__ClassInfoWrapper-sc-1dlkqw1-1 jxOApy\"><div class=\"RatingHeader__StyledClass-sc-1dlkqw1-2 gxDIt\"> <!-- -->ECE2361</div><div class=\"EmotionLabel__StyledEmotionLabel-sc-1u525uj-0 gzdNFd\"><span role=\"img\" aria-label=\"Confounded\">😖</span>awful</div></div><div class=\"TimeStamp__StyledTimeStamp-sc-9q2r30-0 bXQmMr RatingHeader__RatingTimeStamp-sc-1dlkqw1-3 BlaCV\">Oct 10th, 2017</div></div><div class=\"RatingValues__StyledRatingValues-sc-6dc747-0 gFOUvY\"><div class=\"RatingValues__RatingContainer-sc-6dc747-1 DObVa\"><div class=\"CardNumRating__StyledCardNumRating-sc-17t4b9u-0 eWZmyX\"><div class=\"CardNumRating__CardNumRatingHeader-sc-17t4b9u-1 fVETNc\">Quality</div><div class=\"CardNumRating__CardNumRatingNumber-sc-17t4b9u-2 bUneqk\">1.0</div></div></div><div class=\"RatingValues__RatingContainer-sc-6dc747-1 DObVa\"><div class=\"CardNumRating__StyledCardNumRating-sc-17t4b9u-0 eWZmyX\"><div class=\"CardNumRating__CardNumRatingHeader-sc-17t4b9u-1 fVETNc\">Difficulty</div><div class=\"CardNumRating__CardNumRatingNumber-sc-17t4b9u-2 cDKJcc\">5.0</div></div></div></div><div class=\"Rating__RatingInfo-sc-1rhvpxz-3 kEVEoU\"><div class=\"RatingHeader__StyledHeader-sc-1dlkqw1-0 fUEMJm\"><div class=\"RatingHeader__ClassInfoWrapper-sc-1dlkqw1-1 jxOApy\"><div class=\"RatingHeader__StyledClass-sc-1dlkqw1-2 gxDIt\"> <!-- -->ECE2361</div><div class=\"EmotionLabel__StyledEmotionLabel-sc-1u525uj-0 gzdNFd\"><span role=\"img\" aria-label=\"Confounded\">😖</span>awful</div></div><div class=\"TimeStamp__StyledTimeStamp-sc-9q2r30-0 bXQmMr RatingHeader__RatingTimeStamp-sc-1dlkqw1-3 BlaCV\">Oct 10th, 2017</div></div><div class=\"CourseMeta__StyledCourseMeta-x344ms-0 fPJDHT\"><div class=\"MetaItem__StyledMetaItem-y0ixml-0 LXClX\">For Credit<!-- -->: <span>Yes</span></div><div class=\"MetaItem__StyledMetaItem-y0ixml-0 LXClX\">Attendance<!-- -->: <span>Not Mandatory</span></div><div class=\"MetaItem__StyledMetaItem-y0ixml-0 LXClX\">Would Take Again<!-- -->: <span>No</span></div><div class=\"MetaItem__StyledMetaItem-y0ixml-0 LXClX\">Grade<!-- -->: <span>Rather not say</span></div><div class=\"MetaItem__StyledMetaItem-y0ixml-0 LXClX\">Textbook<!-- -->: <span>No</span></div></div><div class=\"Comments__StyledComments-dzzyvm-0 gRjWel\">Avoid if you want to go for the major you like. Otherwise he just made you hate EE and change major.</div><div class=\"RatingTags__StyledTags-sc-1boeqx2-0 eLpnFv\"><span class=\"Tag-bs9vf4-0 hHOVKF\">Tough Grader</span><span class=\"Tag-bs9vf4-0 hHOVKF\">Skip class? You won&#x27;t pass.</span><span class=\"Tag-bs9vf4-0 hHOVKF\">LOTS OF HOMEWORK</span></div><div class=\"RatingFooter__StyledRatingFooter-ciwspm-0 dbULCX\"><div class=\"RatingFooter__ButtonWrapper-ciwspm-1 cwcCIQ\"><div class=\"RatingFooter__HelpTotal-ciwspm-2 kAVFzA\"><img src=\"/static/media/thumbs-up-black.eddae738.svg\" class=\"VoteThumb__StyledVoteThumb-p2gtch-0 jCbELu\" data-tooltip=\"true\" data-tip=\"Helpful\" data-for=\"GLOBAL_TOOLTIP\" alt=\"Thumbs up\"/> <!-- -->9</div><div class=\"RatingFooter__HelpTotal-ciwspm-2 kAVFzA\"><img src=\"/static/media/thumbs-down-black.bd601b36.svg\" class=\"VoteThumb__StyledVoteThumb-p2gtch-0 jCbELu\" data-tooltip=\"true\" data-tip=\"Not helpful\" data-for=\"GLOBAL_TOOLTIP\" alt=\"Thumbs down\"/> <!-- -->1</div></div><div class=\"RatingFooter__ButtonWrapper-ciwspm-1 cwcCIQ\"><a class=\"ReportFlag__StyledReportFlag-sc-1c42epr-0 hjlYuE\" data-tooltip=\"true\" data-tip=\"Report this rating\" data-for=\"GLOBAL_TOOLTIP\" data-testid=\"reportflag_test_id\" aria-disabled=\"false\" href=\"/flagProfRating?tid=941931&amp;rid=28731276\"><div class=\"ReportFlag__FlagWrapper-sc-1c42epr-1 kVglhF\"><svg xmlns=\"http://www.w3.org/2000/svg\" width=\"24\" height=\"24\" viewBox=\"0 0 24 24\"><defs><path id=\"prefix__a\" d=\"M3.93 10c1.417 0 2.383.276 4.371 1.072 1.762.704 2.546.928 3.629.928 1.189 0 2.094-.165 2.754-.428.095-.039.177-.075.246-.108v-9.86c-.82.253-1.814.396-3 .396-1.417 0-2.383-.276-4.371-1.072C5.797.224 5.013 0 3.93 0 2.741 0 1.836.165 1.176.428A4.094 4.094 0 00.93.536v9.86c.82-.253 1.814-.396 3-.396z\"></path></defs><g fill=\"none\" fill-rule=\"evenodd\"><path fill=\"#151515\" fill-rule=\"nonzero\" d=\"M3 3a1 1 0 01.293-.707c.22-.22.614-.483 1.21-.721C5.407 1.21 6.564 1 8 1c1.417 0 2.383.276 4.371 1.072C14.133 2.776 14.917 3 16 3c1.189 0 2.094-.165 2.754-.428.341-.137.508-.249.539-.28C19.923 1.663 21 2.11 21 3v12a1 1 0 01-.293.707c-.22.22-.614.483-1.21.721-.903.362-2.06.572-3.497.572-1.417 0-2.383-.276-4.371-1.072C9.867 15.224 9.083 15 8 15c-1.189 0-2.094.165-2.754.428a4.09 4.09 0 00-.247.108L5 22a1 1 0 01-2 0V3zm5 0c-1.189 0-2.094.165-2.754.428A4.094 4.094 0 005 3.536v9.86C5.82 13.143 6.814 13 8 13c1.417 0 2.383.276 4.371 1.072 1.762.704 2.546.928 3.629.928 1.189 0 2.094-.165 2.754-.428.095-.039.177-.075.246-.108v-9.86c-.82.253-1.814.396-3 .396-1.417 0-2.383-.276-4.371-1.072C9.867 3.224 9.083 3 8 3z\"></path><g transform=\"translate(4.07 3)\"><mask id=\"prefix__b\" fill=\"#fff\"><use xlink:href=\"#prefix__a\"></use></mask><use fill=\"none\" fill-rule=\"nonzero\" xlink:href=\"#prefix__a\"></use><g fill=\"none\" mask=\"url(#prefix__b)\"><path d=\"M0 0H64V64H0z\" transform=\"translate(-25 -27)\"></path></g></g></g></svg></div></a></div></div></div></div></div></li><li><div id=\"browsi-ratings-page-1\" class=\"BrowsiAd__AdWrapper-sc-1es20uu-0 fuqfRC browsi_rmp_web\"></div></li><li><div class=\"Rating__StyledRating-sc-1rhvpxz-1 jcIQzP\"><div class=\"Rating__RatingBody-sc-1rhvpxz-0 dGrvXb\"><div class=\"RatingHeader__StyledHeader-sc-1dlkqw1-0 uBHCj\"><div class=\"RatingHeader__ClassInfoWrapper-sc-1dlkqw1-1 jxOApy\"><div class=\"RatingHeader__StyledClass-sc-1dlkqw1-2 gxDIt\"> <!-- -->ECE2361</div><div class=\"EmotionLabel__StyledEmotionLabel-sc-1u525uj-0 bfMums\"><span role=\"img\" aria-label=\"Sunglasses\">😎</span>awesome</div></div><div class=\"TimeStamp__StyledTimeStamp-sc-9q2r30-0 bXQmMr RatingHeader__RatingTimeStamp-sc-1dlkqw1-3 BlaCV\">Jun 6th, 2017</div></div><div class=\"RatingValues__StyledRatingValues-sc-6dc747-0 gFOUvY\"><div class=\"RatingValues__RatingContainer-sc-6dc747-1 DObVa\"><div class=\"CardNumRating__StyledCardNumRating-sc-17t4b9u-0 eWZmyX\"><div class=\"CardNumRating__CardNumRatingHeader-sc-17t4b9u-1 fVETNc\">Quality</div><div class=\"CardNumRating__CardNumRatingNumber-sc-17t4b9u-2 gcFhmN\">4.0</div></div></div><div class=\"RatingValues__RatingContainer-sc-6dc747-1 DObVa\"><div class=\"CardNumRating__StyledCardNumRating-sc-17t4b9u-0 eWZmyX\"><div class=\"CardNumRating__CardNumRatingHeader-sc-17t4b9u-1 fVETNc\">Difficulty</div><div class=\"CardNumRating__CardNumRatingNumber-sc-17t4b9u-2 cDKJcc\">4.0</div></div></div></div><div class=\"Rating__RatingInfo-sc-1rhvpxz-3 kEVEoU\"><div class=\"RatingHeader__StyledHeader-sc-1dlkqw1-0 fUEMJm\"><div class=\"RatingHeader__ClassInfoWrapper-sc-1dlkqw1-1 jxOApy\"><div class=\"RatingHeader__StyledClass-sc-1dlkqw1-2 gxDIt\"> <!-- -->ECE2361</div><div class=\"EmotionLabel__StyledEmotionLabel-sc-1u525uj-0 bfMums\"><span role=\"img\" aria-label=\"Sunglasses\">😎</span>awesome</div></div><div class=\"TimeStamp__StyledTimeStamp-sc-9q2r30-0 bXQmMr RatingHeader__RatingTimeStamp-sc-1dlkqw1-3 BlaCV\">Jun 6th, 2017</div></div><div class=\"CourseMeta__StyledCourseMeta-x344ms-0 fPJDHT\"><div class=\"MetaItem__StyledMetaItem-y0ixml-0 LXClX\">For Credit<!-- -->: <span>Yes</span></div><div class=\"MetaItem__StyledMetaItem-y0ixml-0 LXClX\">Would Take Again<!-- -->: <span>Yes</span></div><div class=\"MetaItem__StyledMetaItem-y0ixml-0 LXClX\">Grade<!-- -->: <span>A</span></div><div class=\"MetaItem__StyledMetaItem-y0ixml-0 LXClX\">Textbook<!-- -->: <span>No</span></div></div><div class=\"Comments__StyledComments-dzzyvm-0 gRjWel\">Tough grader and lots of homework, but a good teacher. One of the best that I&#x27;ve had at the U of M and explains conceptual topics well. Cares about students and will repeat and further explain topics if needed. Kia knows his stuff and is very approachable, but is a merciless grader. Tough, but I felt like I learned a lot.</div><div class=\"RatingTags__StyledTags-sc-1boeqx2-0 eLpnFv\"><span class=\"Tag-bs9vf4-0 hHOVKF\">Tough Grader</span><span class=\"Tag-bs9vf4-0 hHOVKF\">Skip class? You won&#x27;t pass.</span><span class=\"Tag-bs9vf4-0 hHOVKF\">LOTS OF HOMEWORK</span></div><div class=\"RatingFooter__StyledRatingFooter-ciwspm-0 dbULCX\"><div class=\"RatingFooter__ButtonWrapper-ciwspm-1 cwcCIQ\"><div class=\"RatingFooter__HelpTotal-ciwspm-2 kAVFzA\"><img src=\"/static/media/thumbs-up-black.eddae738.svg\" class=\"VoteThumb__StyledVoteThumb-p2gtch-0 jCbELu\" data-tooltip=\"true\" data-tip=\"Helpful\" data-for=\"GLOBAL_TOOLTIP\" alt=\"Thumbs up\"/> <!-- -->3</div><div class=\"RatingFooter__HelpTotal-ciwspm-2 kAVFzA\"><img src=\"/static/media/thumbs-down-black.bd601b36.svg\" class=\"VoteThumb__StyledVoteThumb-p2gtch-0 jCbELu\" data-tooltip=\"true\" data-tip=\"Not helpful\" data-for=\"GLOBAL_TOOLTIP\" alt=\"Thumbs down\"/> <!-- -->5</div></div><div class=\"RatingFooter__ButtonWrapper-ciwspm-1 cwcCIQ\"><a class=\"ReportFlag__StyledReportFlag-sc-1c42epr-0 hjlYuE\" data-tooltip=\"true\" data-tip=\"Report this rating\" data-for=\"GLOBAL_TOOLTIP\" data-testid=\"reportflag_test_id\" aria-disabled=\"false\" href=\"/flagProfRating?tid=941931&amp;rid=28429341\"><div class=\"ReportFlag__FlagWrapper-sc-1c42epr-1 kVglhF\"><svg xmlns=\"http://www.w3.org/2000/svg\" width=\"24\" height=\"24\" viewBox=\"0 0 24 24\"><defs><path id=\"prefix__a\" d=\"M3.93 10c1.417 0 2.383.276 4.371 1.072 1.762.704 2.546.928 3.629.928 1.189 0 2.094-.165 2.754-.428.095-.039.177-.075.246-.108v-9.86c-.82.253-1.814.396-3 .396-1.417 0-2.383-.276-4.371-1.072C5.797.224 5.013 0 3.93 0 2.741 0 1.836.165 1.176.428A4.094 4.094 0 00.93.536v9.86c.82-.253 1.814-.396 3-.396z\"></path></defs><g fill=\"none\" fill-rule=\"evenodd\"><path fill=\"#151515\" fill-rule=\"nonzero\" d=\"M3 3a1 1 0 01.293-.707c.22-.22.614-.483 1.21-.721C5.407 1.21 6.564 1 8 1c1.417 0 2.383.276 4.371 1.072C14.133 2.776 14.917 3 16 3c1.189 0 2.094-.165 2.754-.428.341-.137.508-.249.539-.28C19.923 1.663 21 2.11 21 3v12a1 1 0 01-.293.707c-.22.22-.614.483-1.21.721-.903.362-2.06.572-3.497.572-1.417 0-2.383-.276-4.371-1.072C9.867 15.224 9.083 15 8 15c-1.189 0-2.094.165-2.754.428a4.09 4.09 0 00-.247.108L5 22a1 1 0 01-2 0V3zm5 0c-1.189 0-2.094.165-2.754.428A4.094 4.094 0 005 3.536v9.86C5.82 13.143 6.814 13 8 13c1.417 0 2.383.276 4.371 1.072 1.762.704 2.546.928 3.629.928 1.189 0 2.094-.165 2.754-.428.095-.039.177-.075.246-.108v-9.86c-.82.253-1.814.396-3 .396-1.417 0-2.383-.276-4.371-1.072C9.867 3.224 9.083 3 8 3z\"></path><g transform=\"translate(4.07 3)\"><mask id=\"prefix__b\" fill=\"#fff\"><use xlink:href=\"#prefix__a\"></use></mask><use fill=\"none\" fill-rule=\"nonzero\" xlink:href=\"#prefix__a\"></use><g fill=\"none\" mask=\"url(#prefix__b)\"><path d=\"M0 0H64V64H0z\" transform=\"translate(-25 -27)\"></path></g></g></g></svg></div></a></div></div></div></div></div></li><li><div class=\"Rating__StyledRating-sc-1rhvpxz-1 jcIQzP\"><div class=\"Rating__RatingBody-sc-1rhvpxz-0 dGrvXb\"><div class=\"RatingHeader__StyledHeader-sc-1dlkqw1-0 uBHCj\"><div class=\"RatingHeader__ClassInfoWrapper-sc-1dlkqw1-1 jxOApy\"><div class=\"RatingHeader__StyledClass-sc-1dlkqw1-2 gxDIt\"> <!-- -->ECE2361</div><div class=\"EmotionLabel__StyledEmotionLabel-sc-1u525uj-0 bfMums\"><span role=\"img\" aria-label=\"Sunglasses\">😎</span>awesome</div></div><div class=\"TimeStamp__StyledTimeStamp-sc-9q2r30-0 bXQmMr RatingHeader__RatingTimeStamp-sc-1dlkqw1-3 BlaCV\">May 28th, 2017</div></div><div class=\"RatingValues__StyledRatingValues-sc-6dc747-0 gFOUvY\"><div class=\"RatingValues__RatingContainer-sc-6dc747-1 DObVa\"><div class=\"CardNumRating__StyledCardNumRating-sc-17t4b9u-0 eWZmyX\"><div class=\"CardNumRating__CardNumRatingHeader-sc-17t4b9u-1 fVETNc\">Quality</div><div class=\"CardNumRating__CardNumRatingNumber-sc-17t4b9u-2 gcFhmN\">5.0</div></div></div><div class=\"RatingValues__RatingContainer-sc-6dc747-1 DObVa\"><div class=\"CardNumRating__StyledCardNumRating-sc-17t4b9u-0 eWZmyX\"><div class=\"CardNumRating__CardNumRatingHeader-sc-17t4b9u-1 fVETNc\">Difficulty</div><div class=\"CardNumRating__CardNumRatingNumber-sc-17t4b9u-2 cDKJcc\">4.0</div></div></div></div><div class=\"Rating__RatingInfo-sc-1rhvpxz-3 kEVEoU\"><div class=\"RatingHeader__StyledHeader-sc-1dlkqw1-0 fUEMJm\"><div class=\"RatingHeader__ClassInfoWrapper-sc-1dlkqw1-1 jxOApy\"><div class=\"RatingHeader__StyledClass-sc-1dlkqw1-2 gxDIt\"> <!-- -->ECE2361</div><div class=\"EmotionLabel__StyledEmotionLabel-sc-1u525uj-0 bfMums\"><span role=\"img\" aria-label=\"Sunglasses\">😎</span>awesome</div></div><div class=\"TimeStamp__StyledTimeStamp-sc-9q2r30-0 bXQmMr RatingHeader__RatingTimeStamp-sc-1dlkqw1-3 BlaCV\">May 28th, 2017</div></div><div class=\"CourseMeta__StyledCourseMeta-x344ms-0 fPJDHT\"><div class=\"MetaItem__StyledMetaItem-y0ixml-0 LXClX\">For Credit<!-- -->: <span>Yes</span></div><div class=\"MetaItem__StyledMetaItem-y0ixml-0 LXClX\">Attendance<!-- -->: <span>Mandatory</span></div><div class=\"MetaItem__StyledMetaItem-y0ixml-0 LXClX\">Would Take Again<!-- -->: <span>Yes</span></div><div class=\"MetaItem__StyledMetaItem-y0ixml-0 LXClX\">Textbook<!-- -->: <span>Yes</span></div></div><div class=\"Comments__StyledComments-dzzyvm-0 gRjWel\">the best professor I have had</div><div class=\"RatingTags__StyledTags-sc-1boeqx2-0 eLpnFv\"><span class=\"Tag-bs9vf4-0 hHOVKF\">Respected</span></div><div class=\"RatingFooter__StyledRatingFooter-ciwspm-0 dbULCX\"><div class=\"RatingFooter__ButtonWrapper-ciwspm-1 cwcCIQ\"><div class=\"RatingFooter__HelpTotal-ciwspm-2 kAVFzA\"><img src=\"/static/media/thumbs-up-black.eddae738.svg\" class=\"VoteThumb__StyledVoteThumb-p2gtch-0 jCbELu\" data-tooltip=\"true\" data-tip=\"Helpful\" data-for=\"GLOBAL_TOOLTIP\" alt=\"Thumbs up\"/> <!-- -->2</div><div class=\"RatingFooter__HelpTotal-ciwspm-2 kAVFzA\"><img src=\"/static/media/thumbs-down-black.bd601b36.svg\" class=\"VoteThumb__StyledVoteThumb-p2gtch-0 jCbELu\" data-tooltip=\"true\" data-tip=\"Not helpful\" data-for=\"GLOBAL_TOOLTIP\" alt=\"Thumbs down\"/> <!-- -->5</div></div><div class=\"RatingFooter__ButtonWrapper-ciwspm-1 cwcCIQ\"><a class=\"ReportFlag__StyledReportFlag-sc-1c42epr-0 hjlYuE\" data-tooltip=\"true\" data-tip=\"Report this rating\" data-for=\"GLOBAL_TOOLTIP\" data-testid=\"reportflag_test_id\" aria-disabled=\"false\" href=\"/flagProfRating?tid=941931&amp;rid=28394967\"><div class=\"ReportFlag__FlagWrapper-sc-1c42epr-1 kVglhF\"><svg xmlns=\"http://www.w3.org/2000/svg\" width=\"24\" height=\"24\" viewBox=\"0 0 24 24\"><defs><path id=\"prefix__a\" d=\"M3.93 10c1.417 0 2.383.276 4.371 1.072 1.762.704 2.546.928 3.629.928 1.189 0 2.094-.165 2.754-.428.095-.039.177-.075.246-.108v-9.86c-.82.253-1.814.396-3 .396-1.417 0-2.383-.276-4.371-1.072C5.797.224 5.013 0 3.93 0 2.741 0 1.836.165 1.176.428A4.094 4.094 0 00.93.536v9.86c.82-.253 1.814-.396 3-.396z\"></path></defs><g fill=\"none\" fill-rule=\"evenodd\"><path fill=\"#151515\" fill-rule=\"nonzero\" d=\"M3 3a1 1 0 01.293-.707c.22-.22.614-.483 1.21-.721C5.407 1.21 6.564 1 8 1c1.417 0 2.383.276 4.371 1.072C14.133 2.776 14.917 3 16 3c1.189 0 2.094-.165 2.754-.428.341-.137.508-.249.539-.28C19.923 1.663 21 2.11 21 3v12a1 1 0 01-.293.707c-.22.22-.614.483-1.21.721-.903.362-2.06.572-3.497.572-1.417 0-2.383-.276-4.371-1.072C9.867 15.224 9.083 15 8 15c-1.189 0-2.094.165-2.754.428a4.09 4.09 0 00-.247.108L5 22a1 1 0 01-2 0V3zm5 0c-1.189 0-2.094.165-2.754.428A4.094 4.094 0 005 3.536v9.86C5.82 13.143 6.814 13 8 13c1.417 0 2.383.276 4.371 1.072 1.762.704 2.546.928 3.629.928 1.189 0 2.094-.165 2.754-.428.095-.039.177-.075.246-.108v-9.86c-.82.253-1.814.396-3 .396-1.417 0-2.383-.276-4.371-1.072C9.867 3.224 9.083 3 8 3z\"></path><g transform=\"translate(4.07 3)\"><mask id=\"prefix__b\" fill=\"#fff\"><use xlink:href=\"#prefix__a\"></use></mask><use fill=\"none\" fill-rule=\"nonzero\" xlink:href=\"#prefix__a\"></use><g fill=\"none\" mask=\"url(#prefix__b)\"><path d=\"M0 0H64V64H0z\" transform=\"translate(-25 -27)\"></path></g></g></g></svg></div></a></div></div></div></div></div></li><li><div class=\"Rating__StyledRating-sc-1rhvpxz-1 jcIQzP\"><div class=\"Rating__RatingBody-sc-1rhvpxz-0 dGrvXb\"><div class=\"RatingHeader__StyledHeader-sc-1dlkqw1-0 uBHCj\"><div class=\"RatingHeader__ClassInfoWrapper-sc-1dlkqw1-1 jxOApy\"><div class=\"RatingHeader__StyledClass-sc-1dlkqw1-2 gxDIt\"> <!-- -->EE1301</div><div class=\"EmotionLabel__StyledEmotionLabel-sc-1u525uj-0 gzdNFd\"><span role=\"img\" aria-label=\"Confounded\">😖</span>awful</div></div><div class=\"TimeStamp__StyledTimeStamp-sc-9q2r30-0 bXQmMr RatingHeader__RatingTimeStamp-sc-1dlkqw1-3 BlaCV\">Apr 7th, 2017</div></div><div class=\"RatingValues__StyledRatingValues-sc-6dc747-0 gFOUvY\"><div class=\"RatingValues__RatingContainer-sc-6dc747-1 DObVa\"><div class=\"CardNumRating__StyledCardNumRating-sc-17t4b9u-0 eWZmyX\"><div class=\"CardNumRating__CardNumRatingHeader-sc-17t4b9u-1 fVETNc\">Quality</div><div class=\"CardNumRating__CardNumRatingNumber-sc-17t4b9u-2 bUneqk\">1.0</div></div></div><div class=\"RatingValues__RatingContainer-sc-6dc747-1 DObVa\"><div class=\"CardNumRating__StyledCardNumRating-sc-17t4b9u-0 eWZmyX\"><div class=\"CardNumRating__CardNumRatingHeader-sc-17t4b9u-1 fVETNc\">Difficulty</div><div class=\"CardNumRating__CardNumRatingNumber-sc-17t4b9u-2 cDKJcc\">5.0</div></div></div></div><div class=\"Rating__RatingInfo-sc-1rhvpxz-3 kEVEoU\"><div class=\"RatingHeader__StyledHeader-sc-1dlkqw1-0 fUEMJm\"><div class=\"RatingHeader__ClassInfoWrapper-sc-1dlkqw1-1 jxOApy\"><div class=\"RatingHeader__StyledClass-sc-1dlkqw1-2 gxDIt\"> <!-- -->EE1301</div><div class=\"EmotionLabel__StyledEmotionLabel-sc-1u525uj-0 gzdNFd\"><span role=\"img\" aria-label=\"Confounded\">😖</span>awful</div></div><div class=\"TimeStamp__StyledTimeStamp-sc-9q2r30-0 bXQmMr RatingHeader__RatingTimeStamp-sc-1dlkqw1-3 BlaCV\">Apr 7th, 2017</div></div><div class=\"CourseMeta__StyledCourseMeta-x344ms-0 fPJDHT\"><div class=\"MetaItem__StyledMetaItem-y0ixml-0 LXClX\">For Credit<!-- -->: <span>Yes</span></div><div class=\"MetaItem__StyledMetaItem-y0ixml-0 LXClX\">Attendance<!-- -->: <span>Not Mandatory</span></div><div class=\"MetaItem__StyledMetaItem-y0ixml-0 LXClX\">Would Take Again<!-- -->: <span>No</span></div><div class=\"MetaItem__StyledMetaItem-y0ixml-0 LXClX\">Textbook<!-- -->: <span>No</span></div></div><div class=\"Comments__StyledComments-dzzyvm-0 gRjWel\">I would choose someone else or postpone the course I&#x27;m going to take if he is already assigned to it. He&#x27;s simply not adequate professor for average students.</div><div class=\"RatingTags__StyledTags-sc-1boeqx2-0 eLpnFv\"><span class=\"Tag-bs9vf4-0 hHOVKF\">Tough Grader</span><span class=\"Tag-bs9vf4-0 hHOVKF\">Skip class? You won&#x27;t pass.</span><span class=\"Tag-bs9vf4-0 hHOVKF\">BEWARE OF POP QUIZZES</span></div><div class=\"RatingFooter__StyledRatingFooter-ciwspm-0 dbULCX\"><div class=\"RatingFooter__ButtonWrapper-ciwspm-1 cwcCIQ\"><div class=\"RatingFooter__HelpTotal-ciwspm-2 kAVFzA\"><img src=\"/static/media/thumbs-up-black.eddae738.svg\" class=\"VoteThumb__StyledVoteThumb-p2gtch-0 jCbELu\" data-tooltip=\"true\" data-tip=\"Helpful\" data-for=\"GLOBAL_TOOLTIP\" alt=\"Thumbs up\"/> <!-- -->5</div><div class=\"RatingFooter__HelpTotal-ciwspm-2 kAVFzA\"><img src=\"/static/media/thumbs-down-black.bd601b36.svg\" class=\"VoteThumb__StyledVoteThumb-p2gtch-0 jCbELu\" data-tooltip=\"true\" data-tip=\"Not helpful\" data-for=\"GLOBAL_TOOLTIP\" alt=\"Thumbs down\"/> <!-- -->0</div></div><div class=\"RatingFooter__ButtonWrapper-ciwspm-1 cwcCIQ\"><a class=\"ReportFlag__StyledReportFlag-sc-1c42epr-0 hjlYuE\" data-tooltip=\"true\" data-tip=\"Report this rating\" data-for=\"GLOBAL_TOOLTIP\" data-testid=\"reportflag_test_id\" aria-disabled=\"false\" href=\"/flagProfRating?tid=941931&amp;rid=28013644\"><div class=\"ReportFlag__FlagWrapper-sc-1c42epr-1 kVglhF\"><svg xmlns=\"http://www.w3.org/2000/svg\" width=\"24\" height=\"24\" viewBox=\"0 0 24 24\"><defs><path id=\"prefix__a\" d=\"M3.93 10c1.417 0 2.383.276 4.371 1.072 1.762.704 2.546.928 3.629.928 1.189 0 2.094-.165 2.754-.428.095-.039.177-.075.246-.108v-9.86c-.82.253-1.814.396-3 .396-1.417 0-2.383-.276-4.371-1.072C5.797.224 5.013 0 3.93 0 2.741 0 1.836.165 1.176.428A4.094 4.094 0 00.93.536v9.86c.82-.253 1.814-.396 3-.396z\"></path></defs><g fill=\"none\" fill-rule=\"evenodd\"><path fill=\"#151515\" fill-rule=\"nonzero\" d=\"M3 3a1 1 0 01.293-.707c.22-.22.614-.483 1.21-.721C5.407 1.21 6.564 1 8 1c1.417 0 2.383.276 4.371 1.072C14.133 2.776 14.917 3 16 3c1.189 0 2.094-.165 2.754-.428.341-.137.508-.249.539-.28C19.923 1.663 21 2.11 21 3v12a1 1 0 01-.293.707c-.22.22-.614.483-1.21.721-.903.362-2.06.572-3.497.572-1.417 0-2.383-.276-4.371-1.072C9.867 15.224 9.083 15 8 15c-1.189 0-2.094.165-2.754.428a4.09 4.09 0 00-.247.108L5 22a1 1 0 01-2 0V3zm5 0c-1.189 0-2.094.165-2.754.428A4.094 4.094 0 005 3.536v9.86C5.82 13.143 6.814 13 8 13c1.417 0 2.383.276 4.371 1.072 1.762.704 2.546.928 3.629.928 1.189 0 2.094-.165 2.754-.428.095-.039.177-.075.246-.108v-9.86c-.82.253-1.814.396-3 .396-1.417 0-2.383-.276-4.371-1.072C9.867 3.224 9.083 3 8 3z\"></path><g transform=\"translate(4.07 3)\"><mask id=\"prefix__b\" fill=\"#fff\"><use xlink:href=\"#prefix__a\"></use></mask><use fill=\"none\" fill-rule=\"nonzero\" xlink:href=\"#prefix__a\"></use><g fill=\"none\" mask=\"url(#prefix__b)\"><path d=\"M0 0H64V64H0z\" transform=\"translate(-25 -27)\"></path></g></g></g></svg></div></a></div></div></div></div></div></li><li><div id=\"browsi-ratings-page-2\" class=\"BrowsiAd__AdWrapper-sc-1es20uu-0 fuqfRC browsi_rmp_web\"></div></li><li><div class=\"Rating__StyledRating-sc-1rhvpxz-1 jcIQzP\"><div class=\"Rating__RatingBody-sc-1rhvpxz-0 dGrvXb\"><div class=\"RatingHeader__StyledHeader-sc-1dlkqw1-0 uBHCj\"><div class=\"RatingHeader__ClassInfoWrapper-sc-1dlkqw1-1 jxOApy\"><div class=\"RatingHeader__StyledClass-sc-1dlkqw1-2 gxDIt\"> <!-- -->EE1301</div><div class=\"EmotionLabel__StyledEmotionLabel-sc-1u525uj-0 bfMums\"><span role=\"img\" aria-label=\"Sunglasses\">😎</span>awesome</div></div><div class=\"TimeStamp__StyledTimeStamp-sc-9q2r30-0 bXQmMr RatingHeader__RatingTimeStamp-sc-1dlkqw1-3 BlaCV\">Jan 18th, 2017</div></div><div class=\"RatingValues__StyledRatingValues-sc-6dc747-0 gFOUvY\"><div class=\"RatingValues__RatingContainer-sc-6dc747-1 DObVa\"><div class=\"CardNumRating__StyledCardNumRating-sc-17t4b9u-0 eWZmyX\"><div class=\"CardNumRating__CardNumRatingHeader-sc-17t4b9u-1 fVETNc\">Quality</div><div class=\"CardNumRating__CardNumRatingNumber-sc-17t4b9u-2 gcFhmN\">4.0</div></div></div><div class=\"RatingValues__RatingContainer-sc-6dc747-1 DObVa\"><div class=\"CardNumRating__StyledCardNumRating-sc-17t4b9u-0 eWZmyX\"><div class=\"CardNumRating__CardNumRatingHeader-sc-17t4b9u-1 fVETNc\">Difficulty</div><div class=\"CardNumRating__CardNumRatingNumber-sc-17t4b9u-2 cDKJcc\">5.0</div></div></div></div><div class=\"Rating__RatingInfo-sc-1rhvpxz-3 kEVEoU\"><div class=\"RatingHeader__StyledHeader-sc-1dlkqw1-0 fUEMJm\"><div class=\"RatingHeader__ClassInfoWrapper-sc-1dlkqw1-1 jxOApy\"><div class=\"RatingHeader__StyledClass-sc-1dlkqw1-2 gxDIt\"> <!-- -->EE1301</div><div class=\"EmotionLabel__StyledEmotionLabel-sc-1u525uj-0 bfMums\"><span role=\"img\" aria-label=\"Sunglasses\">😎</span>awesome</div></div><div class=\"TimeStamp__StyledTimeStamp-sc-9q2r30-0 bXQmMr RatingHeader__RatingTimeStamp-sc-1dlkqw1-3 BlaCV\">Jan 18th, 2017</div></div><div class=\"CourseMeta__StyledCourseMeta-x344ms-0 fPJDHT\"><div class=\"MetaItem__StyledMetaItem-y0ixml-0 LXClX\">For Credit<!-- -->: <span>Yes</span></div><div class=\"MetaItem__StyledMetaItem-y0ixml-0 LXClX\">Attendance<!-- -->: <span>Mandatory</span></div><div class=\"MetaItem__StyledMetaItem-y0ixml-0 LXClX\">Would Take Again<!-- -->: <span>Yes</span></div><div class=\"MetaItem__StyledMetaItem-y0ixml-0 LXClX\">Textbook<!-- -->: <span>No</span></div></div><div class=\"Comments__StyledComments-dzzyvm-0 gRjWel\">If you have good knowledge already before taking his class, it&#x27;s easier for you to learn throughout the course and also achieve better grades than those who never experienced C++. If not but you intend to learn more around C++ programming(win32 and serial hardware, and also lots of things out of C++ for completing your final project)Kia is a choice</div><div class=\"RatingTags__StyledTags-sc-1boeqx2-0 eLpnFv\"><span class=\"Tag-bs9vf4-0 hHOVKF\">LOTS OF HOMEWORK</span><span class=\"Tag-bs9vf4-0 hHOVKF\">GROUP PROJECTS</span></div><div class=\"RatingFooter__StyledRatingFooter-ciwspm-0 dbULCX\"><div class=\"RatingFooter__ButtonWrapper-ciwspm-1 cwcCIQ\"><div class=\"RatingFooter__HelpTotal-ciwspm-2 kAVFzA\"><img src=\"/static/media/thumbs-up-black.eddae738.svg\" class=\"VoteThumb__StyledVoteThumb-p2gtch-0 jCbELu\" data-tooltip=\"true\" data-tip=\"Helpful\" data-for=\"GLOBAL_TOOLTIP\" alt=\"Thumbs up\"/> <!-- -->9</div><div class=\"RatingFooter__HelpTotal-ciwspm-2 kAVFzA\"><img src=\"/static/media/thumbs-down-black.bd601b36.svg\" class=\"VoteThumb__StyledVoteThumb-p2gtch-0 jCbELu\" data-tooltip=\"true\" data-tip=\"Not helpful\" data-for=\"GLOBAL_TOOLTIP\" alt=\"Thumbs down\"/> <!-- -->3</div></div><div class=\"RatingFooter__ButtonWrapper-ciwspm-1 cwcCIQ\"><a class=\"ReportFlag__StyledReportFlag-sc-1c42epr-0 hjlYuE\" data-tooltip=\"true\" data-tip=\"Report this rating\" data-for=\"GLOBAL_TOOLTIP\" data-testid=\"reportflag_test_id\" aria-disabled=\"false\" href=\"/flagProfRating?tid=941931&amp;rid=27748268\"><div class=\"ReportFlag__FlagWrapper-sc-1c42epr-1 kVglhF\"><svg xmlns=\"http://www.w3.org/2000/svg\" width=\"24\" height=\"24\" viewBox=\"0 0 24 24\"><defs><path id=\"prefix__a\" d=\"M3.93 10c1.417 0 2.383.276 4.371 1.072 1.762.704 2.546.928 3.629.928 1.189 0 2.094-.165 2.754-.428.095-.039.177-.075.246-.108v-9.86c-.82.253-1.814.396-3 .396-1.417 0-2.383-.276-4.371-1.072C5.797.224 5.013 0 3.93 0 2.741 0 1.836.165 1.176.428A4.094 4.094 0 00.93.536v9.86c.82-.253 1.814-.396 3-.396z\"></path></defs><g fill=\"none\" fill-rule=\"evenodd\"><path fill=\"#151515\" fill-rule=\"nonzero\" d=\"M3 3a1 1 0 01.293-.707c.22-.22.614-.483 1.21-.721C5.407 1.21 6.564 1 8 1c1.417 0 2.383.276 4.371 1.072C14.133 2.776 14.917 3 16 3c1.189 0 2.094-.165 2.754-.428.341-.137.508-.249.539-.28C19.923 1.663 21 2.11 21 3v12a1 1 0 01-.293.707c-.22.22-.614.483-1.21.721-.903.362-2.06.572-3.497.572-1.417 0-2.383-.276-4.371-1.072C9.867 15.224 9.083 15 8 15c-1.189 0-2.094.165-2.754.428a4.09 4.09 0 00-.247.108L5 22a1 1 0 01-2 0V3zm5 0c-1.189 0-2.094.165-2.754.428A4.094 4.094 0 005 3.536v9.86C5.82 13.143 6.814 13 8 13c1.417 0 2.383.276 4.371 1.072 1.762.704 2.546.928 3.629.928 1.189 0 2.094-.165 2.754-.428.095-.039.177-.075.246-.108v-9.86c-.82.253-1.814.396-3 .396-1.417 0-2.383-.276-4.371-1.072C9.867 3.224 9.083 3 8 3z\"></path><g transform=\"translate(4.07 3)\"><mask id=\"prefix__b\" fill=\"#fff\"><use xlink:href=\"#prefix__a\"></use></mask><use fill=\"none\" fill-rule=\"nonzero\" xlink:href=\"#prefix__a\"></use><g fill=\"none\" mask=\"url(#prefix__b)\"><path d=\"M0 0H64V64H0z\" transform=\"translate(-25 -27)\"></path></g></g></g></svg></div></a></div></div></div></div></div></li><li><div class=\"Rating__StyledRating-sc-1rhvpxz-1 jcIQzP\"><div class=\"Rating__RatingBody-sc-1rhvpxz-0 dGrvXb\"><div class=\"RatingHeader__StyledHeader-sc-1dlkqw1-0 uBHCj\"><div class=\"RatingHeader__ClassInfoWrapper-sc-1dlkqw1-1 jxOApy\"><div class=\"RatingHeader__StyledClass-sc-1dlkqw1-2 gxDIt\"> <!-- -->EE1301</div><div class=\"EmotionLabel__StyledEmotionLabel-sc-1u525uj-0 bfMums\"><span role=\"img\" aria-label=\"Sunglasses\">😎</span>awesome</div></div><div class=\"TimeStamp__StyledTimeStamp-sc-9q2r30-0 bXQmMr RatingHeader__RatingTimeStamp-sc-1dlkqw1-3 BlaCV\">Jan 17th, 2017</div></div><div class=\"RatingValues__StyledRatingValues-sc-6dc747-0 gFOUvY\"><div class=\"RatingValues__RatingContainer-sc-6dc747-1 DObVa\"><div class=\"CardNumRating__StyledCardNumRating-sc-17t4b9u-0 eWZmyX\"><div class=\"CardNumRating__CardNumRatingHeader-sc-17t4b9u-1 fVETNc\">Quality</div><div class=\"CardNumRating__CardNumRatingNumber-sc-17t4b9u-2 gcFhmN\">4.0</div></div></div><div class=\"RatingValues__RatingContainer-sc-6dc747-1 DObVa\"><div class=\"CardNumRating__StyledCardNumRating-sc-17t4b9u-0 eWZmyX\"><div class=\"CardNumRating__CardNumRatingHeader-sc-17t4b9u-1 fVETNc\">Difficulty</div><div class=\"CardNumRating__CardNumRatingNumber-sc-17t4b9u-2 cDKJcc\">3.0</div></div></div></div><div class=\"Rating__RatingInfo-sc-1rhvpxz-3 kEVEoU\"><div class=\"RatingHeader__StyledHeader-sc-1dlkqw1-0 fUEMJm\"><div class=\"RatingHeader__ClassInfoWrapper-sc-1dlkqw1-1 jxOApy\"><div class=\"RatingHeader__StyledClass-sc-1dlkqw1-2 gxDIt\"> <!-- -->EE1301</div><div class=\"EmotionLabel__StyledEmotionLabel-sc-1u525uj-0 bfMums\"><span role=\"img\" aria-label=\"Sunglasses\">😎</span>awesome</div></div><div class=\"TimeStamp__StyledTimeStamp-sc-9q2r30-0 bXQmMr RatingHeader__RatingTimeStamp-sc-1dlkqw1-3 BlaCV\">Jan 17th, 2017</div></div><div class=\"CourseMeta__StyledCourseMeta-x344ms-0 fPJDHT\"><div class=\"MetaItem__StyledMetaItem-y0ixml-0 LXClX\">For Credit<!-- -->: <span>Yes</span></div><div class=\"MetaItem__StyledMetaItem-y0ixml-0 LXClX\">Attendance<!-- -->: <span>Not Mandatory</span></div><div class=\"MetaItem__StyledMetaItem-y0ixml-0 LXClX\">Would Take Again<!-- -->: <span>Yes</span></div><div class=\"MetaItem__StyledMetaItem-y0ixml-0 LXClX\">Grade<!-- -->: <span>A</span></div><div class=\"MetaItem__StyledMetaItem-y0ixml-0 LXClX\">Textbook<!-- -->: <span>No</span></div></div><div class=\"Comments__StyledComments-dzzyvm-0 gRjWel\">No text required for the class--meaning that the lectures are crucial to attend. His tests and assignments are challenging, yet doable if you can piece together what you&#x27;ve already learned. The problems aren&#x27;t necessarily straightforward, but he always gave the pieces needed to put together a working solution. Tougher grader, but fair.</div><div class=\"RatingTags__StyledTags-sc-1boeqx2-0 eLpnFv\"><span class=\"Tag-bs9vf4-0 hHOVKF\">Tough Grader</span><span class=\"Tag-bs9vf4-0 hHOVKF\">Skip class? You won&#x27;t pass.</span><span class=\"Tag-bs9vf4-0 hHOVKF\">Caring</span></div><div class=\"RatingFooter__StyledRatingFooter-ciwspm-0 dbULCX\"><div class=\"RatingFooter__ButtonWrapper-ciwspm-1 cwcCIQ\"><div class=\"RatingFooter__HelpTotal-ciwspm-2 kAVFzA\"><img src=\"/static/media/thumbs-up-black.eddae738.svg\" class=\"VoteThumb__StyledVoteThumb-p2gtch-0 jCbELu\" data-tooltip=\"true\" data-tip=\"Helpful\" data-for=\"GLOBAL_TOOLTIP\" alt=\"Thumbs up\"/> <!-- -->0</div><div class=\"RatingFooter__HelpTotal-ciwspm-2 kAVFzA\"><img src=\"/static/media/thumbs-down-black.bd601b36.svg\" class=\"VoteThumb__StyledVoteThumb-p2gtch-0 jCbELu\" data-tooltip=\"true\" data-tip=\"Not helpful\" data-for=\"GLOBAL_TOOLTIP\" alt=\"Thumbs down\"/> <!-- -->3</div></div><div class=\"RatingFooter__ButtonWrapper-ciwspm-1 cwcCIQ\"><a class=\"ReportFlag__StyledReportFlag-sc-1c42epr-0 hjlYuE\" data-tooltip=\"true\" data-tip=\"Report this rating\" data-for=\"GLOBAL_TOOLTIP\" data-testid=\"reportflag_test_id\" aria-disabled=\"false\" href=\"/flagProfRating?tid=941931&amp;rid=27740431\"><div class=\"ReportFlag__FlagWrapper-sc-1c42epr-1 kVglhF\"><svg xmlns=\"http://www.w3.org/2000/svg\" width=\"24\" height=\"24\" viewBox=\"0 0 24 24\"><defs><path id=\"prefix__a\" d=\"M3.93 10c1.417 0 2.383.276 4.371 1.072 1.762.704 2.546.928 3.629.928 1.189 0 2.094-.165 2.754-.428.095-.039.177-.075.246-.108v-9.86c-.82.253-1.814.396-3 .396-1.417 0-2.383-.276-4.371-1.072C5.797.224 5.013 0 3.93 0 2.741 0 1.836.165 1.176.428A4.094 4.094 0 00.93.536v9.86c.82-.253 1.814-.396 3-.396z\"></path></defs><g fill=\"none\" fill-rule=\"evenodd\"><path fill=\"#151515\" fill-rule=\"nonzero\" d=\"M3 3a1 1 0 01.293-.707c.22-.22.614-.483 1.21-.721C5.407 1.21 6.564 1 8 1c1.417 0 2.383.276 4.371 1.072C14.133 2.776 14.917 3 16 3c1.189 0 2.094-.165 2.754-.428.341-.137.508-.249.539-.28C19.923 1.663 21 2.11 21 3v12a1 1 0 01-.293.707c-.22.22-.614.483-1.21.721-.903.362-2.06.572-3.497.572-1.417 0-2.383-.276-4.371-1.072C9.867 15.224 9.083 15 8 15c-1.189 0-2.094.165-2.754.428a4.09 4.09 0 00-.247.108L5 22a1 1 0 01-2 0V3zm5 0c-1.189 0-2.094.165-2.754.428A4.094 4.094 0 005 3.536v9.86C5.82 13.143 6.814 13 8 13c1.417 0 2.383.276 4.371 1.072 1.762.704 2.546.928 3.629.928 1.189 0 2.094-.165 2.754-.428.095-.039.177-.075.246-.108v-9.86c-.82.253-1.814.396-3 .396-1.417 0-2.383-.276-4.371-1.072C9.867 3.224 9.083 3 8 3z\"></path><g transform=\"translate(4.07 3)\"><mask id=\"prefix__b\" fill=\"#fff\"><use xlink:href=\"#prefix__a\"></use></mask><use fill=\"none\" fill-rule=\"nonzero\" xlink:href=\"#prefix__a\"></use><g fill=\"none\" mask=\"url(#prefix__b)\"><path d=\"M0 0H64V64H0z\" transform=\"translate(-25 -27)\"></path></g></g></g></svg></div></a></div></div></div></div></div></li><li><div class=\"Rating__StyledRating-sc-1rhvpxz-1 jcIQzP\"><div class=\"Rating__RatingBody-sc-1rhvpxz-0 dGrvXb\"><div class=\"RatingHeader__StyledHeader-sc-1dlkqw1-0 uBHCj\"><div class=\"RatingHeader__ClassInfoWrapper-sc-1dlkqw1-1 jxOApy\"><div class=\"RatingHeader__StyledClass-sc-1dlkqw1-2 gxDIt\"> <!-- -->ECE2361</div><div class=\"EmotionLabel__StyledEmotionLabel-sc-1u525uj-0 bfMums\"><span role=\"img\" aria-label=\"Sunglasses\">😎</span>awesome</div></div><div class=\"TimeStamp__StyledTimeStamp-sc-9q2r30-0 bXQmMr RatingHeader__RatingTimeStamp-sc-1dlkqw1-3 BlaCV\">Dec 16th, 2016</div></div><div class=\"RatingValues__StyledRatingValues-sc-6dc747-0 gFOUvY\"><div class=\"RatingValues__RatingContainer-sc-6dc747-1 DObVa\"><div class=\"CardNumRating__StyledCardNumRating-sc-17t4b9u-0 eWZmyX\"><div class=\"CardNumRating__CardNumRatingHeader-sc-17t4b9u-1 fVETNc\">Quality</div><div class=\"CardNumRating__CardNumRatingNumber-sc-17t4b9u-2 gcFhmN\">5.0</div></div></div><div class=\"RatingValues__RatingContainer-sc-6dc747-1 DObVa\"><div class=\"CardNumRating__StyledCardNumRating-sc-17t4b9u-0 eWZmyX\"><div class=\"CardNumRating__CardNumRatingHeader-sc-17t4b9u-1 fVETNc\">Difficulty</div><div class=\"CardNumRating__CardNumRatingNumber-sc-17t4b9u-2 cDKJcc\">5.0</div></div></div></div><div class=\"Rating__RatingInfo-sc-1rhvpxz-3 kEVEoU\"><div class=\"RatingHeader__StyledHeader-sc-1dlkqw1-0 fUEMJm\"><div class=\"RatingHeader__ClassInfoWrapper-sc-1dlkqw1-1 jxOApy\"><div class=\"RatingHeader__StyledClass-sc-1dlkqw1-2 gxDIt\"> <!-- -->ECE2361</div><div class=\"EmotionLabel__StyledEmotionLabel-sc-1u525uj-0 bfMums\"><span role=\"img\" aria-label=\"Sunglasses\">😎</span>awesome</div></div><div class=\"TimeStamp__StyledTimeStamp-sc-9q2r30-0 bXQmMr RatingHeader__RatingTimeStamp-sc-1dlkqw1-3 BlaCV\">Dec 16th, 2016</div></div><div class=\"CourseMeta__StyledCourseMeta-x344ms-0 fPJDHT\"><div class=\"MetaItem__StyledMetaItem-y0ixml-0 LXClX\">For Credit<!-- -->: <span>Yes</span></div><div class=\"MetaItem__StyledMetaItem-y0ixml-0 LXClX\">Attendance<!-- -->: <span>Mandatory</span></div><div class=\"MetaItem__StyledMetaItem-y0ixml-0 LXClX\">Would Take Again<!-- -->: <span>Yes</span></div><div class=\"MetaItem__StyledMetaItem-y0ixml-0 LXClX\">Textbook<!-- -->: <span>Yes</span></div></div><div class=\"Comments__StyledComments-dzzyvm-0 gRjWel\">awsome</div><div class=\"RatingTags__StyledTags-sc-1boeqx2-0 eLpnFv\"><span class=\"Tag-bs9vf4-0 hHOVKF\">GRADED BY FEW THINGS</span><span class=\"Tag-bs9vf4-0 hHOVKF\">GROUP PROJECTS</span><span class=\"Tag-bs9vf4-0 hHOVKF\">LECTURE HEAVY</span></div><div class=\"RatingFooter__StyledRatingFooter-ciwspm-0 dbULCX\"><div class=\"RatingFooter__ButtonWrapper-ciwspm-1 cwcCIQ\"><div class=\"RatingFooter__HelpTotal-ciwspm-2 kAVFzA\"><img src=\"/static/media/thumbs-up-black.eddae738.svg\" class=\"VoteThumb__StyledVoteThumb-p2gtch-0 jCbELu\" data-tooltip=\"true\" data-tip=\"Helpful\" data-for=\"GLOBAL_TOOLTIP\" alt=\"Thumbs up\"/> <!-- -->1</div><div class=\"RatingFooter__HelpTotal-ciwspm-2 kAVFzA\"><img src=\"/static/media/thumbs-down-black.bd601b36.svg\" class=\"VoteThumb__StyledVoteThumb-p2gtch-0 jCbELu\" data-tooltip=\"true\" data-tip=\"Not helpful\" data-for=\"GLOBAL_TOOLTIP\" alt=\"Thumbs down\"/> <!-- -->6</div></div><div class=\"RatingFooter__ButtonWrapper-ciwspm-1 cwcCIQ\"><a class=\"ReportFlag__StyledReportFlag-sc-1c42epr-0 hjlYuE\" data-tooltip=\"true\" data-tip=\"Report this rating\" data-for=\"GLOBAL_TOOLTIP\" data-testid=\"reportflag_test_id\" aria-disabled=\"false\" href=\"/flagProfRating?tid=941931&amp;rid=27526704\"><div class=\"ReportFlag__FlagWrapper-sc-1c42epr-1 kVglhF\"><svg xmlns=\"http://www.w3.org/2000/svg\" width=\"24\" height=\"24\" viewBox=\"0 0 24 24\"><defs><path id=\"prefix__a\" d=\"M3.93 10c1.417 0 2.383.276 4.371 1.072 1.762.704 2.546.928 3.629.928 1.189 0 2.094-.165 2.754-.428.095-.039.177-.075.246-.108v-9.86c-.82.253-1.814.396-3 .396-1.417 0-2.383-.276-4.371-1.072C5.797.224 5.013 0 3.93 0 2.741 0 1.836.165 1.176.428A4.094 4.094 0 00.93.536v9.86c.82-.253 1.814-.396 3-.396z\"></path></defs><g fill=\"none\" fill-rule=\"evenodd\"><path fill=\"#151515\" fill-rule=\"nonzero\" d=\"M3 3a1 1 0 01.293-.707c.22-.22.614-.483 1.21-.721C5.407 1.21 6.564 1 8 1c1.417 0 2.383.276 4.371 1.072C14.133 2.776 14.917 3 16 3c1.189 0 2.094-.165 2.754-.428.341-.137.508-.249.539-.28C19.923 1.663 21 2.11 21 3v12a1 1 0 01-.293.707c-.22.22-.614.483-1.21.721-.903.362-2.06.572-3.497.572-1.417 0-2.383-.276-4.371-1.072C9.867 15.224 9.083 15 8 15c-1.189 0-2.094.165-2.754.428a4.09 4.09 0 00-.247.108L5 22a1 1 0 01-2 0V3zm5 0c-1.189 0-2.094.165-2.754.428A4.094 4.094 0 005 3.536v9.86C5.82 13.143 6.814 13 8 13c1.417 0 2.383.276 4.371 1.072 1.762.704 2.546.928 3.629.928 1.189 0 2.094-.165 2.754-.428.095-.039.177-.075.246-.108v-9.86c-.82.253-1.814.396-3 .396-1.417 0-2.383-.276-4.371-1.072C9.867 3.224 9.083 3 8 3z\"></path><g transform=\"translate(4.07 3)\"><mask id=\"prefix__b\" fill=\"#fff\"><use xlink:href=\"#prefix__a\"></use></mask><use fill=\"none\" fill-rule=\"nonzero\" xlink:href=\"#prefix__a\"></use><g fill=\"none\" mask=\"url(#prefix__b)\"><path d=\"M0 0H64V64H0z\" transform=\"translate(-25 -27)\"></path></g></g></g></svg></div></a></div></div></div></div></div></li><li><div id=\"browsi-ratings-page-3\" class=\"BrowsiAd__AdWrapper-sc-1es20uu-0 fuqfRC browsi_rmp_web\"></div></li><li><div class=\"Rating__StyledRating-sc-1rhvpxz-1 jcIQzP\"><div class=\"Rating__RatingBody-sc-1rhvpxz-0 dGrvXb\"><div class=\"RatingHeader__StyledHeader-sc-1dlkqw1-0 uBHCj\"><div class=\"RatingHeader__ClassInfoWrapper-sc-1dlkqw1-1 jxOApy\"><div class=\"RatingHeader__StyledClass-sc-1dlkqw1-2 gxDIt\"> <!-- -->EE2361</div><div class=\"EmotionLabel__StyledEmotionLabel-sc-1u525uj-0 bfMums\"><span role=\"img\" aria-label=\"Sunglasses\">😎</span>awesome</div></div><div class=\"TimeStamp__StyledTimeStamp-sc-9q2r30-0 bXQmMr RatingHeader__RatingTimeStamp-sc-1dlkqw1-3 BlaCV\">Dec 9th, 2016</div></div><div class=\"RatingValues__StyledRatingValues-sc-6dc747-0 gFOUvY\"><div class=\"RatingValues__RatingContainer-sc-6dc747-1 DObVa\"><div class=\"CardNumRating__StyledCardNumRating-sc-17t4b9u-0 eWZmyX\"><div class=\"CardNumRating__CardNumRatingHeader-sc-17t4b9u-1 fVETNc\">Quality</div><div class=\"CardNumRating__CardNumRatingNumber-sc-17t4b9u-2 gcFhmN\">5.0</div></div></div><div class=\"RatingValues__RatingContainer-sc-6dc747-1 DObVa\"><div class=\"CardNumRating__StyledCardNumRating-sc-17t4b9u-0 eWZmyX\"><div class=\"CardNumRating__CardNumRatingHeader-sc-17t4b9u-1 fVETNc\">Difficulty</div><div class=\"CardNumRating__CardNumRatingNumber-sc-17t4b9u-2 cDKJcc\">3.0</div></div></div></div><div class=\"Rating__RatingInfo-sc-1rhvpxz-3 kEVEoU\"><div class=\"RatingHeader__StyledHeader-sc-1dlkqw1-0 fUEMJm\"><div class=\"RatingHeader__ClassInfoWrapper-sc-1dlkqw1-1 jxOApy\"><div class=\"RatingHeader__StyledClass-sc-1dlkqw1-2 gxDIt\"> <!-- -->EE2361</div><div class=\"EmotionLabel__StyledEmotionLabel-sc-1u525uj-0 bfMums\"><span role=\"img\" aria-label=\"Sunglasses\">😎</span>awesome</div></div><div class=\"TimeStamp__StyledTimeStamp-sc-9q2r30-0 bXQmMr RatingHeader__RatingTimeStamp-sc-1dlkqw1-3 BlaCV\">Dec 9th, 2016</div></div><div class=\"CourseMeta__StyledCourseMeta-x344ms-0 fPJDHT\"><div class=\"MetaItem__StyledMetaItem-y0ixml-0 LXClX\">For Credit<!-- -->: <span>Yes</span></div><div class=\"MetaItem__StyledMetaItem-y0ixml-0 LXClX\">Attendance<!-- -->: <span>Not Mandatory</span></div><div class=\"MetaItem__StyledMetaItem-y0ixml-0 LXClX\">Would Take Again<!-- -->: <span>Yes</span></div><div class=\"MetaItem__StyledMetaItem-y0ixml-0 LXClX\">Grade<!-- -->: <span>A</span></div><div class=\"MetaItem__StyledMetaItem-y0ixml-0 LXClX\">Textbook<!-- -->: <span>No</span></div></div><div class=\"Comments__StyledComments-dzzyvm-0 gRjWel\">Best professor I&#x27;ve had.</div><div class=\"RatingTags__StyledTags-sc-1boeqx2-0 eLpnFv\"><span class=\"Tag-bs9vf4-0 hHOVKF\">Skip class? You won&#x27;t pass.</span><span class=\"Tag-bs9vf4-0 hHOVKF\">Caring</span></div><div class=\"RatingFooter__StyledRatingFooter-ciwspm-0 dbULCX\"><div class=\"RatingFooter__ButtonWrapper-ciwspm-1 cwcCIQ\"><div class=\"RatingFooter__HelpTotal-ciwspm-2 kAVFzA\"><img src=\"/static/media/thumbs-up-black.eddae738.svg\" class=\"VoteThumb__StyledVoteThumb-p2gtch-0 jCbELu\" data-tooltip=\"true\" data-tip=\"Helpful\" data-for=\"GLOBAL_TOOLTIP\" alt=\"Thumbs up\"/> <!-- -->3</div><div class=\"RatingFooter__HelpTotal-ciwspm-2 kAVFzA\"><img src=\"/static/media/thumbs-down-black.bd601b36.svg\" class=\"VoteThumb__StyledVoteThumb-p2gtch-0 jCbELu\" data-tooltip=\"true\" data-tip=\"Not helpful\" data-for=\"GLOBAL_TOOLTIP\" alt=\"Thumbs down\"/> <!-- -->6</div></div><div class=\"RatingFooter__ButtonWrapper-ciwspm-1 cwcCIQ\"><a class=\"ReportFlag__StyledReportFlag-sc-1c42epr-0 hjlYuE\" data-tooltip=\"true\" data-tip=\"Report this rating\" data-for=\"GLOBAL_TOOLTIP\" data-testid=\"reportflag_test_id\" aria-disabled=\"false\" href=\"/flagProfRating?tid=941931&amp;rid=27415826\"><div class=\"ReportFlag__FlagWrapper-sc-1c42epr-1 kVglhF\"><svg xmlns=\"http://www.w3.org/2000/svg\" width=\"24\" height=\"24\" viewBox=\"0 0 24 24\"><defs><path id=\"prefix__a\" d=\"M3.93 10c1.417 0 2.383.276 4.371 1.072 1.762.704 2.546.928 3.629.928 1.189 0 2.094-.165 2.754-.428.095-.039.177-.075.246-.108v-9.86c-.82.253-1.814.396-3 .396-1.417 0-2.383-.276-4.371-1.072C5.797.224 5.013 0 3.93 0 2.741 0 1.836.165 1.176.428A4.094 4.094 0 00.93.536v9.86c.82-.253 1.814-.396 3-.396z\"></path></defs><g fill=\"none\" fill-rule=\"evenodd\"><path fill=\"#151515\" fill-rule=\"nonzero\" d=\"M3 3a1 1 0 01.293-.707c.22-.22.614-.483 1.21-.721C5.407 1.21 6.564 1 8 1c1.417 0 2.383.276 4.371 1.072C14.133 2.776 14.917 3 16 3c1.189 0 2.094-.165 2.754-.428.341-.137.508-.249.539-.28C19.923 1.663 21 2.11 21 3v12a1 1 0 01-.293.707c-.22.22-.614.483-1.21.721-.903.362-2.06.572-3.497.572-1.417 0-2.383-.276-4.371-1.072C9.867 15.224 9.083 15 8 15c-1.189 0-2.094.165-2.754.428a4.09 4.09 0 00-.247.108L5 22a1 1 0 01-2 0V3zm5 0c-1.189 0-2.094.165-2.754.428A4.094 4.094 0 005 3.536v9.86C5.82 13.143 6.814 13 8 13c1.417 0 2.383.276 4.371 1.072 1.762.704 2.546.928 3.629.928 1.189 0 2.094-.165 2.754-.428.095-.039.177-.075.246-.108v-9.86c-.82.253-1.814.396-3 .396-1.417 0-2.383-.276-4.371-1.072C9.867 3.224 9.083 3 8 3z\"></path><g transform=\"translate(4.07 3)\"><mask id=\"prefix__b\" fill=\"#fff\"><use xlink:href=\"#prefix__a\"></use></mask><use fill=\"none\" fill-rule=\"nonzero\" xlink:href=\"#prefix__a\"></use><g fill=\"none\" mask=\"url(#prefix__b)\"><path d=\"M0 0H64V64H0z\" transform=\"translate(-25 -27)\"></path></g></g></g></svg></div></a></div></div></div></div></div></li><li><div class=\"Rating__StyledRating-sc-1rhvpxz-1 jcIQzP\"><div class=\"Rating__RatingBody-sc-1rhvpxz-0 dGrvXb\"><div class=\"RatingHeader__StyledHeader-sc-1dlkqw1-0 uBHCj\"><div class=\"RatingHeader__ClassInfoWrapper-sc-1dlkqw1-1 jxOApy\"><div class=\"RatingHeader__StyledClass-sc-1dlkqw1-2 gxDIt\"> <!-- -->EE2361</div><div class=\"EmotionLabel__StyledEmotionLabel-sc-1u525uj-0 bfMums\"><span role=\"img\" aria-label=\"Sunglasses\">😎</span>awesome</div></div><div class=\"TimeStamp__StyledTimeStamp-sc-9q2r30-0 bXQmMr RatingHeader__RatingTimeStamp-sc-1dlkqw1-3 BlaCV\">Nov 1st, 2016</div></div><div class=\"RatingValues__StyledRatingValues-sc-6dc747-0 gFOUvY\"><div class=\"RatingValues__RatingContainer-sc-6dc747-1 DObVa\"><div class=\"CardNumRating__StyledCardNumRating-sc-17t4b9u-0 eWZmyX\"><div class=\"CardNumRating__CardNumRatingHeader-sc-17t4b9u-1 fVETNc\">Quality</div><div class=\"CardNumRating__CardNumRatingNumber-sc-17t4b9u-2 gcFhmN\">4.0</div></div></div><div class=\"RatingValues__RatingContainer-sc-6dc747-1 DObVa\"><div class=\"CardNumRating__StyledCardNumRating-sc-17t4b9u-0 eWZmyX\"><div class=\"CardNumRating__CardNumRatingHeader-sc-17t4b9u-1 fVETNc\">Difficulty</div><div class=\"CardNumRating__CardNumRatingNumber-sc-17t4b9u-2 cDKJcc\">4.0</div></div></div></div><div class=\"Rating__RatingInfo-sc-1rhvpxz-3 kEVEoU\"><div class=\"RatingHeader__StyledHeader-sc-1dlkqw1-0 fUEMJm\"><div class=\"RatingHeader__ClassInfoWrapper-sc-1dlkqw1-1 jxOApy\"><div class=\"RatingHeader__StyledClass-sc-1dlkqw1-2 gxDIt\"> <!-- -->EE2361</div><div class=\"EmotionLabel__StyledEmotionLabel-sc-1u525uj-0 bfMums\"><span role=\"img\" aria-label=\"Sunglasses\">😎</span>awesome</div></div><div class=\"TimeStamp__StyledTimeStamp-sc-9q2r30-0 bXQmMr RatingHeader__RatingTimeStamp-sc-1dlkqw1-3 BlaCV\">Nov 1st, 2016</div></div><div class=\"CourseMeta__StyledCourseMeta-x344ms-0 fPJDHT\"><div class=\"MetaItem__StyledMetaItem-y0ixml-0 LXClX\">For Credit<!-- -->: <span>Yes</span></div><div class=\"MetaItem__StyledMetaItem-y0ixml-0 LXClX\">Attendance<!-- -->: <span>Mandatory</span></div><div class=\"MetaItem__StyledMetaItem-y0ixml-0 LXClX\">Would Take Again<!-- -->: <span>Yes</span></div><div class=\"MetaItem__StyledMetaItem-y0ixml-0 LXClX\">Grade<!-- -->: <span>A</span></div><div class=\"MetaItem__StyledMetaItem-y0ixml-0 LXClX\">Textbook<!-- -->: <span>No</span></div></div><div class=\"Comments__StyledComments-dzzyvm-0 gRjWel\">Kia is very knowledgeable on microcontrollers. Lectures could be difficult to follow at times, laptop is very helpful. Exams were open book with all his lecture notes and your past homeworks, but pretty long and challenging timewise.</div><div class=\"RatingFooter__StyledRatingFooter-ciwspm-0 dbULCX\"><div class=\"RatingFooter__ButtonWrapper-ciwspm-1 cwcCIQ\"><div class=\"RatingFooter__HelpTotal-ciwspm-2 kAVFzA\"><img src=\"/static/media/thumbs-up-black.eddae738.svg\" class=\"VoteThumb__StyledVoteThumb-p2gtch-0 jCbELu\" data-tooltip=\"true\" data-tip=\"Helpful\" data-for=\"GLOBAL_TOOLTIP\" alt=\"Thumbs up\"/> <!-- -->2</div><div class=\"RatingFooter__HelpTotal-ciwspm-2 kAVFzA\"><img src=\"/static/media/thumbs-down-black.bd601b36.svg\" class=\"VoteThumb__StyledVoteThumb-p2gtch-0 jCbELu\" data-tooltip=\"true\" data-tip=\"Not helpful\" data-for=\"GLOBAL_TOOLTIP\" alt=\"Thumbs down\"/> <!-- -->7</div></div><div class=\"RatingFooter__ButtonWrapper-ciwspm-1 cwcCIQ\"><a class=\"ReportFlag__StyledReportFlag-sc-1c42epr-0 hjlYuE\" data-tooltip=\"true\" data-tip=\"Report this rating\" data-for=\"GLOBAL_TOOLTIP\" data-testid=\"reportflag_test_id\" aria-disabled=\"false\" href=\"/flagProfRating?tid=941931&amp;rid=27108597\"><div class=\"ReportFlag__FlagWrapper-sc-1c42epr-1 kVglhF\"><svg xmlns=\"http://www.w3.org/2000/svg\" width=\"24\" height=\"24\" viewBox=\"0 0 24 24\"><defs><path id=\"prefix__a\" d=\"M3.93 10c1.417 0 2.383.276 4.371 1.072 1.762.704 2.546.928 3.629.928 1.189 0 2.094-.165 2.754-.428.095-.039.177-.075.246-.108v-9.86c-.82.253-1.814.396-3 .396-1.417 0-2.383-.276-4.371-1.072C5.797.224 5.013 0 3.93 0 2.741 0 1.836.165 1.176.428A4.094 4.094 0 00.93.536v9.86c.82-.253 1.814-.396 3-.396z\"></path></defs><g fill=\"none\" fill-rule=\"evenodd\"><path fill=\"#151515\" fill-rule=\"nonzero\" d=\"M3 3a1 1 0 01.293-.707c.22-.22.614-.483 1.21-.721C5.407 1.21 6.564 1 8 1c1.417 0 2.383.276 4.371 1.072C14.133 2.776 14.917 3 16 3c1.189 0 2.094-.165 2.754-.428.341-.137.508-.249.539-.28C19.923 1.663 21 2.11 21 3v12a1 1 0 01-.293.707c-.22.22-.614.483-1.21.721-.903.362-2.06.572-3.497.572-1.417 0-2.383-.276-4.371-1.072C9.867 15.224 9.083 15 8 15c-1.189 0-2.094.165-2.754.428a4.09 4.09 0 00-.247.108L5 22a1 1 0 01-2 0V3zm5 0c-1.189 0-2.094.165-2.754.428A4.094 4.094 0 005 3.536v9.86C5.82 13.143 6.814 13 8 13c1.417 0 2.383.276 4.371 1.072 1.762.704 2.546.928 3.629.928 1.189 0 2.094-.165 2.754-.428.095-.039.177-.075.246-.108v-9.86c-.82.253-1.814.396-3 .396-1.417 0-2.383-.276-4.371-1.072C9.867 3.224 9.083 3 8 3z\"></path><g transform=\"translate(4.07 3)\"><mask id=\"prefix__b\" fill=\"#fff\"><use xlink:href=\"#prefix__a\"></use></mask><use fill=\"none\" fill-rule=\"nonzero\" xlink:href=\"#prefix__a\"></use><g fill=\"none\" mask=\"url(#prefix__b)\"><path d=\"M0 0H64V64H0z\" transform=\"translate(-25 -27)\"></path></g></g></g></svg></div></a></div></div></div></div></div></li><li><div class=\"Rating__StyledRating-sc-1rhvpxz-1 jcIQzP\"><div class=\"Rating__RatingBody-sc-1rhvpxz-0 dGrvXb\"><div class=\"RatingHeader__StyledHeader-sc-1dlkqw1-0 uBHCj\"><div class=\"RatingHeader__ClassInfoWrapper-sc-1dlkqw1-1 jxOApy\"><div class=\"RatingHeader__StyledClass-sc-1dlkqw1-2 gxDIt\"> <!-- -->EE2361</div><div class=\"EmotionLabel__StyledEmotionLabel-sc-1u525uj-0 gzdNFd\"><span role=\"img\" aria-label=\"Confounded\">😖</span>awful</div></div><div class=\"TimeStamp__StyledTimeStamp-sc-9q2r30-0 bXQmMr RatingHeader__RatingTimeStamp-sc-1dlkqw1-3 BlaCV\">Feb 20th, 2016</div></div><div class=\"RatingValues__StyledRatingValues-sc-6dc747-0 gFOUvY\"><div class=\"RatingValues__RatingContainer-sc-6dc747-1 DObVa\"><div class=\"CardNumRating__StyledCardNumRating-sc-17t4b9u-0 eWZmyX\"><div class=\"CardNumRating__CardNumRatingHeader-sc-17t4b9u-1 fVETNc\">Quality</div><div class=\"CardNumRating__CardNumRatingNumber-sc-17t4b9u-2 bUneqk\">1.0</div></div></div><div class=\"RatingValues__RatingContainer-sc-6dc747-1 DObVa\"><div class=\"CardNumRating__StyledCardNumRating-sc-17t4b9u-0 eWZmyX\"><div class=\"CardNumRating__CardNumRatingHeader-sc-17t4b9u-1 fVETNc\">Difficulty</div><div class=\"CardNumRating__CardNumRatingNumber-sc-17t4b9u-2 cDKJcc\">5.0</div></div></div></div><div class=\"Rating__RatingInfo-sc-1rhvpxz-3 kEVEoU\"><div class=\"RatingHeader__StyledHeader-sc-1dlkqw1-0 fUEMJm\"><div class=\"RatingHeader__ClassInfoWrapper-sc-1dlkqw1-1 jxOApy\"><div class=\"RatingHeader__StyledClass-sc-1dlkqw1-2 gxDIt\"> <!-- -->EE2361</div><div class=\"EmotionLabel__StyledEmotionLabel-sc-1u525uj-0 gzdNFd\"><span role=\"img\" aria-label=\"Confounded\">😖</span>awful</div></div><div class=\"TimeStamp__StyledTimeStamp-sc-9q2r30-0 bXQmMr RatingHeader__RatingTimeStamp-sc-1dlkqw1-3 BlaCV\">Feb 20th, 2016</div></div><div class=\"CourseMeta__StyledCourseMeta-x344ms-0 fPJDHT\"><div class=\"MetaItem__StyledMetaItem-y0ixml-0 LXClX\">For Credit<!-- -->: <span>Yes</span></div><div class=\"MetaItem__StyledMetaItem-y0ixml-0 LXClX\">Attendance<!-- -->: <span>Not Mandatory</span></div><div class=\"MetaItem__StyledMetaItem-y0ixml-0 LXClX\">Grade<!-- -->: <span>Not sure yet</span></div><div class=\"MetaItem__StyledMetaItem-y0ixml-0 LXClX\">Textbook<!-- -->: <span>No</span></div></div><div class=\"Comments__StyledComments-dzzyvm-0 gRjWel\">Really bad professor. Easy to get lost in lecture. Lazy professor. He didn&#x27;t prepare for lecture. Give hard homework. Not helpful in office hour.</div><div class=\"RatingFooter__StyledRatingFooter-ciwspm-0 dbULCX\"><div class=\"RatingFooter__ButtonWrapper-ciwspm-1 cwcCIQ\"><div class=\"RatingFooter__HelpTotal-ciwspm-2 kAVFzA\"><img src=\"/static/media/thumbs-up-black.eddae738.svg\" class=\"VoteThumb__StyledVoteThumb-p2gtch-0 jCbELu\" data-tooltip=\"true\" data-tip=\"Helpful\" data-for=\"GLOBAL_TOOLTIP\" alt=\"Thumbs up\"/> <!-- -->5</div><div class=\"RatingFooter__HelpTotal-ciwspm-2 kAVFzA\"><img src=\"/static/media/thumbs-down-black.bd601b36.svg\" class=\"VoteThumb__StyledVoteThumb-p2gtch-0 jCbELu\" data-tooltip=\"true\" data-tip=\"Not helpful\" data-for=\"GLOBAL_TOOLTIP\" alt=\"Thumbs down\"/> <!-- -->6</div></div><div class=\"RatingFooter__ButtonWrapper-ciwspm-1 cwcCIQ\"><a class=\"ReportFlag__StyledReportFlag-sc-1c42epr-0 hjlYuE\" data-tooltip=\"true\" data-tip=\"Report this rating\" data-for=\"GLOBAL_TOOLTIP\" data-testid=\"reportflag_test_id\" aria-disabled=\"false\" href=\"/flagProfRating?tid=941931&amp;rid=26072336\"><div class=\"ReportFlag__FlagWrapper-sc-1c42epr-1 kVglhF\"><svg xmlns=\"http://www.w3.org/2000/svg\" width=\"24\" height=\"24\" viewBox=\"0 0 24 24\"><defs><path id=\"prefix__a\" d=\"M3.93 10c1.417 0 2.383.276 4.371 1.072 1.762.704 2.546.928 3.629.928 1.189 0 2.094-.165 2.754-.428.095-.039.177-.075.246-.108v-9.86c-.82.253-1.814.396-3 .396-1.417 0-2.383-.276-4.371-1.072C5.797.224 5.013 0 3.93 0 2.741 0 1.836.165 1.176.428A4.094 4.094 0 00.93.536v9.86c.82-.253 1.814-.396 3-.396z\"></path></defs><g fill=\"none\" fill-rule=\"evenodd\"><path fill=\"#151515\" fill-rule=\"nonzero\" d=\"M3 3a1 1 0 01.293-.707c.22-.22.614-.483 1.21-.721C5.407 1.21 6.564 1 8 1c1.417 0 2.383.276 4.371 1.072C14.133 2.776 14.917 3 16 3c1.189 0 2.094-.165 2.754-.428.341-.137.508-.249.539-.28C19.923 1.663 21 2.11 21 3v12a1 1 0 01-.293.707c-.22.22-.614.483-1.21.721-.903.362-2.06.572-3.497.572-1.417 0-2.383-.276-4.371-1.072C9.867 15.224 9.083 15 8 15c-1.189 0-2.094.165-2.754.428a4.09 4.09 0 00-.247.108L5 22a1 1 0 01-2 0V3zm5 0c-1.189 0-2.094.165-2.754.428A4.094 4.094 0 005 3.536v9.86C5.82 13.143 6.814 13 8 13c1.417 0 2.383.276 4.371 1.072 1.762.704 2.546.928 3.629.928 1.189 0 2.094-.165 2.754-.428.095-.039.177-.075.246-.108v-9.86c-.82.253-1.814.396-3 .396-1.417 0-2.383-.276-4.371-1.072C9.867 3.224 9.083 3 8 3z\"></path><g transform=\"translate(4.07 3)\"><mask id=\"prefix__b\" fill=\"#fff\"><use xlink:href=\"#prefix__a\"></use></mask><use fill=\"none\" fill-rule=\"nonzero\" xlink:href=\"#prefix__a\"></use><g fill=\"none\" mask=\"url(#prefix__b)\"><path d=\"M0 0H64V64H0z\" transform=\"translate(-25 -27)\"></path></g></g></g></svg></div></a></div></div></div></div></div></li><li><div id=\"browsi-ratings-page-4\" class=\"BrowsiAd__AdWrapper-sc-1es20uu-0 fuqfRC browsi_rmp_web\"></div></li><li><div class=\"Rating__StyledRating-sc-1rhvpxz-1 jcIQzP\"><div class=\"Rating__RatingBody-sc-1rhvpxz-0 dGrvXb\"><div class=\"RatingHeader__StyledHeader-sc-1dlkqw1-0 uBHCj\"><div class=\"RatingHeader__ClassInfoWrapper-sc-1dlkqw1-1 jxOApy\"><div class=\"RatingHeader__StyledClass-sc-1dlkqw1-2 gxDIt\"> <!-- -->EE1301</div><div class=\"EmotionLabel__StyledEmotionLabel-sc-1u525uj-0 gzdNFd\"><span role=\"img\" aria-label=\"Confounded\">😖</span>awful</div></div><div class=\"TimeStamp__StyledTimeStamp-sc-9q2r30-0 bXQmMr RatingHeader__RatingTimeStamp-sc-1dlkqw1-3 BlaCV\">Feb 1st, 2016</div></div><div class=\"RatingValues__StyledRatingValues-sc-6dc747-0 gFOUvY\"><div class=\"RatingValues__RatingContainer-sc-6dc747-1 DObVa\"><div class=\"CardNumRating__StyledCardNumRating-sc-17t4b9u-0 eWZmyX\"><div class=\"CardNumRating__CardNumRatingHeader-sc-17t4b9u-1 fVETNc\">Quality</div><div class=\"CardNumRating__CardNumRatingNumber-sc-17t4b9u-2 bUneqk\">1.0</div></div></div><div class=\"RatingValues__RatingContainer-sc-6dc747-1 DObVa\"><div class=\"CardNumRating__StyledCardNumRating-sc-17t4b9u-0 eWZmyX\"><div class=\"CardNumRating__CardNumRatingHeader-sc-17t4b9u-1 fVETNc\">Difficulty</div><div class=\"CardNumRating__CardNumRatingNumber-sc-17t4b9u-2 cDKJcc\">5.0</div></div></div></div><div class=\"Rating__RatingInfo-sc-1rhvpxz-3 kEVEoU\"><div class=\"RatingHeader__StyledHeader-sc-1dlkqw1-0 fUEMJm\"><div class=\"RatingHeader__ClassInfoWrapper-sc-1dlkqw1-1 jxOApy\"><div class=\"RatingHeader__StyledClass-sc-1dlkqw1-2 gxDIt\"> <!-- -->EE1301</div><div class=\"EmotionLabel__StyledEmotionLabel-sc-1u525uj-0 gzdNFd\"><span role=\"img\" aria-label=\"Confounded\">😖</span>awful</div></div><div class=\"TimeStamp__StyledTimeStamp-sc-9q2r30-0 bXQmMr RatingHeader__RatingTimeStamp-sc-1dlkqw1-3 BlaCV\">Feb 1st, 2016</div></div><div class=\"CourseMeta__StyledCourseMeta-x344ms-0 fPJDHT\"><div class=\"MetaItem__StyledMetaItem-y0ixml-0 LXClX\">For Credit<!-- -->: <span>Yes</span></div><div class=\"MetaItem__StyledMetaItem-y0ixml-0 LXClX\">Attendance<!-- -->: <span>Not Mandatory</span></div><div class=\"MetaItem__StyledMetaItem-y0ixml-0 LXClX\">Grade<!-- -->: <span>C-</span></div><div class=\"MetaItem__StyledMetaItem-y0ixml-0 LXClX\">Textbook<!-- -->: <span>No</span></div></div><div class=\"Comments__StyledComments-dzzyvm-0 gRjWel\">Terrible professor in EE department. He is smart but he doesn&#x27;t know how to teach. He is not there to help you learn the material. He is there to give you challenge homework and exam. Very harsh on grading exam. Find anyway to fail students.</div><div class=\"RatingFooter__StyledRatingFooter-ciwspm-0 dbULCX\"><div class=\"RatingFooter__ButtonWrapper-ciwspm-1 cwcCIQ\"><div class=\"RatingFooter__HelpTotal-ciwspm-2 kAVFzA\"><img src=\"/static/media/thumbs-up-black.eddae738.svg\" class=\"VoteThumb__StyledVoteThumb-p2gtch-0 jCbELu\" data-tooltip=\"true\" data-tip=\"Helpful\" data-for=\"GLOBAL_TOOLTIP\" alt=\"Thumbs up\"/> <!-- -->8</div><div class=\"RatingFooter__HelpTotal-ciwspm-2 kAVFzA\"><img src=\"/static/media/thumbs-down-black.bd601b36.svg\" class=\"VoteThumb__StyledVoteThumb-p2gtch-0 jCbELu\" data-tooltip=\"true\" data-tip=\"Not helpful\" data-for=\"GLOBAL_TOOLTIP\" alt=\"Thumbs down\"/> <!-- -->2</div></div><div class=\"RatingFooter__ButtonWrapper-ciwspm-1 cwcCIQ\"><a class=\"ReportFlag__StyledReportFlag-sc-1c42epr-0 hjlYuE\" data-tooltip=\"true\" data-tip=\"Report this rating\" data-for=\"GLOBAL_TOOLTIP\" data-testid=\"reportflag_test_id\" aria-disabled=\"false\" href=\"/flagProfRating?tid=941931&amp;rid=26017181\"><div class=\"ReportFlag__FlagWrapper-sc-1c42epr-1 kVglhF\"><svg xmlns=\"http://www.w3.org/2000/svg\" width=\"24\" height=\"24\" viewBox=\"0 0 24 24\"><defs><path id=\"prefix__a\" d=\"M3.93 10c1.417 0 2.383.276 4.371 1.072 1.762.704 2.546.928 3.629.928 1.189 0 2.094-.165 2.754-.428.095-.039.177-.075.246-.108v-9.86c-.82.253-1.814.396-3 .396-1.417 0-2.383-.276-4.371-1.072C5.797.224 5.013 0 3.93 0 2.741 0 1.836.165 1.176.428A4.094 4.094 0 00.93.536v9.86c.82-.253 1.814-.396 3-.396z\"></path></defs><g fill=\"none\" fill-rule=\"evenodd\"><path fill=\"#151515\" fill-rule=\"nonzero\" d=\"M3 3a1 1 0 01.293-.707c.22-.22.614-.483 1.21-.721C5.407 1.21 6.564 1 8 1c1.417 0 2.383.276 4.371 1.072C14.133 2.776 14.917 3 16 3c1.189 0 2.094-.165 2.754-.428.341-.137.508-.249.539-.28C19.923 1.663 21 2.11 21 3v12a1 1 0 01-.293.707c-.22.22-.614.483-1.21.721-.903.362-2.06.572-3.497.572-1.417 0-2.383-.276-4.371-1.072C9.867 15.224 9.083 15 8 15c-1.189 0-2.094.165-2.754.428a4.09 4.09 0 00-.247.108L5 22a1 1 0 01-2 0V3zm5 0c-1.189 0-2.094.165-2.754.428A4.094 4.094 0 005 3.536v9.86C5.82 13.143 6.814 13 8 13c1.417 0 2.383.276 4.371 1.072 1.762.704 2.546.928 3.629.928 1.189 0 2.094-.165 2.754-.428.095-.039.177-.075.246-.108v-9.86c-.82.253-1.814.396-3 .396-1.417 0-2.383-.276-4.371-1.072C9.867 3.224 9.083 3 8 3z\"></path><g transform=\"translate(4.07 3)\"><mask id=\"prefix__b\" fill=\"#fff\"><use xlink:href=\"#prefix__a\"></use></mask><use fill=\"none\" fill-rule=\"nonzero\" xlink:href=\"#prefix__a\"></use><g fill=\"none\" mask=\"url(#prefix__b)\"><path d=\"M0 0H64V64H0z\" transform=\"translate(-25 -27)\"></path></g></g></g></svg></div></a></div></div></div></div></div></li><li><div class=\"Rating__StyledRating-sc-1rhvpxz-1 jcIQzP\"><div class=\"Rating__RatingBody-sc-1rhvpxz-0 dGrvXb\"><div class=\"RatingHeader__StyledHeader-sc-1dlkqw1-0 uBHCj\"><div class=\"RatingHeader__ClassInfoWrapper-sc-1dlkqw1-1 jxOApy\"><div class=\"RatingHeader__StyledClass-sc-1dlkqw1-2 gxDIt\"> <!-- -->EE1301</div><div class=\"EmotionLabel__StyledEmotionLabel-sc-1u525uj-0 gzdNFd\"><span role=\"img\" aria-label=\"Confounded\">😖</span>awful</div></div><div class=\"TimeStamp__StyledTimeStamp-sc-9q2r30-0 bXQmMr RatingHeader__RatingTimeStamp-sc-1dlkqw1-3 BlaCV\">Jan 22nd, 2016</div></div><div class=\"RatingValues__StyledRatingValues-sc-6dc747-0 gFOUvY\"><div class=\"RatingValues__RatingContainer-sc-6dc747-1 DObVa\"><div class=\"CardNumRating__StyledCardNumRating-sc-17t4b9u-0 eWZmyX\"><div class=\"CardNumRating__CardNumRatingHeader-sc-17t4b9u-1 fVETNc\">Quality</div><div class=\"CardNumRating__CardNumRatingNumber-sc-17t4b9u-2 bUneqk\">1.0</div></div></div><div class=\"RatingValues__RatingContainer-sc-6dc747-1 DObVa\"><div class=\"CardNumRating__StyledCardNumRating-sc-17t4b9u-0 eWZmyX\"><div class=\"CardNumRating__CardNumRatingHeader-sc-17t4b9u-1 fVETNc\">Difficulty</div><div class=\"CardNumRating__CardNumRatingNumber-sc-17t4b9u-2 cDKJcc\">5.0</div></div></div></div><div class=\"Rating__RatingInfo-sc-1rhvpxz-3 kEVEoU\"><div class=\"RatingHeader__StyledHeader-sc-1dlkqw1-0 fUEMJm\"><div class=\"RatingHeader__ClassInfoWrapper-sc-1dlkqw1-1 jxOApy\"><div class=\"RatingHeader__StyledClass-sc-1dlkqw1-2 gxDIt\"> <!-- -->EE1301</div><div class=\"EmotionLabel__StyledEmotionLabel-sc-1u525uj-0 gzdNFd\"><span role=\"img\" aria-label=\"Confounded\">😖</span>awful</div></div><div class=\"TimeStamp__StyledTimeStamp-sc-9q2r30-0 bXQmMr RatingHeader__RatingTimeStamp-sc-1dlkqw1-3 BlaCV\">Jan 22nd, 2016</div></div><div class=\"CourseMeta__StyledCourseMeta-x344ms-0 fPJDHT\"><div class=\"MetaItem__StyledMetaItem-y0ixml-0 LXClX\">For Credit<!-- -->: <span>Yes</span></div><div class=\"MetaItem__StyledMetaItem-y0ixml-0 LXClX\">Textbook<!-- -->: <span>No</span></div></div><div class=\"Comments__StyledComments-dzzyvm-0 gRjWel\">Don&#x27;t take him if you want a good semester. He can ruin your interesting in EE major. He tries to fail as many students as he can.</div><div class=\"RatingFooter__StyledRatingFooter-ciwspm-0 dbULCX\"><div class=\"RatingFooter__ButtonWrapper-ciwspm-1 cwcCIQ\"><div class=\"RatingFooter__HelpTotal-ciwspm-2 kAVFzA\"><img src=\"/static/media/thumbs-up-black.eddae738.svg\" class=\"VoteThumb__StyledVoteThumb-p2gtch-0 jCbELu\" data-tooltip=\"true\" data-tip=\"Helpful\" data-for=\"GLOBAL_TOOLTIP\" alt=\"Thumbs up\"/> <!-- -->6</div><div class=\"RatingFooter__HelpTotal-ciwspm-2 kAVFzA\"><img src=\"/static/media/thumbs-down-black.bd601b36.svg\" class=\"VoteThumb__StyledVoteThumb-p2gtch-0 jCbELu\" data-tooltip=\"true\" data-tip=\"Not helpful\" data-for=\"GLOBAL_TOOLTIP\" alt=\"Thumbs down\"/> <!-- -->3</div></div><div class=\"RatingFooter__ButtonWrapper-ciwspm-1 cwcCIQ\"><a class=\"ReportFlag__StyledReportFlag-sc-1c42epr-0 hjlYuE\" data-tooltip=\"true\" data-tip=\"Report this rating\" data-for=\"GLOBAL_TOOLTIP\" data-testid=\"reportflag_test_id\" aria-disabled=\"false\" href=\"/flagProfRating?tid=941931&amp;rid=25980973\"><div class=\"ReportFlag__FlagWrapper-sc-1c42epr-1 kVglhF\"><svg xmlns=\"http://www.w3.org/2000/svg\" width=\"24\" height=\"24\" viewBox=\"0 0 24 24\"><defs><path id=\"prefix__a\" d=\"M3.93 10c1.417 0 2.383.276 4.371 1.072 1.762.704 2.546.928 3.629.928 1.189 0 2.094-.165 2.754-.428.095-.039.177-.075.246-.108v-9.86c-.82.253-1.814.396-3 .396-1.417 0-2.383-.276-4.371-1.072C5.797.224 5.013 0 3.93 0 2.741 0 1.836.165 1.176.428A4.094 4.094 0 00.93.536v9.86c.82-.253 1.814-.396 3-.396z\"></path></defs><g fill=\"none\" fill-rule=\"evenodd\"><path fill=\"#151515\" fill-rule=\"nonzero\" d=\"M3 3a1 1 0 01.293-.707c.22-.22.614-.483 1.21-.721C5.407 1.21 6.564 1 8 1c1.417 0 2.383.276 4.371 1.072C14.133 2.776 14.917 3 16 3c1.189 0 2.094-.165 2.754-.428.341-.137.508-.249.539-.28C19.923 1.663 21 2.11 21 3v12a1 1 0 01-.293.707c-.22.22-.614.483-1.21.721-.903.362-2.06.572-3.497.572-1.417 0-2.383-.276-4.371-1.072C9.867 15.224 9.083 15 8 15c-1.189 0-2.094.165-2.754.428a4.09 4.09 0 00-.247.108L5 22a1 1 0 01-2 0V3zm5 0c-1.189 0-2.094.165-2.754.428A4.094 4.094 0 005 3.536v9.86C5.82 13.143 6.814 13 8 13c1.417 0 2.383.276 4.371 1.072 1.762.704 2.546.928 3.629.928 1.189 0 2.094-.165 2.754-.428.095-.039.177-.075.246-.108v-9.86c-.82.253-1.814.396-3 .396-1.417 0-2.383-.276-4.371-1.072C9.867 3.224 9.083 3 8 3z\"></path><g transform=\"translate(4.07 3)\"><mask id=\"prefix__b\" fill=\"#fff\"><use xlink:href=\"#prefix__a\"></use></mask><use fill=\"none\" fill-rule=\"nonzero\" xlink:href=\"#prefix__a\"></use><g fill=\"none\" mask=\"url(#prefix__b)\"><path d=\"M0 0H64V64H0z\" transform=\"translate(-25 -27)\"></path></g></g></g></svg></div></a></div></div></div></div></div></li></ul><button class=\"Buttons__Button-sc-19xdot-1 PaginationButton__StyledPaginationButton-txi1dr-1 gjQZal\" type=\"button\">Load More Ratings</button></div></div></div><div id=\"taboola-below-article-thumbnails\" class=\"TaboolaAd__StyledTaboolaAd-sc-16lajh5-0 fkoCRH\" data-testid=\"test-id-taboola-ad\"></div></div><div class=\"Footer__StyledFooter-ftcicx-0 hLyFCe\"><div class=\"Footer__FooterContainer-ftcicx-1 cdQllN\"><button type=\"button\" class=\"FooterToggle__StyledFooterToggle-sc-1eaqcx0-0 lbcxyT\"><img src=\"/static/media/controls-arrow-expand.a220a440.svg\" alt=\"Show Footer\"/></button><div class=\"Footer__StyledFooterWrapper-ftcicx-2 jGMSsa\"><div class=\"RenderForBreakpoints__StyledRenderForBreakPoints-sc-1vjlbtd-0 btrqJr\"><a mobile=\"true\" class=\"FooterLogo__StyledLogo-sc-162o9sw-0 cxMWcu\" href=\"/\"><img src=\"/static/media/small_rmp_logo_white.4d5ff7fa.svg\" alt=\"Logo\"/></a></div><div class=\"FooterLinksWrapper__StyledFooterLinksWrapper-pnn6ig-0 bxfSRZ\"><div class=\"FooterLinkList__StyledFooterLinkList-sc-1ti814v-0 bBRjeX\"><div class=\"FooterLinkList__FooterLinkListHeader-sc-1ti814v-1 kACzTK\">Site</div><ul><li><a href=\"https://www.ratemyprofessors.com/About.jsp\">About</a></li><li><a href=\"https://help.ratemyprofessors.com/\">Help</a></li><li><a href=\"https://help.ratemyprofessors.com/\">Contact Us</a></li><li><a href=\"/guidelines\">Site Guidelines</a></li></ul></div><div class=\"FooterLinkList__StyledFooterLinkList-sc-1ti814v-0 bBRjeX\"><div class=\"FooterLinkList__FooterLinkListHeader-sc-1ti814v-1 kACzTK\">Legal</div><ul><li><a href=\"/terms-of-use\">Terms &amp; Conditions</a></li><li><a href=\"/privacy\">Privacy Policy</a></li><li><a href=\"/copyright\">Copyright Compliance Policy</a></li><li><a href=\"/ccpa\">CA Do Not Sell My Personal Information</a></li><li><a href=\"/privacy#sectionp5\">Ad Choices</a></li></ul></div><div class=\"FooterLinkList__StyledFooterLinkList-sc-1ti814v-0 bBRjeX\"><div class=\"FooterLinkList__FooterLinkListHeader-sc-1ti814v-1 kACzTK\">Partners</div><ul><li><a href=\"https://www.optimum.com/\">Optimum</a></li><li><a href=\"https://www.suddenlink.com/\">Suddenlink</a></li></ul></div></div><div class=\"AnimatedFlexContainer__StyledAnimatedFlexContainer-sc-1uw0dlp-0 eiPJLZ FooterCopyright__StyledCopyright-sc-1g3eanm-0 drLSaz\"><a class=\"FooterLogo__StyledLogo-sc-162o9sw-0 dzQHgc\" href=\"/\"><img src=\"/static/media/small_rmp_logo_white.4d5ff7fa.svg\" alt=\"Logo\"/></a><div class=\"SocialLinks__StyledSocialLinks-bn65ay-0 cAWnKB\"><a href=\"https://www.facebook.com/RateMyProfessor\" class=\"SocialIconLink__StyledSocialIconLink-sc-1iq78in-1 mvKHB\"><img src=\"/static/media/facebook-white.5840155b.svg\" alt=\"RateMyProfessors on Facebook\" class=\"SocialIconLink__SocialIcon-sc-1iq78in-0 dxsWZe\"/></a><a href=\"https://www.instagram.com/ratemyprofessors/\" class=\"SocialIconLink__StyledSocialIconLink-sc-1iq78in-1 mvKHB\"><img src=\"/static/media/twitter-white.133cb50f.svg\" alt=\"RateMyProfessors on Instagram\" class=\"SocialIconLink__SocialIcon-sc-1iq78in-0 dxsWZe\"/></a><a href=\"https://twitter.com/ratemyprofessor\" class=\"SocialIconLink__StyledSocialIconLink-sc-1iq78in-1 mvKHB\"><img src=\"/static/media/instagram-white.45d739c1.svg\" alt=\"RateMyProfessors on Twitter\" class=\"SocialIconLink__SocialIcon-sc-1iq78in-0 dxsWZe\"/></a></div><div class=\"FooterCopyright__CopyrightText-sc-1g3eanm-1 iUNNGZ\">© <!-- -->2022<!-- --> Altice USA News, Inc. All Rights Reserved</div></div></div></div></div></div></div></div>\\n        <script>\\n          window.__RELAY_STORE__ = {\"client:root\":{\"__id\":\"client:root\",\"__typename\":\"__Root\",\"node(id:\\\\\"VGVhY2hlci05NDE5MzE=\\\\\")\":{\"__ref\":\"VGVhY2hlci05NDE5MzE=\"}},\"VGVhY2hlci05NDE5MzE=\":{\"__id\":\"VGVhY2hlci05NDE5MzE=\",\"__typename\":\"Teacher\",\"id\":\"VGVhY2hlci05NDE5MzE=\",\"legacyId\":941931,\"firstName\":\"Kia\",\"lastName\":\"Bazargan\",\"school\":{\"__ref\":\"U2Nob29sLTEyNTc=\"},\"lockStatus\":\"none\",\"department\":\"Engineering\",\"isSaved\":false,\"numRatings\":34,\"ratingsDistribution\":{\"__ref\":\"client:VGVhY2hlci05NDE5MzE=:ratingsDistribution\"},\"avgRating\":3.3,\"teacherRatingTags\":{\"__refs\":[\"VGVhY2hlclJhdGluZ1RhZ3MtMQ==\",\"VGVhY2hlclJhdGluZ1RhZ3MtNA==\",\"VGVhY2hlclJhdGluZ1RhZ3MtNg==\",\"VGVhY2hlclJhdGluZ1RhZ3MtNw==\",\"VGVhY2hlclJhdGluZ1RhZ3MtOA==\",\"VGVhY2hlclJhdGluZ1RhZ3MtMTM=\",\"VGVhY2hlclJhdGluZ1RhZ3MtMTQ=\",\"VGVhY2hlclJhdGluZ1RhZ3MtMTU=\",\"VGVhY2hlclJhdGluZ1RhZ3MtMTY=\",\"VGVhY2hlclJhdGluZ1RhZ3MtMTg=\",\"VGVhY2hlclJhdGluZ1RhZ3MtMTk=\",\"VGVhY2hlclJhdGluZ1RhZ3MtMjA=\",\"VGVhY2hlclJhdGluZ1RhZ3MtMjE=\",\"VGVhY2hlclJhdGluZ1RhZ3MtMjI=\"]},\"isProfCurrentUser\":false,\"avgDifficulty\":3.8,\"wouldTakeAgainPercent\":76.4706,\"relatedTeachers\":{\"__refs\":[\"UmVsYXRlZFRlYWNoZXItOTY5ODQ2\",\"UmVsYXRlZFRlYWNoZXItMTEyMjMyNQ==\",\"UmVsYXRlZFRlYWNoZXItNzY0Mzg3\"]},\"courseCodes\":{\"__refs\":[\"client:VGVhY2hlci05NDE5MzE=:courseCodes:0\",\"client:VGVhY2hlci05NDE5MzE=:courseCodes:1\",\"client:VGVhY2hlci05NDE5MzE=:courseCodes:2\",\"client:VGVhY2hlci05NDE5MzE=:courseCodes:3\",\"client:VGVhY2hlci05NDE5MzE=:courseCodes:4\",\"client:VGVhY2hlci05NDE5MzE=:courseCodes:5\",\"client:VGVhY2hlci05NDE5MzE=:courseCodes:6\",\"client:VGVhY2hlci05NDE5MzE=:courseCodes:7\",\"client:VGVhY2hlci05NDE5MzE=:courseCodes:8\"]},\"ratings(first:20)\":{\"__ref\":\"client:VGVhY2hlci05NDE5MzE=:ratings(first:20)\"},\"__RatingsList_ratings_connection\":{\"__ref\":\"client:VGVhY2hlci05NDE5MzE=:__RatingsList_ratings_connection\"}},\"U2Nob29sLTEyNTc=\":{\"__id\":\"U2Nob29sLTEyNTc=\",\"__typename\":\"School\",\"legacyId\":1257,\"name\":\"University of Minnesota - Twin Cities\",\"id\":\"U2Nob29sLTEyNTc=\",\"city\":\"Minneapolis\",\"state\":\"MN\",\"avgRating\":0,\"numRatings\":1025},\"client:VGVhY2hlci05NDE5MzE=:ratingsDistribution\":{\"__id\":\"client:VGVhY2hlci05NDE5MzE=:ratingsDistribution\",\"__typename\":\"ratingsDistribution\",\"total\":34,\"r1\":9,\"r2\":1,\"r3\":3,\"r4\":9,\"r5\":12},\"VGVhY2hlclJhdGluZ1RhZ3MtMQ==\":{\"__id\":\"VGVhY2hlclJhdGluZ1RhZ3MtMQ==\",\"__typename\":\"TeacherRatingTags\",\"legacyId\":1,\"tagCount\":13,\"tagName\":\"Tough grader\",\"id\":\"VGVhY2hlclJhdGluZ1RhZ3MtMQ==\"},\"VGVhY2hlclJhdGluZ1RhZ3MtNA==\":{\"__id\":\"VGVhY2hlclJhdGluZ1RhZ3MtNA==\",\"__typename\":\"TeacherRatingTags\",\"legacyId\":4,\"tagCount\":7,\"tagName\":\"Skip class? You won\\'t pass.\",\"id\":\"VGVhY2hlclJhdGluZ1RhZ3MtNA==\"},\"VGVhY2hlclJhdGluZ1RhZ3MtNg==\":{\"__id\":\"VGVhY2hlclJhdGluZ1RhZ3MtNg==\",\"__typename\":\"TeacherRatingTags\",\"legacyId\":6,\"tagCount\":1,\"tagName\":\"Tests are tough\",\"id\":\"VGVhY2hlclJhdGluZ1RhZ3MtNg==\"},\"VGVhY2hlclJhdGluZ1RhZ3MtNw==\":{\"__id\":\"VGVhY2hlclJhdGluZ1RhZ3MtNw==\",\"__typename\":\"TeacherRatingTags\",\"legacyId\":7,\"tagCount\":2,\"tagName\":\"Group projects\",\"id\":\"VGVhY2hlclJhdGluZ1RhZ3MtNw==\"},\"VGVhY2hlclJhdGluZ1RhZ3MtOA==\":{\"__id\":\"VGVhY2hlclJhdGluZ1RhZ3MtOA==\",\"__typename\":\"TeacherRatingTags\",\"legacyId\":8,\"tagCount\":2,\"tagName\":\"Amazing lectures \",\"id\":\"VGVhY2hlclJhdGluZ1RhZ3MtOA==\"},\"VGVhY2hlclJhdGluZ1RhZ3MtMTM=\":{\"__id\":\"VGVhY2hlclJhdGluZ1RhZ3MtMTM=\",\"__typename\":\"TeacherRatingTags\",\"legacyId\":13,\"tagCount\":1,\"tagName\":\"Inspirational\",\"id\":\"VGVhY2hlclJhdGluZ1RhZ3MtMTM=\"},\"VGVhY2hlclJhdGluZ1RhZ3MtMTQ=\":{\"__id\":\"VGVhY2hlclJhdGluZ1RhZ3MtMTQ=\",\"__typename\":\"TeacherRatingTags\",\"legacyId\":14,\"tagCount\":10,\"tagName\":\"Lots of homework\",\"id\":\"VGVhY2hlclJhdGluZ1RhZ3MtMTQ=\"},\"VGVhY2hlclJhdGluZ1RhZ3MtMTU=\":{\"__id\":\"VGVhY2hlclJhdGluZ1RhZ3MtMTU=\",\"__typename\":\"TeacherRatingTags\",\"legacyId\":15,\"tagCount\":2,\"tagName\":\"Hilarious\",\"id\":\"VGVhY2hlclJhdGluZ1RhZ3MtMTU=\"},\"VGVhY2hlclJhdGluZ1RhZ3MtMTY=\":{\"__id\":\"VGVhY2hlclJhdGluZ1RhZ3MtMTY=\",\"__typename\":\"TeacherRatingTags\",\"legacyId\":16,\"tagCount\":4,\"tagName\":\"Beware of pop quizzes\",\"id\":\"VGVhY2hlclJhdGluZ1RhZ3MtMTY=\"},\"VGVhY2hlclJhdGluZ1RhZ3MtMTg=\":{\"__id\":\"VGVhY2hlclJhdGluZ1RhZ3MtMTg=\",\"__typename\":\"TeacherRatingTags\",\"legacyId\":18,\"tagCount\":4,\"tagName\":\"Caring\",\"id\":\"VGVhY2hlclJhdGluZ1RhZ3MtMTg=\"},\"VGVhY2hlclJhdGluZ1RhZ3MtMTk=\":{\"__id\":\"VGVhY2hlclJhdGluZ1RhZ3MtMTk=\",\"__typename\":\"TeacherRatingTags\",\"legacyId\":19,\"tagCount\":4,\"tagName\":\"Respected\",\"id\":\"VGVhY2hlclJhdGluZ1RhZ3MtMTk=\"},\"VGVhY2hlclJhdGluZ1RhZ3MtMjA=\":{\"__id\":\"VGVhY2hlclJhdGluZ1RhZ3MtMjA=\",\"__typename\":\"TeacherRatingTags\",\"legacyId\":20,\"tagCount\":3,\"tagName\":\"Lecture heavy\",\"id\":\"VGVhY2hlclJhdGluZ1RhZ3MtMjA=\"},\"VGVhY2hlclJhdGluZ1RhZ3MtMjE=\":{\"__id\":\"VGVhY2hlclJhdGluZ1RhZ3MtMjE=\",\"__typename\":\"TeacherRatingTags\",\"legacyId\":21,\"tagCount\":2,\"tagName\":\"Test heavy\",\"id\":\"VGVhY2hlclJhdGluZ1RhZ3MtMjE=\"},\"VGVhY2hlclJhdGluZ1RhZ3MtMjI=\":{\"__id\":\"VGVhY2hlclJhdGluZ1RhZ3MtMjI=\",\"__typename\":\"TeacherRatingTags\",\"legacyId\":22,\"tagCount\":2,\"tagName\":\"Graded by few things\",\"id\":\"VGVhY2hlclJhdGluZ1RhZ3MtMjI=\"},\"UmVsYXRlZFRlYWNoZXItOTY5ODQ2\":{\"__id\":\"UmVsYXRlZFRlYWNoZXItOTY5ODQ2\",\"__typename\":\"RelatedTeacher\",\"legacyId\":969846,\"firstName\":\"Bruce\",\"lastName\":\"Wilson\",\"avgRating\":5,\"id\":\"UmVsYXRlZFRlYWNoZXItOTY5ODQ2\"},\"UmVsYXRlZFRlYWNoZXItMTEyMjMyNQ==\":{\"__id\":\"UmVsYXRlZFRlYWNoZXItMTEyMjMyNQ==\",\"__typename\":\"RelatedTeacher\",\"legacyId\":1122325,\"firstName\":\"Zongxuan\",\"lastName\":\"Sun\",\"avgRating\":4.8,\"id\":\"UmVsYXRlZFRlYWNoZXItMTEyMjMyNQ==\"},\"UmVsYXRlZFRlYWNoZXItNzY0Mzg3\":{\"__id\":\"UmVsYXRlZFRlYWNoZXItNzY0Mzg3\",\"__typename\":\"RelatedTeacher\",\"legacyId\":764387,\"firstName\":\"Yohannes\",\"lastName\":\"Ketema\",\"avgRating\":4.7,\"id\":\"UmVsYXRlZFRlYWNoZXItNzY0Mzg3\"},\"client:VGVhY2hlci05NDE5MzE=:courseCodes:0\":{\"__id\":\"client:VGVhY2hlci05NDE5MzE=:courseCodes:0\",\"__typename\":\"Course\",\"courseName\":\"A1\",\"courseCount\":1},\"client:VGVhY2hlci05NDE5MzE=:courseCodes:1\":{\"__id\":\"client:VGVhY2hlci05NDE5MzE=:courseCodes:1\",\"__typename\":\"Course\",\"courseName\":\"CSE1012\",\"courseCount\":1},\"client:VGVhY2hlci05NDE5MzE=:courseCodes:2\":{\"__id\":\"client:VGVhY2hlci05NDE5MzE=:courseCodes:2\",\"__typename\":\"Course\",\"courseName\":\"ECE2361\",\"courseCount\":5},\"client:VGVhY2hlci05NDE5MzE=:courseCodes:3\":{\"__id\":\"client:VGVhY2hlci05NDE5MzE=:courseCodes:3\",\"__typename\":\"Course\",\"courseName\":\"EE1301\",\"courseCount\":12},\"client:VGVhY2hlci05NDE5MzE=:courseCodes:4\":{\"__id\":\"client:VGVhY2hlci05NDE5MzE=:courseCodes:4\",\"__typename\":\"Course\",\"courseName\":\"EE2301\",\"courseCount\":1},\"client:VGVhY2hlci05NDE5MzE=:courseCodes:5\":{\"__id\":\"client:VGVhY2hlci05NDE5MzE=:courseCodes:5\",\"__typename\":\"Course\",\"courseName\":\"EE2361\",\"courseCount\":10},\"client:VGVhY2hlci05NDE5MzE=:courseCodes:6\":{\"__id\":\"client:VGVhY2hlci05NDE5MzE=:courseCodes:6\",\"__typename\":\"Course\",\"courseName\":\"EE5301\",\"courseCount\":1},\"client:VGVhY2hlci05NDE5MzE=:courseCodes:7\":{\"__id\":\"client:VGVhY2hlci05NDE5MzE=:courseCodes:7\",\"__typename\":\"Course\",\"courseName\":\"EE5324\",\"courseCount\":2},\"client:VGVhY2hlci05NDE5MzE=:courseCodes:8\":{\"__id\":\"client:VGVhY2hlci05NDE5MzE=:courseCodes:8\",\"__typename\":\"Course\",\"courseName\":\"SDBABC\",\"courseCount\":1},\"client:VGVhY2hlci05NDE5MzE=:ratings(first:20)\":{\"__id\":\"client:VGVhY2hlci05NDE5MzE=:ratings(first:20)\",\"__typename\":\"RatingConnection\",\"edges\":{\"__refs\":[\"client:VGVhY2hlci05NDE5MzE=:ratings(first:20):edges:0\",\"client:VGVhY2hlci05NDE5MzE=:ratings(first:20):edges:1\",\"client:VGVhY2hlci05NDE5MzE=:ratings(first:20):edges:2\",\"client:VGVhY2hlci05NDE5MzE=:ratings(first:20):edges:3\",\"client:VGVhY2hlci05NDE5MzE=:ratings(first:20):edges:4\",\"client:VGVhY2hlci05NDE5MzE=:ratings(first:20):edges:5\",\"client:VGVhY2hlci05NDE5MzE=:ratings(first:20):edges:6\",\"client:VGVhY2hlci05NDE5MzE=:ratings(first:20):edges:7\",\"client:VGVhY2hlci05NDE5MzE=:ratings(first:20):edges:8\",\"client:VGVhY2hlci05NDE5MzE=:ratings(first:20):edges:9\",\"client:VGVhY2hlci05NDE5MzE=:ratings(first:20):edges:10\",\"client:VGVhY2hlci05NDE5MzE=:ratings(first:20):edges:11\",\"client:VGVhY2hlci05NDE5MzE=:ratings(first:20):edges:12\",\"client:VGVhY2hlci05NDE5MzE=:ratings(first:20):edges:13\",\"client:VGVhY2hlci05NDE5MzE=:ratings(first:20):edges:14\",\"client:VGVhY2hlci05NDE5MzE=:ratings(first:20):edges:15\",\"client:VGVhY2hlci05NDE5MzE=:ratings(first:20):edges:16\",\"client:VGVhY2hlci05NDE5MzE=:ratings(first:20):edges:17\",\"client:VGVhY2hlci05NDE5MzE=:ratings(first:20):edges:18\",\"client:VGVhY2hlci05NDE5MzE=:ratings(first:20):edges:19\"]},\"pageInfo\":{\"__ref\":\"client:VGVhY2hlci05NDE5MzE=:ratings(first:20):pageInfo\"}},\"client:VGVhY2hlci05NDE5MzE=:ratings(first:20):edges:0\":{\"__id\":\"client:VGVhY2hlci05NDE5MzE=:ratings(first:20):edges:0\",\"__typename\":\"RatingEdge\",\"cursor\":\"YXJyYXljb25uZWN0aW9uOjA=\",\"node\":{\"__ref\":\"UmF0aW5nLTM1NjU3Mjk1\"}},\"UmF0aW5nLTM1NjU3Mjk1\":{\"__id\":\"UmF0aW5nLTM1NjU3Mjk1\",\"__typename\":\"Rating\",\"comment\":\"Kia is a great guy, but he cannot explain concepts even if his life depended on it. I ended up having to watch videos online to be able to do well in his tests. And his grading is very weird with people not getting any B+ or A- and jumping straight into B. If you want to learn stuff, you\\'re better off not taking any class he teaches.\",\"flagStatus\":\"UNFLAGGED\",\"createdByUser\":false,\"teacherNote\":null,\"date\":\"2021-12-26 20:06:36 +0000 UTC\",\"class\":\"EE5301\",\"helpfulRating\":1,\"clarityRating\":1,\"isForOnlineClass\":false,\"legacyId\":35657295,\"difficultyRating\":3,\"attendanceMandatory\":\"non mandatory\",\"wouldTakeAgain\":0,\"grade\":\"A\",\"textbookUse\":0,\"isForCredit\":true,\"ratingTags\":\"Graded by few things--Tough grader\",\"id\":\"UmF0aW5nLTM1NjU3Mjk1\",\"adminReviewedAt\":\"2022-02-01 14:35:15 +0000 UTC\",\"thumbsUpTotal\":0,\"thumbsDownTotal\":0,\"thumbs\":{\"__refs\":[]}},\"client:VGVhY2hlci05NDE5MzE=:ratings(first:20):edges:1\":{\"__id\":\"client:VGVhY2hlci05NDE5MzE=:ratings(first:20):edges:1\",\"__typename\":\"RatingEdge\",\"cursor\":\"YXJyYXljb25uZWN0aW9uOjE=\",\"node\":{\"__ref\":\"UmF0aW5nLTMzMzY3MTYz\"}},\"UmF0aW5nLTMzMzY3MTYz\":{\"__id\":\"UmF0aW5nLTMzMzY3MTYz\",\"__typename\":\"Rating\",\"comment\":\"This professor is trying to fail students. Do not take class with him if you dont want to change your major/career\",\"flagStatus\":\"UNFLAGGED\",\"createdByUser\":false,\"teacherNote\":null,\"date\":\"2020-05-25 15:36:35 +0000 UTC\",\"class\":\"EE1301\",\"helpfulRating\":1,\"clarityRating\":1,\"isForOnlineClass\":false,\"legacyId\":33367163,\"difficultyRating\":5,\"attendanceMandatory\":\"non mandatory\",\"wouldTakeAgain\":0,\"grade\":\"Rather not say\",\"textbookUse\":0,\"isForCredit\":true,\"ratingTags\":\"\",\"id\":\"UmF0aW5nLTMzMzY3MTYz\",\"adminReviewedAt\":\"2020-05-25 15:46:04 +0000 UTC\",\"thumbsUpTotal\":0,\"thumbsDownTotal\":0,\"thumbs\":{\"__refs\":[]}},\"client:VGVhY2hlci05NDE5MzE=:ratings(first:20):edges:2\":{\"__id\":\"client:VGVhY2hlci05NDE5MzE=:ratings(first:20):edges:2\",\"__typename\":\"RatingEdge\",\"cursor\":\"YXJyYXljb25uZWN0aW9uOjI=\",\"node\":{\"__ref\":\"UmF0aW5nLTMzMzQyNTg5\"}},\"UmF0aW5nLTMzMzQyNTg5\":{\"__id\":\"UmF0aW5nLTMzMzQyNTg5\",\"__typename\":\"Rating\",\"comment\":\"I took Kia\\'s CSE1012 class that was 3D printing with microcontrollers. He was always so positive and was a fantastic professor. He was very patient when answering questions about coding and SolidWorks. Super passionate and seemed genuinely excited to teach us. Group project got axed because of covid.\",\"flagStatus\":\"UNFLAGGED\",\"createdByUser\":false,\"teacherNote\":null,\"date\":\"2020-05-20 21:34:22 +0000 UTC\",\"class\":\"CSE1012\",\"helpfulRating\":5,\"clarityRating\":5,\"isForOnlineClass\":false,\"legacyId\":33342589,\"difficultyRating\":2,\"attendanceMandatory\":\"mandatory\",\"wouldTakeAgain\":1,\"grade\":\"A\",\"textbookUse\":0,\"isForCredit\":true,\"ratingTags\":\"\",\"id\":\"UmF0aW5nLTMzMzQyNTg5\",\"adminReviewedAt\":\"2020-05-21 23:21:50 +0000 UTC\",\"thumbsUpTotal\":0,\"thumbsDownTotal\":0,\"thumbs\":{\"__refs\":[]}},\"client:VGVhY2hlci05NDE5MzE=:ratings(first:20):edges:3\":{\"__id\":\"client:VGVhY2hlci05NDE5MzE=:ratings(first:20):edges:3\",\"__typename\":\"RatingEdge\",\"cursor\":\"YXJyYXljb25uZWN0aW9uOjM=\",\"node\":{\"__ref\":\"UmF0aW5nLTMxNDYzNzIw\"}},\"UmF0aW5nLTMxNDYzNzIw\":{\"__id\":\"UmF0aW5nLTMxNDYzNzIw\",\"__typename\":\"Rating\",\"comment\":\"BIG WORKLOAD\",\"flagStatus\":\"UNFLAGGED\",\"createdByUser\":false,\"teacherNote\":null,\"date\":\"2019-03-21 20:58:39 +0000 UTC\",\"class\":\"EE2361\",\"helpfulRating\":3,\"clarityRating\":3,\"isForOnlineClass\":false,\"legacyId\":31463720,\"difficultyRating\":4,\"attendanceMandatory\":\"mandatory\",\"wouldTakeAgain\":1,\"grade\":\"B+\",\"textbookUse\":0,\"isForCredit\":true,\"ratingTags\":\"Skip class? You won\\'t pass.--Test heavy--Tough grader\",\"id\":\"UmF0aW5nLTMxNDYzNzIw\",\"adminReviewedAt\":\"2019-03-21 20:59:15 +0000 UTC\",\"thumbsUpTotal\":0,\"thumbsDownTotal\":0,\"thumbs\":{\"__refs\":[]}},\"client:VGVhY2hlci05NDE5MzE=:ratings(first:20):edges:4\":{\"__id\":\"client:VGVhY2hlci05NDE5MzE=:ratings(first:20):edges:4\",\"__typename\":\"RatingEdge\",\"cursor\":\"YXJyYXljb25uZWN0aW9uOjQ=\",\"node\":{\"__ref\":\"UmF0aW5nLTMwMTgyOTAw\"}},\"UmF0aW5nLTMwMTgyOTAw\":{\"__id\":\"UmF0aW5nLTMwMTgyOTAw\",\"__typename\":\"Rating\",\"comment\":\"EE 2361 has somewhat unusual content, but you will learn a lot of practical/useful things. The lab can be a pain as so many small details can mess up everything. But the lab also gives you good hands on engineering experiences. Definitely look at past tests and their answer keys before exams so you know what to expect.\",\"flagStatus\":\"UNFLAGGED\",\"createdByUser\":false,\"teacherNote\":null,\"date\":\"2018-05-24 12:08:56 +0000 UTC\",\"class\":\"EE2361\",\"helpfulRating\":4,\"clarityRating\":4,\"isForOnlineClass\":false,\"legacyId\":30182900,\"difficultyRating\":3,\"attendanceMandatory\":\"\",\"wouldTakeAgain\":1,\"grade\":\"A\",\"textbookUse\":0,\"isForCredit\":true,\"ratingTags\":\"Respected--Skip class? You won\\'t pass.--Caring\",\"id\":\"UmF0aW5nLTMwMTgyOTAw\",\"adminReviewedAt\":\"2018-06-01 04:25:34 +0000 UTC\",\"thumbsUpTotal\":0,\"thumbsDownTotal\":5,\"thumbs\":{\"__refs\":[]}},\"client:VGVhY2hlci05NDE5MzE=:ratings(first:20):edges:5\":{\"__id\":\"client:VGVhY2hlci05NDE5MzE=:ratings(first:20):edges:5\",\"__typename\":\"RatingEdge\",\"cursor\":\"YXJyYXljb25uZWN0aW9uOjU=\",\"node\":{\"__ref\":\"UmF0aW5nLTMwMTQ1NTA3\"}},\"UmF0aW5nLTMwMTQ1NTA3\":{\"__id\":\"UmF0aW5nLTMwMTQ1NTA3\",\"__typename\":\"Rating\",\"comment\":\"I think he\\'s an amazing professor. make sure you pay attention in every single lecture because there\\'re no textbooks. HW, Labs, Exams could be challenging. He is willing to explain if you\\'re confused. But this is EE2361, if you expect the prof to hold your hands and walk you through it then maybe don\\'t even consider being an engineer\",\"flagStatus\":\"UNFLAGGED\",\"createdByUser\":false,\"teacherNote\":null,\"date\":\"2018-05-18 13:25:43 +0000 UTC\",\"class\":\"EE2361\",\"helpfulRating\":5,\"clarityRating\":5,\"isForOnlineClass\":false,\"legacyId\":30145507,\"difficultyRating\":4,\"attendanceMandatory\":\"\",\"wouldTakeAgain\":1,\"grade\":\"A\",\"textbookUse\":0,\"isForCredit\":true,\"ratingTags\":\"Respected--Hilarious--Amazing lectures\",\"id\":\"UmF0aW5nLTMwMTQ1NTA3\",\"adminReviewedAt\":\"2018-05-24 04:29:05 +0000 UTC\",\"thumbsUpTotal\":5,\"thumbsDownTotal\":3,\"thumbs\":{\"__refs\":[]}},\"client:VGVhY2hlci05NDE5MzE=:ratings(first:20):edges:6\":{\"__id\":\"client:VGVhY2hlci05NDE5MzE=:ratings(first:20):edges:6\",\"__typename\":\"RatingEdge\",\"cursor\":\"YXJyYXljb25uZWN0aW9uOjY=\",\"node\":{\"__ref\":\"UmF0aW5nLTMwMDQxMTIw\"}},\"UmF0aW5nLTMwMDQxMTIw\":{\"__id\":\"UmF0aW5nLTMwMDQxMTIw\",\"__typename\":\"Rating\",\"comment\":\"The lectures are the best way to learn stuff in this class. He will make you work hard on homework, labs, and tests, but he has a ton of Youtube videos to help you along while you\\'re in the class along with a ton of great resources for you to use outside of class.\",\"flagStatus\":\"UNFLAGGED\",\"createdByUser\":false,\"teacherNote\":null,\"date\":\"2018-05-09 15:34:13 +0000 UTC\",\"class\":\"EE2361\",\"helpfulRating\":5,\"clarityRating\":5,\"isForOnlineClass\":false,\"legacyId\":30041120,\"difficultyRating\":4,\"attendanceMandatory\":\"mandatory\",\"wouldTakeAgain\":1,\"grade\":\"B\",\"textbookUse\":0,\"isForCredit\":true,\"ratingTags\":\"Respected--TEST HEAVY--Amazing lectures\",\"id\":\"UmF0aW5nLTMwMDQxMTIw\",\"adminReviewedAt\":\"2018-05-16 09:13:54 +0000 UTC\",\"thumbsUpTotal\":0,\"thumbsDownTotal\":3,\"thumbs\":{\"__refs\":[]}},\"client:VGVhY2hlci05NDE5MzE=:ratings(first:20):edges:7\":{\"__id\":\"client:VGVhY2hlci05NDE5MzE=:ratings(first:20):edges:7\",\"__typename\":\"RatingEdge\",\"cursor\":\"YXJyYXljb25uZWN0aW9uOjc=\",\"node\":{\"__ref\":\"UmF0aW5nLTI5NzMwMjQ5\"}},\"UmF0aW5nLTI5NzMwMjQ5\":{\"__id\":\"UmF0aW5nLTI5NzMwMjQ5\",\"__typename\":\"Rating\",\"comment\":\"Awesome course and Awesome TA Santoshi. She has been very helpful through out the course. I would recommend this course as long as the TA doesnt change.\",\"flagStatus\":\"UNFLAGGED\",\"createdByUser\":false,\"teacherNote\":null,\"date\":\"2018-04-02 20:54:01 +0000 UTC\",\"class\":\"EE2361\",\"helpfulRating\":4,\"clarityRating\":4,\"isForOnlineClass\":false,\"legacyId\":29730249,\"difficultyRating\":3,\"attendanceMandatory\":\"\",\"wouldTakeAgain\":1,\"grade\":\"\",\"textbookUse\":0,\"isForCredit\":true,\"ratingTags\":\"Inspirational--Hilarious--Caring\",\"id\":\"UmF0aW5nLTI5NzMwMjQ5\",\"adminReviewedAt\":\"2018-04-03 00:54:23 +0000 UTC\",\"thumbsUpTotal\":8,\"thumbsDownTotal\":8,\"thumbs\":{\"__refs\":[]}},\"client:VGVhY2hlci05NDE5MzE=:ratings(first:20):edges:8\":{\"__id\":\"client:VGVhY2hlci05NDE5MzE=:ratings(first:20):edges:8\",\"__typename\":\"RatingEdge\",\"cursor\":\"YXJyYXljb25uZWN0aW9uOjg=\",\"node\":{\"__ref\":\"UmF0aW5nLTI4NzMxMjc2\"}},\"UmF0aW5nLTI4NzMxMjc2\":{\"__id\":\"UmF0aW5nLTI4NzMxMjc2\",\"__typename\":\"Rating\",\"comment\":\"Avoid if you want to go for the major you like. Otherwise he just made you hate EE and change major.\",\"flagStatus\":\"UNFLAGGED\",\"createdByUser\":false,\"teacherNote\":null,\"date\":\"2017-10-10 19:24:30 +0000 UTC\",\"class\":\"ECE2361\",\"helpfulRating\":1,\"clarityRating\":1,\"isForOnlineClass\":false,\"legacyId\":28731276,\"difficultyRating\":5,\"attendanceMandatory\":\"non mandatory\",\"wouldTakeAgain\":0,\"grade\":\"Rather not say\",\"textbookUse\":0,\"isForCredit\":true,\"ratingTags\":\"Tough Grader--Skip class? You won\\'t pass.--LOTS OF HOMEWORK\",\"id\":\"UmF0aW5nLTI4NzMxMjc2\",\"adminReviewedAt\":\"2017-10-10 19:26:10 +0000 UTC\",\"thumbsUpTotal\":9,\"thumbsDownTotal\":1,\"thumbs\":{\"__refs\":[]}},\"client:VGVhY2hlci05NDE5MzE=:ratings(first:20):edges:9\":{\"__id\":\"client:VGVhY2hlci05NDE5MzE=:ratings(first:20):edges:9\",\"__typename\":\"RatingEdge\",\"cursor\":\"YXJyYXljb25uZWN0aW9uOjk=\",\"node\":{\"__ref\":\"UmF0aW5nLTI4NDI5MzQx\"}},\"UmF0aW5nLTI4NDI5MzQx\":{\"__id\":\"UmF0aW5nLTI4NDI5MzQx\",\"__typename\":\"Rating\",\"comment\":\"Tough grader and lots of homework, but a good teacher. One of the best that I\\'ve had at the U of M and explains conceptual topics well. Cares about students and will repeat and further explain topics if needed. Kia knows his stuff and is very approachable, but is a merciless grader. Tough, but I felt like I learned a lot.\",\"flagStatus\":\"UNFLAGGED\",\"createdByUser\":false,\"teacherNote\":null,\"date\":\"2017-06-06 22:22:55 +0000 UTC\",\"class\":\"ECE2361\",\"helpfulRating\":4,\"clarityRating\":4,\"isForOnlineClass\":false,\"legacyId\":28429341,\"difficultyRating\":4,\"attendanceMandatory\":\"\",\"wouldTakeAgain\":1,\"grade\":\"A\",\"textbookUse\":0,\"isForCredit\":true,\"ratingTags\":\"Tough Grader--Skip class? You won\\'t pass.--LOTS OF HOMEWORK\",\"id\":\"UmF0aW5nLTI4NDI5MzQx\",\"adminReviewedAt\":\"2017-06-06 22:30:52 +0000 UTC\",\"thumbsUpTotal\":3,\"thumbsDownTotal\":5,\"thumbs\":{\"__refs\":[]}},\"client:VGVhY2hlci05NDE5MzE=:ratings(first:20):edges:10\":{\"__id\":\"client:VGVhY2hlci05NDE5MzE=:ratings(first:20):edges:10\",\"__typename\":\"RatingEdge\",\"cursor\":\"YXJyYXljb25uZWN0aW9uOjEw\",\"node\":{\"__ref\":\"UmF0aW5nLTI4Mzk0OTY3\"}},\"UmF0aW5nLTI4Mzk0OTY3\":{\"__id\":\"UmF0aW5nLTI4Mzk0OTY3\",\"__typename\":\"Rating\",\"comment\":\"the best professor I have had\",\"flagStatus\":\"UNFLAGGED\",\"createdByUser\":false,\"teacherNote\":null,\"date\":\"2017-05-28 18:00:33 +0000 UTC\",\"class\":\"ECE2361\",\"helpfulRating\":5,\"clarityRating\":5,\"isForOnlineClass\":false,\"legacyId\":28394967,\"difficultyRating\":4,\"attendanceMandatory\":\"mandatory\",\"wouldTakeAgain\":1,\"grade\":\"\",\"textbookUse\":5,\"isForCredit\":true,\"ratingTags\":\"Respected\",\"id\":\"UmF0aW5nLTI4Mzk0OTY3\",\"adminReviewedAt\":\"2017-05-29 08:49:25 +0000 UTC\",\"thumbsUpTotal\":2,\"thumbsDownTotal\":5,\"thumbs\":{\"__refs\":[]}},\"client:VGVhY2hlci05NDE5MzE=:ratings(first:20):edges:11\":{\"__id\":\"client:VGVhY2hlci05NDE5MzE=:ratings(first:20):edges:11\",\"__typename\":\"RatingEdge\",\"cursor\":\"YXJyYXljb25uZWN0aW9uOjEx\",\"node\":{\"__ref\":\"UmF0aW5nLTI4MDEzNjQ0\"}},\"UmF0aW5nLTI4MDEzNjQ0\":{\"__id\":\"UmF0aW5nLTI4MDEzNjQ0\",\"__typename\":\"Rating\",\"comment\":\"I would choose someone else or postpone the course I\\'m going to take if he is already assigned to it. He\\'s simply not adequate professor for average students.\",\"flagStatus\":\"UNFLAGGED\",\"createdByUser\":false,\"teacherNote\":null,\"date\":\"2017-04-07 15:13:17 +0000 UTC\",\"class\":\"EE1301\",\"helpfulRating\":1,\"clarityRating\":1,\"isForOnlineClass\":false,\"legacyId\":28013644,\"difficultyRating\":5,\"attendanceMandatory\":\"non mandatory\",\"wouldTakeAgain\":0,\"grade\":\"\",\"textbookUse\":0,\"isForCredit\":true,\"ratingTags\":\"Tough Grader--Skip class? You won\\'t pass.--BEWARE OF POP QUIZZES\",\"id\":\"UmF0aW5nLTI4MDEzNjQ0\",\"adminReviewedAt\":\"2017-04-07 15:15:46 +0000 UTC\",\"thumbsUpTotal\":5,\"thumbsDownTotal\":0,\"thumbs\":{\"__refs\":[]}},\"client:VGVhY2hlci05NDE5MzE=:ratings(first:20):edges:12\":{\"__id\":\"client:VGVhY2hlci05NDE5MzE=:ratings(first:20):edges:12\",\"__typename\":\"RatingEdge\",\"cursor\":\"YXJyYXljb25uZWN0aW9uOjEy\",\"node\":{\"__ref\":\"UmF0aW5nLTI3NzQ4MjY4\"}},\"UmF0aW5nLTI3NzQ4MjY4\":{\"__id\":\"UmF0aW5nLTI3NzQ4MjY4\",\"__typename\":\"Rating\",\"comment\":\"If you have good knowledge already before taking his class, it\\'s easier for you to learn throughout the course and also achieve better grades than those who never experienced C++. If not but you intend to learn more around C++ programming(win32 and serial hardware, and also lots of things out of C++ for completing your final project)Kia is a choice\",\"flagStatus\":\"UNFLAGGED\",\"createdByUser\":false,\"teacherNote\":null,\"date\":\"2017-01-18 12:16:24 +0000 UTC\",\"class\":\"EE1301\",\"helpfulRating\":4,\"clarityRating\":4,\"isForOnlineClass\":false,\"legacyId\":27748268,\"difficultyRating\":5,\"attendanceMandatory\":\"Y\",\"wouldTakeAgain\":1,\"grade\":\"\",\"textbookUse\":0,\"isForCredit\":true,\"ratingTags\":\"LOTS OF HOMEWORK--GROUP PROJECTS\",\"id\":\"UmF0aW5nLTI3NzQ4MjY4\",\"adminReviewedAt\":\"2017-01-21 19:20:41 +0000 UTC\",\"thumbsUpTotal\":9,\"thumbsDownTotal\":3,\"thumbs\":{\"__refs\":[]}},\"client:VGVhY2hlci05NDE5MzE=:ratings(first:20):edges:13\":{\"__id\":\"client:VGVhY2hlci05NDE5MzE=:ratings(first:20):edges:13\",\"__typename\":\"RatingEdge\",\"cursor\":\"YXJyYXljb25uZWN0aW9uOjEz\",\"node\":{\"__ref\":\"UmF0aW5nLTI3NzQwNDMx\"}},\"UmF0aW5nLTI3NzQwNDMx\":{\"__id\":\"UmF0aW5nLTI3NzQwNDMx\",\"__typename\":\"Rating\",\"comment\":\"No text required for the class--meaning that the lectures are crucial to attend. His tests and assignments are challenging, yet doable if you can piece together what you\\'ve already learned. The problems aren\\'t necessarily straightforward, but he always gave the pieces needed to put together a working solution. Tougher grader, but fair.\",\"flagStatus\":\"UNFLAGGED\",\"createdByUser\":false,\"teacherNote\":null,\"date\":\"2017-01-17 00:52:24 +0000 UTC\",\"class\":\"EE1301\",\"helpfulRating\":4,\"clarityRating\":4,\"isForOnlineClass\":false,\"legacyId\":27740431,\"difficultyRating\":3,\"attendanceMandatory\":\"non mandatory\",\"wouldTakeAgain\":1,\"grade\":\"A\",\"textbookUse\":0,\"isForCredit\":true,\"ratingTags\":\"Tough Grader--Skip class? You won\\'t pass.--Caring\",\"id\":\"UmF0aW5nLTI3NzQwNDMx\",\"adminReviewedAt\":\"2017-01-20 16:58:17 +0000 UTC\",\"thumbsUpTotal\":0,\"thumbsDownTotal\":3,\"thumbs\":{\"__refs\":[]}},\"client:VGVhY2hlci05NDE5MzE=:ratings(first:20):edges:14\":{\"__id\":\"client:VGVhY2hlci05NDE5MzE=:ratings(first:20):edges:14\",\"__typename\":\"RatingEdge\",\"cursor\":\"YXJyYXljb25uZWN0aW9uOjE0\",\"node\":{\"__ref\":\"UmF0aW5nLTI3NTI2NzA0\"}},\"UmF0aW5nLTI3NTI2NzA0\":{\"__id\":\"UmF0aW5nLTI3NTI2NzA0\",\"__typename\":\"Rating\",\"comment\":\"awsome\",\"flagStatus\":\"UNFLAGGED\",\"createdByUser\":false,\"teacherNote\":null,\"date\":\"2016-12-16 02:59:40 +0000 UTC\",\"class\":\"ECE2361\",\"helpfulRating\":5,\"clarityRating\":5,\"isForOnlineClass\":false,\"legacyId\":27526704,\"difficultyRating\":5,\"attendanceMandatory\":\"mandatory\",\"wouldTakeAgain\":1,\"grade\":\"\",\"textbookUse\":5,\"isForCredit\":true,\"ratingTags\":\"GRADED BY FEW THINGS--GROUP PROJECTS--LECTURE HEAVY\",\"id\":\"UmF0aW5nLTI3NTI2NzA0\",\"adminReviewedAt\":\"2016-12-31 08:53:14 +0000 UTC\",\"thumbsUpTotal\":1,\"thumbsDownTotal\":6,\"thumbs\":{\"__refs\":[]}},\"client:VGVhY2hlci05NDE5MzE=:ratings(first:20):edges:15\":{\"__id\":\"client:VGVhY2hlci05NDE5MzE=:ratings(first:20):edges:15\",\"__typename\":\"RatingEdge\",\"cursor\":\"YXJyYXljb25uZWN0aW9uOjE1\",\"node\":{\"__ref\":\"UmF0aW5nLTI3NDE1ODI2\"}},\"UmF0aW5nLTI3NDE1ODI2\":{\"__id\":\"UmF0aW5nLTI3NDE1ODI2\",\"__typename\":\"Rating\",\"comment\":\"Best professor I\\'ve had.\",\"flagStatus\":\"UNFLAGGED\",\"createdByUser\":false,\"teacherNote\":null,\"date\":\"2016-12-09 21:22:03 +0000 UTC\",\"class\":\"EE2361\",\"helpfulRating\":5,\"clarityRating\":5,\"isForOnlineClass\":false,\"legacyId\":27415826,\"difficultyRating\":3,\"attendanceMandatory\":\"non mandatory\",\"wouldTakeAgain\":1,\"grade\":\"A\",\"textbookUse\":0,\"isForCredit\":true,\"ratingTags\":\"Skip class? You won\\'t pass.--Caring\",\"id\":\"UmF0aW5nLTI3NDE1ODI2\",\"adminReviewedAt\":\"2016-12-18 15:43:42 +0000 UTC\",\"thumbsUpTotal\":3,\"thumbsDownTotal\":6,\"thumbs\":{\"__refs\":[]}},\"client:VGVhY2hlci05NDE5MzE=:ratings(first:20):edges:16\":{\"__id\":\"client:VGVhY2hlci05NDE5MzE=:ratings(first:20):edges:16\",\"__typename\":\"RatingEdge\",\"cursor\":\"YXJyYXljb25uZWN0aW9uOjE2\",\"node\":{\"__ref\":\"UmF0aW5nLTI3MTA4NTk3\"}},\"UmF0aW5nLTI3MTA4NTk3\":{\"__id\":\"UmF0aW5nLTI3MTA4NTk3\",\"__typename\":\"Rating\",\"comment\":\"Kia is very knowledgeable on microcontrollers. Lectures could be difficult to follow at times, laptop is very helpful. Exams were open book with all his lecture notes and your past homeworks, but pretty long and challenging timewise.\",\"flagStatus\":\"UNFLAGGED\",\"createdByUser\":false,\"teacherNote\":null,\"date\":\"2016-11-01 16:02:26 +0000 UTC\",\"class\":\"EE2361\",\"helpfulRating\":4,\"clarityRating\":4,\"isForOnlineClass\":false,\"legacyId\":27108597,\"difficultyRating\":4,\"attendanceMandatory\":\"mandatory\",\"wouldTakeAgain\":1,\"grade\":\"A\",\"textbookUse\":0,\"isForCredit\":true,\"ratingTags\":\"\",\"id\":\"UmF0aW5nLTI3MTA4NTk3\",\"adminReviewedAt\":\"2016-11-01 17:14:28 +0000 UTC\",\"thumbsUpTotal\":2,\"thumbsDownTotal\":7,\"thumbs\":{\"__refs\":[]}},\"client:VGVhY2hlci05NDE5MzE=:ratings(first:20):edges:17\":{\"__id\":\"client:VGVhY2hlci05NDE5MzE=:ratings(first:20):edges:17\",\"__typename\":\"RatingEdge\",\"cursor\":\"YXJyYXljb25uZWN0aW9uOjE3\",\"node\":{\"__ref\":\"UmF0aW5nLTI2MDcyMzM2\"}},\"UmF0aW5nLTI2MDcyMzM2\":{\"__id\":\"UmF0aW5nLTI2MDcyMzM2\",\"__typename\":\"Rating\",\"comment\":\"Really bad professor. Easy to get lost in lecture. Lazy professor. He didn\\'t prepare for lecture. Give hard homework. Not helpful in office hour.\",\"flagStatus\":\"UNFLAGGED\",\"createdByUser\":false,\"teacherNote\":null,\"date\":\"2016-02-20 19:07:12 +0000 UTC\",\"class\":\"EE2361\",\"helpfulRating\":1,\"clarityRating\":1,\"isForOnlineClass\":false,\"legacyId\":26072336,\"difficultyRating\":5,\"attendanceMandatory\":\"non mandatory\",\"wouldTakeAgain\":null,\"grade\":\"Not sure yet\",\"textbookUse\":1,\"isForCredit\":true,\"ratingTags\":\"\",\"id\":\"UmF0aW5nLTI2MDcyMzM2\",\"adminReviewedAt\":\"2016-02-20 19:07:45 +0000 UTC\",\"thumbsUpTotal\":5,\"thumbsDownTotal\":6,\"thumbs\":{\"__refs\":[]}},\"client:VGVhY2hlci05NDE5MzE=:ratings(first:20):edges:18\":{\"__id\":\"client:VGVhY2hlci05NDE5MzE=:ratings(first:20):edges:18\",\"__typename\":\"RatingEdge\",\"cursor\":\"YXJyYXljb25uZWN0aW9uOjE4\",\"node\":{\"__ref\":\"UmF0aW5nLTI2MDE3MTgx\"}},\"UmF0aW5nLTI2MDE3MTgx\":{\"__id\":\"UmF0aW5nLTI2MDE3MTgx\",\"__typename\":\"Rating\",\"comment\":\"Terrible professor in EE department. He is smart but he doesn\\'t know how to teach. He is not there to help you learn the material. He is there to give you challenge homework and exam. Very harsh on grading exam. Find anyway to fail students.\",\"flagStatus\":\"UNFLAGGED\",\"createdByUser\":false,\"teacherNote\":null,\"date\":\"2016-02-01 17:20:05 +0000 UTC\",\"class\":\"EE1301\",\"helpfulRating\":1,\"clarityRating\":1,\"isForOnlineClass\":false,\"legacyId\":26017181,\"difficultyRating\":5,\"attendanceMandatory\":\"non mandatory\",\"wouldTakeAgain\":null,\"grade\":\"C-\",\"textbookUse\":1,\"isForCredit\":true,\"ratingTags\":\"\",\"id\":\"UmF0aW5nLTI2MDE3MTgx\",\"adminReviewedAt\":\"2016-02-01 17:41:18 +0000 UTC\",\"thumbsUpTotal\":8,\"thumbsDownTotal\":2,\"thumbs\":{\"__refs\":[]}},\"client:VGVhY2hlci05NDE5MzE=:ratings(first:20):edges:19\":{\"__id\":\"client:VGVhY2hlci05NDE5MzE=:ratings(first:20):edges:19\",\"__typename\":\"RatingEdge\",\"cursor\":\"YXJyYXljb25uZWN0aW9uOjE5\",\"node\":{\"__ref\":\"UmF0aW5nLTI1OTgwOTcz\"}},\"UmF0aW5nLTI1OTgwOTcz\":{\"__id\":\"UmF0aW5nLTI1OTgwOTcz\",\"__typename\":\"Rating\",\"comment\":\"Don\\'t take him if you want a good semester. He can ruin your interesting in EE major. He tries to fail as many students as he can.\",\"flagStatus\":\"UNFLAGGED\",\"createdByUser\":false,\"teacherNote\":null,\"date\":\"2016-01-22 14:26:34 +0000 UTC\",\"class\":\"EE1301\",\"helpfulRating\":1,\"clarityRating\":1,\"isForOnlineClass\":false,\"legacyId\":25980973,\"difficultyRating\":5,\"attendanceMandatory\":\"\",\"wouldTakeAgain\":null,\"grade\":\"\",\"textbookUse\":1,\"isForCredit\":true,\"ratingTags\":\"\",\"id\":\"UmF0aW5nLTI1OTgwOTcz\",\"adminReviewedAt\":\"2016-01-26 21:58:25 +0000 UTC\",\"thumbsUpTotal\":6,\"thumbsDownTotal\":3,\"thumbs\":{\"__refs\":[]}},\"client:VGVhY2hlci05NDE5MzE=:ratings(first:20):pageInfo\":{\"__id\":\"client:VGVhY2hlci05NDE5MzE=:ratings(first:20):pageInfo\",\"__typename\":\"PageInfo\",\"hasNextPage\":true,\"endCursor\":\"YXJyYXljb25uZWN0aW9uOjE5\"},\"client:VGVhY2hlci05NDE5MzE=:__RatingsList_ratings_connection\":{\"__id\":\"client:VGVhY2hlci05NDE5MzE=:__RatingsList_ratings_connection\",\"__typename\":\"RatingConnection\",\"__connection_next_edge_index\":20,\"edges\":{\"__refs\":[\"client:VGVhY2hlci05NDE5MzE=:__RatingsList_ratings_connection:edges:0\",\"client:VGVhY2hlci05NDE5MzE=:__RatingsList_ratings_connection:edges:1\",\"client:VGVhY2hlci05NDE5MzE=:__RatingsList_ratings_connection:edges:2\",\"client:VGVhY2hlci05NDE5MzE=:__RatingsList_ratings_connection:edges:3\",\"client:VGVhY2hlci05NDE5MzE=:__RatingsList_ratings_connection:edges:4\",\"client:VGVhY2hlci05NDE5MzE=:__RatingsList_ratings_connection:edges:5\",\"client:VGVhY2hlci05NDE5MzE=:__RatingsList_ratings_connection:edges:6\",\"client:VGVhY2hlci05NDE5MzE=:__RatingsList_ratings_connection:edges:7\",\"client:VGVhY2hlci05NDE5MzE=:__RatingsList_ratings_connection:edges:8\",\"client:VGVhY2hlci05NDE5MzE=:__RatingsList_ratings_connection:edges:9\",\"client:VGVhY2hlci05NDE5MzE=:__RatingsList_ratings_connection:edges:10\",\"client:VGVhY2hlci05NDE5MzE=:__RatingsList_ratings_connection:edges:11\",\"client:VGVhY2hlci05NDE5MzE=:__RatingsList_ratings_connection:edges:12\",\"client:VGVhY2hlci05NDE5MzE=:__RatingsList_ratings_connection:edges:13\",\"client:VGVhY2hlci05NDE5MzE=:__RatingsList_ratings_connection:edges:14\",\"client:VGVhY2hlci05NDE5MzE=:__RatingsList_ratings_connection:edges:15\",\"client:VGVhY2hlci05NDE5MzE=:__RatingsList_ratings_connection:edges:16\",\"client:VGVhY2hlci05NDE5MzE=:__RatingsList_ratings_connection:edges:17\",\"client:VGVhY2hlci05NDE5MzE=:__RatingsList_ratings_connection:edges:18\",\"client:VGVhY2hlci05NDE5MzE=:__RatingsList_ratings_connection:edges:19\"]},\"pageInfo\":{\"__ref\":\"client:VGVhY2hlci05NDE5MzE=:__RatingsList_ratings_connection:pageInfo\"}},\"client:VGVhY2hlci05NDE5MzE=:__RatingsList_ratings_connection:edges:0\":{\"__id\":\"client:VGVhY2hlci05NDE5MzE=:__RatingsList_ratings_connection:edges:0\",\"__typename\":\"RatingEdge\",\"cursor\":\"YXJyYXljb25uZWN0aW9uOjA=\",\"node\":{\"__ref\":\"UmF0aW5nLTM1NjU3Mjk1\"}},\"client:VGVhY2hlci05NDE5MzE=:__RatingsList_ratings_connection:edges:1\":{\"__id\":\"client:VGVhY2hlci05NDE5MzE=:__RatingsList_ratings_connection:edges:1\",\"__typename\":\"RatingEdge\",\"cursor\":\"YXJyYXljb25uZWN0aW9uOjE=\",\"node\":{\"__ref\":\"UmF0aW5nLTMzMzY3MTYz\"}},\"client:VGVhY2hlci05NDE5MzE=:__RatingsList_ratings_connection:edges:2\":{\"__id\":\"client:VGVhY2hlci05NDE5MzE=:__RatingsList_ratings_connection:edges:2\",\"__typename\":\"RatingEdge\",\"cursor\":\"YXJyYXljb25uZWN0aW9uOjI=\",\"node\":{\"__ref\":\"UmF0aW5nLTMzMzQyNTg5\"}},\"client:VGVhY2hlci05NDE5MzE=:__RatingsList_ratings_connection:edges:3\":{\"__id\":\"client:VGVhY2hlci05NDE5MzE=:__RatingsList_ratings_connection:edges:3\",\"__typename\":\"RatingEdge\",\"cursor\":\"YXJyYXljb25uZWN0aW9uOjM=\",\"node\":{\"__ref\":\"UmF0aW5nLTMxNDYzNzIw\"}},\"client:VGVhY2hlci05NDE5MzE=:__RatingsList_ratings_connection:edges:4\":{\"__id\":\"client:VGVhY2hlci05NDE5MzE=:__RatingsList_ratings_connection:edges:4\",\"__typename\":\"RatingEdge\",\"cursor\":\"YXJyYXljb25uZWN0aW9uOjQ=\",\"node\":{\"__ref\":\"UmF0aW5nLTMwMTgyOTAw\"}},\"client:VGVhY2hlci05NDE5MzE=:__RatingsList_ratings_connection:edges:5\":{\"__id\":\"client:VGVhY2hlci05NDE5MzE=:__RatingsList_ratings_connection:edges:5\",\"__typename\":\"RatingEdge\",\"cursor\":\"YXJyYXljb25uZWN0aW9uOjU=\",\"node\":{\"__ref\":\"UmF0aW5nLTMwMTQ1NTA3\"}},\"client:VGVhY2hlci05NDE5MzE=:__RatingsList_ratings_connection:edges:6\":{\"__id\":\"client:VGVhY2hlci05NDE5MzE=:__RatingsList_ratings_connection:edges:6\",\"__typename\":\"RatingEdge\",\"cursor\":\"YXJyYXljb25uZWN0aW9uOjY=\",\"node\":{\"__ref\":\"UmF0aW5nLTMwMDQxMTIw\"}},\"client:VGVhY2hlci05NDE5MzE=:__RatingsList_ratings_connection:edges:7\":{\"__id\":\"client:VGVhY2hlci05NDE5MzE=:__RatingsList_ratings_connection:edges:7\",\"__typename\":\"RatingEdge\",\"cursor\":\"YXJyYXljb25uZWN0aW9uOjc=\",\"node\":{\"__ref\":\"UmF0aW5nLTI5NzMwMjQ5\"}},\"client:VGVhY2hlci05NDE5MzE=:__RatingsList_ratings_connection:edges:8\":{\"__id\":\"client:VGVhY2hlci05NDE5MzE=:__RatingsList_ratings_connection:edges:8\",\"__typename\":\"RatingEdge\",\"cursor\":\"YXJyYXljb25uZWN0aW9uOjg=\",\"node\":{\"__ref\":\"UmF0aW5nLTI4NzMxMjc2\"}},\"client:VGVhY2hlci05NDE5MzE=:__RatingsList_ratings_connection:edges:9\":{\"__id\":\"client:VGVhY2hlci05NDE5MzE=:__RatingsList_ratings_connection:edges:9\",\"__typename\":\"RatingEdge\",\"cursor\":\"YXJyYXljb25uZWN0aW9uOjk=\",\"node\":{\"__ref\":\"UmF0aW5nLTI4NDI5MzQx\"}},\"client:VGVhY2hlci05NDE5MzE=:__RatingsList_ratings_connection:edges:10\":{\"__id\":\"client:VGVhY2hlci05NDE5MzE=:__RatingsList_ratings_connection:edges:10\",\"__typename\":\"RatingEdge\",\"cursor\":\"YXJyYXljb25uZWN0aW9uOjEw\",\"node\":{\"__ref\":\"UmF0aW5nLTI4Mzk0OTY3\"}},\"client:VGVhY2hlci05NDE5MzE=:__RatingsList_ratings_connection:edges:11\":{\"__id\":\"client:VGVhY2hlci05NDE5MzE=:__RatingsList_ratings_connection:edges:11\",\"__typename\":\"RatingEdge\",\"cursor\":\"YXJyYXljb25uZWN0aW9uOjEx\",\"node\":{\"__ref\":\"UmF0aW5nLTI4MDEzNjQ0\"}},\"client:VGVhY2hlci05NDE5MzE=:__RatingsList_ratings_connection:edges:12\":{\"__id\":\"client:VGVhY2hlci05NDE5MzE=:__RatingsList_ratings_connection:edges:12\",\"__typename\":\"RatingEdge\",\"cursor\":\"YXJyYXljb25uZWN0aW9uOjEy\",\"node\":{\"__ref\":\"UmF0aW5nLTI3NzQ4MjY4\"}},\"client:VGVhY2hlci05NDE5MzE=:__RatingsList_ratings_connection:edges:13\":{\"__id\":\"client:VGVhY2hlci05NDE5MzE=:__RatingsList_ratings_connection:edges:13\",\"__typename\":\"RatingEdge\",\"cursor\":\"YXJyYXljb25uZWN0aW9uOjEz\",\"node\":{\"__ref\":\"UmF0aW5nLTI3NzQwNDMx\"}},\"client:VGVhY2hlci05NDE5MzE=:__RatingsList_ratings_connection:edges:14\":{\"__id\":\"client:VGVhY2hlci05NDE5MzE=:__RatingsList_ratings_connection:edges:14\",\"__typename\":\"RatingEdge\",\"cursor\":\"YXJyYXljb25uZWN0aW9uOjE0\",\"node\":{\"__ref\":\"UmF0aW5nLTI3NTI2NzA0\"}},\"client:VGVhY2hlci05NDE5MzE=:__RatingsList_ratings_connection:edges:15\":{\"__id\":\"client:VGVhY2hlci05NDE5MzE=:__RatingsList_ratings_connection:edges:15\",\"__typename\":\"RatingEdge\",\"cursor\":\"YXJyYXljb25uZWN0aW9uOjE1\",\"node\":{\"__ref\":\"UmF0aW5nLTI3NDE1ODI2\"}},\"client:VGVhY2hlci05NDE5MzE=:__RatingsList_ratings_connection:edges:16\":{\"__id\":\"client:VGVhY2hlci05NDE5MzE=:__RatingsList_ratings_connection:edges:16\",\"__typename\":\"RatingEdge\",\"cursor\":\"YXJyYXljb25uZWN0aW9uOjE2\",\"node\":{\"__ref\":\"UmF0aW5nLTI3MTA4NTk3\"}},\"client:VGVhY2hlci05NDE5MzE=:__RatingsList_ratings_connection:edges:17\":{\"__id\":\"client:VGVhY2hlci05NDE5MzE=:__RatingsList_ratings_connection:edges:17\",\"__typename\":\"RatingEdge\",\"cursor\":\"YXJyYXljb25uZWN0aW9uOjE3\",\"node\":{\"__ref\":\"UmF0aW5nLTI2MDcyMzM2\"}},\"client:VGVhY2hlci05NDE5MzE=:__RatingsList_ratings_connection:edges:18\":{\"__id\":\"client:VGVhY2hlci05NDE5MzE=:__RatingsList_ratings_connection:edges:18\",\"__typename\":\"RatingEdge\",\"cursor\":\"YXJyYXljb25uZWN0aW9uOjE4\",\"node\":{\"__ref\":\"UmF0aW5nLTI2MDE3MTgx\"}},\"client:VGVhY2hlci05NDE5MzE=:__RatingsList_ratings_connection:edges:19\":{\"__id\":\"client:VGVhY2hlci05NDE5MzE=:__RatingsList_ratings_connection:edges:19\",\"__typename\":\"RatingEdge\",\"cursor\":\"YXJyYXljb25uZWN0aW9uOjE5\",\"node\":{\"__ref\":\"UmF0aW5nLTI1OTgwOTcz\"}},\"client:VGVhY2hlci05NDE5MzE=:__RatingsList_ratings_connection:pageInfo\":{\"__id\":\"client:VGVhY2hlci05NDE5MzE=:__RatingsList_ratings_connection:pageInfo\",\"__typename\":\"PageInfo\",\"hasNextPage\":true,\"hasPreviousPage\":false,\"endCursor\":\"YXJyYXljb25uZWN0aW9uOjE5\",\"startCursor\":null}};\\n          window.process = {}\\n          window.process.env = {\"REACT_APP_GTM_KEY\":\"GTM-5HVQ56V\",\"REACT_APP_GA_PROPERTY\":\"UA-130629720-1\",\"REACT_APP_NEW_ADD_RATING\":\"true\",\"REACT_APP_SENTRY_DSN\":\"https://e767add029b840478a18a993f1d8655b@sentry.io/1848324\",\"REACT_APP_NEW_ADD_RATING_SCHOOL\":\"false\",\"REACT_APP_GRAPHQL_AUTH\":\"dGVzdDp0ZXN0\",\"REACT_APP_AD_BUNDLE_URL\":\"//ads.ratemyprofessors.com/adBundle.js?v=5\",\"REACT_APP_RMP_ROOT\":\"https://www.ratemyprofessors.com\",\"REACT_APP_NEW_CAMPUS_PAGE\":\"false\",\"REACT_APP_ENV\":\"production\",\"REACT_APP_HERMIONE_URL\":\"https://www.ratemyprofessors.com\",\"REACT_APP_SEGMENT_KEY\":\"VWaIjEe7Ot4f3SwOgZq87WUvAsWMqPHf\",\"REACT_APP_RECAPTCHA_V3_KEY\":\"6LdkVtEZAAAAAKhKVS339ciry1dTTSH1hLOFAeN6\",\"REACT_APP_HOTJAR_KEY\":\"1667000\",\"REACT_APP_NEW_ADD_PROFESSOR\":\"false\",\"REACT_APP_SHOW_CENGAGE\":\"true\",\"REACT_APP_NEW_AUTH\":\"true\"};\\n        </script>\\n        <script src=\"/static/js/main.fde95a2f.js\"></script>\\n      </body>\\n    </html>\\n  '"
      ]
     },
     "execution_count": 6,
     "metadata": {},
     "output_type": "execute_result"
    }
   ],
   "source": [
    "page.text"
   ]
  },
  {
   "cell_type": "code",
   "execution_count": 7,
   "id": "e5595f6a",
   "metadata": {},
   "outputs": [
    {
     "data": {
      "text/plain": [
       "[<span class=\"Tag-bs9vf4-0 hHOVKF\">Tough grader</span>,\n",
       " <span class=\"Tag-bs9vf4-0 hHOVKF\">Lots of homework</span>,\n",
       " <span class=\"Tag-bs9vf4-0 hHOVKF\">Skip class? You won't pass.</span>,\n",
       " <span class=\"Tag-bs9vf4-0 hHOVKF\">Beware of pop quizzes</span>,\n",
       " <span class=\"Tag-bs9vf4-0 hHOVKF\">Caring</span>,\n",
       " <span class=\"Tag-bs9vf4-0 hHOVKF\">Graded by few things</span>,\n",
       " <span class=\"Tag-bs9vf4-0 hHOVKF\">Tough grader</span>,\n",
       " <span class=\"Tag-bs9vf4-0 hHOVKF\">Skip class? You won't pass.</span>,\n",
       " <span class=\"Tag-bs9vf4-0 hHOVKF\">Test heavy</span>,\n",
       " <span class=\"Tag-bs9vf4-0 hHOVKF\">Tough grader</span>,\n",
       " <span class=\"Tag-bs9vf4-0 hHOVKF\">Respected</span>,\n",
       " <span class=\"Tag-bs9vf4-0 hHOVKF\">Skip class? You won't pass.</span>,\n",
       " <span class=\"Tag-bs9vf4-0 hHOVKF\">Caring</span>,\n",
       " <span class=\"Tag-bs9vf4-0 hHOVKF\">Respected</span>,\n",
       " <span class=\"Tag-bs9vf4-0 hHOVKF\">Hilarious</span>,\n",
       " <span class=\"Tag-bs9vf4-0 hHOVKF\">Amazing lectures</span>,\n",
       " <span class=\"Tag-bs9vf4-0 hHOVKF\">Respected</span>,\n",
       " <span class=\"Tag-bs9vf4-0 hHOVKF\">TEST HEAVY</span>,\n",
       " <span class=\"Tag-bs9vf4-0 hHOVKF\">Amazing lectures</span>,\n",
       " <span class=\"Tag-bs9vf4-0 hHOVKF\">Inspirational</span>,\n",
       " <span class=\"Tag-bs9vf4-0 hHOVKF\">Hilarious</span>,\n",
       " <span class=\"Tag-bs9vf4-0 hHOVKF\">Caring</span>,\n",
       " <span class=\"Tag-bs9vf4-0 hHOVKF\">Tough Grader</span>,\n",
       " <span class=\"Tag-bs9vf4-0 hHOVKF\">Skip class? You won't pass.</span>,\n",
       " <span class=\"Tag-bs9vf4-0 hHOVKF\">LOTS OF HOMEWORK</span>,\n",
       " <span class=\"Tag-bs9vf4-0 hHOVKF\">Tough Grader</span>,\n",
       " <span class=\"Tag-bs9vf4-0 hHOVKF\">Skip class? You won't pass.</span>,\n",
       " <span class=\"Tag-bs9vf4-0 hHOVKF\">LOTS OF HOMEWORK</span>,\n",
       " <span class=\"Tag-bs9vf4-0 hHOVKF\">Respected</span>,\n",
       " <span class=\"Tag-bs9vf4-0 hHOVKF\">Tough Grader</span>,\n",
       " <span class=\"Tag-bs9vf4-0 hHOVKF\">Skip class? You won't pass.</span>,\n",
       " <span class=\"Tag-bs9vf4-0 hHOVKF\">BEWARE OF POP QUIZZES</span>,\n",
       " <span class=\"Tag-bs9vf4-0 hHOVKF\">LOTS OF HOMEWORK</span>,\n",
       " <span class=\"Tag-bs9vf4-0 hHOVKF\">GROUP PROJECTS</span>,\n",
       " <span class=\"Tag-bs9vf4-0 hHOVKF\">Tough Grader</span>,\n",
       " <span class=\"Tag-bs9vf4-0 hHOVKF\">Skip class? You won't pass.</span>,\n",
       " <span class=\"Tag-bs9vf4-0 hHOVKF\">Caring</span>,\n",
       " <span class=\"Tag-bs9vf4-0 hHOVKF\">GRADED BY FEW THINGS</span>,\n",
       " <span class=\"Tag-bs9vf4-0 hHOVKF\">GROUP PROJECTS</span>,\n",
       " <span class=\"Tag-bs9vf4-0 hHOVKF\">LECTURE HEAVY</span>,\n",
       " <span class=\"Tag-bs9vf4-0 hHOVKF\">Skip class? You won't pass.</span>,\n",
       " <span class=\"Tag-bs9vf4-0 hHOVKF\">Caring</span>]"
      ]
     },
     "execution_count": 7,
     "metadata": {},
     "output_type": "execute_result"
    }
   ],
   "source": [
    "proftags = soup.find_all(\"span\",{\"class\":\"Tag-bs9vf4-0 hHOVKF\"})\n",
    "proftags"
   ]
  },
  {
   "cell_type": "code",
   "execution_count": 8,
   "id": "bc62a53e",
   "metadata": {},
   "outputs": [
    {
     "name": "stdout",
     "output_type": "stream",
     "text": [
      "Tough grader\n",
      "Lots of homework\n",
      "Skip class? You won't pass.\n",
      "Beware of pop quizzes\n",
      "Caring\n",
      "Graded by few things\n",
      "Tough grader\n",
      "Skip class? You won't pass.\n",
      "Test heavy\n",
      "Tough grader\n",
      "Respected\n",
      "Skip class? You won't pass.\n",
      "Caring\n",
      "Respected\n",
      "Hilarious\n",
      "Amazing lectures\n",
      "Respected\n",
      "TEST HEAVY\n",
      "Amazing lectures\n",
      "Inspirational\n",
      "Hilarious\n",
      "Caring\n",
      "Tough Grader\n",
      "Skip class? You won't pass.\n",
      "LOTS OF HOMEWORK\n",
      "Tough Grader\n",
      "Skip class? You won't pass.\n",
      "LOTS OF HOMEWORK\n",
      "Respected\n",
      "Tough Grader\n",
      "Skip class? You won't pass.\n",
      "BEWARE OF POP QUIZZES\n",
      "LOTS OF HOMEWORK\n",
      "GROUP PROJECTS\n",
      "Tough Grader\n",
      "Skip class? You won't pass.\n",
      "Caring\n",
      "GRADED BY FEW THINGS\n",
      "GROUP PROJECTS\n",
      "LECTURE HEAVY\n",
      "Skip class? You won't pass.\n",
      "Caring\n"
     ]
    }
   ],
   "source": [
    "for mytag in proftags:\n",
    "    print(mytag.get_text())"
   ]
  },
  {
   "cell_type": "code",
   "execution_count": 9,
   "id": "5c5152c8",
   "metadata": {},
   "outputs": [],
   "source": [
    "import pandas as pd"
   ]
  },
  {
   "cell_type": "code",
   "execution_count": 10,
   "id": "76447112",
   "metadata": {},
   "outputs": [],
   "source": [
    "base_site = \"https://editorial.rottentomatoes.com/guide/140-essential-action-movies-to-watch-now/#:~:text=We%20have%20the%20classics%20(Die,(Commando%2C%20First%20Blood).\""
   ]
  },
  {
   "cell_type": "code",
   "execution_count": 11,
   "id": "805606cb",
   "metadata": {},
   "outputs": [
    {
     "data": {
      "text/plain": [
       "200"
      ]
     },
     "execution_count": 11,
     "metadata": {},
     "output_type": "execute_result"
    }
   ],
   "source": [
    "response = requests.get(base_site)\n",
    "response.status_code"
   ]
  },
  {
   "cell_type": "code",
   "execution_count": 12,
   "id": "8f1d7778",
   "metadata": {},
   "outputs": [],
   "source": [
    "# get html from the webpage\n",
    "\n",
    "html = response.content"
   ]
  },
  {
   "cell_type": "code",
   "execution_count": 13,
   "id": "84aa1cdf",
   "metadata": {},
   "outputs": [],
   "source": [
    "# Convert html to beautiful soup object\n",
    "\n",
    "soup = BeautifulSoup(html, \"html.parser\")"
   ]
  },
  {
   "cell_type": "code",
   "execution_count": 14,
   "id": "69ab024f",
   "metadata": {},
   "outputs": [
    {
     "name": "stdout",
     "output_type": "stream",
     "text": [
      "<class 'bs4.element.ResultSet'>\n"
     ]
    }
   ],
   "source": [
    "divs = soup.find_all(\"div\",{\"class\": \"col-sm-18 col-full-xs countdown-item-content\"})\n",
    "print(type(divs))"
   ]
  },
  {
   "cell_type": "code",
   "execution_count": 15,
   "id": "8ec4bef7",
   "metadata": {},
   "outputs": [
    {
     "data": {
      "text/plain": [
       "[<div class=\"col-sm-18 col-full-xs countdown-item-content\">\n",
       " <div class=\"row countdown-item-title-bar\">\n",
       " <div class=\"col-sm-20 col-full-xs\" style=\"height: 100%;\">\n",
       " <div class=\"article_movie_title\" style=\"float: left;\">\n",
       " <div><h2><a href=\"https://www.rottentomatoes.com/m/1018009-running_scared\">Running Scared</a> <span class=\"subtle start-year\">(1986)</span> <span class=\"icon tiny rotten\" title=\"Rotten\"></span> <span class=\"tMeterScore\">59%</span></h2></div>\n",
       " </div>\n",
       " </div>\n",
       " <div class=\"col-sm-4 col-full-xs\" style=\"height: 100%;\">\n",
       " <div class=\"countdown-index\">#140</div>\n",
       " </div>\n",
       " </div>\n",
       " <div class=\"row countdown-item-details\">\n",
       " <div class=\"col-sm-24\">\n",
       " <div class=\"info countdown-adjusted-score\"><span class=\"descriptor\">Adjusted Score: </span>59011% <span class=\"glyphicon glyphicon-question-sign\" data-html=\"true\" data-original-title=\"The Adjusted Score comes from a weighted formula (Bayesian) that we use that accounts for variation in the number of reviews per movie.\" data-placement=\"top\" data-toggle=\"tooltip\" rel=\"tooltip\" title=\"\"></span></div>\n",
       " <div class=\"info critics-consensus\"><span class=\"descriptor\">Critics Consensus:</span> <em>Running Scared</em> struggles to strike a consistent balance between violent action and humor, but the chemistry between its well-matched leads keeps things entertaining.</div>\n",
       " <div class=\"info synopsis\"><span class=\"descriptor\">Synopsis:</span> Ray and Danny (Gregory Hines, Billy Crystal) are two Chicago police detectives hot on the trail of drug kingpin Julio...<a class=\"\" data-pageheader=\"\" href=\"https://www.rottentomatoes.com/m/1018009-running_scared\" target=\"_top\"> [More]</a></div>\n",
       " <div class=\"info cast\">\n",
       " <span class=\"descriptor\">Starring:</span> <a class=\"\" href=\"//www.rottentomatoes.com/celebrity/gregory_hines\">Gregory Hines</a>, <a class=\"\" href=\"//www.rottentomatoes.com/celebrity/billy_crystal\">Billy Crystal</a>, <a class=\"\" href=\"//www.rottentomatoes.com/celebrity/jimmy_smits\">Jimmy Smits</a>, <a class=\"\" href=\"//www.rottentomatoes.com/celebrity/steven_bauer\">Steven Bauer</a></div>\n",
       " <div class=\"info director\">\n",
       " <span class=\"descriptor\">Directed By:</span> <a class=\"\" href=\"//www.rottentomatoes.com/celebrity/peter_hyams\">Peter Hyams</a></div>\n",
       " </div>\n",
       " </div>\n",
       " </div>,\n",
       " <div class=\"col-sm-18 col-full-xs countdown-item-content\">\n",
       " <div class=\"row countdown-item-title-bar\">\n",
       " <div class=\"col-sm-20 col-full-xs\" style=\"height: 100%;\">\n",
       " <div class=\"article_movie_title\" style=\"float: left;\">\n",
       " <div><h2><a href=\"https://www.rottentomatoes.com/m/equilibrium\">Equilibrium</a> <span class=\"subtle start-year\">(2002)</span> <span class=\"icon tiny rotten\" title=\"Rotten\"></span> <span class=\"tMeterScore\">40%</span></h2></div>\n",
       " </div>\n",
       " </div>\n",
       " <div class=\"col-sm-4 col-full-xs\" style=\"height: 100%;\">\n",
       " <div class=\"countdown-index\">#139</div>\n",
       " </div>\n",
       " </div>\n",
       " <div class=\"row countdown-item-details\">\n",
       " <div class=\"col-sm-24\">\n",
       " <div class=\"info countdown-adjusted-score\"><span class=\"descriptor\">Adjusted Score: </span>42558% <span class=\"glyphicon glyphicon-question-sign\" data-html=\"true\" data-original-title=\"The Adjusted Score comes from a weighted formula (Bayesian) that we use that accounts for variation in the number of reviews per movie.\" data-placement=\"top\" data-toggle=\"tooltip\" rel=\"tooltip\" title=\"\"></span></div>\n",
       " <div class=\"info critics-consensus\"><span class=\"descriptor\">Critics Consensus:</span> Equilibrium is a reheated mishmash of other sci-fi movies.</div>\n",
       " <div class=\"info synopsis\"><span class=\"descriptor\">Synopsis:</span> In a futuristic world, a regime has eliminated war by suppressing emotions: books, art and music are strictly forbidden and...<a class=\"\" data-pageheader=\"\" href=\"https://www.rottentomatoes.com/m/equilibrium\" target=\"_top\"> [More]</a></div>\n",
       " <div class=\"info cast\">\n",
       " <span class=\"descriptor\">Starring:</span> <a class=\"\" href=\"//www.rottentomatoes.com/celebrity/christian_bale\">Christian Bale</a>, <a class=\"\" href=\"//www.rottentomatoes.com/celebrity/emily_watson\">Emily Watson</a>, <a class=\"\" href=\"//www.rottentomatoes.com/celebrity/taye_diggs\">Taye Diggs</a>, <a class=\"\" href=\"//www.rottentomatoes.com/celebrity/angus_macfadyen\">Angus Macfadyen</a></div>\n",
       " <div class=\"info director\">\n",
       " <span class=\"descriptor\">Directed By:</span> <a class=\"\" href=\"//www.rottentomatoes.com/celebrity/kurt_wimmer\">Kurt Wimmer</a></div>\n",
       " </div>\n",
       " </div>\n",
       " </div>]"
      ]
     },
     "execution_count": 15,
     "metadata": {},
     "output_type": "execute_result"
    }
   ],
   "source": [
    "divs[:2]"
   ]
  },
  {
   "cell_type": "code",
   "execution_count": 16,
   "id": "6347e1b7",
   "metadata": {},
   "outputs": [
    {
     "data": {
      "text/plain": [
       "<h2><a href=\"https://www.rottentomatoes.com/m/1018009-running_scared\">Running Scared</a> <span class=\"subtle start-year\">(1986)</span> <span class=\"icon tiny rotten\" title=\"Rotten\"></span> <span class=\"tMeterScore\">59%</span></h2>"
      ]
     },
     "execution_count": 16,
     "metadata": {},
     "output_type": "execute_result"
    }
   ],
   "source": [
    "divs[0].find(\"h2\")"
   ]
  },
  {
   "cell_type": "code",
   "execution_count": 17,
   "id": "a0b4b0a2",
   "metadata": {},
   "outputs": [],
   "source": [
    "headings = [ div.find(\"h2\") for div in divs ]"
   ]
  },
  {
   "cell_type": "code",
   "execution_count": 18,
   "id": "8c151550",
   "metadata": {},
   "outputs": [
    {
     "data": {
      "text/plain": [
       "[<h2><a href=\"https://www.rottentomatoes.com/m/1018009-running_scared\">Running Scared</a> <span class=\"subtle start-year\">(1986)</span> <span class=\"icon tiny rotten\" title=\"Rotten\"></span> <span class=\"tMeterScore\">59%</span></h2>,\n",
       " <h2><a href=\"https://www.rottentomatoes.com/m/equilibrium\">Equilibrium</a> <span class=\"subtle start-year\">(2002)</span> <span class=\"icon tiny rotten\" title=\"Rotten\"></span> <span class=\"tMeterScore\">40%</span></h2>]"
      ]
     },
     "execution_count": 18,
     "metadata": {},
     "output_type": "execute_result"
    }
   ],
   "source": [
    "headings[:2]"
   ]
  },
  {
   "cell_type": "code",
   "execution_count": 19,
   "id": "52f83ce0",
   "metadata": {},
   "outputs": [
    {
     "data": {
      "text/plain": [
       "'Running Scared (1986)  59%'"
      ]
     },
     "execution_count": 19,
     "metadata": {},
     "output_type": "execute_result"
    }
   ],
   "source": [
    "headings[0].text"
   ]
  },
  {
   "cell_type": "code",
   "execution_count": 20,
   "id": "cbdfcda2",
   "metadata": {},
   "outputs": [
    {
     "data": {
      "text/plain": [
       "['Running Scared (1986)  59%',\n",
       " 'Equilibrium (2002)  40%',\n",
       " 'Hero (2002)  94%',\n",
       " 'Road House (1989)  37%',\n",
       " 'Unstoppable (2010)  87%']"
      ]
     },
     "execution_count": 20,
     "metadata": {},
     "output_type": "execute_result"
    }
   ],
   "source": [
    "[ heading.text for heading in headings][:5]"
   ]
  },
  {
   "cell_type": "code",
   "execution_count": 21,
   "id": "45467a28",
   "metadata": {},
   "outputs": [
    {
     "data": {
      "text/plain": [
       "<h2><a href=\"https://www.rottentomatoes.com/m/1018009-running_scared\">Running Scared</a> <span class=\"subtle start-year\">(1986)</span> <span class=\"icon tiny rotten\" title=\"Rotten\"></span> <span class=\"tMeterScore\">59%</span></h2>"
      ]
     },
     "execution_count": 21,
     "metadata": {},
     "output_type": "execute_result"
    }
   ],
   "source": [
    "headings[0]"
   ]
  },
  {
   "cell_type": "code",
   "execution_count": 22,
   "id": "9fde9981",
   "metadata": {},
   "outputs": [
    {
     "data": {
      "text/plain": [
       "[<a href=\"https://www.rottentomatoes.com/m/1018009-running_scared\">Running Scared</a>,\n",
       " <a href=\"https://www.rottentomatoes.com/m/equilibrium\">Equilibrium</a>,\n",
       " <a href=\"https://www.rottentomatoes.com/m/hero\">Hero</a>,\n",
       " <a href=\"https://www.rottentomatoes.com/m/1017666-road_house\">Road House</a>,\n",
       " <a href=\"https://www.rottentomatoes.com/m/unstoppable-2010\">Unstoppable</a>]"
      ]
     },
     "execution_count": 22,
     "metadata": {},
     "output_type": "execute_result"
    }
   ],
   "source": [
    "[ heading.find(\"a\") for heading in headings][:5]"
   ]
  },
  {
   "cell_type": "code",
   "execution_count": 23,
   "id": "d820a85f",
   "metadata": {},
   "outputs": [
    {
     "data": {
      "text/plain": [
       "['Running Scared', 'Equilibrium', 'Hero', 'Road House', 'Unstoppable']"
      ]
     },
     "execution_count": 23,
     "metadata": {},
     "output_type": "execute_result"
    }
   ],
   "source": [
    "[ heading.find(\"a\").string for heading in headings][:5]"
   ]
  },
  {
   "cell_type": "code",
   "execution_count": 24,
   "id": "3a124a48",
   "metadata": {},
   "outputs": [
    {
     "data": {
      "text/plain": [
       "['Running Scared', 'Equilibrium', 'Hero', 'Road House', 'Unstoppable']"
      ]
     },
     "execution_count": 24,
     "metadata": {},
     "output_type": "execute_result"
    }
   ],
   "source": [
    "movie_names = [ heading.find(\"a\").string for heading in headings]\n",
    "movie_names[:5]"
   ]
  },
  {
   "cell_type": "code",
   "execution_count": 25,
   "id": "167e83e8",
   "metadata": {},
   "outputs": [
    {
     "data": {
      "text/plain": [
       "[<span class=\"subtle start-year\">(1986)</span>,\n",
       " <span class=\"subtle start-year\">(2002)</span>,\n",
       " <span class=\"subtle start-year\">(2002)</span>,\n",
       " <span class=\"subtle start-year\">(1989)</span>,\n",
       " <span class=\"subtle start-year\">(2010)</span>]"
      ]
     },
     "execution_count": 25,
     "metadata": {},
     "output_type": "execute_result"
    }
   ],
   "source": [
    "[ heading.find(\"span\",class_=\"subtle start-year\") for heading in headings][:5]"
   ]
  },
  {
   "cell_type": "code",
   "execution_count": 26,
   "id": "bad5bb75",
   "metadata": {},
   "outputs": [
    {
     "data": {
      "text/plain": [
       "['(1986)', '(2002)', '(2002)', '(1989)', '(2010)']"
      ]
     },
     "execution_count": 26,
     "metadata": {},
     "output_type": "execute_result"
    }
   ],
   "source": [
    "[ heading.find(\"span\",class_=\"subtle start-year\").string for heading in headings][:5]"
   ]
  },
  {
   "cell_type": "code",
   "execution_count": 27,
   "id": "fa768030",
   "metadata": {},
   "outputs": [
    {
     "data": {
      "text/plain": [
       "['(1986)', '(2002)', '(2002)', '(1989)', '(2010)']"
      ]
     },
     "execution_count": 27,
     "metadata": {},
     "output_type": "execute_result"
    }
   ],
   "source": [
    "years = [ heading.find(\"span\",class_=\"subtle start-year\").string for heading in headings]\n",
    "years[:5]"
   ]
  },
  {
   "cell_type": "code",
   "execution_count": 28,
   "id": "3e208dd9",
   "metadata": {},
   "outputs": [
    {
     "data": {
      "text/plain": [
       "'(1986)'"
      ]
     },
     "execution_count": 28,
     "metadata": {},
     "output_type": "execute_result"
    }
   ],
   "source": [
    "years[0]"
   ]
  },
  {
   "cell_type": "code",
   "execution_count": 29,
   "id": "96361f89",
   "metadata": {},
   "outputs": [
    {
     "data": {
      "text/plain": [
       "'1986'"
      ]
     },
     "execution_count": 29,
     "metadata": {},
     "output_type": "execute_result"
    }
   ],
   "source": [
    "years[0][1:-1]"
   ]
  },
  {
   "cell_type": "code",
   "execution_count": 30,
   "id": "5c80452f",
   "metadata": {},
   "outputs": [
    {
     "data": {
      "text/plain": [
       "'1986'"
      ]
     },
     "execution_count": 30,
     "metadata": {},
     "output_type": "execute_result"
    }
   ],
   "source": [
    "years[0].strip(\"()\")"
   ]
  },
  {
   "cell_type": "code",
   "execution_count": 31,
   "id": "9e45de86",
   "metadata": {},
   "outputs": [
    {
     "data": {
      "text/plain": [
       "1986"
      ]
     },
     "execution_count": 31,
     "metadata": {},
     "output_type": "execute_result"
    }
   ],
   "source": [
    "int(years[0].strip(\"()\"))"
   ]
  },
  {
   "cell_type": "code",
   "execution_count": 32,
   "id": "e7b6cc5e",
   "metadata": {},
   "outputs": [
    {
     "data": {
      "text/plain": [
       "['1986', '2002', '2002', '1989', '2010']"
      ]
     },
     "execution_count": 32,
     "metadata": {},
     "output_type": "execute_result"
    }
   ],
   "source": [
    "years = [ year.strip(\"()\") for year in years ]\n",
    "years[:5]"
   ]
  },
  {
   "cell_type": "code",
   "execution_count": 33,
   "id": "879d5312",
   "metadata": {},
   "outputs": [
    {
     "data": {
      "text/plain": [
       "[1986, 2002, 2002, 1989, 2010]"
      ]
     },
     "execution_count": 33,
     "metadata": {},
     "output_type": "execute_result"
    }
   ],
   "source": [
    "years = [ int(year) for year in years ]\n",
    "years[:5]"
   ]
  },
  {
   "cell_type": "code",
   "execution_count": 34,
   "id": "a5dae6be",
   "metadata": {},
   "outputs": [
    {
     "data": {
      "text/plain": [
       "[<span class=\"tMeterScore\">59%</span>,\n",
       " <span class=\"tMeterScore\">40%</span>,\n",
       " <span class=\"tMeterScore\">94%</span>,\n",
       " <span class=\"tMeterScore\">37%</span>,\n",
       " <span class=\"tMeterScore\">87%</span>]"
      ]
     },
     "execution_count": 34,
     "metadata": {},
     "output_type": "execute_result"
    }
   ],
   "source": [
    "[ heading.find(\"span\", class_=\"tMeterScore\") for heading in headings ][:5]"
   ]
  },
  {
   "cell_type": "code",
   "execution_count": 35,
   "id": "8878cc1b",
   "metadata": {},
   "outputs": [
    {
     "data": {
      "text/plain": [
       "['59%', '40%', '94%', '37%', '87%']"
      ]
     },
     "execution_count": 35,
     "metadata": {},
     "output_type": "execute_result"
    }
   ],
   "source": [
    "[ heading.find(\"span\", class_=\"tMeterScore\").string for heading in headings ][:5]"
   ]
  },
  {
   "cell_type": "code",
   "execution_count": 36,
   "id": "32b3ed39",
   "metadata": {},
   "outputs": [
    {
     "data": {
      "text/plain": [
       "['59%', '40%', '94%', '37%', '87%']"
      ]
     },
     "execution_count": 36,
     "metadata": {},
     "output_type": "execute_result"
    }
   ],
   "source": [
    "scores = [ heading.find(\"span\", class_=\"tMeterScore\").string for heading in headings ]\n",
    "scores[:5]"
   ]
  },
  {
   "cell_type": "code",
   "execution_count": 37,
   "id": "faf3ce88",
   "metadata": {},
   "outputs": [
    {
     "data": {
      "text/plain": [
       "['59', '40', '94', '37', '87']"
      ]
     },
     "execution_count": 37,
     "metadata": {},
     "output_type": "execute_result"
    }
   ],
   "source": [
    "scores = [ s.strip(\"%\") for s in scores ]\n",
    "scores[:5]"
   ]
  },
  {
   "cell_type": "code",
   "execution_count": 38,
   "id": "e982f67f",
   "metadata": {},
   "outputs": [
    {
     "data": {
      "text/plain": [
       "[59, 40, 94, 37, 87]"
      ]
     },
     "execution_count": 38,
     "metadata": {},
     "output_type": "execute_result"
    }
   ],
   "source": [
    "scores = [ int(s) for s in scores ]\n",
    "scores[:5]"
   ]
  },
  {
   "cell_type": "code",
   "execution_count": null,
   "id": "f1d780e5",
   "metadata": {},
   "outputs": [],
   "source": []
  },
  {
   "cell_type": "code",
   "execution_count": 39,
   "id": "90023e8b",
   "metadata": {},
   "outputs": [
    {
     "data": {
      "text/plain": [
       "<div class=\"col-sm-18 col-full-xs countdown-item-content\">\n",
       "<div class=\"row countdown-item-title-bar\">\n",
       "<div class=\"col-sm-20 col-full-xs\" style=\"height: 100%;\">\n",
       "<div class=\"article_movie_title\" style=\"float: left;\">\n",
       "<div><h2><a href=\"https://www.rottentomatoes.com/m/1018009-running_scared\">Running Scared</a> <span class=\"subtle start-year\">(1986)</span> <span class=\"icon tiny rotten\" title=\"Rotten\"></span> <span class=\"tMeterScore\">59%</span></h2></div>\n",
       "</div>\n",
       "</div>\n",
       "<div class=\"col-sm-4 col-full-xs\" style=\"height: 100%;\">\n",
       "<div class=\"countdown-index\">#140</div>\n",
       "</div>\n",
       "</div>\n",
       "<div class=\"row countdown-item-details\">\n",
       "<div class=\"col-sm-24\">\n",
       "<div class=\"info countdown-adjusted-score\"><span class=\"descriptor\">Adjusted Score: </span>59011% <span class=\"glyphicon glyphicon-question-sign\" data-html=\"true\" data-original-title=\"The Adjusted Score comes from a weighted formula (Bayesian) that we use that accounts for variation in the number of reviews per movie.\" data-placement=\"top\" data-toggle=\"tooltip\" rel=\"tooltip\" title=\"\"></span></div>\n",
       "<div class=\"info critics-consensus\"><span class=\"descriptor\">Critics Consensus:</span> <em>Running Scared</em> struggles to strike a consistent balance between violent action and humor, but the chemistry between its well-matched leads keeps things entertaining.</div>\n",
       "<div class=\"info synopsis\"><span class=\"descriptor\">Synopsis:</span> Ray and Danny (Gregory Hines, Billy Crystal) are two Chicago police detectives hot on the trail of drug kingpin Julio...<a class=\"\" data-pageheader=\"\" href=\"https://www.rottentomatoes.com/m/1018009-running_scared\" target=\"_top\"> [More]</a></div>\n",
       "<div class=\"info cast\">\n",
       "<span class=\"descriptor\">Starring:</span> <a class=\"\" href=\"//www.rottentomatoes.com/celebrity/gregory_hines\">Gregory Hines</a>, <a class=\"\" href=\"//www.rottentomatoes.com/celebrity/billy_crystal\">Billy Crystal</a>, <a class=\"\" href=\"//www.rottentomatoes.com/celebrity/jimmy_smits\">Jimmy Smits</a>, <a class=\"\" href=\"//www.rottentomatoes.com/celebrity/steven_bauer\">Steven Bauer</a></div>\n",
       "<div class=\"info director\">\n",
       "<span class=\"descriptor\">Directed By:</span> <a class=\"\" href=\"//www.rottentomatoes.com/celebrity/peter_hyams\">Peter Hyams</a></div>\n",
       "</div>\n",
       "</div>\n",
       "</div>"
      ]
     },
     "execution_count": 39,
     "metadata": {},
     "output_type": "execute_result"
    }
   ],
   "source": [
    "divs[0]"
   ]
  },
  {
   "cell_type": "code",
   "execution_count": 40,
   "id": "c46f61d2",
   "metadata": {},
   "outputs": [
    {
     "data": {
      "text/plain": [
       "[<div class=\"info critics-consensus\"><span class=\"descriptor\">Critics Consensus:</span> <em>Running Scared</em> struggles to strike a consistent balance between violent action and humor, but the chemistry between its well-matched leads keeps things entertaining.</div>,\n",
       " <div class=\"info critics-consensus\"><span class=\"descriptor\">Critics Consensus:</span> Equilibrium is a reheated mishmash of other sci-fi movies.</div>]"
      ]
     },
     "execution_count": 40,
     "metadata": {},
     "output_type": "execute_result"
    }
   ],
   "source": [
    "consensus = [ div.find(\"div\", {\"class\":\"info critics-consensus\"}) for div in divs ]\n",
    "consensus[:2]"
   ]
  },
  {
   "cell_type": "code",
   "execution_count": 41,
   "id": "63731a9d",
   "metadata": {},
   "outputs": [
    {
     "data": {
      "text/plain": [
       "['Critics Consensus: Running Scared struggles to strike a consistent balance between violent action and humor, but the chemistry between its well-matched leads keeps things entertaining.',\n",
       " 'Critics Consensus: Equilibrium is a reheated mishmash of other sci-fi movies.',\n",
       " 'Critics Consensus: With death-defying action sequences and epic historic sweep, Hero offers everything a martial arts fan could ask for.',\n",
       " \"Critics Consensus: Whether Road House is simply bad or so bad it's good depends largely on the audience's fondness for Swayze -- and tolerance for violently cheesy action.\",\n",
       " \"Critics Consensus: As fast, loud, and relentless as the train at the center of the story, Unstoppable is perfect popcorn entertainment -- and director Tony Scott's best movie in years.\"]"
      ]
     },
     "execution_count": 41,
     "metadata": {},
     "output_type": "execute_result"
    }
   ],
   "source": [
    "[ con.text for con in consensus ][:5]"
   ]
  },
  {
   "cell_type": "code",
   "execution_count": 42,
   "id": "5d6e012c",
   "metadata": {},
   "outputs": [
    {
     "data": {
      "text/plain": [
       "['Critics Consensus: Running Scared struggles to strike a consistent balance between violent action and humor, but the chemistry between its well-matched leads keeps things entertaining.',\n",
       " 'Critics Consensus: Equilibrium is a reheated mishmash of other sci-fi movies.',\n",
       " 'Critics Consensus: With death-defying action sequences and epic historic sweep, Hero offers everything a martial arts fan could ask for.',\n",
       " \"Critics Consensus: Whether Road House is simply bad or so bad it's good depends largely on the audience's fondness for Swayze -- and tolerance for violently cheesy action.\",\n",
       " \"Critics Consensus: As fast, loud, and relentless as the train at the center of the story, Unstoppable is perfect popcorn entertainment -- and director Tony Scott's best movie in years.\",\n",
       " 'Critics Consensus: This is the man that would risk his neck for his brother, man. Can you dig it?',\n",
       " 'Critics Consensus: The Villainess offers enough pure kinetic thrills to satisfy genre enthusiasts -- and carve out a bloody niche for itself in modern Korean action cinema.',\n",
       " \"Critics Consensus: People hate Highlander because it's cheesy, bombastic, and absurd. And people love it for the same reasons.\",\n",
       " 'Critics Consensus: It lacks the fresh thrills of its predecessor, but Die Hard 2 still works as an over-the-top -- and reasonably taut -- big-budget sequel, with plenty of set pieces to paper over the plot deficiencies.',\n",
       " \"Critics Consensus: National Treasure is no treasure, but it's a fun ride for those who can forgive its highly improbable plot.\",\n",
       " 'Critics Consensus: Despite some impressive fight scenes, this trimmed-down version of the Thai action pic is an off-putting mix of scant plot, choppy editing, and confusing subtitles and dubbing.',\n",
       " 'Critics Consensus: Revenge slices and dices genre tropes, working within an exploitation framework while adding a timely -- yet never less than viscerally thrilling -- feminist spin.',\n",
       " \"Critics Consensus: Made on a shoestring budget, El Mariachi's story is not new. However, the movie has so much energy that it's thoroughly enjoyable.\",\n",
       " 'Critics Consensus: A brilliantly directed feast for the eyes with an epic story to match, A Touch of Zen marks a groundbreaking achievement in the wuxia genre.',\n",
       " \"Critics Consensus: Though it features some of the most memorable and electrifying aereial footage shot with an expert eye for action, Top Gun offers too little for non-adolescent viewers to chew on when its characters aren't in the air.\",\n",
       " \"Critics Consensus: Con Air won't win any awards for believability - and all involved seem cheerfully aware of it, making some of this blockbuster action outing's biggest flaws fairly easy to forgive.\",\n",
       " \"Critics Consensus: Taut, violent, and suitably self-deprecating, The Expendables 2 gives classic action fans everything they can reasonably expect from a star-studded shoot-'em-up -- for better and for worse.\",\n",
       " \"Critics Consensus: It's difficult to make a persuasive argument for The Mummy as any kind of meaningful cinematic achievement, but it's undeniably fun to watch.\",\n",
       " 'Critics Consensus: Although this action-romance suffers from weak writing and one too many explosions, the chemistry generated by onscreen couple Pitt and Jolie is palpable enough to make this a thoroughly enjoyable summer action flick.',\n",
       " 'Critics Consensus: A kick-ass addition to the cop-buddy film genre.',\n",
       " 'Critics Consensus: The Equalizer is more stylishly violent than meaningful, but with Antoine Fuqua behind the cameras and Denzel Washington dispensing justice, it delivers.',\n",
       " 'Critics Consensus: Captain America: Civil War begins the next wave of Marvel movies with an action-packed superhero blockbuster boasting a decidedly non-cartoonish plot and the courage to explore thought-provoking themes.',\n",
       " 'Critics Consensus: This late-period Harrison Ford actioner is full of palpable, if not entirely seamless, thrills.',\n",
       " \"Critics Consensus: This is where it all began for the Muscles from Brussels, but beyond Van Damme's athleticism, Bloodsport is a cliched, virtually plotless exercise in action movie recycling.\",\n",
       " \"Critics Consensus: Though some may find the plot a bit lacking, Blade's action is fierce, plentiful, and appropriately stylish for a comic book adaptation.\",\n",
       " 'Critics Consensus: Bad Boys stars Will Smith and Martin Lawrence have enjoyable chemistry; unfortunately, director Michael Bay too often drowns it out with set pieces and explosions in place of an actual story.',\n",
       " \"Critics Consensus: Die Hard with a Vengeance benefits from Bruce Willis and Samuel L. Jackson's barbed interplay, but clatters to a bombastic finish in a vain effort to cover for an overall lack of fresh ideas.\",\n",
       " 'Critics Consensus: The Running Man is winking sci-fi satire with ridiculous clothes and workmanlike direction.',\n",
       " 'Critics Consensus: No consensus yet.',\n",
       " \"Critics Consensus: As preposterous and over-the-top as Shoot 'Em Up may be, its humor and non-stop action make for a very enjoyable film.\",\n",
       " \"Critics Consensus: Crank's assaultive style and gleeful depravity may turn off casual action fans, but audiences seeking a strong dose of adrenaline will be thrilled by Jason Statham's raucous race against mortality.\",\n",
       " \"Critics Consensus: Machete is messy, violent, shallow, and tasteless -- and that's precisely the point of one of the summer's most cartoonishly enjoyable films.\",\n",
       " 'Critics Consensus: With its hyper-stylized blend of violence, music, and striking imagery, Drive represents a fully realized vision of arthouse action.',\n",
       " \"Critics Consensus: An eerie, haunting spectacle, Batman succeeds as dark entertainment, even if Jack Nicholson's Joker too often overshadows the title character.\",\n",
       " \"Critics Consensus: A well-directed action thriller that makes the most of its confined setting, Under Siege marks a high point for early '90s action -- and its star's spotty filmography.\",\n",
       " 'Critics Consensus: The plot is thin and so is character development, but as a thrilling, spectacle-filled summer movie, Independence Day delivers.',\n",
       " 'Critics Consensus: Steve McQueen is cool as ice in this thrilling police procedural that also happens to contain arguably the greatest movie car chase ever.',\n",
       " 'Critics Consensus: Wanted is stylish, energetic popcorn fare with witty performances from Angelina Jolie (playing an expert assassin), James McAvoy, and Morgan Freeman that help to distract from its absurdly over-the-top plot.',\n",
       " 'Critics Consensus: Superman deftly blends humor and gravitas, taking advantage of the perfectly cast Christopher Reeve to craft a loving, nostalgic tribute to an American pop culture icon.',\n",
       " 'Critics Consensus: Ronin earns comparisons to The French Connection with strong action, dynamic road chase scenes, and solid performances.',\n",
       " 'Critics Consensus: A politically subversive blend of horror and sci fi, They Live is an underrated genre film from John Carpenter.',\n",
       " \"Critics Consensus: While it can't escape comparisons to the movies it borrows from, Cliffhanger is a tense, action-packed thriller and a showcase for the talents that made Sylvester Stallone a star.\",\n",
       " \"Critics Consensus: Thanks to a script that emphasizes its heroes' humanity and a wealth of superpowered set pieces, The Avengers lives up to its hype and raises the bar for Marvel at the movies.\",\n",
       " 'Critics Consensus: The brilliant minds behind Shaun of the Dead successfully take a shot at the buddy cop genre with Hot Fuzz. The result is a bitingly satiric and hugely entertaining parody.',\n",
       " 'Critics Consensus: As violent as it is stylish, The Warriors is a thrilling piece of pulp filmmaking.',\n",
       " 'Critics Consensus: A fun movie...if you can accept the excessive gore and wooden acting.',\n",
       " 'Critics Consensus: Elite Squad: The Enemy Within is a bleak, violent descent into the Brazilian underbelly, ripping into the favelas with unstoppable and kinetic force.',\n",
       " 'Critics Consensus: Absurd, over-the-top, and often wildly entertaining, Point Break is here to show you that the human spirit is still alive.',\n",
       " 'Critics Consensus: Smart, sharp-witted, and fueled by enjoyably over-the-top action, The Long Kiss Goodnight makes up in impact what it lacks in consistent aim.',\n",
       " 'Critics Consensus: Boasting enough intelligence to bolster its darkly violent thrills, The Guest offers another treat for genre fans from director Adam Wingard.',\n",
       " 'Critics Consensus: Taken is undeniably fun with slick action, but is largely a brainless exercise.',\n",
       " 'Critics Consensus: A simple-minded but visually exciting experience, full of blood, violence, and ready-made movie quotes.',\n",
       " \"Critics Consensus: If it doesn't reach the heights of director James Cameron's and star Arnold Schwarzenegger's previous collaborations, True Lies still packs enough action and humor into its sometimes absurd plot to entertain.\",\n",
       " 'Critics Consensus: A better-than-average sci-fi shoot-em-up with a satirical undercurrent, Demolition Man is bolstered by strong performances by Sylvester Stallone, Wesley Snipes, and Sandra Bullock.',\n",
       " 'Critics Consensus: Hardcore Henry seems poised to reinvent the action flick, but without a story or characters worth caring about, its first-person gimmick quickly loses its thrill.',\n",
       " 'Critics Consensus: Blending brilliant physical comedy with thrillingly choreographed set pieces, Police Story makes a persuasive case for Jackie Chan as one of the all-time genre greats.',\n",
       " 'Critics Consensus: Brotherhood of the Wolf mixes its genres with little logic, but the end result is wildly entertaining.',\n",
       " 'Critics Consensus: Stylish, subversive, and above all fun, Kingsman: The Secret Service finds director Matthew Vaughn sending up the spy genre with gleeful abandon.',\n",
       " \"Critics Consensus: Visually inventive and gleefully over the top, Luc Besson's The Fifth Element is a fantastic piece of pop sci-fi that never takes itself too seriously.\",\n",
       " 'Critics Consensus: Brimming with energy and packed with humor, Big Trouble in Little China distills kung fu B-movies as affectionately as it subverts them.',\n",
       " \"Critics Consensus: Atomic Blonde gets enough mileage out of its stylish action sequences -- and ever-magnetic star -- to make up for a narrative that's somewhat less hard-hitting than its protagonist.\",\n",
       " 'Critics Consensus: An entertaining Jackie Chan stunt-fest in which the impressive action sequences overcome the low production value and by-the-numbers plot.',\n",
       " \"Critics Consensus: A nonstop thrill ride, District B13's dizzying action sequences more than make up for any expository flaws.\",\n",
       " \"Critics Consensus: The buddy cop movie continues its evolution unabated with this Eddie Murphy vehicle that's fast, furious, and funny.\",\n",
       " 'Critics Consensus: While Ong-Bak: The Thai Warrior may be no great shakes as a movie, critics are hailing the emergence of a new star in Tony Jaa, whose athletic performance is drawing comparisons with Bruce Lee, Jackie Chan, and Jet Li.',\n",
       " \"Critics Consensus: Driven by director Michael Mann's trademark visuals and a lean, villainous performance from Tom Cruise, Collateral is a stylish and compelling noir thriller.\",\n",
       " 'Critics Consensus: Iron Monkey may not have the poetic lyricism of Crouching Tiger, it makes up for it in fun and energy.',\n",
       " 'Critics Consensus: Featuring an atmospherically grimy futuristic metropolis, Escape from New York is a strange, entertaining jumble of thrilling action and oddball weirdness.',\n",
       " 'Critics Consensus: Battle Royale is a controversial and violent parable of adolescence, heightening teenage melodrama with life-or-death stakes.',\n",
       " 'Critics Consensus: Boasting an entertaining villain and deeper emotional focus, this is a nimble sequel that improves upon the original.',\n",
       " \"Critics Consensus: Takashi Miike's electric remake of Eiichi Kudo's 1963 period action film is a wild spectacle executed with killer, dizzying panache.\",\n",
       " 'Critics Consensus: No consensus yet.',\n",
       " 'Critics Consensus: Lighter and more comedic than its predecessor, Indiana Jones and the Last Crusade returns the series to the brisk serial adventure of Raiders, while adding a dynamite double act between Harrison Ford and Sean Connery.',\n",
       " 'Critics Consensus: Kung Fu Hustle blends special effects, martial arts, and the Looney Toons to hilarious effect.',\n",
       " 'Critics Consensus: No consensus yet.',\n",
       " \"Critics Consensus: Powered by Robert Downey Jr.'s vibrant charm, Iron Man turbo-charges the superhero genre with a deft intelligence and infectious sense of fun.\",\n",
       " 'Critics Consensus: A bloody thrill ride designed to test the limits of more squeamish viewers, The Night Comes for Us wields a stylishly violent, action-packed punch.',\n",
       " 'Critics Consensus: Hugh Jackman makes the most of his final outing as Wolverine with a gritty, nuanced performance in a violent but surprisingly thoughtful superhero action film that defies genre conventions.',\n",
       " 'Critics Consensus: Goldfinger is where James Bond as we know him comes into focus - it features one of 007\\'s most famous lines (\"A martini. Shaken, not stirred.\") and a wide range of gadgets that would become the series\\' trademark.',\n",
       " \"Critics Consensus: Lean, taut and compellingly gritty, John Carpenter's loose update of Rio Bravo ranks as a cult action classic and one of the filmmaker's best.\",\n",
       " \"Critics Consensus: Thrilling, earnest, and buoyed by Gal Gadot's charismatic performance, Wonder Woman succeeds in spectacular fashion.\",\n",
       " 'Critics Consensus: No consensus yet.',\n",
       " 'Critics Consensus: Suspenseful and politically astute, Captain America: The Winter Soldier is a superior entry in the Avengers canon and is sure to thrill Marvel diehards.',\n",
       " \"Critics Consensus: Violent and definitely not for the squeamish, Park Chan-Wook's visceral Oldboy is a strange, powerful tale of revenge.\",\n",
       " \"Critics Consensus: Realistic, fast-paced and uncommonly smart, The French Connection is bolstered by stellar performances by Gene Hackman and Roy Scheider, not to mention William Friedkin's thrilling production.\",\n",
       " 'Critics Consensus: Serving up a fresh round of over-the-top thrills while adding unexpected dramatic heft, Furious 7 keeps the franchise moving in more ways than one.',\n",
       " 'Critics Consensus: A zany out-of-control thriller that gives lead Anne Parillaud a big character arc and plenty of emotional room to work within.',\n",
       " \"Critics Consensus: Blending hand-to-hand combat with breathtaking stunts and slapstick comedy, Supercop reminds us why Jackie Chan is one of the world's great entertainers.\",\n",
       " 'Critics Consensus: As tough and taciturn as its no-nonsense hero, Dirty Harry delivers a deceptively layered message without sacrificing an ounce of its solid action impact.',\n",
       " 'Critics Consensus: Gripping, well-acted, funny, and clever, Edge of Tomorrow offers entertaining proof that Tom Cruise is still more than capable of shouldering the weight of a blockbuster action thriller.',\n",
       " 'Critics Consensus: Tightly scripted, solidly acted, and impressively ambitious, X2: X-Men United is bigger and better than its predecessor -- and a benchmark for comic sequels in general.',\n",
       " 'Critics Consensus: Exhilarating and intense, this high-impact chase thriller is a model of taut and efficient formula filmmaking, and it features Harrison Ford at his frantic best.',\n",
       " \"Critics Consensus: Black Panther elevates superhero cinema to thrilling new heights while telling one of the MCU's most absorbing stories -- and introducing some of its most fully realized characters.\",\n",
       " 'Critics Consensus: Smart, innovative, and thrilling, Inception is that rare summer blockbuster that succeeds viscerally as well as intellectually.',\n",
       " \"Critics Consensus: Distractingly violent and historically dodgy, Mel Gibson's Braveheart justifies its epic length by delivering enough sweeping action, drama, and romance to match its ambition.\",\n",
       " 'Critics Consensus: Thought-provoking and visceral, Steven Spielberg successfully combines high concept ideas and high octane action in this fast and febrile sci-fi thriller.',\n",
       " \"Critics Consensus: Exciting, entertaining, and emotionally impactful, Avengers: Endgame does whatever it takes to deliver a satisfying finale to Marvel's epic Infinity Saga.\",\n",
       " \"Critics Consensus: Fueled by bombastic violence and impressive special effects, rooted in self-satire and deadpan humor, Dredd 3D does a remarkable job of capturing its source material's gritty spirit.\",\n",
       " 'Critics Consensus: Expertly blending genre formula with bursts of unexpected wit, The Bourne Identity is an action thriller that delivers -- and then some.',\n",
       " 'Critics Consensus: At once beholden to the established conventions of the genre and delightfully subversive of them, Ip Man is one of the most exciting -- and refreshingly character-driven -- martial arts films in years.',\n",
       " 'Critics Consensus: John Travolta and Nicolas Cage play cat-and-mouse (and literally play each other) against a beautifully stylized backdrop of typically elegant, over-the-top John Woo violence.',\n",
       " \"Critics Consensus: With coke fiends, car chases, and Wang Chung galore, To Live and Die in L.A. is perhaps the ultimate '80s action/thriller.\",\n",
       " 'Critics Consensus: Dark, complex, and unforgettable, The Dark Knight succeeds not just as an entertaining comic book film, but as a richly thrilling crime saga.',\n",
       " 'Critics Consensus: Stylish, fast-paced, and loaded with gripping set pieces, the fourth Mission: Impossible is big-budget popcorn entertainment that really works.',\n",
       " 'Critics Consensus: Sleek, loud, and over the top, Fast Five proudly embraces its brainless action thrills and injects new life into the franchise.',\n",
       " 'Critics Consensus: The most successful installment in a phenomenally successful series, Lethal Weapon helped redefine action movies for the 1980s and 1990s.',\n",
       " \"Critics Consensus: For visceral thrills, it can't be beat. Just don't expect The Rock to engage your brain.\",\n",
       " 'Critics Consensus: While over-the-top and gory, Robocop is also a surprisingly smart sci-fi flick that uses ultraviolence to disguise its satire of American culture.',\n",
       " 'Critics Consensus: John Wick: Chapter 2 does what a sequel should -- which in this case means doubling down on the non-stop, thrillingly choreographed action that made its predecessor so much fun.',\n",
       " 'Critics Consensus: Casino Royale disposes of the silliness and gadgetry that plagued recent James Bond outings, and Daniel Craig delivers what fans and critics have been waiting for: a caustic, haunted, intense reinvention of 007.',\n",
       " \"Critics Consensus: Stylish, exciting, and fueled by a killer soundtrack, Baby Driver hits the road and it's gone -- proving fast-paced action movies can be smartly written without sacrificing thrills.\",\n",
       " 'Critics Consensus: No consensus yet.',\n",
       " 'Critics Consensus: The Killer is another hard-boiled action flick from John Woo featuring eye-popping balletic violence and philosophical underpinnings.',\n",
       " 'Critics Consensus: Although its high-energy plot and over-the-top violence may play better with genre aficionados, The Raid 2 definitely delivers more of everything audiences loved about its predecessor.',\n",
       " 'Critics Consensus: Badass to the max, Enter the Dragon is the ultimate kung-fu movie and fitting (if untimely) Bruce Lee swan song.',\n",
       " \"Critics Consensus: The ultimate '80s Schwarzenegger movie, replete with a threadbare plot, outsized action, and endless one-liners.\",\n",
       " \"Critics Consensus: Much darker and more sensitive than the sequels it spawned, First Blood is a thrilling survival adventure that takes full advantage of Sylvester Stallone's acting skills.\",\n",
       " \"Critics Consensus: Mission: Impossible Rogue Nation continues the franchise's thrilling resurgence -- and proves that Tom Cruise remains an action star without equal.\",\n",
       " \"Critics Consensus: With its impressive action sequences, taut economic direction, and relentlessly fast pace, it's clear why The Terminator continues to be an influence on sci-fi and action flicks.\",\n",
       " 'Critics Consensus: Ridley Scott and an excellent cast successfully convey the intensity of Roman gladitorial combat as well as the political intrigue brewing beneath.',\n",
       " 'Critics Consensus: Kill Bill is admittedly little more than a stylish revenge thriller -- albeit one that benefits from a wildly inventive surfeit of style.',\n",
       " \"Critics Consensus: Pivoting on the unusual relationship between seasoned hitman and his 12-year-old apprentice -- a breakout turn by young Natalie Portman -- Luc Besson's Léon is a stylish and oddly affecting thriller.\",\n",
       " 'Critics Consensus: A terrific popcorn thriller, Speed is taut, tense, and energetic, with outstanding performances from Keanu Reeves, Dennis Hopper, and Sandra Bullock.',\n",
       " 'Critics Consensus: Jackie Chan sends up some amazing and entertaining fight sequences in The Legend of Drunken Master.',\n",
       " 'Critics Consensus: Stylish, thrilling, and giddily kinetic, John Wick serves as a satisfying return to action for Keanu Reeves -- and what looks like it could be the first of a franchise.',\n",
       " 'Critics Consensus: The movie that catapulted Ang Lee into the ranks of upper echelon Hollywood filmmakers, Crouching Tiger, Hidden Dragon features a deft mix of amazing martial arts battles, beautiful scenery, and tasteful drama.',\n",
       " 'Critics Consensus: Predator: Part sci-fi, part horror, part action -- all muscle.',\n",
       " 'Critics Consensus: The Bourne Ultimatum is an intelligent, finely tuned non-stop thrill ride. Another strong performance from Matt Damon and sharp camerawork from Paul Greengrass make this the finest installment of the Bourne trilogy.',\n",
       " \"Critics Consensus: Under Paul Verhoeven's frenetic direction, Total Recall is a fast-paced rush of violence, gore, and humor that never slacks.\",\n",
       " 'Critics Consensus: The Road Warrior is everything a bigger-budgeted Mad Max sequel with should be: bigger, faster, louder, but definitely not dumber.',\n",
       " \"Critics Consensus: Though Al Pacino and Robert De Niro share but a handful of screen minutes together, Heat is an engrossing crime drama that draws compelling performances from its stars -- and confirms Michael Mann's mastery of the genre.\",\n",
       " 'Critics Consensus: No frills and all thrills, The Raid: Redemption is an inventive action film expertly paced and edited for maximum entertainment.',\n",
       " 'Critics Consensus: Fast, sleek, and fun, Mission: Impossible - Fallout lives up to the \"impossible\" part of its name by setting yet another high mark for insane set pieces in a franchise full of them.',\n",
       " 'Critics Consensus: Featuring bravura set pieces, sly humor, and white-knuckle action, Raiders of the Lost Ark is one of the most consummately entertaining adventure pictures of all time.',\n",
       " 'Critics Consensus: While Alien was a marvel of slow-building, atmospheric tension, Aliens packs a much more visceral punch, and features a typically strong performance from Sigourney Weaver.',\n",
       " 'Critics Consensus: Boasting impactful action as well as surprising emotional resonance, Hard Boiled is a powerful thriller that hits hard in more ways than one.',\n",
       " \"Critics Consensus: Thanks to the Wachowskis' imaginative vision, The Matrix is a smartly crafted combination of spectacular action and groundbreaking special effects.\",\n",
       " 'Critics Consensus: T2 features thrilling action sequences and eye-popping visual effects, but what takes this sci-fi/ action landmark to the next level is the depth of the human (and cyborg) characters.',\n",
       " 'Critics Consensus: Its many imitators (and sequels) have never come close to matching the taut thrills of the definitive holiday action classic.',\n",
       " \"Critics Consensus: With exhilarating action and a surprising amount of narrative heft, Mad Max: Fury Road brings George Miller's post-apocalyptic franchise roaring vigorously back to life.\"]"
      ]
     },
     "execution_count": 42,
     "metadata": {},
     "output_type": "execute_result"
    }
   ],
   "source": [
    "consensus = [ con.text for con in consensus ]\n",
    "consensus"
   ]
  },
  {
   "cell_type": "code",
   "execution_count": 43,
   "id": "ed33c52b",
   "metadata": {},
   "outputs": [
    {
     "data": {
      "text/plain": [
       "'Critics Consensus: Running Scared struggles to strike a consistent balance between violent action and humor, but the chemistry between its well-matched leads keeps things entertaining.'"
      ]
     },
     "execution_count": 43,
     "metadata": {},
     "output_type": "execute_result"
    }
   ],
   "source": [
    "consensus[0]"
   ]
  },
  {
   "cell_type": "code",
   "execution_count": 44,
   "id": "b3ea58c3",
   "metadata": {
    "scrolled": true
   },
   "outputs": [
    {
     "data": {
      "text/plain": [
       "'Running Scared struggles to strike a consistent balance between violent action and humor, but the chemistry between its well-matched leads keeps things entertaining.'"
      ]
     },
     "execution_count": 44,
     "metadata": {},
     "output_type": "execute_result"
    }
   ],
   "source": [
    "consensus[0][19:]"
   ]
  },
  {
   "cell_type": "code",
   "execution_count": 45,
   "id": "240f56d3",
   "metadata": {},
   "outputs": [
    {
     "data": {
      "text/plain": [
       "['Running Scared struggles to strike a consistent balance between violent action and humor, but the chemistry between its well-matched leads keeps things entertaining.',\n",
       " 'Equilibrium is a reheated mishmash of other sci-fi movies.',\n",
       " 'With death-defying action sequences and epic historic sweep, Hero offers everything a martial arts fan could ask for.',\n",
       " \"Whether Road House is simply bad or so bad it's good depends largely on the audience's fondness for Swayze -- and tolerance for violently cheesy action.\",\n",
       " \"As fast, loud, and relentless as the train at the center of the story, Unstoppable is perfect popcorn entertainment -- and director Tony Scott's best movie in years.\",\n",
       " 'This is the man that would risk his neck for his brother, man. Can you dig it?',\n",
       " 'The Villainess offers enough pure kinetic thrills to satisfy genre enthusiasts -- and carve out a bloody niche for itself in modern Korean action cinema.',\n",
       " \"People hate Highlander because it's cheesy, bombastic, and absurd. And people love it for the same reasons.\",\n",
       " 'It lacks the fresh thrills of its predecessor, but Die Hard 2 still works as an over-the-top -- and reasonably taut -- big-budget sequel, with plenty of set pieces to paper over the plot deficiencies.',\n",
       " \"National Treasure is no treasure, but it's a fun ride for those who can forgive its highly improbable plot.\",\n",
       " 'Despite some impressive fight scenes, this trimmed-down version of the Thai action pic is an off-putting mix of scant plot, choppy editing, and confusing subtitles and dubbing.',\n",
       " 'Revenge slices and dices genre tropes, working within an exploitation framework while adding a timely -- yet never less than viscerally thrilling -- feminist spin.',\n",
       " \"Made on a shoestring budget, El Mariachi's story is not new. However, the movie has so much energy that it's thoroughly enjoyable.\",\n",
       " 'A brilliantly directed feast for the eyes with an epic story to match, A Touch of Zen marks a groundbreaking achievement in the wuxia genre.',\n",
       " \"Though it features some of the most memorable and electrifying aereial footage shot with an expert eye for action, Top Gun offers too little for non-adolescent viewers to chew on when its characters aren't in the air.\",\n",
       " \"Con Air won't win any awards for believability - and all involved seem cheerfully aware of it, making some of this blockbuster action outing's biggest flaws fairly easy to forgive.\",\n",
       " \"Taut, violent, and suitably self-deprecating, The Expendables 2 gives classic action fans everything they can reasonably expect from a star-studded shoot-'em-up -- for better and for worse.\",\n",
       " \"It's difficult to make a persuasive argument for The Mummy as any kind of meaningful cinematic achievement, but it's undeniably fun to watch.\",\n",
       " 'Although this action-romance suffers from weak writing and one too many explosions, the chemistry generated by onscreen couple Pitt and Jolie is palpable enough to make this a thoroughly enjoyable summer action flick.',\n",
       " 'A kick-ass addition to the cop-buddy film genre.',\n",
       " 'The Equalizer is more stylishly violent than meaningful, but with Antoine Fuqua behind the cameras and Denzel Washington dispensing justice, it delivers.',\n",
       " 'Captain America: Civil War begins the next wave of Marvel movies with an action-packed superhero blockbuster boasting a decidedly non-cartoonish plot and the courage to explore thought-provoking themes.',\n",
       " 'This late-period Harrison Ford actioner is full of palpable, if not entirely seamless, thrills.',\n",
       " \"This is where it all began for the Muscles from Brussels, but beyond Van Damme's athleticism, Bloodsport is a cliched, virtually plotless exercise in action movie recycling.\",\n",
       " \"Though some may find the plot a bit lacking, Blade's action is fierce, plentiful, and appropriately stylish for a comic book adaptation.\",\n",
       " 'Bad Boys stars Will Smith and Martin Lawrence have enjoyable chemistry; unfortunately, director Michael Bay too often drowns it out with set pieces and explosions in place of an actual story.',\n",
       " \"Die Hard with a Vengeance benefits from Bruce Willis and Samuel L. Jackson's barbed interplay, but clatters to a bombastic finish in a vain effort to cover for an overall lack of fresh ideas.\",\n",
       " 'The Running Man is winking sci-fi satire with ridiculous clothes and workmanlike direction.',\n",
       " 'No consensus yet.',\n",
       " \"As preposterous and over-the-top as Shoot 'Em Up may be, its humor and non-stop action make for a very enjoyable film.\",\n",
       " \"Crank's assaultive style and gleeful depravity may turn off casual action fans, but audiences seeking a strong dose of adrenaline will be thrilled by Jason Statham's raucous race against mortality.\",\n",
       " \"Machete is messy, violent, shallow, and tasteless -- and that's precisely the point of one of the summer's most cartoonishly enjoyable films.\",\n",
       " 'With its hyper-stylized blend of violence, music, and striking imagery, Drive represents a fully realized vision of arthouse action.',\n",
       " \"An eerie, haunting spectacle, Batman succeeds as dark entertainment, even if Jack Nicholson's Joker too often overshadows the title character.\",\n",
       " \"A well-directed action thriller that makes the most of its confined setting, Under Siege marks a high point for early '90s action -- and its star's spotty filmography.\",\n",
       " 'The plot is thin and so is character development, but as a thrilling, spectacle-filled summer movie, Independence Day delivers.',\n",
       " 'Steve McQueen is cool as ice in this thrilling police procedural that also happens to contain arguably the greatest movie car chase ever.',\n",
       " 'Wanted is stylish, energetic popcorn fare with witty performances from Angelina Jolie (playing an expert assassin), James McAvoy, and Morgan Freeman that help to distract from its absurdly over-the-top plot.',\n",
       " 'Superman deftly blends humor and gravitas, taking advantage of the perfectly cast Christopher Reeve to craft a loving, nostalgic tribute to an American pop culture icon.',\n",
       " 'Ronin earns comparisons to The French Connection with strong action, dynamic road chase scenes, and solid performances.',\n",
       " 'A politically subversive blend of horror and sci fi, They Live is an underrated genre film from John Carpenter.',\n",
       " \"While it can't escape comparisons to the movies it borrows from, Cliffhanger is a tense, action-packed thriller and a showcase for the talents that made Sylvester Stallone a star.\",\n",
       " \"Thanks to a script that emphasizes its heroes' humanity and a wealth of superpowered set pieces, The Avengers lives up to its hype and raises the bar for Marvel at the movies.\",\n",
       " 'The brilliant minds behind Shaun of the Dead successfully take a shot at the buddy cop genre with Hot Fuzz. The result is a bitingly satiric and hugely entertaining parody.',\n",
       " 'As violent as it is stylish, The Warriors is a thrilling piece of pulp filmmaking.',\n",
       " 'A fun movie...if you can accept the excessive gore and wooden acting.',\n",
       " 'Elite Squad: The Enemy Within is a bleak, violent descent into the Brazilian underbelly, ripping into the favelas with unstoppable and kinetic force.',\n",
       " 'Absurd, over-the-top, and often wildly entertaining, Point Break is here to show you that the human spirit is still alive.',\n",
       " 'Smart, sharp-witted, and fueled by enjoyably over-the-top action, The Long Kiss Goodnight makes up in impact what it lacks in consistent aim.',\n",
       " 'Boasting enough intelligence to bolster its darkly violent thrills, The Guest offers another treat for genre fans from director Adam Wingard.',\n",
       " 'Taken is undeniably fun with slick action, but is largely a brainless exercise.',\n",
       " 'A simple-minded but visually exciting experience, full of blood, violence, and ready-made movie quotes.',\n",
       " \"If it doesn't reach the heights of director James Cameron's and star Arnold Schwarzenegger's previous collaborations, True Lies still packs enough action and humor into its sometimes absurd plot to entertain.\",\n",
       " 'A better-than-average sci-fi shoot-em-up with a satirical undercurrent, Demolition Man is bolstered by strong performances by Sylvester Stallone, Wesley Snipes, and Sandra Bullock.',\n",
       " 'Hardcore Henry seems poised to reinvent the action flick, but without a story or characters worth caring about, its first-person gimmick quickly loses its thrill.',\n",
       " 'Blending brilliant physical comedy with thrillingly choreographed set pieces, Police Story makes a persuasive case for Jackie Chan as one of the all-time genre greats.',\n",
       " 'Brotherhood of the Wolf mixes its genres with little logic, but the end result is wildly entertaining.',\n",
       " 'Stylish, subversive, and above all fun, Kingsman: The Secret Service finds director Matthew Vaughn sending up the spy genre with gleeful abandon.',\n",
       " \"Visually inventive and gleefully over the top, Luc Besson's The Fifth Element is a fantastic piece of pop sci-fi that never takes itself too seriously.\",\n",
       " 'Brimming with energy and packed with humor, Big Trouble in Little China distills kung fu B-movies as affectionately as it subverts them.',\n",
       " \"Atomic Blonde gets enough mileage out of its stylish action sequences -- and ever-magnetic star -- to make up for a narrative that's somewhat less hard-hitting than its protagonist.\",\n",
       " 'An entertaining Jackie Chan stunt-fest in which the impressive action sequences overcome the low production value and by-the-numbers plot.',\n",
       " \"A nonstop thrill ride, District B13's dizzying action sequences more than make up for any expository flaws.\",\n",
       " \"The buddy cop movie continues its evolution unabated with this Eddie Murphy vehicle that's fast, furious, and funny.\",\n",
       " 'While Ong-Bak: The Thai Warrior may be no great shakes as a movie, critics are hailing the emergence of a new star in Tony Jaa, whose athletic performance is drawing comparisons with Bruce Lee, Jackie Chan, and Jet Li.',\n",
       " \"Driven by director Michael Mann's trademark visuals and a lean, villainous performance from Tom Cruise, Collateral is a stylish and compelling noir thriller.\",\n",
       " 'Iron Monkey may not have the poetic lyricism of Crouching Tiger, it makes up for it in fun and energy.',\n",
       " 'Featuring an atmospherically grimy futuristic metropolis, Escape from New York is a strange, entertaining jumble of thrilling action and oddball weirdness.',\n",
       " 'Battle Royale is a controversial and violent parable of adolescence, heightening teenage melodrama with life-or-death stakes.',\n",
       " 'Boasting an entertaining villain and deeper emotional focus, this is a nimble sequel that improves upon the original.',\n",
       " \"Takashi Miike's electric remake of Eiichi Kudo's 1963 period action film is a wild spectacle executed with killer, dizzying panache.\",\n",
       " 'No consensus yet.',\n",
       " 'Lighter and more comedic than its predecessor, Indiana Jones and the Last Crusade returns the series to the brisk serial adventure of Raiders, while adding a dynamite double act between Harrison Ford and Sean Connery.',\n",
       " 'Kung Fu Hustle blends special effects, martial arts, and the Looney Toons to hilarious effect.',\n",
       " 'No consensus yet.',\n",
       " \"Powered by Robert Downey Jr.'s vibrant charm, Iron Man turbo-charges the superhero genre with a deft intelligence and infectious sense of fun.\",\n",
       " 'A bloody thrill ride designed to test the limits of more squeamish viewers, The Night Comes for Us wields a stylishly violent, action-packed punch.',\n",
       " 'Hugh Jackman makes the most of his final outing as Wolverine with a gritty, nuanced performance in a violent but surprisingly thoughtful superhero action film that defies genre conventions.',\n",
       " 'Goldfinger is where James Bond as we know him comes into focus - it features one of 007\\'s most famous lines (\"A martini. Shaken, not stirred.\") and a wide range of gadgets that would become the series\\' trademark.',\n",
       " \"Lean, taut and compellingly gritty, John Carpenter's loose update of Rio Bravo ranks as a cult action classic and one of the filmmaker's best.\",\n",
       " \"Thrilling, earnest, and buoyed by Gal Gadot's charismatic performance, Wonder Woman succeeds in spectacular fashion.\",\n",
       " 'No consensus yet.',\n",
       " 'Suspenseful and politically astute, Captain America: The Winter Soldier is a superior entry in the Avengers canon and is sure to thrill Marvel diehards.',\n",
       " \"Violent and definitely not for the squeamish, Park Chan-Wook's visceral Oldboy is a strange, powerful tale of revenge.\",\n",
       " \"Realistic, fast-paced and uncommonly smart, The French Connection is bolstered by stellar performances by Gene Hackman and Roy Scheider, not to mention William Friedkin's thrilling production.\",\n",
       " 'Serving up a fresh round of over-the-top thrills while adding unexpected dramatic heft, Furious 7 keeps the franchise moving in more ways than one.',\n",
       " 'A zany out-of-control thriller that gives lead Anne Parillaud a big character arc and plenty of emotional room to work within.',\n",
       " \"Blending hand-to-hand combat with breathtaking stunts and slapstick comedy, Supercop reminds us why Jackie Chan is one of the world's great entertainers.\",\n",
       " 'As tough and taciturn as its no-nonsense hero, Dirty Harry delivers a deceptively layered message without sacrificing an ounce of its solid action impact.',\n",
       " 'Gripping, well-acted, funny, and clever, Edge of Tomorrow offers entertaining proof that Tom Cruise is still more than capable of shouldering the weight of a blockbuster action thriller.',\n",
       " 'Tightly scripted, solidly acted, and impressively ambitious, X2: X-Men United is bigger and better than its predecessor -- and a benchmark for comic sequels in general.',\n",
       " 'Exhilarating and intense, this high-impact chase thriller is a model of taut and efficient formula filmmaking, and it features Harrison Ford at his frantic best.',\n",
       " \"Black Panther elevates superhero cinema to thrilling new heights while telling one of the MCU's most absorbing stories -- and introducing some of its most fully realized characters.\",\n",
       " 'Smart, innovative, and thrilling, Inception is that rare summer blockbuster that succeeds viscerally as well as intellectually.',\n",
       " \"Distractingly violent and historically dodgy, Mel Gibson's Braveheart justifies its epic length by delivering enough sweeping action, drama, and romance to match its ambition.\",\n",
       " 'Thought-provoking and visceral, Steven Spielberg successfully combines high concept ideas and high octane action in this fast and febrile sci-fi thriller.',\n",
       " \"Exciting, entertaining, and emotionally impactful, Avengers: Endgame does whatever it takes to deliver a satisfying finale to Marvel's epic Infinity Saga.\",\n",
       " \"Fueled by bombastic violence and impressive special effects, rooted in self-satire and deadpan humor, Dredd 3D does a remarkable job of capturing its source material's gritty spirit.\",\n",
       " 'Expertly blending genre formula with bursts of unexpected wit, The Bourne Identity is an action thriller that delivers -- and then some.',\n",
       " 'At once beholden to the established conventions of the genre and delightfully subversive of them, Ip Man is one of the most exciting -- and refreshingly character-driven -- martial arts films in years.',\n",
       " 'John Travolta and Nicolas Cage play cat-and-mouse (and literally play each other) against a beautifully stylized backdrop of typically elegant, over-the-top John Woo violence.',\n",
       " \"With coke fiends, car chases, and Wang Chung galore, To Live and Die in L.A. is perhaps the ultimate '80s action/thriller.\",\n",
       " 'Dark, complex, and unforgettable, The Dark Knight succeeds not just as an entertaining comic book film, but as a richly thrilling crime saga.',\n",
       " 'Stylish, fast-paced, and loaded with gripping set pieces, the fourth Mission: Impossible is big-budget popcorn entertainment that really works.',\n",
       " 'Sleek, loud, and over the top, Fast Five proudly embraces its brainless action thrills and injects new life into the franchise.',\n",
       " 'The most successful installment in a phenomenally successful series, Lethal Weapon helped redefine action movies for the 1980s and 1990s.',\n",
       " \"For visceral thrills, it can't be beat. Just don't expect The Rock to engage your brain.\",\n",
       " 'While over-the-top and gory, Robocop is also a surprisingly smart sci-fi flick that uses ultraviolence to disguise its satire of American culture.',\n",
       " 'John Wick: Chapter 2 does what a sequel should -- which in this case means doubling down on the non-stop, thrillingly choreographed action that made its predecessor so much fun.',\n",
       " 'Casino Royale disposes of the silliness and gadgetry that plagued recent James Bond outings, and Daniel Craig delivers what fans and critics have been waiting for: a caustic, haunted, intense reinvention of 007.',\n",
       " \"Stylish, exciting, and fueled by a killer soundtrack, Baby Driver hits the road and it's gone -- proving fast-paced action movies can be smartly written without sacrificing thrills.\",\n",
       " 'No consensus yet.',\n",
       " 'The Killer is another hard-boiled action flick from John Woo featuring eye-popping balletic violence and philosophical underpinnings.',\n",
       " 'Although its high-energy plot and over-the-top violence may play better with genre aficionados, The Raid 2 definitely delivers more of everything audiences loved about its predecessor.',\n",
       " 'Badass to the max, Enter the Dragon is the ultimate kung-fu movie and fitting (if untimely) Bruce Lee swan song.',\n",
       " \"The ultimate '80s Schwarzenegger movie, replete with a threadbare plot, outsized action, and endless one-liners.\",\n",
       " \"Much darker and more sensitive than the sequels it spawned, First Blood is a thrilling survival adventure that takes full advantage of Sylvester Stallone's acting skills.\",\n",
       " \"Mission: Impossible Rogue Nation continues the franchise's thrilling resurgence -- and proves that Tom Cruise remains an action star without equal.\",\n",
       " \"With its impressive action sequences, taut economic direction, and relentlessly fast pace, it's clear why The Terminator continues to be an influence on sci-fi and action flicks.\",\n",
       " 'Ridley Scott and an excellent cast successfully convey the intensity of Roman gladitorial combat as well as the political intrigue brewing beneath.',\n",
       " 'Kill Bill is admittedly little more than a stylish revenge thriller -- albeit one that benefits from a wildly inventive surfeit of style.',\n",
       " \"Pivoting on the unusual relationship between seasoned hitman and his 12-year-old apprentice -- a breakout turn by young Natalie Portman -- Luc Besson's Léon is a stylish and oddly affecting thriller.\",\n",
       " 'A terrific popcorn thriller, Speed is taut, tense, and energetic, with outstanding performances from Keanu Reeves, Dennis Hopper, and Sandra Bullock.',\n",
       " 'Jackie Chan sends up some amazing and entertaining fight sequences in The Legend of Drunken Master.',\n",
       " 'Stylish, thrilling, and giddily kinetic, John Wick serves as a satisfying return to action for Keanu Reeves -- and what looks like it could be the first of a franchise.',\n",
       " 'The movie that catapulted Ang Lee into the ranks of upper echelon Hollywood filmmakers, Crouching Tiger, Hidden Dragon features a deft mix of amazing martial arts battles, beautiful scenery, and tasteful drama.',\n",
       " 'Predator: Part sci-fi, part horror, part action -- all muscle.',\n",
       " 'The Bourne Ultimatum is an intelligent, finely tuned non-stop thrill ride. Another strong performance from Matt Damon and sharp camerawork from Paul Greengrass make this the finest installment of the Bourne trilogy.',\n",
       " \"Under Paul Verhoeven's frenetic direction, Total Recall is a fast-paced rush of violence, gore, and humor that never slacks.\",\n",
       " 'The Road Warrior is everything a bigger-budgeted Mad Max sequel with should be: bigger, faster, louder, but definitely not dumber.',\n",
       " \"Though Al Pacino and Robert De Niro share but a handful of screen minutes together, Heat is an engrossing crime drama that draws compelling performances from its stars -- and confirms Michael Mann's mastery of the genre.\",\n",
       " 'No frills and all thrills, The Raid: Redemption is an inventive action film expertly paced and edited for maximum entertainment.',\n",
       " 'Fast, sleek, and fun, Mission: Impossible - Fallout lives up to the \"impossible\" part of its name by setting yet another high mark for insane set pieces in a franchise full of them.',\n",
       " 'Featuring bravura set pieces, sly humor, and white-knuckle action, Raiders of the Lost Ark is one of the most consummately entertaining adventure pictures of all time.',\n",
       " 'While Alien was a marvel of slow-building, atmospheric tension, Aliens packs a much more visceral punch, and features a typically strong performance from Sigourney Weaver.',\n",
       " 'Boasting impactful action as well as surprising emotional resonance, Hard Boiled is a powerful thriller that hits hard in more ways than one.',\n",
       " \"Thanks to the Wachowskis' imaginative vision, The Matrix is a smartly crafted combination of spectacular action and groundbreaking special effects.\",\n",
       " 'T2 features thrilling action sequences and eye-popping visual effects, but what takes this sci-fi/ action landmark to the next level is the depth of the human (and cyborg) characters.',\n",
       " 'Its many imitators (and sequels) have never come close to matching the taut thrills of the definitive holiday action classic.',\n",
       " \"With exhilarating action and a surprising amount of narrative heft, Mad Max: Fury Road brings George Miller's post-apocalyptic franchise roaring vigorously back to life.\"]"
      ]
     },
     "execution_count": 45,
     "metadata": {},
     "output_type": "execute_result"
    }
   ],
   "source": [
    "[ con[19:] for con in consensus ]"
   ]
  },
  {
   "cell_type": "code",
   "execution_count": 46,
   "id": "71cdcebf",
   "metadata": {},
   "outputs": [
    {
     "data": {
      "text/plain": [
       "['Running Scared struggles to strike a consistent balance between violent action and humor, but the chemistry between its well-matched leads keeps things entertaining.',\n",
       " 'Equilibrium is a reheated mishmash of other sci-fi movies.',\n",
       " 'With death-defying action sequences and epic historic sweep, Hero offers everything a martial arts fan could ask for.',\n",
       " \"Whether Road House is simply bad or so bad it's good depends largely on the audience's fondness for Swayze -- and tolerance for violently cheesy action.\",\n",
       " \"As fast, loud, and relentless as the train at the center of the story, Unstoppable is perfect popcorn entertainment -- and director Tony Scott's best movie in years.\",\n",
       " 'This is the man that would risk his neck for his brother, man. Can you dig it?',\n",
       " 'The Villainess offers enough pure kinetic thrills to satisfy genre enthusiasts -- and carve out a bloody niche for itself in modern Korean action cinema.',\n",
       " \"People hate Highlander because it's cheesy, bombastic, and absurd. And people love it for the same reasons.\",\n",
       " 'It lacks the fresh thrills of its predecessor, but Die Hard 2 still works as an over-the-top -- and reasonably taut -- big-budget sequel, with plenty of set pieces to paper over the plot deficiencies.',\n",
       " \"National Treasure is no treasure, but it's a fun ride for those who can forgive its highly improbable plot.\",\n",
       " 'Despite some impressive fight scenes, this trimmed-down version of the Thai action pic is an off-putting mix of scant plot, choppy editing, and confusing subtitles and dubbing.',\n",
       " 'Revenge slices and dices genre tropes, working within an exploitation framework while adding a timely -- yet never less than viscerally thrilling -- feminist spin.',\n",
       " \"Made on a shoestring budget, El Mariachi's story is not new. However, the movie has so much energy that it's thoroughly enjoyable.\",\n",
       " 'A brilliantly directed feast for the eyes with an epic story to match, A Touch of Zen marks a groundbreaking achievement in the wuxia genre.',\n",
       " \"Though it features some of the most memorable and electrifying aereial footage shot with an expert eye for action, Top Gun offers too little for non-adolescent viewers to chew on when its characters aren't in the air.\",\n",
       " \"Con Air won't win any awards for believability - and all involved seem cheerfully aware of it, making some of this blockbuster action outing's biggest flaws fairly easy to forgive.\",\n",
       " \"Taut, violent, and suitably self-deprecating, The Expendables 2 gives classic action fans everything they can reasonably expect from a star-studded shoot-'em-up -- for better and for worse.\",\n",
       " \"It's difficult to make a persuasive argument for The Mummy as any kind of meaningful cinematic achievement, but it's undeniably fun to watch.\",\n",
       " 'Although this action-romance suffers from weak writing and one too many explosions, the chemistry generated by onscreen couple Pitt and Jolie is palpable enough to make this a thoroughly enjoyable summer action flick.',\n",
       " 'A kick-ass addition to the cop-buddy film genre.',\n",
       " 'The Equalizer is more stylishly violent than meaningful, but with Antoine Fuqua behind the cameras and Denzel Washington dispensing justice, it delivers.',\n",
       " 'Captain America: Civil War begins the next wave of Marvel movies with an action-packed superhero blockbuster boasting a decidedly non-cartoonish plot and the courage to explore thought-provoking themes.',\n",
       " 'This late-period Harrison Ford actioner is full of palpable, if not entirely seamless, thrills.',\n",
       " \"This is where it all began for the Muscles from Brussels, but beyond Van Damme's athleticism, Bloodsport is a cliched, virtually plotless exercise in action movie recycling.\",\n",
       " \"Though some may find the plot a bit lacking, Blade's action is fierce, plentiful, and appropriately stylish for a comic book adaptation.\",\n",
       " 'Bad Boys stars Will Smith and Martin Lawrence have enjoyable chemistry; unfortunately, director Michael Bay too often drowns it out with set pieces and explosions in place of an actual story.',\n",
       " \"Die Hard with a Vengeance benefits from Bruce Willis and Samuel L. Jackson's barbed interplay, but clatters to a bombastic finish in a vain effort to cover for an overall lack of fresh ideas.\",\n",
       " 'The Running Man is winking sci-fi satire with ridiculous clothes and workmanlike direction.',\n",
       " 'No consensus yet.',\n",
       " \"As preposterous and over-the-top as Shoot 'Em Up may be, its humor and non-stop action make for a very enjoyable film.\",\n",
       " \"Crank's assaultive style and gleeful depravity may turn off casual action fans, but audiences seeking a strong dose of adrenaline will be thrilled by Jason Statham's raucous race against mortality.\",\n",
       " \"Machete is messy, violent, shallow, and tasteless -- and that's precisely the point of one of the summer's most cartoonishly enjoyable films.\",\n",
       " 'With its hyper-stylized blend of violence, music, and striking imagery, Drive represents a fully realized vision of arthouse action.',\n",
       " \"An eerie, haunting spectacle, Batman succeeds as dark entertainment, even if Jack Nicholson's Joker too often overshadows the title character.\",\n",
       " \"A well-directed action thriller that makes the most of its confined setting, Under Siege marks a high point for early '90s action -- and its star's spotty filmography.\",\n",
       " 'The plot is thin and so is character development, but as a thrilling, spectacle-filled summer movie, Independence Day delivers.',\n",
       " 'Steve McQueen is cool as ice in this thrilling police procedural that also happens to contain arguably the greatest movie car chase ever.',\n",
       " 'Wanted is stylish, energetic popcorn fare with witty performances from Angelina Jolie (playing an expert assassin), James McAvoy, and Morgan Freeman that help to distract from its absurdly over-the-top plot.',\n",
       " 'Superman deftly blends humor and gravitas, taking advantage of the perfectly cast Christopher Reeve to craft a loving, nostalgic tribute to an American pop culture icon.',\n",
       " 'Ronin earns comparisons to The French Connection with strong action, dynamic road chase scenes, and solid performances.',\n",
       " 'A politically subversive blend of horror and sci fi, They Live is an underrated genre film from John Carpenter.',\n",
       " \"While it can't escape comparisons to the movies it borrows from, Cliffhanger is a tense, action-packed thriller and a showcase for the talents that made Sylvester Stallone a star.\",\n",
       " \"Thanks to a script that emphasizes its heroes' humanity and a wealth of superpowered set pieces, The Avengers lives up to its hype and raises the bar for Marvel at the movies.\",\n",
       " 'The brilliant minds behind Shaun of the Dead successfully take a shot at the buddy cop genre with Hot Fuzz. The result is a bitingly satiric and hugely entertaining parody.',\n",
       " 'As violent as it is stylish, The Warriors is a thrilling piece of pulp filmmaking.',\n",
       " 'A fun movie...if you can accept the excessive gore and wooden acting.',\n",
       " 'Elite Squad: The Enemy Within is a bleak, violent descent into the Brazilian underbelly, ripping into the favelas with unstoppable and kinetic force.',\n",
       " 'Absurd, over-the-top, and often wildly entertaining, Point Break is here to show you that the human spirit is still alive.',\n",
       " 'Smart, sharp-witted, and fueled by enjoyably over-the-top action, The Long Kiss Goodnight makes up in impact what it lacks in consistent aim.',\n",
       " 'Boasting enough intelligence to bolster its darkly violent thrills, The Guest offers another treat for genre fans from director Adam Wingard.',\n",
       " 'Taken is undeniably fun with slick action, but is largely a brainless exercise.',\n",
       " 'A simple-minded but visually exciting experience, full of blood, violence, and ready-made movie quotes.',\n",
       " \"If it doesn't reach the heights of director James Cameron's and star Arnold Schwarzenegger's previous collaborations, True Lies still packs enough action and humor into its sometimes absurd plot to entertain.\",\n",
       " 'A better-than-average sci-fi shoot-em-up with a satirical undercurrent, Demolition Man is bolstered by strong performances by Sylvester Stallone, Wesley Snipes, and Sandra Bullock.',\n",
       " 'Hardcore Henry seems poised to reinvent the action flick, but without a story or characters worth caring about, its first-person gimmick quickly loses its thrill.',\n",
       " 'Blending brilliant physical comedy with thrillingly choreographed set pieces, Police Story makes a persuasive case for Jackie Chan as one of the all-time genre greats.',\n",
       " 'Brotherhood of the Wolf mixes its genres with little logic, but the end result is wildly entertaining.',\n",
       " 'Stylish, subversive, and above all fun, Kingsman: The Secret Service finds director Matthew Vaughn sending up the spy genre with gleeful abandon.',\n",
       " \"Visually inventive and gleefully over the top, Luc Besson's The Fifth Element is a fantastic piece of pop sci-fi that never takes itself too seriously.\",\n",
       " 'Brimming with energy and packed with humor, Big Trouble in Little China distills kung fu B-movies as affectionately as it subverts them.',\n",
       " \"Atomic Blonde gets enough mileage out of its stylish action sequences -- and ever-magnetic star -- to make up for a narrative that's somewhat less hard-hitting than its protagonist.\",\n",
       " 'An entertaining Jackie Chan stunt-fest in which the impressive action sequences overcome the low production value and by-the-numbers plot.',\n",
       " \"A nonstop thrill ride, District B13's dizzying action sequences more than make up for any expository flaws.\",\n",
       " \"The buddy cop movie continues its evolution unabated with this Eddie Murphy vehicle that's fast, furious, and funny.\",\n",
       " 'While Ong-Bak: The Thai Warrior may be no great shakes as a movie, critics are hailing the emergence of a new star in Tony Jaa, whose athletic performance is drawing comparisons with Bruce Lee, Jackie Chan, and Jet Li.',\n",
       " \"Driven by director Michael Mann's trademark visuals and a lean, villainous performance from Tom Cruise, Collateral is a stylish and compelling noir thriller.\",\n",
       " 'Iron Monkey may not have the poetic lyricism of Crouching Tiger, it makes up for it in fun and energy.',\n",
       " 'Featuring an atmospherically grimy futuristic metropolis, Escape from New York is a strange, entertaining jumble of thrilling action and oddball weirdness.',\n",
       " 'Battle Royale is a controversial and violent parable of adolescence, heightening teenage melodrama with life-or-death stakes.',\n",
       " 'Boasting an entertaining villain and deeper emotional focus, this is a nimble sequel that improves upon the original.',\n",
       " \"Takashi Miike's electric remake of Eiichi Kudo's 1963 period action film is a wild spectacle executed with killer, dizzying panache.\",\n",
       " 'No consensus yet.',\n",
       " 'Lighter and more comedic than its predecessor, Indiana Jones and the Last Crusade returns the series to the brisk serial adventure of Raiders, while adding a dynamite double act between Harrison Ford and Sean Connery.',\n",
       " 'Kung Fu Hustle blends special effects, martial arts, and the Looney Toons to hilarious effect.',\n",
       " 'No consensus yet.',\n",
       " \"Powered by Robert Downey Jr.'s vibrant charm, Iron Man turbo-charges the superhero genre with a deft intelligence and infectious sense of fun.\",\n",
       " 'A bloody thrill ride designed to test the limits of more squeamish viewers, The Night Comes for Us wields a stylishly violent, action-packed punch.',\n",
       " 'Hugh Jackman makes the most of his final outing as Wolverine with a gritty, nuanced performance in a violent but surprisingly thoughtful superhero action film that defies genre conventions.',\n",
       " 'Goldfinger is where James Bond as we know him comes into focus - it features one of 007\\'s most famous lines (\"A martini. Shaken, not stirred.\") and a wide range of gadgets that would become the series\\' trademark.',\n",
       " \"Lean, taut and compellingly gritty, John Carpenter's loose update of Rio Bravo ranks as a cult action classic and one of the filmmaker's best.\",\n",
       " \"Thrilling, earnest, and buoyed by Gal Gadot's charismatic performance, Wonder Woman succeeds in spectacular fashion.\",\n",
       " 'No consensus yet.',\n",
       " 'Suspenseful and politically astute, Captain America: The Winter Soldier is a superior entry in the Avengers canon and is sure to thrill Marvel diehards.',\n",
       " \"Violent and definitely not for the squeamish, Park Chan-Wook's visceral Oldboy is a strange, powerful tale of revenge.\",\n",
       " \"Realistic, fast-paced and uncommonly smart, The French Connection is bolstered by stellar performances by Gene Hackman and Roy Scheider, not to mention William Friedkin's thrilling production.\",\n",
       " 'Serving up a fresh round of over-the-top thrills while adding unexpected dramatic heft, Furious 7 keeps the franchise moving in more ways than one.',\n",
       " 'A zany out-of-control thriller that gives lead Anne Parillaud a big character arc and plenty of emotional room to work within.',\n",
       " \"Blending hand-to-hand combat with breathtaking stunts and slapstick comedy, Supercop reminds us why Jackie Chan is one of the world's great entertainers.\",\n",
       " 'As tough and taciturn as its no-nonsense hero, Dirty Harry delivers a deceptively layered message without sacrificing an ounce of its solid action impact.',\n",
       " 'Gripping, well-acted, funny, and clever, Edge of Tomorrow offers entertaining proof that Tom Cruise is still more than capable of shouldering the weight of a blockbuster action thriller.',\n",
       " 'Tightly scripted, solidly acted, and impressively ambitious, X2: X-Men United is bigger and better than its predecessor -- and a benchmark for comic sequels in general.',\n",
       " 'Exhilarating and intense, this high-impact chase thriller is a model of taut and efficient formula filmmaking, and it features Harrison Ford at his frantic best.',\n",
       " \"Black Panther elevates superhero cinema to thrilling new heights while telling one of the MCU's most absorbing stories -- and introducing some of its most fully realized characters.\",\n",
       " 'Smart, innovative, and thrilling, Inception is that rare summer blockbuster that succeeds viscerally as well as intellectually.',\n",
       " \"Distractingly violent and historically dodgy, Mel Gibson's Braveheart justifies its epic length by delivering enough sweeping action, drama, and romance to match its ambition.\",\n",
       " 'Thought-provoking and visceral, Steven Spielberg successfully combines high concept ideas and high octane action in this fast and febrile sci-fi thriller.',\n",
       " \"Exciting, entertaining, and emotionally impactful, Avengers: Endgame does whatever it takes to deliver a satisfying finale to Marvel's epic Infinity Saga.\",\n",
       " \"Fueled by bombastic violence and impressive special effects, rooted in self-satire and deadpan humor, Dredd 3D does a remarkable job of capturing its source material's gritty spirit.\",\n",
       " 'Expertly blending genre formula with bursts of unexpected wit, The Bourne Identity is an action thriller that delivers -- and then some.',\n",
       " 'At once beholden to the established conventions of the genre and delightfully subversive of them, Ip Man is one of the most exciting -- and refreshingly character-driven -- martial arts films in years.',\n",
       " 'John Travolta and Nicolas Cage play cat-and-mouse (and literally play each other) against a beautifully stylized backdrop of typically elegant, over-the-top John Woo violence.',\n",
       " \"With coke fiends, car chases, and Wang Chung galore, To Live and Die in L.A. is perhaps the ultimate '80s action/thriller.\",\n",
       " 'Dark, complex, and unforgettable, The Dark Knight succeeds not just as an entertaining comic book film, but as a richly thrilling crime saga.',\n",
       " 'Stylish, fast-paced, and loaded with gripping set pieces, the fourth Mission: Impossible is big-budget popcorn entertainment that really works.',\n",
       " 'Sleek, loud, and over the top, Fast Five proudly embraces its brainless action thrills and injects new life into the franchise.',\n",
       " 'The most successful installment in a phenomenally successful series, Lethal Weapon helped redefine action movies for the 1980s and 1990s.',\n",
       " \"For visceral thrills, it can't be beat. Just don't expect The Rock to engage your brain.\",\n",
       " 'While over-the-top and gory, Robocop is also a surprisingly smart sci-fi flick that uses ultraviolence to disguise its satire of American culture.',\n",
       " 'John Wick: Chapter 2 does what a sequel should -- which in this case means doubling down on the non-stop, thrillingly choreographed action that made its predecessor so much fun.',\n",
       " 'Casino Royale disposes of the silliness and gadgetry that plagued recent James Bond outings, and Daniel Craig delivers what fans and critics have been waiting for: a caustic, haunted, intense reinvention of 007.',\n",
       " \"Stylish, exciting, and fueled by a killer soundtrack, Baby Driver hits the road and it's gone -- proving fast-paced action movies can be smartly written without sacrificing thrills.\",\n",
       " 'No consensus yet.',\n",
       " 'The Killer is another hard-boiled action flick from John Woo featuring eye-popping balletic violence and philosophical underpinnings.',\n",
       " 'Although its high-energy plot and over-the-top violence may play better with genre aficionados, The Raid 2 definitely delivers more of everything audiences loved about its predecessor.',\n",
       " 'Badass to the max, Enter the Dragon is the ultimate kung-fu movie and fitting (if untimely) Bruce Lee swan song.',\n",
       " \"The ultimate '80s Schwarzenegger movie, replete with a threadbare plot, outsized action, and endless one-liners.\",\n",
       " \"Much darker and more sensitive than the sequels it spawned, First Blood is a thrilling survival adventure that takes full advantage of Sylvester Stallone's acting skills.\",\n",
       " \"Mission: Impossible Rogue Nation continues the franchise's thrilling resurgence -- and proves that Tom Cruise remains an action star without equal.\",\n",
       " \"With its impressive action sequences, taut economic direction, and relentlessly fast pace, it's clear why The Terminator continues to be an influence on sci-fi and action flicks.\",\n",
       " 'Ridley Scott and an excellent cast successfully convey the intensity of Roman gladitorial combat as well as the political intrigue brewing beneath.',\n",
       " 'Kill Bill is admittedly little more than a stylish revenge thriller -- albeit one that benefits from a wildly inventive surfeit of style.',\n",
       " \"Pivoting on the unusual relationship between seasoned hitman and his 12-year-old apprentice -- a breakout turn by young Natalie Portman -- Luc Besson's Léon is a stylish and oddly affecting thriller.\",\n",
       " 'A terrific popcorn thriller, Speed is taut, tense, and energetic, with outstanding performances from Keanu Reeves, Dennis Hopper, and Sandra Bullock.',\n",
       " 'Jackie Chan sends up some amazing and entertaining fight sequences in The Legend of Drunken Master.',\n",
       " 'Stylish, thrilling, and giddily kinetic, John Wick serves as a satisfying return to action for Keanu Reeves -- and what looks like it could be the first of a franchise.',\n",
       " 'The movie that catapulted Ang Lee into the ranks of upper echelon Hollywood filmmakers, Crouching Tiger, Hidden Dragon features a deft mix of amazing martial arts battles, beautiful scenery, and tasteful drama.',\n",
       " 'Predator: Part sci-fi, part horror, part action -- all muscle.',\n",
       " 'The Bourne Ultimatum is an intelligent, finely tuned non-stop thrill ride. Another strong performance from Matt Damon and sharp camerawork from Paul Greengrass make this the finest installment of the Bourne trilogy.',\n",
       " \"Under Paul Verhoeven's frenetic direction, Total Recall is a fast-paced rush of violence, gore, and humor that never slacks.\",\n",
       " 'The Road Warrior is everything a bigger-budgeted Mad Max sequel with should be: bigger, faster, louder, but definitely not dumber.',\n",
       " \"Though Al Pacino and Robert De Niro share but a handful of screen minutes together, Heat is an engrossing crime drama that draws compelling performances from its stars -- and confirms Michael Mann's mastery of the genre.\",\n",
       " 'No frills and all thrills, The Raid: Redemption is an inventive action film expertly paced and edited for maximum entertainment.',\n",
       " 'Fast, sleek, and fun, Mission: Impossible - Fallout lives up to the \"impossible\" part of its name by setting yet another high mark for insane set pieces in a franchise full of them.',\n",
       " 'Featuring bravura set pieces, sly humor, and white-knuckle action, Raiders of the Lost Ark is one of the most consummately entertaining adventure pictures of all time.',\n",
       " 'While Alien was a marvel of slow-building, atmospheric tension, Aliens packs a much more visceral punch, and features a typically strong performance from Sigourney Weaver.',\n",
       " 'Boasting impactful action as well as surprising emotional resonance, Hard Boiled is a powerful thriller that hits hard in more ways than one.',\n",
       " \"Thanks to the Wachowskis' imaginative vision, The Matrix is a smartly crafted combination of spectacular action and groundbreaking special effects.\",\n",
       " 'T2 features thrilling action sequences and eye-popping visual effects, but what takes this sci-fi/ action landmark to the next level is the depth of the human (and cyborg) characters.',\n",
       " 'Its many imitators (and sequels) have never come close to matching the taut thrills of the definitive holiday action classic.',\n",
       " \"With exhilarating action and a surprising amount of narrative heft, Mad Max: Fury Road brings George Miller's post-apocalyptic franchise roaring vigorously back to life.\"]"
      ]
     },
     "execution_count": 46,
     "metadata": {},
     "output_type": "execute_result"
    }
   ],
   "source": [
    "consensus = [ con[19:] for con in consensus ]\n",
    "consensus"
   ]
  },
  {
   "cell_type": "code",
   "execution_count": 47,
   "id": "fcc32b59",
   "metadata": {},
   "outputs": [],
   "source": [
    "movies_info = pd.DataFrame()"
   ]
  },
  {
   "cell_type": "code",
   "execution_count": 48,
   "id": "5611d5b8",
   "metadata": {},
   "outputs": [],
   "source": [
    "movies_info[\"Movie_Title\"] = movie_names\n",
    "movies_info[\"Year\"] = years\n",
    "movies_info[\"Score\"] = scores\n",
    "movies_info[\"Consensus\"] = consensus"
   ]
  },
  {
   "cell_type": "code",
   "execution_count": 49,
   "id": "e8b9a0fb",
   "metadata": {},
   "outputs": [
    {
     "data": {
      "text/html": [
       "<div>\n",
       "<style scoped>\n",
       "    .dataframe tbody tr th:only-of-type {\n",
       "        vertical-align: middle;\n",
       "    }\n",
       "\n",
       "    .dataframe tbody tr th {\n",
       "        vertical-align: top;\n",
       "    }\n",
       "\n",
       "    .dataframe thead th {\n",
       "        text-align: right;\n",
       "    }\n",
       "</style>\n",
       "<table border=\"1\" class=\"dataframe\">\n",
       "  <thead>\n",
       "    <tr style=\"text-align: right;\">\n",
       "      <th></th>\n",
       "      <th>Movie_Title</th>\n",
       "      <th>Year</th>\n",
       "      <th>Score</th>\n",
       "      <th>Consensus</th>\n",
       "    </tr>\n",
       "  </thead>\n",
       "  <tbody>\n",
       "    <tr>\n",
       "      <th>0</th>\n",
       "      <td>Running Scared</td>\n",
       "      <td>1986</td>\n",
       "      <td>59</td>\n",
       "      <td>Running Scared struggles to strike a consisten...</td>\n",
       "    </tr>\n",
       "    <tr>\n",
       "      <th>1</th>\n",
       "      <td>Equilibrium</td>\n",
       "      <td>2002</td>\n",
       "      <td>40</td>\n",
       "      <td>Equilibrium is a reheated mishmash of other sc...</td>\n",
       "    </tr>\n",
       "    <tr>\n",
       "      <th>2</th>\n",
       "      <td>Hero</td>\n",
       "      <td>2002</td>\n",
       "      <td>94</td>\n",
       "      <td>With death-defying action sequences and epic h...</td>\n",
       "    </tr>\n",
       "    <tr>\n",
       "      <th>3</th>\n",
       "      <td>Road House</td>\n",
       "      <td>1989</td>\n",
       "      <td>37</td>\n",
       "      <td>Whether Road House is simply bad or so bad it'...</td>\n",
       "    </tr>\n",
       "    <tr>\n",
       "      <th>4</th>\n",
       "      <td>Unstoppable</td>\n",
       "      <td>2010</td>\n",
       "      <td>87</td>\n",
       "      <td>As fast, loud, and relentless as the train at ...</td>\n",
       "    </tr>\n",
       "  </tbody>\n",
       "</table>\n",
       "</div>"
      ],
      "text/plain": [
       "      Movie_Title  Year  Score  \\\n",
       "0  Running Scared  1986     59   \n",
       "1     Equilibrium  2002     40   \n",
       "2            Hero  2002     94   \n",
       "3      Road House  1989     37   \n",
       "4     Unstoppable  2010     87   \n",
       "\n",
       "                                           Consensus  \n",
       "0  Running Scared struggles to strike a consisten...  \n",
       "1  Equilibrium is a reheated mishmash of other sc...  \n",
       "2  With death-defying action sequences and epic h...  \n",
       "3  Whether Road House is simply bad or so bad it'...  \n",
       "4  As fast, loud, and relentless as the train at ...  "
      ]
     },
     "execution_count": 49,
     "metadata": {},
     "output_type": "execute_result"
    }
   ],
   "source": [
    "movies_info.head()"
   ]
  },
  {
   "cell_type": "code",
   "execution_count": 50,
   "id": "638acd00",
   "metadata": {},
   "outputs": [
    {
     "data": {
      "text/plain": [
       "(140, 4)"
      ]
     },
     "execution_count": 50,
     "metadata": {},
     "output_type": "execute_result"
    }
   ],
   "source": [
    "movies_info.shape"
   ]
  },
  {
   "cell_type": "code",
   "execution_count": 51,
   "id": "78273aab",
   "metadata": {},
   "outputs": [],
   "source": [
    "pd.set_option(\"display.max_colwidth\",None)"
   ]
  },
  {
   "cell_type": "code",
   "execution_count": 52,
   "id": "f6f454a9",
   "metadata": {},
   "outputs": [
    {
     "data": {
      "text/html": [
       "<div>\n",
       "<style scoped>\n",
       "    .dataframe tbody tr th:only-of-type {\n",
       "        vertical-align: middle;\n",
       "    }\n",
       "\n",
       "    .dataframe tbody tr th {\n",
       "        vertical-align: top;\n",
       "    }\n",
       "\n",
       "    .dataframe thead th {\n",
       "        text-align: right;\n",
       "    }\n",
       "</style>\n",
       "<table border=\"1\" class=\"dataframe\">\n",
       "  <thead>\n",
       "    <tr style=\"text-align: right;\">\n",
       "      <th></th>\n",
       "      <th>Movie_Title</th>\n",
       "      <th>Year</th>\n",
       "      <th>Score</th>\n",
       "      <th>Consensus</th>\n",
       "    </tr>\n",
       "  </thead>\n",
       "  <tbody>\n",
       "    <tr>\n",
       "      <th>0</th>\n",
       "      <td>Running Scared</td>\n",
       "      <td>1986</td>\n",
       "      <td>59</td>\n",
       "      <td>Running Scared struggles to strike a consistent balance between violent action and humor, but the chemistry between its well-matched leads keeps things entertaining.</td>\n",
       "    </tr>\n",
       "    <tr>\n",
       "      <th>1</th>\n",
       "      <td>Equilibrium</td>\n",
       "      <td>2002</td>\n",
       "      <td>40</td>\n",
       "      <td>Equilibrium is a reheated mishmash of other sci-fi movies.</td>\n",
       "    </tr>\n",
       "    <tr>\n",
       "      <th>2</th>\n",
       "      <td>Hero</td>\n",
       "      <td>2002</td>\n",
       "      <td>94</td>\n",
       "      <td>With death-defying action sequences and epic historic sweep, Hero offers everything a martial arts fan could ask for.</td>\n",
       "    </tr>\n",
       "    <tr>\n",
       "      <th>3</th>\n",
       "      <td>Road House</td>\n",
       "      <td>1989</td>\n",
       "      <td>37</td>\n",
       "      <td>Whether Road House is simply bad or so bad it's good depends largely on the audience's fondness for Swayze -- and tolerance for violently cheesy action.</td>\n",
       "    </tr>\n",
       "    <tr>\n",
       "      <th>4</th>\n",
       "      <td>Unstoppable</td>\n",
       "      <td>2010</td>\n",
       "      <td>87</td>\n",
       "      <td>As fast, loud, and relentless as the train at the center of the story, Unstoppable is perfect popcorn entertainment -- and director Tony Scott's best movie in years.</td>\n",
       "    </tr>\n",
       "  </tbody>\n",
       "</table>\n",
       "</div>"
      ],
      "text/plain": [
       "      Movie_Title  Year  Score  \\\n",
       "0  Running Scared  1986     59   \n",
       "1     Equilibrium  2002     40   \n",
       "2            Hero  2002     94   \n",
       "3      Road House  1989     37   \n",
       "4     Unstoppable  2010     87   \n",
       "\n",
       "                                                                                                                                                               Consensus  \n",
       "0  Running Scared struggles to strike a consistent balance between violent action and humor, but the chemistry between its well-matched leads keeps things entertaining.  \n",
       "1                                                                                                             Equilibrium is a reheated mishmash of other sci-fi movies.  \n",
       "2                                                  With death-defying action sequences and epic historic sweep, Hero offers everything a martial arts fan could ask for.  \n",
       "3               Whether Road House is simply bad or so bad it's good depends largely on the audience's fondness for Swayze -- and tolerance for violently cheesy action.  \n",
       "4  As fast, loud, and relentless as the train at the center of the story, Unstoppable is perfect popcorn entertainment -- and director Tony Scott's best movie in years.  "
      ]
     },
     "execution_count": 52,
     "metadata": {},
     "output_type": "execute_result"
    }
   ],
   "source": [
    "movies_info.head()"
   ]
  },
  {
   "cell_type": "code",
   "execution_count": 53,
   "id": "687eb525",
   "metadata": {},
   "outputs": [
    {
     "name": "stdout",
     "output_type": "stream",
     "text": [
      "Data successfully downloaded\n"
     ]
    }
   ],
   "source": [
    "movies_info.to_csv(\"rotten_tomatoes_stolen.csv\", index=False, header=True)\n",
    "print(\"Data successfully downloaded\")"
   ]
  }
 ],
 "metadata": {
  "kernelspec": {
   "display_name": "Python 3 (ipykernel)",
   "language": "python",
   "name": "python3"
  },
  "language_info": {
   "codemirror_mode": {
    "name": "ipython",
    "version": 3
   },
   "file_extension": ".py",
   "mimetype": "text/x-python",
   "name": "python",
   "nbconvert_exporter": "python",
   "pygments_lexer": "ipython3",
   "version": "3.9.12"
  }
 },
 "nbformat": 4,
 "nbformat_minor": 5
}
